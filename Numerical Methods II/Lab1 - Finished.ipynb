{
 "cells": [
  {
   "cell_type": "markdown",
   "id": "c67c48e8",
   "metadata": {},
   "source": [
    "<div align=\"center\"><span style=\"font-family: Arial; color:#0000FF\"><b>\n",
    "    <span style=\"font-size: x-large\">Métodos Numéricos II</span>\n",
    "    <br>\n",
    "    <span style=\"font-size: large\">Segundo de Grado en Matemáticas - Curso 2022/23</span>\n",
    "    <br>\n",
    "    <span style=\"font-size: medium\">Facultad de Ciencias de la Universidad de Málaga</span>\n",
    "    <br>\n",
    "    <span style=\"font-size: small\">Dpto. de Análisis Matemático, Estadística e Investigación Operativa, y Matemática Aplicada</span>\n",
    "    <br>\n",
    "    <span style=\"font-size: small\">Profs. Manuel J. Castro y Francisco J. Palma (Área Conocimiento de Matemática Aplicada)</span>\n",
    "    <br>\n",
    "    <span style=\"font-size: medium; color:#FF0000\">Práctica número 1</span>\n",
    "    </b></span></div>"
   ]
  },
  {
   "cell_type": "markdown",
   "id": "a9bb18da",
   "metadata": {},
   "source": [
    "<div align=\"left\"><span style=\"font-family: Arial; color:#000000; font-size: medium\">\n",
    "    Para el <b>desarrollo de las prácticas de esta asignatura</b> usaremos de forma habitual la biblioteca <span style=\"font-family: Courier\">NumPy</span>.\n",
    "    <br>\n",
    "    <span style=\"font-family: Courier\">NumPy</span> (<i>Numerical Python</i>) es una biblioteca de código abierto de <span style=\"font-family: Courier\">Python</span> que se utiliza en casi todos los campos de la ciencia y la ingeniería. Es el estándar universal para trabajar con datos numéricos en <span style=\"font-family: Courier\">Python</span> y es el núcleo de los sistemas científicos de <span style=\"font-family: Courier\">Python</span> y <span style=\"font-family: Courier\">PyData</span>.\n",
    "    <br>\n",
    "    La biblioteca <span style=\"font-family: Courier\">NumPy</span> permite trabajar con <b>matrices multidimensionales homogéneas</b> y proporciona una enorme <b>biblioteca de funciones matemáticas</b> de alto nivel que garantizan cálculos eficientes con vectores y matrices.\n",
    "    </span></div>"
   ]
  },
  {
   "cell_type": "markdown",
   "id": "169f0c50",
   "metadata": {},
   "source": [
    "<div align=\"left\"><span style=\"font-family: Arial; color:#000000; font-size: medium\">\n",
    "    Todas las prácticas que realicemos deben comenzar con las instrucciones que siguen a continuación que permiten utilizar la codificación <span style=\"font-family: Courier\">utf-8</span> (uso de tildes y otros caracteres especiales) y usar las funciones definidas en los módulos <span style=\"font-family: Courier\">numpy</span> y <span style=\"font-family: Courier\">numpy.linalg</span>, donde se encuentran la mayoría de los comandos utilizados.\n",
    "    </span></div>"
   ]
  },
  {
   "cell_type": "code",
   "execution_count": 1,
   "id": "4a3bf54c",
   "metadata": {},
   "outputs": [],
   "source": [
    "# -*- coding: utf-8 -*-\n",
    "from numpy import *\n",
    "from numpy.linalg import *\n",
    "from numpy import abs, sum, max, min"
   ]
  },
  {
   "cell_type": "markdown",
   "id": "fe723161",
   "metadata": {},
   "source": [
    "<div align=\"left\"><span style=\"font-family: Arial; color:#000000; font-size: medium\">\n",
    "    Las <b>variables</b> que utilizamos (elementos de los vectores y las matrices) pueden ser <b>enteras</b>, <b>reales</b> (caracterizadas por la presencia del punto decimal o por el uso de la notación científica) o <b>complejas</b> (la unidad imaginaria se designa por <span style=\"font-family: Courier\">j</span>, y debe ir precedida por la parte imaginaria del número complejo sin espacio intermedio); el <b>tipo</b> de la variable se obtiene con la función <span style=\"font-family: Courier\">type()</span>. Todo número entero se puede convertir en real con la función <span style=\"font-family: Courier\">float()</span>, mientras que todo número entero o real se puede convertir en complejo con la función <span style=\"font-family: Courier\">complex()</span>. Respecto a los números complejos están disponibles, entre otras, las funciones <span style=\"font-family: Courier\">real()</span>, <span style=\"font-family: Courier\">imag()</span>, <span style=\"font-family: Courier\">abs()</span>, <span style=\"font-family: Courier\">angle()</span>, <span style=\"font-family: Courier\">conj()</span> y <span style=\"font-family: Courier\">exp()</span>, todas ellas con un significado obvio.\n",
    "    </span></div>"
   ]
  },
  {
   "cell_type": "code",
   "execution_count": 2,
   "id": "1ed8a41f",
   "metadata": {},
   "outputs": [
    {
     "name": "stdout",
     "output_type": "stream",
     "text": [
      "Entero:  4  de tipo  <class 'int'>\n",
      "Real:  4.0  de tipo  <class 'float'>\n",
      "Complejo:  (4+0j)  de tipo  <class 'complex'>\n"
     ]
    }
   ],
   "source": [
    "# Tipos de variables.\n",
    "i = 4\n",
    "print(\"Entero: \", i, \" de tipo \", type(i))\n",
    "print(\"Real: \", float(i), \" de tipo \", type(float(i)))\n",
    "print(\"Complejo: \", complex(i), \" de tipo \", type(complex(i)))"
   ]
  },
  {
   "cell_type": "code",
   "execution_count": 3,
   "id": "8f7f52c4",
   "metadata": {},
   "outputs": [
    {
     "name": "stdout",
     "output_type": "stream",
     "text": [
      "Real:  5.0  de tipo  <class 'float'>\n",
      "Complejo:  (5+0j)  de tipo  <class 'complex'>\n"
     ]
    }
   ],
   "source": [
    "r1 = 5.\n",
    "print(\"Real: \", r1, \" de tipo \", type(r1))\n",
    "print(\"Complejo: \", complex(r1), \" de tipo \", type(complex(r1)))"
   ]
  },
  {
   "cell_type": "code",
   "execution_count": 4,
   "id": "b6aab092",
   "metadata": {},
   "outputs": [
    {
     "name": "stdout",
     "output_type": "stream",
     "text": [
      "Real:  6.0  de tipo  <class 'float'>\n",
      "Complejo:  (6+0j)  de tipo  <class 'complex'>\n"
     ]
    }
   ],
   "source": [
    "r2 = 6e0\n",
    "print(\"Real: \", r2, \" de tipo \", type(r2))\n",
    "print(\"Complejo: \", complex(r2), \" de tipo \", type(complex(r2)))"
   ]
  },
  {
   "cell_type": "code",
   "execution_count": 5,
   "id": "342dab3c",
   "metadata": {},
   "outputs": [
    {
     "name": "stdout",
     "output_type": "stream",
     "text": [
      "Complejo:  (4+3j)  de tipo  <class 'complex'>\n"
     ]
    }
   ],
   "source": [
    "c = 4+3j\n",
    "print(\"Complejo: \", c, \" de tipo \", type(c))"
   ]
  },
  {
   "cell_type": "code",
   "execution_count": 6,
   "id": "9e9701e1",
   "metadata": {},
   "outputs": [
    {
     "name": "stdout",
     "output_type": "stream",
     "text": [
      "Introduce un número complejo (no nulo): 2+3j\n",
      "Complejo introducido:  (2+3j)  de tipo  <class 'complex'>\n"
     ]
    }
   ],
   "source": [
    "# Funciones de variable compleja.\n",
    "z = complex(input(\"Introduce un número complejo (no nulo): \"))\n",
    "print(\"Complejo introducido: \", z, \" de tipo \", type(z))"
   ]
  },
  {
   "cell_type": "code",
   "execution_count": 7,
   "id": "71d98a32",
   "metadata": {},
   "outputs": [
    {
     "name": "stdout",
     "output_type": "stream",
     "text": [
      "El número complejo  (2+3j)  tiene parte real  2.0 , parte imaginaria  3.0 , módulo  3.605551275463989 , argumento  0.982793723247329  radianes, su conjugado es  (2-3j) , su opuesto es  (-2-3j)  y su inverso es  (0.15384615384615385-0.23076923076923078j) .\n",
      "Su exponencial vale  (-7.315110094901103+1.0427436562359045j) .\n"
     ]
    }
   ],
   "source": [
    "x = real(z)\n",
    "y = imag(z)\n",
    "modulo = abs(z)\n",
    "argumento = angle(z)\n",
    "conjugado = conj(z)\n",
    "print(\"El número complejo \", z, \" tiene parte real \", x,\", parte imaginaria \", y, \", módulo \", modulo, \", argumento \", \n",
    "      argumento, \" radianes, su conjugado es \", conjugado, \", su opuesto es \", -z, \" y su inverso es \", z**(-1), \".\")\n",
    "print(\"Su exponencial vale \", exp(z), \".\")"
   ]
  },
  {
   "cell_type": "markdown",
   "id": "f779e9e1",
   "metadata": {},
   "source": [
    "<div align=\"left\"><span style=\"font-family: Arial; color:#000000; font-size: medium\">\n",
    "    Para definir un <b>vector</b> (fila) o una <b>matriz</b> utilizamos la función <span style=\"font-family: Courier\">array()</span> cuyo argumento son los elementos del <span style=\"font-family: Courier\">array</span>, separados por comas, encerrados entre corchetes y, en el caso de las matrices, las filas encerradas entre otros corchetes y también separadas por comas. La función <span style=\"font-family: Courier\">print()</span> permite imprimirlos en pantalla. La <b>clase</b> a la que pertenecen (<span style=\"font-family: Courier\">numpy.ndarray</span>) se obtiene con la función <span style=\"font-family: Courier\">type()</span>, el <b>número de dimensiones</b> (1 en el caso de vectores y 2 en el de matrices) con la función <span style=\"font-family: Courier\">ndim()</span> (también se puede utilizar el comando <span style=\"font-family: Courier\">.ndim</span>), el <b>tamaño</b> (longitud del vector, o filas y columnas de las matrices) con la función <span style=\"font-family: Courier\">shape()</span> (también se puede utilizar el comando <span style=\"font-family: Courier\">.shape</span>), mientras que el <b>número total de elementos</b> (longitud del vector, o producto del número de filas por el de columnas de las matrices) con la función <span style=\"font-family: Courier\">size()</span>.\n",
    "     </span></div>"
   ]
  },
  {
   "cell_type": "code",
   "execution_count": 4,
   "id": "a461cebd",
   "metadata": {},
   "outputs": [],
   "source": [
    "# Construcción de matrices.\n",
    "A = array([[1, -2, 3], [-4, 5, -6]])\n",
    "x = array([7., -8, 9])\n",
    "X = array([[7, -8e0, 9]])\n",
    "Y = array([[1j], [-2]])"
   ]
  },
  {
   "cell_type": "code",
   "execution_count": 5,
   "id": "547a81bd",
   "metadata": {},
   "outputs": [
    {
     "name": "stdout",
     "output_type": "stream",
     "text": [
      "Impresión de las matrices.\n",
      "A =  [[ 1 -2  3]\n",
      " [-4  5 -6]]\n",
      "x =  [ 7. -8.  9.]\n",
      "X =  [[ 7. -8.  9.]]\n",
      "Y =  [[ 0.+1.j]\n",
      " [-2.+0.j]]\n"
     ]
    }
   ],
   "source": [
    "print(\"Impresión de las matrices.\")\n",
    "print(\"A = \", A)   # matriz\n",
    "print(\"x = \", x)   # vector \n",
    "print(\"X = \", X)   # matriz de tipo vector fila\n",
    "print(\"Y = \", Y)   # matriz de tipo vector columna"
   ]
  },
  {
   "cell_type": "code",
   "execution_count": 6,
   "id": "d959dcab",
   "metadata": {},
   "outputs": [
    {
     "name": "stdout",
     "output_type": "stream",
     "text": [
      "Tipo de las matrices.\n",
      "type(A) =  <class 'numpy.ndarray'>\n",
      "type(x) =  <class 'numpy.ndarray'>\n",
      "type(X) =  <class 'numpy.ndarray'>\n",
      "type(Y) =  <class 'numpy.ndarray'>\n"
     ]
    }
   ],
   "source": [
    "print(\"Tipo de las matrices.\")\n",
    "print(\"type(A) = \", type(A))\n",
    "print(\"type(x) = \", type(x))\n",
    "print(\"type(X) = \", type(X))\n",
    "print(\"type(Y) = \", type(Y))"
   ]
  },
  {
   "cell_type": "code",
   "execution_count": 7,
   "id": "c4654c44",
   "metadata": {},
   "outputs": [
    {
     "name": "stdout",
     "output_type": "stream",
     "text": [
      "Número de dimensiones de las matrices.\n",
      "ndim(A) =  2\n",
      "ndim(x) =  1\n",
      "ndim(X) =  2\n",
      "ndim(Y) =  2\n",
      "2 1 2 2\n"
     ]
    }
   ],
   "source": [
    "print(\"Número de dimensiones de las matrices.\")\n",
    "print(\"ndim(A) = \", ndim(A))\n",
    "print(\"ndim(x) = \", ndim(x))\n",
    "print(\"ndim(X) = \", ndim(X))\n",
    "print(\"ndim(Y) = \", ndim(Y))\n",
    "print(A.ndim, x.ndim, X.ndim, Y.ndim)"
   ]
  },
  {
   "cell_type": "code",
   "execution_count": 8,
   "id": "b8188beb",
   "metadata": {},
   "outputs": [
    {
     "name": "stdout",
     "output_type": "stream",
     "text": [
      "Tamaño de las matrices.\n",
      "shape(A) =  (2, 3)\n",
      "shape(x) =  (3,)\n",
      "shape(X) =  (1, 3)\n",
      "shape(Y) =  (2, 1)\n",
      "(2, 3) (3,) (1, 3) (2, 1)\n"
     ]
    }
   ],
   "source": [
    "print(\"Tamaño de las matrices.\")\n",
    "print(\"shape(A) = \", shape(A))\n",
    "print(\"shape(x) = \", shape(x))\n",
    "print(\"shape(X) = \", shape(X))\n",
    "print(\"shape(Y) = \", shape(Y))\n",
    "print(A.shape, x.shape, X.shape, Y.shape)"
   ]
  },
  {
   "cell_type": "code",
   "execution_count": 9,
   "id": "b71f4784",
   "metadata": {},
   "outputs": [
    {
     "name": "stdout",
     "output_type": "stream",
     "text": [
      "Número de elementos de las matrices.\n",
      "size(A) =  6\n",
      "size(x) =  3\n",
      "size(X) =  3\n",
      "size(Y) =  2\n",
      "6 3 3 2\n"
     ]
    }
   ],
   "source": [
    "print(\"Número de elementos de las matrices.\")\n",
    "print(\"size(A) = \", size(A))\n",
    "print(\"size(x) = \", size(x))\n",
    "print(\"size(X) = \", size(X))\n",
    "print(\"size(Y) = \", size(Y))\n",
    "print(A.size, x.size, X.size, Y.size)"
   ]
  },
  {
   "cell_type": "markdown",
   "id": "5efdbc89",
   "metadata": {},
   "source": [
    "<div align=\"left\"><span style=\"font-family: Arial; color:#000000; font-size: medium\">\n",
    "    Todos los elementos de un <span style=\"font-family: Courier\">array</span> tienen el mismo tipo, que es el tipo <i>más rico</i> de entre todos sus elementos; para conocer el <b>tipo de los elementos</b> de un <span style=\"font-family: Courier\">array</span> se usa el comando <span style=\"font-family: Courier\">.dtype</span>. No obstante, se puede forzar el tipo de los elementos con el argumento opcional <span style=\"font-family: Courier\">dtype=</span> de la función <span style=\"font-family: Courier\">array()</span>.\n",
    "    </span></div>"
   ]
  },
  {
   "cell_type": "code",
   "execution_count": 10,
   "id": "9a25ba1d",
   "metadata": {},
   "outputs": [
    {
     "name": "stdout",
     "output_type": "stream",
     "text": [
      "Tipo de los elementos de las matrices.\n",
      "A.dtype =  int32\n",
      "x.dtype =  float64\n",
      "X.dtype =  float64\n",
      "Y.dtype =  complex128\n"
     ]
    }
   ],
   "source": [
    "# Tipo de los elementos de las matrices.\n",
    "print(\"Tipo de los elementos de las matrices.\")\n",
    "print(\"A.dtype = \", A.dtype)\n",
    "print(\"x.dtype = \", x.dtype)\n",
    "print(\"X.dtype = \", X.dtype)\n",
    "print(\"Y.dtype = \", Y.dtype)"
   ]
  },
  {
   "cell_type": "code",
   "execution_count": 11,
   "id": "5873dbf7",
   "metadata": {},
   "outputs": [
    {
     "name": "stdout",
     "output_type": "stream",
     "text": [
      "Matriz de tipo predefinido.\n",
      "B =  [[1. 2.]\n",
      " [3. 4.]]\n",
      "B.dtype =  float64\n"
     ]
    }
   ],
   "source": [
    "print(\"Matriz de tipo predefinido.\")\n",
    "B = array([[1, 2], [3, 4]], dtype=float)\n",
    "print(\"B = \", B)\n",
    "print(\"B.dtype = \", B.dtype)"
   ]
  },
  {
   "cell_type": "markdown",
   "id": "5ecbedff",
   "metadata": {},
   "source": [
    "<div align=\"left\"><span style=\"font-family: Arial; color:#000000; font-size: medium\">\n",
    "    Se puede <b>crear</b> un <span style=\"font-family: Courier\">array</span> lleno de 0’s con la función <span style=\"font-family: Courier\">zeros()</span> y lleno de 1’s con la función <span style=\"font-family: Courier\">ones()</span>; en ambos casos se debe pasar como argumento el tamaño (<span style=\"font-family: Courier\">shape</span>) del <span style=\"font-family: Courier\">array</span>. Para generar un <span style=\"font-family: Courier\">array</span> con elementos aleatorios siguiendo una distribución uniforme sobre el intervalo [0, 1), la función es <span style=\"font-family: Courier\">random.rand()</span>; esta función lleva tantos argumentos como dimensiones se quiere que tenga el <span style=\"font-family: Courier\">array</span>, con los tamaños correspondientes. La función <span style=\"font-family: Courier\">eye()</span> permite crear una matriz, no necesariamente cuadrada, cuyos elementos son todos 0, excepto los de la diagonal principal que valen 1; si esta función lleva un único argumento se crea una matriz cuadrada de dicho tamaño y si lleva dos una matriz rectangular; esta funcion admite un argumento opcional en la forma <span style=\"font-family: Courier\">k=</span> que permite que la diagonal de 1’s esté <span style=\"font-family: Courier\">k</span> posiciones por encima o por debajo (dependiendo del signo) de la diagonal principal.\n",
    "    </span></div>"
   ]
  },
  {
   "cell_type": "code",
   "execution_count": 12,
   "id": "a2c49255",
   "metadata": {},
   "outputs": [
    {
     "name": "stdout",
     "output_type": "stream",
     "text": [
      "Matriz de 0's.\n",
      "C =  [[0. 0.]\n",
      " [0. 0.]\n",
      " [0. 0.]]\n",
      "C.dtype =  float64\n"
     ]
    }
   ],
   "source": [
    "# Matrices especiales.\n",
    "print(\"Matriz de 0's.\")\n",
    "C = zeros((3, 2))\n",
    "print(\"C = \", C)\n",
    "print(\"C.dtype = \", C.dtype)"
   ]
  },
  {
   "cell_type": "code",
   "execution_count": 13,
   "id": "a02d22c1",
   "metadata": {},
   "outputs": [
    {
     "name": "stdout",
     "output_type": "stream",
     "text": [
      "Matriz de 1's.\n",
      "D =  [[1. 1. 1.]\n",
      " [1. 1. 1.]]\n",
      "D.dtype =  float64\n"
     ]
    }
   ],
   "source": [
    "print(\"Matriz de 1's.\")\n",
    "D = ones((2, 3))\n",
    "print(\"D = \", D)\n",
    "print(\"D.dtype = \", D.dtype)"
   ]
  },
  {
   "cell_type": "code",
   "execution_count": 14,
   "id": "e1fc6cc0",
   "metadata": {},
   "outputs": [
    {
     "name": "stdout",
     "output_type": "stream",
     "text": [
      "Matriz aleatoria.\n",
      "E =  [[0.39370624 0.74245399]\n",
      " [0.75055206 0.3004954 ]\n",
      " [0.02544803 0.80564483]]\n",
      "E.dtype =  float64\n"
     ]
    }
   ],
   "source": [
    "print(\"Matriz aleatoria.\")\n",
    "E = random.rand(3, 2)\n",
    "print(\"E = \", E)\n",
    "print(\"E.dtype = \", E.dtype)"
   ]
  },
  {
   "cell_type": "code",
   "execution_count": 15,
   "id": "04e20104",
   "metadata": {},
   "outputs": [
    {
     "name": "stdout",
     "output_type": "stream",
     "text": [
      "Matriz de diagonal principal de 1's.\n",
      "F =  [[1. 0. 0.]\n",
      " [0. 1. 0.]]\n",
      "F.dtype =  float64\n"
     ]
    }
   ],
   "source": [
    "print(\"Matriz de diagonal principal de 1's.\")\n",
    "F = eye(2, 3)\n",
    "print(\"F = \", F)\n",
    "print(\"F.dtype = \", F.dtype)"
   ]
  },
  {
   "cell_type": "code",
   "execution_count": 16,
   "id": "e0f0ff66",
   "metadata": {},
   "outputs": [
    {
     "name": "stdout",
     "output_type": "stream",
     "text": [
      "Matriz de k-diagonal principal de 1's.\n",
      "G =  [[0. 1. 0.]\n",
      " [0. 0. 1.]\n",
      " [0. 0. 0.]]\n",
      "G.dtype =  float64\n"
     ]
    }
   ],
   "source": [
    "print(\"Matriz de k-diagonal principal de 1's.\")\n",
    "G = eye(3, k=1)\n",
    "print(\"G = \", G)\n",
    "print(\"G.dtype = \", G.dtype)"
   ]
  },
  {
   "cell_type": "markdown",
   "id": "63094d54",
   "metadata": {},
   "source": [
    "<div align=\"left\"><span style=\"font-family: Arial; color:#000000; font-size: medium\">\n",
    "    Las funciones <span style=\"font-family: Courier\">arange()</span> y <span style=\"font-family: Courier\">linspace()</span> permiten <b>crear vectores</b> (<span style=\"font-family: Courier\">array</span> de una dimensión) <i>interpolando</i> valores intermedios entre dos extremos; los tres argumentos de la función <span style=\"font-family: Courier\">arange</span> son el extremo inicial del intervalo (cerrado), el extremo final (abierto) y el paso de malla; los tres argumentos de la función <span style=\"font-family: Courier\">linspace</span> son el extremo inicial del intervalo (cerrado), el extremo final (cerrado) y el número total de puntos interpolados. Se pueden <b>crear matrices</b> (<span style=\"font-family: Courier\">array</span> de dos dimensiones) combinando estas funciones con la función <span style=\"font-family: Courier\">reshape()</span>, cuyo primer argumento es un vector y el segundo el tamaño de la matriz que se creará.\n",
    "    </span></div>"
   ]
  },
  {
   "cell_type": "code",
   "execution_count": 17,
   "id": "2a7e0f6a",
   "metadata": {},
   "outputs": [
    {
     "name": "stdout",
     "output_type": "stream",
     "text": [
      "Matriz creada por interpolación.\n",
      "h =  [ 0  1  2  3  4  5  6  7  8  9 10 11]\n",
      "H =  [[ 0  1  2  3]\n",
      " [ 4  5  6  7]\n",
      " [ 8  9 10 11]]\n",
      "H.dtype =  int32\n"
     ]
    }
   ],
   "source": [
    "print(\"Matriz creada por interpolación.\")\n",
    "h = arange(0, 12, 1)   # intervalo [0,12), puntos separados por una unidad de distancia\n",
    "print(\"h = \", h)\n",
    "H = reshape(h, (3, 4))\n",
    "print(\"H = \", H)\n",
    "print(\"H.dtype = \", H.dtype)"
   ]
  },
  {
   "cell_type": "code",
   "execution_count": 18,
   "id": "c28df1d4",
   "metadata": {},
   "outputs": [
    {
     "name": "stdout",
     "output_type": "stream",
     "text": [
      "Matriz creada por interpolación.\n",
      "k =  [ 0.  1.  2.  3.  4.  5.  6.  7.  8.  9. 10. 11.]\n",
      "K =  [[ 0.  1.  2.]\n",
      " [ 3.  4.  5.]\n",
      " [ 6.  7.  8.]\n",
      " [ 9. 10. 11.]]\n",
      "K.dtype =  float64\n"
     ]
    }
   ],
   "source": [
    "print(\"Matriz creada por interpolación.\")\n",
    "k = linspace(0, 11, 12)    # intervalo [0,11], 12 puntos totales equidistantes\n",
    "print(\"k = \", k)\n",
    "K = reshape(k, (4, 3))\n",
    "print(\"K = \", K)\n",
    "print(\"K.dtype = \", K.dtype)"
   ]
  },
  {
   "cell_type": "markdown",
   "id": "8aa4ab50",
   "metadata": {},
   "source": [
    "<div align=\"left\"><span style=\"font-family: Arial; color:#000000; font-size: medium\">\n",
    "    Se puede <b>acceder a los elementos</b> de un <span style=\"font-family: Courier\">array</span> poniendo sus coordenadas entre corchetes y sabiendo que siempre se numeran desde 0. Se puede <b>acceder a más de un elemento</b> usando la notación <span style=\"font-family: Courier\">a:b</span> o <span style=\"font-family: Courier\">a:b:c</span> que considera todos los índices entre <span style=\"font-family: Courier\">a</span> (incluido) y <span style=\"font-family: Courier\">b</span> (excluido), eventualmente con salto de <span style=\"font-family: Courier\">c</span>; la ausencia de <span style=\"font-family: Courier\">a</span> significa que se consideran todos los índices desde el primero, y la ausencia de <span style=\"font-family: Courier\">b</span> que se consideran todos los índices hasta el último. En el caso de matrices, la presencia de esta notación en uno de los dos índices <b>genera un vector</b>, mientras que la presencia en ambos índices <b>genera una matriz</b> (submatriz de la matriz dada).\n",
    "    </span></div>"
   ]
  },
  {
   "cell_type": "code",
   "execution_count": 19,
   "id": "89fbdf0f",
   "metadata": {},
   "outputs": [
    {
     "name": "stdout",
     "output_type": "stream",
     "text": [
      "Acceso a los elementos de las matrices.\n",
      "A[0, 0] =  1\n"
     ]
    }
   ],
   "source": [
    "# Acceso a los elementos de las matrices.\n",
    "print(\"Acceso a los elementos de las matrices.\")\n",
    "print(\"A[0, 0] = \", A[0, 0])"
   ]
  },
  {
   "cell_type": "code",
   "execution_count": 20,
   "id": "02830b4b",
   "metadata": {},
   "outputs": [
    {
     "name": "stdout",
     "output_type": "stream",
     "text": [
      "x[1] =  -8.0\n"
     ]
    }
   ],
   "source": [
    "print(\"x[1] = \", x[1])"
   ]
  },
  {
   "cell_type": "code",
   "execution_count": 21,
   "id": "b7506db3",
   "metadata": {},
   "outputs": [
    {
     "name": "stdout",
     "output_type": "stream",
     "text": [
      "X[0, 1] =  -8.0\n"
     ]
    }
   ],
   "source": [
    "print(\"X[0, 1] = \", X[0, 1])"
   ]
  },
  {
   "cell_type": "code",
   "execution_count": 22,
   "id": "5b0db271",
   "metadata": {},
   "outputs": [
    {
     "name": "stdout",
     "output_type": "stream",
     "text": [
      "Y[1, 0] =  (-2+0j)\n"
     ]
    }
   ],
   "source": [
    "print(\"Y[1, 0] = \", Y[1, 0])"
   ]
  },
  {
   "cell_type": "code",
   "execution_count": 23,
   "id": "651dd59f",
   "metadata": {},
   "outputs": [
    {
     "name": "stdout",
     "output_type": "stream",
     "text": [
      "A[1, :] =  [-4  5 -6]\n"
     ]
    }
   ],
   "source": [
    "print(\"A[1, :] = \", A[1, :])    # elementos de la fila 1 y de todas las columnas"
   ]
  },
  {
   "cell_type": "code",
   "execution_count": 24,
   "id": "f2aa7606",
   "metadata": {},
   "outputs": [
    {
     "name": "stdout",
     "output_type": "stream",
     "text": [
      "A[1:, :] =  [[-4  5 -6]]\n"
     ]
    }
   ],
   "source": [
    "print(\"A[1:, :] = \", A[1:, :])   # elementos desde la fila 1 en adelante y de todas las columnas"
   ]
  },
  {
   "cell_type": "code",
   "execution_count": 25,
   "id": "371e8a2f",
   "metadata": {},
   "outputs": [
    {
     "name": "stdout",
     "output_type": "stream",
     "text": [
      "A[:, 1] =  [-2  5]\n"
     ]
    }
   ],
   "source": [
    "print(\"A[:, 1] = \", A[:, 1])   # elementos de todas las filas y de la columna 1"
   ]
  },
  {
   "cell_type": "code",
   "execution_count": 33,
   "id": "c586d38c",
   "metadata": {},
   "outputs": [
    {
     "name": "stdout",
     "output_type": "stream",
     "text": [
      "A[:, 1:2] =  [[-2]\n",
      " [ 5]]\n"
     ]
    }
   ],
   "source": [
    "print(\"A[:, 1:2] = \", A[:, 1:2])    # no se cuenta la columna 2, son los elementos de todas las filas y de las columnas en [1,2)"
   ]
  },
  {
   "cell_type": "code",
   "execution_count": 35,
   "id": "d58c8671",
   "metadata": {},
   "outputs": [
    {
     "name": "stdout",
     "output_type": "stream",
     "text": [
      "A[:1, 1:] =  [[-2  3]]\n"
     ]
    }
   ],
   "source": [
    "print(\"A[:1, 1:] = \", A[:1, 1:])   # elementos de las filas anteriores a la 1 y de las columnas desde la 1 en adelante"
   ]
  },
  {
   "cell_type": "code",
   "execution_count": 36,
   "id": "2f26c8fd",
   "metadata": {},
   "outputs": [
    {
     "name": "stdout",
     "output_type": "stream",
     "text": [
      "A[:, ::2] =  [[ 1  3]\n",
      " [-4 -6]]\n"
     ]
    }
   ],
   "source": [
    "print(\"A[:, ::2] = \", A[:, ::2])   # elementos de todas las filas y desde la columna 0 hasta la 2 (sin contarla) \n",
    "                                   # con saltos de dos en dos"
   ]
  },
  {
   "cell_type": "markdown",
   "id": "5eb74e75",
   "metadata": {},
   "source": [
    "<div align=\"left\"><span style=\"font-family: Arial; color:#000000; font-size: medium\">\n",
    "    Para una matriz, la función <span style=\"font-family: Courier\">transpose()</span> calcula la <b>matriz transpuesta</b> (esta función actuando sobre un vector no tiene efecto), mientras que la función <span style=\"font-family: Courier\">conjugate()</span> solamente <b>conjuga los elementos</b>; por tanto para calcular la <b>matriz conjugada</b> de una matriz compleja hay que combinar ambas funciones.\n",
    "    </span></div>"
   ]
  },
  {
   "cell_type": "code",
   "execution_count": 37,
   "id": "44c8d0bb",
   "metadata": {},
   "outputs": [
    {
     "name": "stdout",
     "output_type": "stream",
     "text": [
      "Transposición y conjugación.\n",
      "Transpuesta-vector: transpose(x) =  [ 7. -8.  9.]\n"
     ]
    }
   ],
   "source": [
    "# Transposición y conjugación.\n",
    "print(\"Transposición y conjugación.\")\n",
    "print(\"Transpuesta-vector: transpose(x) = \", transpose(x))"
   ]
  },
  {
   "cell_type": "code",
   "execution_count": 38,
   "id": "ea7fa549",
   "metadata": {},
   "outputs": [
    {
     "name": "stdout",
     "output_type": "stream",
     "text": [
      "Transpuesta: transpose(A) =  [[ 1 -4]\n",
      " [-2  5]\n",
      " [ 3 -6]]\n"
     ]
    }
   ],
   "source": [
    "print(\"Transpuesta: transpose(A) = \", transpose(A))"
   ]
  },
  {
   "cell_type": "code",
   "execution_count": 39,
   "id": "b4179448",
   "metadata": {},
   "outputs": [
    {
     "name": "stdout",
     "output_type": "stream",
     "text": [
      "Conjugada: conjugate(transpose(X)) =  [[ 7.]\n",
      " [-8.]\n",
      " [ 9.]]\n"
     ]
    }
   ],
   "source": [
    "print(\"Conjugada: conjugate(transpose(X)) = \", conjugate(transpose(X)))"
   ]
  },
  {
   "cell_type": "code",
   "execution_count": 40,
   "id": "a77a9b80",
   "metadata": {},
   "outputs": [
    {
     "name": "stdout",
     "output_type": "stream",
     "text": [
      "Conjugada: conjugate(transpose(Y)) =  [[ 0.-1.j -2.-0.j]]\n"
     ]
    }
   ],
   "source": [
    "print(\"Conjugada: conjugate(transpose(Y)) = \", conjugate(transpose(Y)))"
   ]
  },
  {
   "cell_type": "markdown",
   "id": "295096d4",
   "metadata": {},
   "source": [
    "<div align=\"left\"><span style=\"font-family: Arial; color:#000000; font-size: medium\">\n",
    "    Las <b>operaciones elementales</b> (<b>sumas</b> con el operador <span style=\"font-family: Courier\">+</span>, <b>productos</b> con el operador <span style=\"font-family: Courier\">*</span> y <b>potencias</b> con el operador <span style=\"font-family: Courier,\">**</span>) actúan sobre los <span style=\"font-family: Courier\">array</span> elemento a elemento (incluido el producto y la potencia). Indicamos que tanto la suma como el producto admiten dos <b>generalizaciones</b>; por un lado sumar o multiplicar una constante, en cuyo caso suma o multiplica la constante a todos sus elementos (en el caso del producto es el usual producto por escalares); por otro lado sumar o multiplicar un vector (o matriz fila) o un vector columna a una matriz, en cuyo caso lo suma o multiplica, elemento a elemento, a todas las filas o columnas de la matriz, siempre que las dimensiones lo permiten.\n",
    "    <br>\n",
    "    Para utilizar el <b>producto matricial</b> habitual debe utilizarse el operador <span style=\"font-family: Courier\">@</span> y para la <b>potencia de matrices</b> la función <span style=\"font-family: Courier\">matrix_power()</span>.\n",
    "    <br>\n",
    "    En cualquier caso, todos los resultados de operaciones entre matrices adopta el tipo <i>más rico</i> de todos los que intervienen en dichos cálculos.\n",
    "    </span></div>"
   ]
  },
  {
   "cell_type": "code",
   "execution_count": 41,
   "id": "75b16d51",
   "metadata": {},
   "outputs": [
    {
     "name": "stdout",
     "output_type": "stream",
     "text": [
      "Operaciones elementales.\n",
      "Suma: A + D =  [[ 2. -1.  4.]\n",
      " [-3.  6. -5.]]\n"
     ]
    }
   ],
   "source": [
    "# Operaciones elementales.\n",
    "print(\"Operaciones elementales.\")\n",
    "print(\"Suma: A + D = \", A + D)"
   ]
  },
  {
   "cell_type": "code",
   "execution_count": 42,
   "id": "558fa9dd",
   "metadata": {},
   "outputs": [
    {
     "name": "stdout",
     "output_type": "stream",
     "text": [
      "Suma constante: 3. + A =  [[ 4.  1.  6.]\n",
      " [-1.  8. -3.]]\n",
      "Suma constante: -2 + x =  [  5. -10.   7.]\n"
     ]
    }
   ],
   "source": [
    "print(\"Suma constante: 3. + A = \", 3. + A)\n",
    "print(\"Suma constante: -2 + x = \", -2 + x)"
   ]
  },
  {
   "cell_type": "code",
   "execution_count": 43,
   "id": "d1f2bc21",
   "metadata": {},
   "outputs": [
    {
     "name": "stdout",
     "output_type": "stream",
     "text": [
      "Suma vector: x + A =  [[  8. -10.  12.]\n",
      " [  3.  -3.   3.]]\n"
     ]
    }
   ],
   "source": [
    "print(\"Suma vector: x + A = \", x + A)"
   ]
  },
  {
   "cell_type": "code",
   "execution_count": 44,
   "id": "d7b42fa1",
   "metadata": {},
   "outputs": [
    {
     "name": "stdout",
     "output_type": "stream",
     "text": [
      "Suma matriz fila: X + A =  [[  8. -10.  12.]\n",
      " [  3.  -3.   3.]]\n"
     ]
    }
   ],
   "source": [
    "print(\"Suma matriz fila: X + A = \", X + A)"
   ]
  },
  {
   "cell_type": "code",
   "execution_count": 45,
   "id": "15337577",
   "metadata": {},
   "outputs": [
    {
     "name": "stdout",
     "output_type": "stream",
     "text": [
      "Suma matriz columna: Y + A =  [[ 1.+1.j -2.+1.j  3.+1.j]\n",
      " [-6.+0.j  3.+0.j -8.+0.j]]\n"
     ]
    }
   ],
   "source": [
    "print(\"Suma matriz columna: Y + A = \", Y + A)"
   ]
  },
  {
   "cell_type": "code",
   "execution_count": 46,
   "id": "e37da0e5",
   "metadata": {},
   "outputs": [
    {
     "name": "stdout",
     "output_type": "stream",
     "text": [
      "Producto-elemento: A*D =  [[ 1. -2.  3.]\n",
      " [-4.  5. -6.]]\n"
     ]
    }
   ],
   "source": [
    "print(\"Producto-elemento: A*D = \", A*D)"
   ]
  },
  {
   "cell_type": "code",
   "execution_count": 47,
   "id": "c97991bb",
   "metadata": {},
   "outputs": [
    {
     "name": "stdout",
     "output_type": "stream",
     "text": [
      "Producto escalares: 3*A =  [[  3  -6   9]\n",
      " [-12  15 -18]]\n"
     ]
    }
   ],
   "source": [
    "print(\"Producto escalares: 3*A = \", 3*A)"
   ]
  },
  {
   "cell_type": "code",
   "execution_count": 48,
   "id": "814a8c95",
   "metadata": {},
   "outputs": [
    {
     "name": "stdout",
     "output_type": "stream",
     "text": [
      "Producto vector: x*A =  [[  7.  16.  27.]\n",
      " [-28. -40. -54.]]\n"
     ]
    }
   ],
   "source": [
    "print(\"Producto vector: x*A = \", x*A)"
   ]
  },
  {
   "cell_type": "code",
   "execution_count": 49,
   "id": "6223c881",
   "metadata": {},
   "outputs": [
    {
     "name": "stdout",
     "output_type": "stream",
     "text": [
      "Producto matriz fila: X*A =  [[  7.  16.  27.]\n",
      " [-28. -40. -54.]]\n"
     ]
    }
   ],
   "source": [
    "print(\"Producto matriz fila: X*A = \", X*A)"
   ]
  },
  {
   "cell_type": "code",
   "execution_count": 50,
   "id": "851f4ab6",
   "metadata": {},
   "outputs": [
    {
     "name": "stdout",
     "output_type": "stream",
     "text": [
      "Producto matriz columna: Y*A =  [[  0.+1.j  -0.-2.j   0.+3.j]\n",
      " [  8.-0.j -10.+0.j  12.-0.j]]\n"
     ]
    }
   ],
   "source": [
    "print(\"Producto matriz columna: Y*A = \", Y*A)"
   ]
  },
  {
   "cell_type": "code",
   "execution_count": 51,
   "id": "353ccf29",
   "metadata": {},
   "outputs": [
    {
     "name": "stdout",
     "output_type": "stream",
     "text": [
      "Producto: A@H =  [[ 16  18  20  22]\n",
      " [-28 -33 -38 -43]]\n"
     ]
    }
   ],
   "source": [
    "print(\"Producto: A@H = \", A@H)"
   ]
  },
  {
   "cell_type": "code",
   "execution_count": 52,
   "id": "01d6b4bb",
   "metadata": {},
   "outputs": [
    {
     "name": "stdout",
     "output_type": "stream",
     "text": [
      "Potencia-elemento: A**3 =  [[   1   -8   27]\n",
      " [ -64  125 -216]]\n"
     ]
    }
   ],
   "source": [
    "print(\"Potencia-elemento: A**3 = \", A**3)"
   ]
  },
  {
   "cell_type": "code",
   "execution_count": 53,
   "id": "03c40eb1",
   "metadata": {},
   "outputs": [
    {
     "name": "stdout",
     "output_type": "stream",
     "text": [
      "Potencia: matrix_power(B, 2) =  [[ 7. 10.]\n",
      " [15. 22.]]\n"
     ]
    }
   ],
   "source": [
    "print(\"Potencia: matrix_power(B, 2) = \", matrix_power(B, 2))"
   ]
  },
  {
   "cell_type": "markdown",
   "id": "00a5a4d0",
   "metadata": {},
   "source": [
    "<div align=\"left\"><span style=\"font-family: Arial; color:#000000; font-size: medium\">\n",
    "    Las funciones <span style=\"font-family: Courier\">tril()</span> y <span style=\"font-family: Courier\">triu()</span> extraen la parte <b>triangular inferior</b> y <b>superior</b>, respectivamente, de la matriz que se da como argumento; estas funciones  admiten un argumento opcional <span style=\"font-family: Courier\">k=</span>, que puede ser positivo o negativo, que permite añadir o suprimir extradiagonales.\n",
    "    <br>\n",
    "    Cuando el argumento de estas funciones es un vector, se construye una matriz cuadrada triangular con el vector dado\n",
    "como fila de dicha matriz.\n",
    "    </span></div>"
   ]
  },
  {
   "cell_type": "code",
   "execution_count": 54,
   "id": "c8bccb38",
   "metadata": {},
   "outputs": [
    {
     "name": "stdout",
     "output_type": "stream",
     "text": [
      "Matrices triangulares:\n",
      "tril(A) =  [[ 1  0  0]\n",
      " [-4  5  0]]\n",
      "tril(A, k=1) =  [[ 1 -2  0]\n",
      " [-4  5 -6]]\n",
      "tril(A, k=-1) =  [[ 0  0  0]\n",
      " [-4  0  0]]\n"
     ]
    }
   ],
   "source": [
    "# Matrices triangulares.\n",
    "print(\"Matrices triangulares:\")\n",
    "print(\"tril(A) = \", tril(A))\n",
    "print(\"tril(A, k=1) = \", tril(A, k=1))\n",
    "print(\"tril(A, k=-1) = \", tril(A, k=-1))"
   ]
  },
  {
   "cell_type": "code",
   "execution_count": 55,
   "id": "b258c462",
   "metadata": {},
   "outputs": [
    {
     "name": "stdout",
     "output_type": "stream",
     "text": [
      "triu(A) =  [[ 1 -2  3]\n",
      " [ 0  5 -6]]\n",
      "triu(A, k=1) =  [[ 0 -2  3]\n",
      " [ 0  0 -6]]\n",
      "triu(A, k=-1) =  [[ 1 -2  3]\n",
      " [-4  5 -6]]\n"
     ]
    }
   ],
   "source": [
    "print(\"triu(A) = \", triu(A))\n",
    "print(\"triu(A, k=1) = \", triu(A, k=1))\n",
    "print(\"triu(A, k=-1) = \", triu(A, k=-1))"
   ]
  },
  {
   "cell_type": "code",
   "execution_count": 56,
   "id": "8dd53b0b",
   "metadata": {},
   "outputs": [
    {
     "name": "stdout",
     "output_type": "stream",
     "text": [
      "tril(x) =  [[ 7.  0.  0.]\n",
      " [ 7. -8.  0.]\n",
      " [ 7. -8.  9.]]\n",
      "triu(x) =  [[ 7. -8.  9.]\n",
      " [ 0. -8.  9.]\n",
      " [ 0.  0.  9.]]\n"
     ]
    }
   ],
   "source": [
    "print(\"tril(x) = \", tril(x))\n",
    "print(\"triu(x) = \", triu(x))"
   ]
  },
  {
   "cell_type": "markdown",
   "id": "e079cd53",
   "metadata": {},
   "source": [
    "<div align=\"left\"><span style=\"font-family: Arial; color:#000000; font-size: medium\">\n",
    "    Ciertas <b>funciones usuales</b> actúan sobre <span style=\"font-family: Courier\">array</span> de una forma predecible; será útil comprobar esto considerando tanto vectores como matrices (reales o complejas) y viendo como se transforman mediante la función <span style=\"font-family: Courier\">abs()</span>, cuyo argumento es el <span style=\"font-family: Courier\">array</span> al que se le calcularán los valores absolutos o módulos de sus elementos, y la función <span style=\"font-family: Courier\">sum()</span> cuyo argumento es el <span style=\"font-family: Courier\">array</span> cuyos elementos se sumarán; en el caso de matrices, esta última función admite un argumento opcional en la forma <span style=\"font-family: Courier\">axis=0</span> o <span style=\"font-family: Courier\">axis=1</span>, que permite hacer la suma por columnas o por filas, dando como resultado un vector. Un comportamiento totalmente análogo, incluido el argumento opcional, tienen lss funciones <span style=\"font-family: Courier\">max()</span> y <span style=\"font-family: Courier\">min()</span>.\n",
    "    </span></div>"
   ]
  },
  {
   "cell_type": "code",
   "execution_count": 57,
   "id": "66d61f45",
   "metadata": {},
   "outputs": [
    {
     "name": "stdout",
     "output_type": "stream",
     "text": [
      "Funciones usuales.\n",
      "abs(A) =  [[1 2 3]\n",
      " [4 5 6]]\n",
      "abs(x) =  [7. 8. 9.]\n",
      "abs(X) =  [[7. 8. 9.]]\n",
      "abs(Y) =  [[1.]\n",
      " [2.]]\n"
     ]
    }
   ],
   "source": [
    "# Funciones usuales.\n",
    "print(\"Funciones usuales.\")\n",
    "print(\"abs(A) = \", abs(A))\n",
    "print(\"abs(x) = \", abs(x))\n",
    "print(\"abs(X) = \", abs(X))\n",
    "print(\"abs(Y) = \", abs(Y))"
   ]
  },
  {
   "cell_type": "code",
   "execution_count": 58,
   "id": "4b121f2f",
   "metadata": {},
   "outputs": [
    {
     "name": "stdout",
     "output_type": "stream",
     "text": [
      "sum(A) =  -3\n",
      "sum(A, axis=0) =  [-3  3 -3]\n",
      "sum(A, axis=1) =  [ 2 -5]\n"
     ]
    }
   ],
   "source": [
    "print(\"sum(A) = \", sum(A))\n",
    "print(\"sum(A, axis=0) = \", sum(A, axis=0))\n",
    "print(\"sum(A, axis=1) = \", sum(A, axis=1))"
   ]
  },
  {
   "cell_type": "code",
   "execution_count": 59,
   "id": "aac5f40d",
   "metadata": {},
   "outputs": [
    {
     "name": "stdout",
     "output_type": "stream",
     "text": [
      "max(A) =  5\n",
      "max(A, axis=0) =  [1 5 3]\n",
      "max(A, axis=1) =  [3 5]\n"
     ]
    }
   ],
   "source": [
    "print(\"max(A) = \", max(A))\n",
    "print(\"max(A, axis=0) = \", max(A, axis=0))\n",
    "print(\"max(A, axis=1) = \", max(A, axis=1))"
   ]
  },
  {
   "cell_type": "code",
   "execution_count": 60,
   "id": "2271b418",
   "metadata": {},
   "outputs": [
    {
     "name": "stdout",
     "output_type": "stream",
     "text": [
      "min(A) =  -6\n",
      "min(A, axis=0) =  [-4 -2 -6]\n",
      "min(A, axis=1) =  [-2 -6]\n"
     ]
    }
   ],
   "source": [
    "print(\"min(A) = \", min(A))\n",
    "print(\"min(A, axis=0) = \", min(A, axis=0))\n",
    "print(\"min(A, axis=1) = \", min(A, axis=1))"
   ]
  },
  {
   "cell_type": "markdown",
   "id": "226aa8c4",
   "metadata": {},
   "source": [
    "<div align=\"left\"><span style=\"font-family: Arial; color:#000000; font-size: medium\">\n",
    "    La función <span style=\"font-family: Courier\">diagflat()</span> permite construir <b>matrices diagonales</b> a partir de los elementos de un vector o de una matriz, que se da como argumento; admite un argumento opcional <span style=\"font-family: Courier\">k=</span> que coloca los elementos <span style=\"font-family: Courier\">k</span> diagonales por arriba o por abajo, dependiendo del signo, de la diagonal principal.\n",
    "    <br>\n",
    "    Recíprocamente, cuando la función <span style=\"font-family: Courier\">diag()</span> tiene como argumento una matriz, se extrae en un vector la diagonal principal de la misma; admite el mismo argumento opcional <span style=\"font-family: Courier\">k=</span> con un objetivo análogo. Cuando esta función tienen como argumento un vector el efecto es el mismo que la función anterior.\n",
    "    </span></div>"
   ]
  },
  {
   "cell_type": "code",
   "execution_count": 61,
   "id": "da347cc5",
   "metadata": {},
   "outputs": [
    {
     "name": "stdout",
     "output_type": "stream",
     "text": [
      "Matrices diagonales.\n",
      "diagflat(x) =  [[ 7.  0.  0.]\n",
      " [ 0. -8.  0.]\n",
      " [ 0.  0.  9.]]\n"
     ]
    }
   ],
   "source": [
    "print(\"Matrices diagonales.\")\n",
    "print(\"diagflat(x) = \", diagflat(x))"
   ]
  },
  {
   "cell_type": "code",
   "execution_count": 62,
   "id": "16b4c78b",
   "metadata": {},
   "outputs": [
    {
     "name": "stdout",
     "output_type": "stream",
     "text": [
      "diagflat(Y, k=1) =  [[ 0.+0.j  0.+1.j  0.+0.j]\n",
      " [ 0.+0.j  0.+0.j -2.+0.j]\n",
      " [ 0.+0.j  0.+0.j  0.+0.j]]\n"
     ]
    }
   ],
   "source": [
    "print(\"diagflat(Y, k=1) = \", diagflat(Y, k=1))"
   ]
  },
  {
   "cell_type": "code",
   "execution_count": 63,
   "id": "58981f3d",
   "metadata": {},
   "outputs": [
    {
     "name": "stdout",
     "output_type": "stream",
     "text": [
      "diagflat(A, k=-1) =  [[ 0  0  0  0  0  0  0]\n",
      " [ 1  0  0  0  0  0  0]\n",
      " [ 0 -2  0  0  0  0  0]\n",
      " [ 0  0  3  0  0  0  0]\n",
      " [ 0  0  0 -4  0  0  0]\n",
      " [ 0  0  0  0  5  0  0]\n",
      " [ 0  0  0  0  0 -6  0]]\n"
     ]
    }
   ],
   "source": [
    "print(\"diagflat(A, k=-1) = \", diagflat(A, k=-1))"
   ]
  },
  {
   "cell_type": "code",
   "execution_count": 64,
   "id": "42d53288",
   "metadata": {},
   "outputs": [
    {
     "name": "stdout",
     "output_type": "stream",
     "text": [
      "diag(A) =  [1 5]\n"
     ]
    }
   ],
   "source": [
    "print(\"diag(A) = \", diag(A))"
   ]
  },
  {
   "cell_type": "code",
   "execution_count": 65,
   "id": "ae7c1a12",
   "metadata": {},
   "outputs": [
    {
     "name": "stdout",
     "output_type": "stream",
     "text": [
      "diag(A, k=1) =  [-2 -6]\n"
     ]
    }
   ],
   "source": [
    "print(\"diag(A, k=1) = \", diag(A, k=1))"
   ]
  },
  {
   "cell_type": "code",
   "execution_count": 66,
   "id": "443b17a8",
   "metadata": {},
   "outputs": [
    {
     "name": "stdout",
     "output_type": "stream",
     "text": [
      "diag(Y) =  [0.+1.j]\n"
     ]
    }
   ],
   "source": [
    "print(\"diag(Y) = \", diag(Y))"
   ]
  },
  {
   "cell_type": "code",
   "execution_count": 67,
   "id": "aadc43bc",
   "metadata": {},
   "outputs": [
    {
     "name": "stdout",
     "output_type": "stream",
     "text": [
      "diag(x) =  [[ 7.  0.  0.]\n",
      " [ 0. -8.  0.]\n",
      " [ 0.  0.  9.]]\n"
     ]
    }
   ],
   "source": [
    "print(\"diag(x) = \", diag(x))"
   ]
  },
  {
   "cell_type": "markdown",
   "id": "f72ace18",
   "metadata": {},
   "source": [
    "<div align=\"left\"><span style=\"font-family: Arial; color:#000000; font-size: medium\">\n",
    "    Es también es posible <b>concatenar matrices</b>, tanto horizontal, como verticalmente, con las funciones\n",
    "<span style=\"font-family: Courier\">hstack()</span> y <span style=\"font-family: Courier\">vstack()</span>; el argumento de estas funciones es la tupla formada por las matrices que se quieren concatenar, cuyas dimensiones deben permitir esta manipulación. También aquí todos los resultados de manipulaciones entre matrices adopta el tipo <i>más rico</i> de todos los que intervienen en dichas manipulaciones.\n",
    "    </span></div>"
   ]
  },
  {
   "cell_type": "code",
   "execution_count": 68,
   "id": "8005d1ed",
   "metadata": {},
   "outputs": [
    {
     "name": "stdout",
     "output_type": "stream",
     "text": [
      "Matrices concatenadas.\n",
      "vstack([A, D]) =  [[ 1. -2.  3.]\n",
      " [-4.  5. -6.]\n",
      " [ 1.  1.  1.]\n",
      " [ 1.  1.  1.]]\n"
     ]
    }
   ],
   "source": [
    "print(\"Matrices concatenadas.\")\n",
    "print(\"vstack([A, D]) = \", vstack([A, D]))"
   ]
  },
  {
   "cell_type": "code",
   "execution_count": 69,
   "id": "d503c290",
   "metadata": {},
   "outputs": [
    {
     "name": "stdout",
     "output_type": "stream",
     "text": [
      "hstack([A, B]) =  [[ 1. -2.  3.  1.  2.]\n",
      " [-4.  5. -6.  3.  4.]]\n"
     ]
    }
   ],
   "source": [
    "print(\"hstack([A, B]) = \", hstack([A, B]))"
   ]
  },
  {
   "cell_type": "markdown",
   "id": "e6537138",
   "metadata": {},
   "source": [
    "<div align=\"left\"><span style=\"font-family: Arial; color:#000000; font-size: medium\">\n",
    "    <span style=\"color:#FF0000\"><b>Ejercicio 1.</b></span> Generar una matriz de tamaño 20, que sea tridiagonal con elementos diagonales iguales a 2 y elementos sub-diagonales y supra-diagonales iguales a -1.\n",
    "    </span></div>"
   ]
  },
  {
   "cell_type": "code",
   "execution_count": 2,
   "id": "c4ed9c76",
   "metadata": {},
   "outputs": [
    {
     "name": "stdout",
     "output_type": "stream",
     "text": [
      "Ejercicio 1.\n",
      "A =  [[ 2. -1.  0.  0.  0.  0.  0.  0.  0.  0.  0.  0.  0.  0.  0.  0.  0.  0.\n",
      "   0.  0.]\n",
      " [-1.  2. -1.  0.  0.  0.  0.  0.  0.  0.  0.  0.  0.  0.  0.  0.  0.  0.\n",
      "   0.  0.]\n",
      " [ 0. -1.  2. -1.  0.  0.  0.  0.  0.  0.  0.  0.  0.  0.  0.  0.  0.  0.\n",
      "   0.  0.]\n",
      " [ 0.  0. -1.  2. -1.  0.  0.  0.  0.  0.  0.  0.  0.  0.  0.  0.  0.  0.\n",
      "   0.  0.]\n",
      " [ 0.  0.  0. -1.  2. -1.  0.  0.  0.  0.  0.  0.  0.  0.  0.  0.  0.  0.\n",
      "   0.  0.]\n",
      " [ 0.  0.  0.  0. -1.  2. -1.  0.  0.  0.  0.  0.  0.  0.  0.  0.  0.  0.\n",
      "   0.  0.]\n",
      " [ 0.  0.  0.  0.  0. -1.  2. -1.  0.  0.  0.  0.  0.  0.  0.  0.  0.  0.\n",
      "   0.  0.]\n",
      " [ 0.  0.  0.  0.  0.  0. -1.  2. -1.  0.  0.  0.  0.  0.  0.  0.  0.  0.\n",
      "   0.  0.]\n",
      " [ 0.  0.  0.  0.  0.  0.  0. -1.  2. -1.  0.  0.  0.  0.  0.  0.  0.  0.\n",
      "   0.  0.]\n",
      " [ 0.  0.  0.  0.  0.  0.  0.  0. -1.  2. -1.  0.  0.  0.  0.  0.  0.  0.\n",
      "   0.  0.]\n",
      " [ 0.  0.  0.  0.  0.  0.  0.  0.  0. -1.  2. -1.  0.  0.  0.  0.  0.  0.\n",
      "   0.  0.]\n",
      " [ 0.  0.  0.  0.  0.  0.  0.  0.  0.  0. -1.  2. -1.  0.  0.  0.  0.  0.\n",
      "   0.  0.]\n",
      " [ 0.  0.  0.  0.  0.  0.  0.  0.  0.  0.  0. -1.  2. -1.  0.  0.  0.  0.\n",
      "   0.  0.]\n",
      " [ 0.  0.  0.  0.  0.  0.  0.  0.  0.  0.  0.  0. -1.  2. -1.  0.  0.  0.\n",
      "   0.  0.]\n",
      " [ 0.  0.  0.  0.  0.  0.  0.  0.  0.  0.  0.  0.  0. -1.  2. -1.  0.  0.\n",
      "   0.  0.]\n",
      " [ 0.  0.  0.  0.  0.  0.  0.  0.  0.  0.  0.  0.  0.  0. -1.  2. -1.  0.\n",
      "   0.  0.]\n",
      " [ 0.  0.  0.  0.  0.  0.  0.  0.  0.  0.  0.  0.  0.  0.  0. -1.  2. -1.\n",
      "   0.  0.]\n",
      " [ 0.  0.  0.  0.  0.  0.  0.  0.  0.  0.  0.  0.  0.  0.  0.  0. -1.  2.\n",
      "  -1.  0.]\n",
      " [ 0.  0.  0.  0.  0.  0.  0.  0.  0.  0.  0.  0.  0.  0.  0.  0.  0. -1.\n",
      "   2. -1.]\n",
      " [ 0.  0.  0.  0.  0.  0.  0.  0.  0.  0.  0.  0.  0.  0.  0.  0.  0.  0.\n",
      "  -1.  2.]]\n"
     ]
    }
   ],
   "source": [
    "# Ejercicio 1.\n",
    "print(\"Ejercicio 1.\")\n",
    "A = 2*eye(20) - eye(20, k=1) - eye(20, k=-1)\n",
    "print(\"A = \", A)"
   ]
  },
  {
   "cell_type": "markdown",
   "id": "029c231b",
   "metadata": {},
   "source": [
    "<div align=\"left\"><span style=\"font-family: Arial; color:#000000; font-size: medium\">\n",
    "    <span style=\"color:#FF0000\"><b>Ejercicio 2.</b></span> Dada la matriz $A = \\left( \\begin{array}{cc} 1 & 2 \\\\ 3 & 4 \\end{array} \\right)$, construir las matrices $B = \\left( \\begin{array}{c|c} A & 2\\,A \\\\ \\hline 3\\,A & 4\\,A \\end{array} \\right)$ y $C = \\left( \\begin{array}{c|c|c} A & I & \\\\ \\hline I & A & I \\\\ \\hline & I & A \\end{array} \\right)$. Con la ayuda de la función <span style=\"font-family: Courier\">det()</span>, cuyo único argumento es una matriz, calcular los determinantes de las matrices anteriores.\n",
    "    </span></div>"
   ]
  },
  {
   "cell_type": "code",
   "execution_count": 5,
   "id": "ed3dfc01",
   "metadata": {},
   "outputs": [
    {
     "name": "stdout",
     "output_type": "stream",
     "text": [
      "Ejercicio 2.\n",
      "A =  [[1 2]\n",
      " [3 4]]\n",
      "det(A) =  -2.0000000000000004\n",
      "B = [[A,2A],[3A,4A]] = \n",
      " [[ 1  2  2  4]\n",
      " [ 3  4  6  8]\n",
      " [ 3  6  4  8]\n",
      " [ 9 12 12 16]]\n",
      "det(B) =  16.000000000000007\n",
      "C = [[A,I,0],[I,A,I],[0,I,A]] = \n",
      " [[1. 2. 1. 0. 0. 0.]\n",
      " [3. 4. 0. 1. 0. 0.]\n",
      " [1. 0. 1. 2. 1. 0.]\n",
      " [0. 1. 3. 4. 0. 1.]\n",
      " [0. 0. 1. 0. 1. 2.]\n",
      " [0. 0. 0. 1. 3. 4.]]\n",
      "det(C) =  99.99999999999996\n"
     ]
    }
   ],
   "source": [
    "# Ejercicio 2.\n",
    "print(\"Ejercicio 2.\")\n",
    "A = array ([[1,2], [3,4]])\n",
    "print(\"A = \", A)\n",
    "print(\"det(A) = \", det(A))\n",
    "B = vstack([hstack([A, 2*A]), hstack([3*A, 4*A])])\n",
    "print(\"B = [[A,2A],[3A,4A]] = \\n\", B)\n",
    "print(\"det(B) = \", det(B))\n",
    "C = vstack([hstack([A, eye(2), zeros((2,2))]), hstack([eye(2), A, eye(2)]), hstack([zeros((2,2)), eye(2), A])])\n",
    "print(\"C = [[A,I,0],[I,A,I],[0,I,A]] = \\n\", C)\n",
    "print(\"det(C) = \", det(C))"
   ]
  },
  {
   "cell_type": "markdown",
   "id": "9e2c87e6",
   "metadata": {},
   "source": [
    "<div align=\"left\"><span style=\"font-family: Arial; color:#000000; font-size: medium\">\n",
    "    <span style=\"color:#FF0000\"><b>Ejercicio 3.</b></span> Construir una matriz $A=(a_{i,j})\\in\\mathcal{M}_{10}(\\mathbb{R})$ tal que $a_{i,j}=10\\,(i-1)+j$, para todo $i,j=1,2,\\ldots,10$. Construir también las matrices $B,C\\in\\mathcal{M}_{10}(\\mathbb{R})$ que coinciden con $A$, excepto que en $B$ permutan entre sí las filas y columnas segunda y quinta, y en $C$ a la quinta fila de $A$ se le suma 3 veces la segunda fila.\n",
    "    </span></div>"
   ]
  },
  {
   "cell_type": "code",
   "execution_count": 8,
   "id": "c2b5a5a3",
   "metadata": {},
   "outputs": [
    {
     "name": "stdout",
     "output_type": "stream",
     "text": [
      "Ejercicio 3.\n",
      "A = \n",
      " [[  1.   2.   3.   4.   5.   6.   7.   8.   9.  10.]\n",
      " [ 11.  12.  13.  14.  15.  16.  17.  18.  19.  20.]\n",
      " [ 21.  22.  23.  24.  25.  26.  27.  28.  29.  30.]\n",
      " [ 31.  32.  33.  34.  35.  36.  37.  38.  39.  40.]\n",
      " [ 41.  42.  43.  44.  45.  46.  47.  48.  49.  50.]\n",
      " [ 51.  52.  53.  54.  55.  56.  57.  58.  59.  60.]\n",
      " [ 61.  62.  63.  64.  65.  66.  67.  68.  69.  70.]\n",
      " [ 71.  72.  73.  74.  75.  76.  77.  78.  79.  80.]\n",
      " [ 81.  82.  83.  84.  85.  86.  87.  88.  89.  90.]\n",
      " [ 91.  92.  93.  94.  95.  96.  97.  98.  99. 100.]]\n",
      "B = \n",
      " [[  1.   5.   3.   4.   2.   6.   7.   8.   9.  10.]\n",
      " [ 41.  45.  43.  44.  42.  46.  47.  48.  49.  50.]\n",
      " [ 21.  25.  23.  24.  22.  26.  27.  28.  29.  30.]\n",
      " [ 31.  35.  33.  34.  32.  36.  37.  38.  39.  40.]\n",
      " [ 11.  15.  13.  14.  12.  16.  17.  18.  19.  20.]\n",
      " [ 51.  55.  53.  54.  52.  56.  57.  58.  59.  60.]\n",
      " [ 61.  65.  63.  64.  62.  66.  67.  68.  69.  70.]\n",
      " [ 71.  75.  73.  74.  72.  76.  77.  78.  79.  80.]\n",
      " [ 81.  85.  83.  84.  82.  86.  87.  88.  89.  90.]\n",
      " [ 91.  95.  93.  94.  92.  96.  97.  98.  99. 100.]]\n",
      "C = \n",
      " [[  1.   2.   3.   4.   5.   6.   7.   8.   9.  10.]\n",
      " [ 11.  12.  13.  14.  15.  16.  17.  18.  19.  20.]\n",
      " [ 21.  22.  23.  24.  25.  26.  27.  28.  29.  30.]\n",
      " [ 31.  32.  33.  34.  35.  36.  37.  38.  39.  40.]\n",
      " [ 74.  78.  82.  86.  90.  94.  98. 102. 106. 110.]\n",
      " [ 51.  52.  53.  54.  55.  56.  57.  58.  59.  60.]\n",
      " [ 61.  62.  63.  64.  65.  66.  67.  68.  69.  70.]\n",
      " [ 71.  72.  73.  74.  75.  76.  77.  78.  79.  80.]\n",
      " [ 81.  82.  83.  84.  85.  86.  87.  88.  89.  90.]\n",
      " [ 91.  92.  93.  94.  95.  96.  97.  98.  99. 100.]]\n"
     ]
    }
   ],
   "source": [
    "# Ejercicio 3.\n",
    "print(\"Ejercicio 3.\")\n",
    "A = reshape(arange(1, 101, 1, dtype=float), (10, 10)) \n",
    "print(\"A = \\n\", A)\n",
    "B = array(A)    # B es una copia del array A\n",
    "B[[1,4], :] = B[[4,1], :] #las filas 2 y 5 van a ser las filas 5 y 2 de la antigua.\n",
    "B[:, [1,4]] = B[:, [4,1]] #Las columnas 2 y 5 van a ser las columnas 5 y 2 de la antigua.\n",
    "print(\"B = \\n\", B)\n",
    "C = array(A)\n",
    "C[4, :] += 3*C[1, :] #A la quinta fila se le suma 3 veces la segunda.\n",
    "#Similar a poner: C[4, :] = C[4, :] + 3*C[1, :]\n",
    "print(\"C = \\n\", C)"
   ]
  },
  {
   "cell_type": "markdown",
   "id": "d89d3b87",
   "metadata": {},
   "source": [
    "<div align=\"left\"><span style=\"font-family: Arial; color:#000000; font-size: medium\">\n",
    "    <span style=\"color:#FF0000\"><b>Ejercicio 4.</b></span> Se llama <b>matriz de Hilbert de orden $n$</b> a la matriz $H=(h_{i,j})\\in\\mathcal{M}(\\mathbb{R})$ tal que $h_{i,j}=\\frac{1}{i+j-1}$, para todo $i,j=1,2,\\ldots,n$. Construir e imprimir una matriz de Hilbert de orden 5, así como todas sus submatrices principales (que son también matrices de Hilbert); calcular también el determinante de estas submatrices.\n",
    "    </span></div>"
   ]
  },
  {
   "cell_type": "code",
   "execution_count": null,
   "id": "56be0b84",
   "metadata": {},
   "outputs": [],
   "source": [
    "# Ejercicio 4.\n",
    "print(\"Ejercicio 4.\")\n",
    "n = 5\n",
    "H = zeros((n,n))\n",
    "for i in range(n):\n",
    "    for j in range(n):\n",
    "        H[i, j] = 1/(1+i+j)  #(i+1 + j+1 - 1  = i+j+1, pues las posiciones \n",
    "print(\"H = \\n\", H)\n",
    "for k in range(n):\n",
    "    print(\"Submatriz principal de orden: \", k+1)\n",
    "    print(\"H^(\", k+1, \") = \\n\", H[:k+1, :k+1]) #filas y columnas desde 0 hasta k+1. Submatrices principales.\n",
    "    print(\"det H^(\", k+1, \") = \",  det(H[:k+1, :k+1])) #El determinante de las submatrices va tendiendo a 0"
   ]
  },
  {
   "cell_type": "markdown",
   "id": "ae7ac459",
   "metadata": {},
   "source": [
    "<div align=\"left\"><span style=\"font-family: Arial; color:#000000; font-size: medium\">\n",
    "    <span style=\"color:#FF0000\"><b>Ejercicio 5.</b></span> Se llama <b>matriz de Vandermonde de orden $n$</b> a la matriz $V=(v_{i,j})\\in\\mathcal{M}(\\mathbb{K})$ tal que $v_{i,j}={\\alpha_i}^{j-1}$, para todo $i,j=1,2,\\ldots,n$, siendo $\\alpha_i\\in\\mathbb{K}$, para $i=1,2,\\ldots,n$; en el caso en que $\\alpha_i=i$, construir e imprimir una matriz de Vandermonde de orden 5.\n",
    "    <br>\n",
    "    Para suprimir líneas (filas o columnas) de una matriz, se puede utilizar la función <span style=\"font-family: Courier\">delete()</span>, cuyos tres argumentos son una matriz, la(s) línea(s) que se quieren suprimir, y <span style=\"font-family: Courier\">axis=</span> para indicar si se suprimen filas o columnas. Por otro lado, la función <span style=\"font-family: Courier\">inv()</span>, cuyo único argumento es una matriz, calcula la inversa de la matriz dada (supuesta regular).\n",
    "    <br>\n",
    "    Construir la matriz de cofactores de la matriz de Vandermonde anterior y comprobar que la transpuesta de la misma, dividida por su determinante, es la inversa.\n",
    "</span>"
   ]
  },
  {
   "cell_type": "code",
   "execution_count": 9,
   "id": "4a9ccd6b",
   "metadata": {},
   "outputs": [
    {
     "name": "stdout",
     "output_type": "stream",
     "text": [
      "Ejercicio 5.\n",
      "V = \n",
      " [[  1.   1.   1.   1.   1.]\n",
      " [  1.   2.   4.   8.  16.]\n",
      " [  1.   3.   9.  27.  81.]\n",
      " [  1.   4.  16.  64. 256.]\n",
      " [  1.   5.  25. 125. 625.]]\n",
      "cof(V) = \n",
      " [[ 1440. -1848.   852.  -168.    12.]\n",
      " [-2880.  5136. -2832.   624.   -48.]\n",
      " [ 2880. -5616.  3528.  -864.    72.]\n",
      " [-1440.  2928. -1968.   528.   -48.]\n",
      " [  288.  -600.   420.  -120.    12.]]\n",
      "V^(-1) = \n",
      " [[  5.         -10.          10.          -5.           1.        ]\n",
      " [ -6.41666667  17.83333333 -19.5         10.16666667  -2.08333333]\n",
      " [  2.95833333  -9.83333333  12.25        -6.83333333   1.45833333]\n",
      " [ -0.58333333   2.16666667  -3.           1.83333333  -0.41666667]\n",
      " [  0.04166667  -0.16666667   0.25        -0.16666667   0.04166667]]\n",
      "det(V)^(-1)*cof(V)^t =\n",
      "  [[  5.         -10.          10.          -5.           1.        ]\n",
      " [ -6.41666667  17.83333333 -19.5         10.16666667  -2.08333333]\n",
      " [  2.95833333  -9.83333333  12.25        -6.83333333   1.45833333]\n",
      " [ -0.58333333   2.16666667  -3.           1.83333333  -0.41666667]\n",
      " [  0.04166667  -0.16666667   0.25        -0.16666667   0.04166667]]\n",
      "Comprobación:  3.8191672047105385e-14\n"
     ]
    }
   ],
   "source": [
    "# Ejercicio 5.\n",
    "print(\"Ejercicio 5.\")\n",
    "n = 5\n",
    "V = zeros((n,n))\n",
    "for i in range(n):\n",
    "    for j in range(n):\n",
    "        V[i, j] = (i+1)**j   #(i+1)^(j+1 -1) Subíndices de las matrices en python\n",
    "print(\"V = \\n\", V)\n",
    "cofV = zeros((n,n))\n",
    "for i in range(n):\n",
    "    for j in range(n):\n",
    "        cofV[i, j] = det(delete(delete(V, j, axis=1), i, axis=0))*((-1)**(i+1 +j+1)) #i+1, j+1 pues son las columnas i,j{0..5}\n",
    "print(\"cof(V) = \\n\", cofV)\n",
    "print(\"V^(-1) = \\n\", inv(V))\n",
    "print(\"det(V)^(-1)*cof(V)^t =\\n \", transpose(cofV)/det(V))\n",
    "print(\"Comprobación: \", max(abs(inv(V)-transpose(cofV)/det(V))))"
   ]
  },
  {
   "cell_type": "code",
   "execution_count": null,
   "id": "8d2569cd",
   "metadata": {},
   "outputs": [],
   "source": []
  }
 ],
 "metadata": {
  "kernelspec": {
   "display_name": "Python 3 (ipykernel)",
   "language": "python",
   "name": "python3"
  },
  "language_info": {
   "codemirror_mode": {
    "name": "ipython",
    "version": 3
   },
   "file_extension": ".py",
   "mimetype": "text/x-python",
   "name": "python",
   "nbconvert_exporter": "python",
   "pygments_lexer": "ipython3",
   "version": "3.9.13"
  }
 },
 "nbformat": 4,
 "nbformat_minor": 5
}
