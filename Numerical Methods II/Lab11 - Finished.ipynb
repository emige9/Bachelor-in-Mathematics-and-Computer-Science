{
 "cells": [
  {
   "cell_type": "markdown",
   "id": "2e9170a7",
   "metadata": {},
   "source": [
    "<div align=\"center\"><span style=\"font-family: Arial; color:#0000FF\"><b>\n",
    "    <span style=\"font-size: x-large\">Métodos Numéricos II</span>\n",
    "    <br>\n",
    "    <span style=\"font-size: large\">Segundo de Grado en Matemáticas - Curso 2022/23</span>\n",
    "    <br>\n",
    "    <span style=\"font-size: medium\">Facultad de Ciencias de la Universidad de Málaga</span>\n",
    "    <br>\n",
    "    <span style=\"font-size: small\">Dpto. de Análisis Matemático, Estadística e Investigación Operativa, y Matemática Aplicada</span>\n",
    "    <br>\n",
    "    <span style=\"font-size: small\">Profs. Manuel J. Castro y Francisco J. Palma (Área Conocimiento de Matemática Aplicada)</span>\n",
    "    <br>\n",
    "    <span style=\"font-size: medium; color:#FF0000\">Práctica número 11</span>\n",
    "    </b></span></div>"
   ]
  },
  {
   "cell_type": "code",
   "execution_count": 2,
   "id": "26e5d562",
   "metadata": {},
   "outputs": [],
   "source": [
    "from algoritmos import *"
   ]
  },
  {
   "cell_type": "code",
   "execution_count": null,
   "id": "a79ff22d",
   "metadata": {},
   "outputs": [],
   "source": []
  },
  {
   "cell_type": "markdown",
   "id": "08fb13d3",
   "metadata": {},
   "source": [
    "<div align=\"left\"><span style=\"font-family: Arial; color:#000000; font-size: medium\">\n",
    "    <span style=\"color:#FF0000\"><b>Ejercicio.</b></span> Se consideran las matrices $A = \\left( \\begin{array}{ccc} 1 & 2 & -2 \\\\ 1 & 1 & 1 \\\\ 2 & 2 & 1 \\end{array} \\right)$ y $B = \\left( \\begin{array}{ccc} 2 & -1 & 1 \\\\ 2 & 2 & 2 \\\\ -1 & -1 & 2 \\end{array} \\right)$.\n",
    "    <br>\n",
    "    Demostrar que para la primera matriz el método iterativo de Jacobi es convergente, pero el de Gauss-Seidel no lo es, mientras que para la segunda matriz ocurre justamente lo contrario. Escribir las matrices de ambos métodos iterativos para las dos matrices dadas.\n",
    "    </span></div>"
   ]
  },
  {
   "cell_type": "code",
   "execution_count": 3,
   "id": "34008a8b",
   "metadata": {},
   "outputs": [
    {
     "name": "stdout",
     "output_type": "stream",
     "text": [
      "A =  [[ 1  2 -2]\n",
      " [ 1  1  1]\n",
      " [ 2  2  1]]\n",
      "B =  [[ 2 -1  1]\n",
      " [ 2  2  2]\n",
      " [-1 -1  2]]\n",
      "\n",
      "--------------MATRIZ A----------------\n",
      "\n",
      "Matriz D_A =  [[1 0 0]\n",
      " [0 1 0]\n",
      " [0 0 1]]\n"
     ]
    }
   ],
   "source": [
    "A = array([[1, 2, -2], [1, 1, 1], [2, 2, 1]])\n",
    "B = array([[2, -1, 1], [2, 2, 2], [-1, -1, 2]])\n",
    "print(\"A = \", A)\n",
    "print(\"B = \", B)\n",
    "print(\"\\n--------------MATRIZ A----------------\\n\")\n",
    "# En primer lugar construyámos la matriz de Jacobi para la matriz A. J = D^-1(E + F)\n",
    "D_A = diag(diag(A))\n",
    "print(\"Matriz D_A = \", D_A)\n",
    "\n",
    "E_A = -tril(A, k = -1)\n",
    "print(\"Matriz E_A = \", E_A)\n",
    "\n",
    "F_A = -triu(A, k = 1)\n",
    "print(\"Matriz F_A = \", F_A)\n",
    "\n",
    "print(\"\\n--------------------------------------\\n\")\n",
    "\n",
    "n, m = shape(D_A)\n",
    "I = eye(n)\n",
    "exito, D_A_inv = gaussjordan_pp(D_A, I)\n",
    "\n",
    "print(\"Matriz D_A_inv = \", D_A_inv)\n",
    "\n",
    "J_A = D_A_inv @ (E_A + F_A)\n",
    "print(\"Matriz J_A = \", J_A)\n",
    "\n",
    "sp_J_A, P = eig(J_A)\n",
    "print(\"Espectro J_A: \", sp_J_A)\n",
    "\n",
    "p_J_A = max(abs(sp_J_A))\n",
    "\n",
    "print(\"Radio espectral de J_A: \", p_J_A)\n",
    "\n",
    "if(p_J_A < 1):\n",
    "    print(\"El método de Jacobi converge\")\n",
    "else:\n",
    "    print(\"El método de Jacobi no converge\")\n",
    "    \n",
    "#En segundo lugar construyámos la matriz de Seidel para la matriz A. L = (D-E)^-1@F\n",
    "\n",
    "P_A = D_A - E_A\n",
    "n, m = shape(P_A)\n",
    "I = eye(n)\n",
    "exito, P_A_inv = gaussjordan_pp(P_A,I)\n",
    "\n",
    "print(\"Matriz D_A_inv = \", P_A_inv)\n",
    "\n",
    "L_A = P_A_inv @ F_A\n",
    "print(\"Matriz L_A = \", L_A)\n",
    "\n",
    "sp_L_A, P = eig(L_A)\n",
    "print(\"Espectro de L_A: \", sp_L_A)\n",
    "\n",
    "p_L_A = max(abs(sp_L_A))\n",
    "\n",
    "print(\"Radio espectral de L_A: \", p_L_A)\n",
    "\n",
    "if(p_J_A < 1):\n",
    "    print(\"El método de Gauss-Seidel converge\")\n",
    "else:\n",
    "    print(\"El método de Gauss-Seidel no converge\")\n",
    "    \n",
    "\n",
    "print(\"\\n--------------MATRIZ B----------------\\n\")\n",
    "# En primer lugar construyámos la matriz de Jacobi para la matriz B. J = D^-1(E + F)\n",
    "D_B = diag(diag(B))\n",
    "print(\"Matriz D_B = \", D_B)\n",
    "\n",
    "E_B = -tril(B, k = -1)\n",
    "print(\"Matriz E_B = \", E_B)\n",
    "\n",
    "F_B = -triu(B, k = 1)\n",
    "print(\"Matriz F_B = \", F_B)\n",
    "\n",
    "print(\"\\n--------------------------------------\\n\")\n",
    "\n",
    "n, m = shape(D_B)\n",
    "I = eye(n)\n",
    "exito, D_B_inv = gaussjordan_pp(D_B, I)\n",
    "\n",
    "print(\"Matriz D_B_inv = \", D_B_inv)\n",
    "\n",
    "J_B = D_B_inv @ (E_B + F_B)\n",
    "print(\"Matriz J_B = \", J_B)\n",
    "\n",
    "sp_J_B, P = eig(J_B)\n",
    "print(\"Espectro J_B: \", sp_J_B)\n",
    "\n",
    "p_J_B = max(abs(sp_J_B))\n",
    "\n",
    "print(\"Radio espectral de J_B: \", p_J_B)\n",
    "\n",
    "if(p_J_B < 1):\n",
    "    print(\"El método de Jacobi converge\")\n",
    "else:\n",
    "    print(\"El método de Jacobi no converge\")\n",
    "    \n",
    "#En segundo lugar construyámos la matriz de Seidel para la matriz B. L = (D-E)^-1@F\n",
    "\n",
    "P_B = D_B - E_B\n",
    "n, m = shape(P_B)\n",
    "I = eye(n)\n",
    "exito, P_B_inv = gaussjordan_pp(P_B,I)\n",
    "\n",
    "print(\"Matriz D_B_inv = \", P_B_inv)\n",
    "\n",
    "L_B = P_B_inv @ F_B\n",
    "print(\"Matriz L_B = \", L_B)\n",
    "\n",
    "sp_L_B, P = eig(L_B)\n",
    "print(\"Espectro de L_B: \", sp_L_B)\n",
    "\n",
    "p_L_B = max(abs(sp_L_B))\n",
    "\n",
    "print(\"Radio espectral de L_B: \", p_L_B)\n",
    "\n",
    "if(p_J_B < 1):\n",
    "    print(\"El método de Gauss-Seidel converge\")\n",
    "else:\n",
    "    print(\"El método de Gauss-Seidel no converge\")"
   ]
  },
  {
   "cell_type": "code",
   "execution_count": null,
   "id": "0d6b5658",
   "metadata": {},
   "outputs": [],
   "source": []
  },
  {
   "cell_type": "markdown",
   "id": "39915750",
   "metadata": {},
   "source": [
    "<div align=\"left\"><span style=\"font-family: Arial; color:#000000; font-size: medium\">\n",
    "    <span style=\"color:#FF0000\"><b>Ejercicio.</b></span> Se considera la matriz $A = \\left( \\begin{array}{cccccc} 0 & & & & & \\mbox{sim} \\\\ 1 & 0 \\\\ 6 & 2 & 0 \\\\ 0 & 7 & 3 & 0 \\\\ 0 & 0 & 8 & 4 & 0 \\\\ 0 & 0 & 0 & 9 & 5 & 0 \\end{array} \\right)$\n",
    "    <br>\n",
    "    Calcular la matriz ortogonal $\\Omega$ tal que $B=\\Omega^t\\,A\\,\\Omega$ anula el elemento de módulo mayor (y su simétrico) de $A$, de acuerdo con el método de Jacobi para aproximar los autovalores de una matriz simétrica. Comprobar que las matrices $A$ y $B$ tienen la misma norma euclídea y que la contribución a dicha norma en $A$ de los elementos que se anulan, pasa ahora a la diagonal de $B$.\n",
    "    </span></div>"
   ]
  },
  {
   "cell_type": "code",
   "execution_count": 4,
   "id": "344eba30",
   "metadata": {},
   "outputs": [
    {
     "name": "stdout",
     "output_type": "stream",
     "text": [
      "Matriz A:  [[0. 1. 6. 0. 0. 0.]\n",
      " [1. 0. 2. 7. 0. 0.]\n",
      " [6. 2. 0. 3. 8. 0.]\n",
      " [0. 7. 3. 0. 4. 9.]\n",
      " [0. 0. 8. 4. 0. 5.]\n",
      " [0. 0. 0. 9. 5. 0.]]\n"
     ]
    }
   ],
   "source": [
    "n = 6\n",
    "x = linspace(1, n-1, n-1)\n",
    "y = linspace(n, 2*n-3, n-2)\n",
    "\n",
    "A = zeros((n,n)) + diag(x, k=-1) + diag(y, k = -2)\n",
    "A += transpose(A)\n",
    "print(\"Matriz A: \", A)\n",
    "\n",
    "#El elemento de mayor modulo esta en la posicion a5,3 por tanto p = 3 y q = 5\n",
    "Omega = eye(n)\n",
    "p = 3\n",
    "q = 5\n",
    "\n",
    "beta = abs(A[p,p] - A[q,q])\n",
    "if(beta > 1e-16):\n",
    "    alpha = 2*A[p,q] / ((A[p,p] - A[q,q]))\n",
    "    titha = alpha/2\n",
    "else:\n",
    "    titha = pi/4\n",
    "    \n",
    "Omega [p,p] = cos(titha)\n",
    "Omega [p,q] = sin(titha)\n",
    "Omega [q,q] = cos(titha)\n",
    "Omega [q,p] = -sin(titha)\n",
    "print(\"Omega = \", Omega)\n",
    "\n",
    "B = transpose(Omega)@A@Omega    #ver que la posicion pq y qp son 0\n",
    "print(\"Matriz B = \", B)\n",
    "\n",
    "#Comprobamos que la norma euclidea de B coincide con la de A ( ues la norma euc es invariante respecto a transf ortogonales)\n",
    "\n",
    "if(abs(norma_mat(A, 'fro') - norma_mat(A, 'fro') < 1e-12)):\n",
    "    print(\"Las normas euclideas coinciden\")\n",
    "else:\n",
    "    print(\"Las normas euclideas no coinciden\")\n",
    "\n",
    "#Comprobamos que el peso de B, es el peso de A +2 ap,q* ap,q\n",
    "# En la matriz B, las posiciones apq, aqp pasan a tener peso 0\n",
    "# El peso de apq y aqp ha ido a parar a la diagonal de B, en concreto, a la posicion bpp y bqq de la diagonal\n",
    "\n",
    "if(abs(sum(diag(B)**2) - sum(diag(A)**2) - 2*A[p,q]**2) < 1e-12):\n",
    "    print(\"Los pesos de la diagonal de B coinciden con los de A + 2*apq**2\")\n",
    "else:\n",
    "    print(\"Las normas euclideas no coinciden\")"
   ]
  },
  {
   "cell_type": "code",
   "execution_count": null,
   "id": "06160db9",
   "metadata": {},
   "outputs": [],
   "source": []
  },
  {
   "cell_type": "markdown",
   "id": "a9ea361d",
   "metadata": {},
   "source": [
    "<div align=\"left\"><span style=\"font-family: Arial; color:#000000; font-size: medium\">\n",
    "    <span style=\"color:#FF0000\"><b>Ejercicio.</b></span> Una empresa de marketing se plantea la inversión en publicidad para el próximo año. Para ello toma en cuenta los datos de gasto en publicidad y de beneficio en ventas de los últimos 7 años, que están dados por la tabla\n",
    "\\[\n",
    "\\begin{array}{c|c|c|c|c|c|c|c|c}\n",
    "x &\\mbox{Gastos (m€)} & 10 & 25 & 30 & 42 & 45 & 57 & 62 \\\\ \\hline\n",
    "y &\\mbox{Ventas (m€)} & 20 & 30 & 45 & 53 & 62 & 83 & 95\n",
    "\\end{array}\n",
    "\\]\n",
    "    La empresa va a invertir 65 m€ en publicidad, y quiere saber cuál va a ser el beneficio previsto en ventas (mediante un ajuste por mínimos cuadrados).\n",
    "    </span></div>"
   ]
  },
  {
   "cell_type": "code",
   "execution_count": 11,
   "id": "04763301",
   "metadata": {},
   "outputs": [],
   "source": [
    "# Generamos los datos.\n",
    "gastos = array([10, 25, 30, 42, 45, 57, 62])\n",
    "ventas = array([20, 30, 45, 53, 62, 83, 95])"
   ]
  },
  {
   "cell_type": "code",
   "execution_count": 12,
   "id": "d2dfad19",
   "metadata": {},
   "outputs": [],
   "source": [
    "import matplotlib.pyplot as plt"
   ]
  },
  {
   "cell_type": "code",
   "execution_count": 13,
   "id": "9dfdde6b",
   "metadata": {},
   "outputs": [
    {
     "data": {
      "image/png": "[encoded data removed]",
      "text/plain": [
       "<Figure size 640x480 with 1 Axes>"
      ]
     },
     "metadata": {},
     "output_type": "display_data"
    }
   ],
   "source": [
    "# Representamos los datos.\n",
    "categories = array([0, 1, 2, 3, 4, 5, 6])\n",
    "colormap = array(['blue', 'orange', 'green', 'red', 'purple', 'pink', 'brown'])\n",
    "plt.xlim([0, 100])\n",
    "plt.ylim([0, 100])\n",
    "plt.grid(True)\n",
    "plt.scatter(gastos, ventas, c=colormap[categories])\n",
    "plt.xlabel('x = Gastos (m€)')\n",
    "plt.ylabel('y = Ventas (m€)')\n",
    "for i in range(size(gastos)):\n",
    "    plt.text(x=gastos[i]+2, y=ventas[i]-1, s=\"$(x_\"+str(i+1)+\",y_\"+str(i+1)+\")$\", fontdict=dict(color=colormap[i], size=10))\n",
    "plt.show()"
   ]
  },
  {
   "cell_type": "code",
   "execution_count": 14,
   "id": "dcdad907",
   "metadata": {},
   "outputs": [
    {
     "name": "stdout",
     "output_type": "stream",
     "text": [
      "Matriz A =  [[10  1]\n",
      " [25  1]\n",
      " [30  1]\n",
      " [42  1]\n",
      " [45  1]\n",
      " [57  1]\n",
      " [62  1]]\n",
      "Matriz B =  [[20]\n",
      " [30]\n",
      " [45]\n",
      " [53]\n",
      " [62]\n",
      " [83]\n",
      " [95]]\n",
      "A es una matriz de tamaño  (7, 2)  cuyo rango es  2\n",
      "Estamos en el caso donde el rango de A es máximo, luego la solución de At @ A @ X = At @ B es única\n",
      "Además, la matriz At @ A es def pos (y por tanto inversible y simétrica, luego podemos aplicar el método de cholesky)\n",
      "Tenemos que resolver un sistema de 2 incógnitas y 7 ecuaciones mediante Cholesky\n",
      "Factorización de Cholesky de la matriz At@A:  [[111.83469945   0.        ]\n",
      " [  2.42321928   1.06207736]]\n",
      "Ahora aplicamos un proceso de descenso seguido de un proceso de remonte\n",
      "Por tanto, la solución del sistemo en el sentido de mínimos cuadrados es:  [[ 1.44676779]\n",
      " [-0.58201021]]\n",
      "Por tanto, la recta pedida es y =  1.446767791324072 x +  -0.5820102069747822\n"
     ]
    }
   ],
   "source": [
    "# Recta de mínimos cuadrados.\n",
    "A = array([[10,1], [25,1], [30,1], [42, 1], [45,1], [57,1], [62,1]])\n",
    "B = array([[20],[30], [45], [53], [62], [83], [95]])\n",
    "print(\"Matriz A = \", A)\n",
    "print(\"Matriz B = \", B)\n",
    "print(\"A es una matriz de tamaño \", shape(A), \" cuyo rango es \", matrix_rank(A))\n",
    "m, n = shape(A)\n",
    "if(matrix_rank(A) == n):\n",
    "    print(\"Estamos en el caso donde el rango de A es máximo, luego la solución de At @ A @ X = At @ B es única\")\n",
    "    print(\"Además, la matriz At @ A es def pos (y por tanto inversible y simétrica, luego podemos aplicar el método de cholesky)\")\n",
    "\n",
    "print(\"Tenemos que resolver un sistema de 2 incógnitas y 7 ecuaciones mediante Cholesky\")\n",
    "\n",
    "exito, C = facto_cholesky(transpose(A)@A)\n",
    "Chol = tril(C)\n",
    "print(\"Factorización de Cholesky de la matriz At@A: \", Chol)\n",
    "\n",
    "print(\"Ahora aplicamos un proceso de descenso seguido de un proceso de remonte\")\n",
    "\n",
    "exito, Y = descenso(Chol, transpose(A)@B)\n",
    "exito, X = remonte(transpose(Chol), Y)\n",
    "\n",
    "print(\"Por tanto, la solución del sistemo en el sentido de mínimos cuadrados es: \", X)\n",
    "\n",
    "print(\"Por tanto, la recta pedida es y = \", X[0,0], \"x + \", X[1,0])"
   ]
  },
  {
   "cell_type": "code",
   "execution_count": 18,
   "id": "e6fdaa4a",
   "metadata": {},
   "outputs": [
    {
     "data": {
      "image/png": "[encoded data removed]",
      "text/plain": [
       "<Figure size 640x480 with 1 Axes>"
      ]
     },
     "metadata": {},
     "output_type": "display_data"
    }
   ],
   "source": [
    "# Representamos los datos.\n",
    "categories = array([0, 1, 2, 3, 4, 5, 6])\n",
    "colormap = array(['blue', 'orange', 'green', 'red', 'purple', 'pink', 'brown'])\n",
    "plt.xlim([0, 100])\n",
    "plt.ylim([0, 100])\n",
    "plt.grid(True)\n",
    "plt.scatter(gastos, ventas, c=colormap[categories])\n",
    "plt.xlabel('x = Gastos (m€)')\n",
    "plt.ylabel('y = Ventas (m€)')\n",
    "for i in range(size(gastos)):\n",
    "    plt.text(x=gastos[i]+2, y=ventas[i]-1, s=\"$(x_\"+str(i+1)+\",y_\"+str(i+1)+\")$\", fontdict=dict(color=colormap[i], size=10))\n",
    "\n",
    "\n",
    "#Representamos la recta\n",
    "x = linspace(0, 100)\n",
    "y = 1.446767791324072*x - 0.5820102069747822\n",
    "plt.plot(x, y, c = 'purple', lw = 2.5)\n",
    "plt.show()"
   ]
  },
  {
   "cell_type": "code",
   "execution_count": null,
   "id": "89c2e492",
   "metadata": {},
   "outputs": [],
   "source": []
  },
  {
   "cell_type": "markdown",
   "id": "6d559a7d",
   "metadata": {},
   "source": [
    "**Ejercicio**\n",
    "La evolución de la temperatura a lo largo del día sigue la siguiente función periódica \n",
    "\n",
    "$$T(t)=c_1+c_2cos(\\pi\\,t/12)+c_3sin(\\pi\\,t/12) \\qquad t\\in \\big[0,24\\big]$$ \n",
    "Dadas las temperaturas tomadas en ciertas horas y proporcionadas en la siguiente tabla, \n",
    "\n",
    "| \t| \t| \t|  \t|  \t| |  \t| | \t| \t| \t|  \t|  \t| |  \t| |\n",
    "|-\t|-\t|-\t|-\t|-\t|-\t|-\t|-\t|-\t|-\t|-\t|-\t|-\t|-\t|-\t|-\t|\n",
    "| Hora del día \t| 0h \t| 1h \t| 2h \t| 3h \t| 4h \t| 5h \t| 6h\t| 7h \t| 8h \t| 9h \t| 10h \t| 11h \t| 12h\t|\n",
    "| Temperatura \t| 21|21|20|19|19|19|18|17|18|19|21|23|23|\n",
    "\n",
    "determinar las constantes $c_1$,$c_2$ y $c_3$ de manera que podamos predecir la temperatura a las 20h. "
   ]
  },
  {
   "cell_type": "code",
   "execution_count": 19,
   "id": "186343b2",
   "metadata": {},
   "outputs": [
    {
     "name": "stdout",
     "output_type": "stream",
     "text": [
      "Matriz A =  [[ 1.00000000e+00  1.00000000e+00  0.00000000e+00]\n",
      " [ 1.00000000e+00  9.65925826e-01  2.58819045e-01]\n",
      " [ 1.00000000e+00  8.66025404e-01  5.00000000e-01]\n",
      " [ 1.00000000e+00  7.07106781e-01  7.07106781e-01]\n",
      " [ 1.00000000e+00  5.00000000e-01  8.66025404e-01]\n",
      " [ 1.00000000e+00  2.58819045e-01  9.65925826e-01]\n",
      " [ 1.00000000e+00  6.12323400e-17  1.00000000e+00]\n",
      " [ 1.00000000e+00 -2.58819045e-01  9.65925826e-01]\n",
      " [ 1.00000000e+00 -5.00000000e-01  8.66025404e-01]\n",
      " [ 1.00000000e+00 -7.07106781e-01  7.07106781e-01]\n",
      " [ 1.00000000e+00 -8.66025404e-01  5.00000000e-01]\n",
      " [ 1.00000000e+00 -9.65925826e-01  2.58819045e-01]\n",
      " [ 1.00000000e+00 -1.00000000e+00  1.22464680e-16]]\n",
      "Matriz B =  [[21]\n",
      " [21]\n",
      " [20]\n",
      " [19]\n",
      " [19]\n",
      " [19]\n",
      " [18]\n",
      " [17]\n",
      " [18]\n",
      " [19]\n",
      " [21]\n",
      " [23]\n",
      " [23]]\n",
      "A es una matriz de tamaño  (13, 3)  cuyo rango es  3\n",
      "Estamos en el caso donde el rango de A es máximo, luego la solución de At @ A @ X = At @ B es única\n",
      "Además, la matriz At @ A es def pos (y por tanto inversible y simétrica, luego podemos aplicar el método de cholesky)\n",
      "Tenemos que resolver un sistema de 3 incógnitas y 13 ecuaciones mediante Cholesky\n",
      "Factorización de Cholesky de la matriz At@A:  [[ 3.60555128e+00  0.00000000e+00  0.00000000e+00]\n",
      " [ 1.23168186e-16  2.64575131e+00  0.00000000e+00]\n",
      " [ 2.10668315e+00 -1.91592169e-17  1.24975442e+00]]\n",
      "Ahora aplicamos un proceso de descenso seguido de un proceso de remonte\n",
      "Por tanto, la solución del sistemo en el sentido de mínimos cuadrados es:  [[22.52919232]\n",
      " [-0.54003414]\n",
      " [-4.59197331]]\n",
      "Por tanto, la recta pedida es T(t) =  22.529192320374705 -0.540034138022505 *cos(pi/12 * t) -0.540034138022505 *sin(pi/12 * t)\n"
     ]
    }
   ],
   "source": [
    "# Recta de mínimos cuadrados.\n",
    "A = zeros((13,3))\n",
    "\n",
    "for i in range (3):\n",
    "    if(i==0):\n",
    "        A[:,i] = 1\n",
    "    elif(i == 1):\n",
    "        for j in range (13):\n",
    "            A[j,i] = cos(pi*j/12)\n",
    "    else:\n",
    "        for j in range (13):\n",
    "            A[j,i] = sin(pi*j/12)\n",
    "            \n",
    "B = array([[21], [21], [20], [19], [19], [19], [18], [17], [18], [19], [21], [23], [23]])\n",
    "print(\"Matriz A = \", A)\n",
    "print(\"Matriz B = \", B)\n",
    "print(\"A es una matriz de tamaño \", shape(A), \" cuyo rango es \", matrix_rank(A))\n",
    "m, n = shape(A)\n",
    "if(matrix_rank(A) == n):\n",
    "    print(\"Estamos en el caso donde el rango de A es máximo, luego la solución de At @ A @ X = At @ B es única\")\n",
    "    print(\"Además, la matriz At @ A es def pos (y por tanto inversible y simétrica, luego podemos aplicar el método de cholesky)\")\n",
    "\n",
    "print(\"Tenemos que resolver un sistema de 3 incógnitas y 13 ecuaciones mediante Cholesky\")\n",
    "\n",
    "exito, C = facto_cholesky(transpose(A)@A)\n",
    "Chol = tril(C)\n",
    "print(\"Factorización de Cholesky de la matriz At@A: \", Chol)\n",
    "\n",
    "print(\"Ahora aplicamos un proceso de descenso seguido de un proceso de remonte\")\n",
    "\n",
    "exito, Y = descenso(Chol, transpose(A)@B)\n",
    "exito, X = remonte(transpose(Chol), Y)\n",
    "\n",
    "print(\"Por tanto, la solución del sistemo en el sentido de mínimos cuadrados es: \", X)\n",
    "\n",
    "print(\"Por tanto, la recta pedida es T(t) = \", X[0,0], X[1,0], \"*cos(pi/12 * t)\", X[1,0],\"*sin(pi/12 * t)\")"
   ]
  },
  {
   "cell_type": "code",
   "execution_count": 20,
   "id": "cffb3be5",
   "metadata": {},
   "outputs": [
    {
     "name": "stdout",
     "output_type": "stream",
     "text": [
      "Por tanto, la temperatura a las 20h será de:  22.726858533801774  grados\n"
     ]
    },
    {
     "data": {
      "image/png": "[encoded data removed]",
      "text/plain": [
       "<Figure size 640x480 with 1 Axes>"
      ]
     },
     "metadata": {},
     "output_type": "display_data"
    }
   ],
   "source": [
    "t = 20\n",
    "T = 22.529192320374705 - 0.540034138022505*cos(pi/12 * t) - 0.540034138022505 *sin(pi/12 * t)\n",
    "print(\"Por tanto, la temperatura a las 20h será de: \", T, \" grados\")\n",
    "\n",
    "#Representamos los datos \n",
    "plt.xlim([0,24])\n",
    "plt.ylim([15,30])\n",
    "plt.grid(True)\n",
    "plt.xlabel('Hora')\n",
    "plt.ylabel('Temperatura[ºC]')\n",
    "\n",
    "#Representamos la recta\n",
    "t = linspace(0, 24, 24)\n",
    "y = 22.529192320374705 - 0.540034138022505*cos(pi/12 * t) - 0.540034138022505 *sin(pi/12 * t)\n",
    "plt.plot(t, y, c = 'purple', lw = 2.5)\n",
    "plt.show()"
   ]
  },
  {
   "cell_type": "code",
   "execution_count": null,
   "id": "7f2bf3d0",
   "metadata": {},
   "outputs": [],
   "source": []
  }
 ],
 "metadata": {
  "kernelspec": {
   "display_name": "Python 3 (ipykernel)",
   "language": "python",
   "name": "python3"
  },
  "language_info": {
   "codemirror_mode": {
    "name": "ipython",
    "version": 3
   },
   "file_extension": ".py",
   "mimetype": "text/x-python",
   "name": "python",
   "nbconvert_exporter": "python",
   "pygments_lexer": "ipython3",
   "version": "3.9.13"
  }
 },
 "nbformat": 4,
 "nbformat_minor": 5
}
