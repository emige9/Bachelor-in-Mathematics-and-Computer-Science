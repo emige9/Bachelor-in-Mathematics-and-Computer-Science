{
 "cells": [
  {
   "cell_type": "markdown",
   "id": "c67c48e8",
   "metadata": {},
   "source": [
    "<div align=\"center\"><span style=\"font-family: Arial; color:#0000FF\"><b>\n",
    "    <span style=\"font-size: x-large\">Métodos Numéricos II</span>\n",
    "    <br>\n",
    "    <span style=\"font-size: large\">Segundo de Grado en Matemáticas - Curso 2022/23</span>\n",
    "    <br>\n",
    "    <span style=\"font-size: medium\">Facultad de Ciencias de la Universidad de Málaga</span>\n",
    "    <br>\n",
    "    <span style=\"font-size: small\">Dpto. de Análisis Matemático, Estadística e Investigación Operativa, y Matemática Aplicada</span>\n",
    "    <br>\n",
    "    <span style=\"font-size: small\">Profs. Manuel J. Castro y Francisco J. Palma (Área Conocimiento de Matemática Aplicada)</span>\n",
    "    <br>\n",
    "    <span style=\"font-size: medium; color:#FF0000\">Práctica número 3</span>\n",
    "    </b></span></div>"
   ]
  },
  {
   "cell_type": "markdown",
   "id": "169f0c50",
   "metadata": {},
   "source": [
    "<div align=\"left\"><span style=\"font-family: Arial; color:#000000; font-size: medium\">\n",
    "    En primer lugar cargamos los módulos necesarios.\n",
    "    </span></div>"
   ]
  },
  {
   "cell_type": "code",
   "execution_count": 1,
   "id": "4a3bf54c",
   "metadata": {},
   "outputs": [],
   "source": [
    "from algoritmos import *"
   ]
  },
  {
   "cell_type": "markdown",
   "id": "44e2ce8a",
   "metadata": {},
   "source": [
    "<div align=\"left\"><span style=\"font-family: Arial; color:#000000; font-size: medium\">\n",
    "    El objetivo de esta práctica es trabajar con <b>normas vectoriales</b> y <b>normas matriciales</b>.\n",
    "    </span></div>"
   ]
  },
  {
   "cell_type": "markdown",
   "id": "8cb8d741",
   "metadata": {},
   "source": [
    "<div align=\"left\"><span style=\"font-family: Arial; color:#000000; font-size: medium\">\n",
    "    Comenzamos con las <b>normas vectoriales</b>. Recordamos que en $\\mathbb{K}^n$, para cada $p\\ge1$, las funciones\n",
    "\\[\n",
    "\\|\\cdot\\|_p \\colon \\mathbb{K}^n \\to \\mathbb{R}^+ \\,/\\, X \\mapsto \\|X\\|_p = \\left( \\sum_{i=1}^n |x_i|^p \\right)^{1/p}\\,,\n",
    "\\]\n",
    "    así como la función\n",
    "\\[\n",
    "\\|\\cdot\\|_\\infty \\colon \\mathbb{K}^n \\to \\mathbb{R}^+ \\,/\\, X \\mapsto \\|X\\|_\\infty = \\max_{i=1,2,\\ldots,n} |x_i|\\,,\n",
    "\\]\n",
    "    definen normas vectoriales, llamadas <b>normas-</b>$p$. Además se demuestra que para todo $X\\in\\mathbb{K}^n$ la sucesión $\\{\\|X\\|_p\\}_{p\\in\\mathbb{N}}$ es convergente y su límite es justamente $\\|X\\|_\\infty$.\n",
    "    </span></div>"
   ]
  },
  {
   "cell_type": "markdown",
   "id": "3d67623e",
   "metadata": {},
   "source": [
    "<div align=\"left\"><span style=\"font-family: Arial; color:#000000; font-size: medium\">\n",
    "    La biblioteca <span style=\"font-family: Courier\">Numpy</span> incluye la función <span style=\"font-family: Courier\">norm()</span> cuyo objetivo es calcular normas vectoriales (también normas matriciales como veremos más adelante); cuando el primer argumento de entrada de dicha función es un vector (array de una dimensión), calcula la norma indicada por el segundo argumento de entrada; dicho segundo argumento puede ser (entre otros) cualquier número real $p\\ge1$ o bien la cadena de caracteres <span style=\"font-family: Courier\">inf</span>.\n",
    "    </span></div>"
   ]
  },
  {
   "cell_type": "markdown",
   "id": "e48d609b",
   "metadata": {},
   "source": [
    "<div align=\"left\"><span style=\"font-family: Arial; color:#000000; font-size: medium\">\n",
    "    <span style=\"color:#FF0000\"><b>Ejercicio 1.</b></span> Definir una función, de nombre <span style=\"font-family: Courier\">norma_vec()</span>, con dos argumentos de entrada: el primero un vector o una matriz columna, y el segundo el índice $p$ de la norma vectorial que se quiere calcular (número real mayor o igual a 1, o bien la cadena de caracteres <span style=\"font-family: Courier\">inf</span>); esta función debe devolver la norma vectorial correspondiente.\n",
    "    </span></div>"
   ]
  },
  {
   "cell_type": "code",
   "execution_count": 8,
   "id": "dee5a35a",
   "metadata": {},
   "outputs": [],
   "source": [
    "def norma_vec(X, p):\n",
    "    X = X.astype(complex)\n",
    "    \n",
    "    if p < 1:\n",
    "        print(\"Norma no definida para el índice p = \", p)\n",
    "    else:\n",
    "        if p == inf:\n",
    "            return max(abs(X))\n",
    "        else:\n",
    "            return (sum(abs(X)**p))**(1/p)"
   ]
  },
  {
   "cell_type": "markdown",
   "id": "252446e7",
   "metadata": {},
   "source": [
    "<div align=\"left\"><span style=\"font-family: Arial; color:#000000; font-size: medium\">\n",
    "    <span style=\"color:#FF0000\"><b>Ejercicio 2.</b></span> Comparar los resultados que se obtienen utilizando la función <span style=\"font-family: Courier\">norm()</span> y la función que se acaba de construir en el ejercicio anterior.\n",
    "    <br>\n",
    "    Utilizar el vector $x=(7\\,,\\,-8\\,,\\,9)$, así como la matriz columna $X = \\left( \\begin{array}{r} 7 \\\\ -8 \\\\ 9 \\end{array} \\right)$ (esta última solamente para la función que hemos definido), y las normas-$p$ donde $p=\\infty\\,,\\,1\\,,\\,2\\,,\\,\\pi\\,,\\,10\\,,\\,123.4\\,,\\,-3$.\n",
    "    <br>\n",
    "    Debido a que aparecen situaciones anómalas, mejorar la función <span style=\"font-family: Courier\">norma_vec()</span> de manera que se solucionen dichas anomalías.\n",
    "    </span></div>"
   ]
  },
  {
   "cell_type": "code",
   "execution_count": 10,
   "id": "f7beb241",
   "metadata": {},
   "outputs": [
    {
     "name": "stdout",
     "output_type": "stream",
     "text": [
      "Ejercicio 1.\n",
      "x =  [ 7 -8  9]\n",
      "X =  [[ 7]\n",
      " [-8]\n",
      " [ 9]]\n"
     ]
    }
   ],
   "source": [
    "# Ejercicio 1.\n",
    "print(\"Ejercicio 1.\")\n",
    "x = array([7, -8, 9])\n",
    "X = array([[7], [-8], [9]])\n",
    "print(\"x = \", x)\n",
    "print(\"X = \", X)"
   ]
  },
  {
   "cell_type": "code",
   "execution_count": 11,
   "id": "4fa2cc42",
   "metadata": {},
   "outputs": [
    {
     "name": "stdout",
     "output_type": "stream",
     "text": [
      "Norma inf (propio):  9.0 9.0\n",
      "Norma inf (Python):  9.0\n"
     ]
    }
   ],
   "source": [
    "print(\"Norma inf (propio): \", norma_vec(x, inf), norma_vec(X, inf))\n",
    "print(\"Norma inf (Python): \", norm(X, inf))"
   ]
  },
  {
   "cell_type": "code",
   "execution_count": 12,
   "id": "84b83c29",
   "metadata": {},
   "outputs": [
    {
     "name": "stdout",
     "output_type": "stream",
     "text": [
      "Norma 1 (propio):  24.0 24.0\n",
      "Norma 1 (Python):  24.0\n"
     ]
    }
   ],
   "source": [
    "print(\"Norma 1 (propio): \", norma_vec(x, 1), norma_vec(X, 1))\n",
    "print(\"Norma 1 (Python): \", norm(x, 1))"
   ]
  },
  {
   "cell_type": "code",
   "execution_count": 13,
   "id": "046464f4",
   "metadata": {},
   "outputs": [
    {
     "name": "stdout",
     "output_type": "stream",
     "text": [
      "Norma 2 (propio):  13.92838827718412 13.92838827718412\n",
      "Norma 2 (Python):  13.92838827718412\n"
     ]
    }
   ],
   "source": [
    "print(\"Norma 2 (propio): \", norma_vec(x, 2), norma_vec(X, 2))\n",
    "print(\"Norma 2 (Python): \", norm(x, 2))"
   ]
  },
  {
   "cell_type": "code",
   "execution_count": 14,
   "id": "1339b81a",
   "metadata": {},
   "outputs": [
    {
     "name": "stdout",
     "output_type": "stream",
     "text": [
      "Norma pi (propio):  11.474258228375822 11.474258228375822\n",
      "Norma pi (Python):  11.474258228375822\n"
     ]
    }
   ],
   "source": [
    "print(\"Norma pi (propio): \", norma_vec(x, pi), norma_vec(X, pi))\n",
    "print(\"Norma pi (Python): \", norm(x, pi))"
   ]
  },
  {
   "cell_type": "code",
   "execution_count": 15,
   "id": "2528fdf2",
   "metadata": {},
   "outputs": [
    {
     "name": "stdout",
     "output_type": "stream",
     "text": [
      "Norma 10 (propio):  9.300610567954678 9.300610567954678\n",
      "Norma 10 (Python):  9.300610567954678\n"
     ]
    }
   ],
   "source": [
    "print(\"Norma 10 (propio): \", norma_vec(x, 10), norma_vec(X, 10))\n",
    "print(\"Norma 10 (Python): \", norm(x, 10))"
   ]
  },
  {
   "cell_type": "markdown",
   "id": "c4ddcee9",
   "metadata": {},
   "source": [
    "<div align=\"left\"><span style=\"font-family: Arial; color:#000000; font-size: medium\">\n",
    "    <b>Comentario:</b> un primer comportamiento anómalo se produce al calcular la norma-10; ello es debido a que al utilizar aritmética entera se produce un overflow en los cálculos intermedios. Ello se puede remediar, por ejemplo, obligando a que los cálculos sean realizados siempre con la aritmética más rica posible. Proponemos mejorar nuestra función para solucionar este problema.\n",
    "    </span></div>"
   ]
  },
  {
   "cell_type": "code",
   "execution_count": null,
   "id": "4c5ccd97",
   "metadata": {},
   "outputs": [],
   "source": []
  },
  {
   "cell_type": "code",
   "execution_count": 15,
   "id": "5bad8814",
   "metadata": {},
   "outputs": [
    {
     "name": "stdout",
     "output_type": "stream",
     "text": [
      "Norma 123.4 (propio):  9.000000035539067 9.000000035539067\n",
      "Norma 123.4 (Python):  9.000000035539067\n"
     ]
    }
   ],
   "source": [
    "print(\"Norma 123.4 (propio): \", norma_vec(x, 123.4), norma_vec(X, 123.4))\n",
    "print(\"Norma 123.4 (Python): \", norm(x, 123.4))"
   ]
  },
  {
   "cell_type": "code",
   "execution_count": 16,
   "id": "5623fddd",
   "metadata": {},
   "outputs": [
    {
     "name": "stdout",
     "output_type": "stream",
     "text": [
      "Norma no definida para el índice p =  -3\n",
      "Norma no definida para el índice p =  -3\n",
      "Norma -3 (propio):  None None\n",
      "Norma -3 (Python):  5.431641145211984\n"
     ]
    }
   ],
   "source": [
    "print(\"Norma -3 (propio): \", norma_vec(x, -3), norma_vec(X, -3))\n",
    "print(\"Norma -3 (Python): \", norm(x, -3))"
   ]
  },
  {
   "cell_type": "markdown",
   "id": "05a43279",
   "metadata": {},
   "source": [
    "<div align=\"left\"><span style=\"font-family: Arial; color:#000000; font-size: medium\">\n",
    "    <b>Comentario:</b> otra anomalía que debería eliminarse es el hecho de que se calcula la norma-$(-3)$, cuando es algo que carece de sentido pues para que las normas-$p$ sean efectivamente normas vectoriales se debe verificar que $p\\ge1$ (aunque formalmente se puedan realizar los cálculos correspondientes). Proponemos mejorar de nuevo nuestra función para solucionar este problema.\n",
    "    </span></div>"
   ]
  },
  {
   "cell_type": "code",
   "execution_count": null,
   "id": "b4fef787",
   "metadata": {},
   "outputs": [],
   "source": []
  },
  {
   "cell_type": "markdown",
   "id": "585d208e",
   "metadata": {},
   "source": [
    "<div align=\"left\"><span style=\"font-family: Arial; color:#000000; font-size: medium\">\n",
    "    <b>Comentario:</b> se puede realizar también una mejora de nuestra función en el sentido de que detecte si el primer argumento de entrada es efectivamente un vector o una matriz columna, mostrando un mensaje de error en caso contrario.\n",
    "    </span></div>"
   ]
  },
  {
   "cell_type": "code",
   "execution_count": null,
   "id": "35fbdaff",
   "metadata": {},
   "outputs": [],
   "source": []
  },
  {
   "cell_type": "markdown",
   "id": "b6410191",
   "metadata": {},
   "source": [
    "<div align=\"left\"><span style=\"font-family: Arial; color:#000000; font-size: medium\">\n",
    "    <span style=\"color:#FF0000\"><b>Ejercicio 3.</b></span> construir una función, a la que daremos el nombre de <span style=\"font-family: Courier\">conv_norma_vec()</span>, con un único argumento de entrada que es un vector o una matriz columna. El objetivo de la función es el siguiente: en primer lugar calcula la norma infinita del vector dado, y a continuación calcula las normas-$p$, con $p=1,2,3,\\ldots$, hasta que el error relativo de estas normas con la norma infinito sea, en valor absoluto, menor que un cierto $\\varepsilon$ fijado (por ejemplo $10^{-10}$). Dado que tenemos asegurada de forma teórica la convergencia de las normas-$p$ hacia la norma-infinito, este proceso debe terminar en un momento dado.\n",
    "    <br>\n",
    "    Considerar, por ejemplo, el vector <span style=\"font-family: Courier\">x = array([1ek, 2ek, 3ek])</span> con $k = 0\\,,\\,\\pm10$, y analizar los resultados obtenidos. Mejorar, si es posible, la función que calcula las normas vectoriales creada en el ejercicio anterior para solventar los problemas que aparecen. ¿Qué ocurre cuando se considera el vector nulo?\n",
    "    </span></div>"
   ]
  },
  {
   "cell_type": "code",
   "execution_count": 17,
   "id": "d1f432e7",
   "metadata": {},
   "outputs": [],
   "source": [
    "def conv_norma_vec(X):\n",
    "    print(\"Vector: X = \", X)\n",
    "    normainf = norma_vec(X, inf)\n",
    "    print(\"||X||_inf = \", normainf)\n",
    "    error = 1.\n",
    "    p = 0\n",
    "    \n",
    "    \n",
    "    if (normainf<1e-200):\n",
    "        print(\"Norma del vector muy pequeña\")\n",
    "        return 0\n",
    "    else:\n",
    "        X = X/normainf\n",
    "    \n",
    "        while error >= 1e-10 and p < 200:\n",
    "            p = p+1\n",
    "            normap = normainf*norma_vec(X, p)\n",
    "            #normap = norm(X, p)\n",
    "            error = abs((normap - normainf)/normainf)\n",
    "            print(\"p = \", p, \" ||X||_p = \", normap, \" Error relativo = \", error)\n",
    "        if error < 1e-10:\n",
    "            print(\"Convergencia numérica alcanzada.\")\n",
    "        else:\n",
    "            print(\"Número máximo de iteraciones alcanzado.\")"
   ]
  },
  {
   "cell_type": "code",
   "execution_count": 18,
   "id": "2a2eca8c",
   "metadata": {},
   "outputs": [
    {
     "name": "stdout",
     "output_type": "stream",
     "text": [
      "Ejercicio 3.\n",
      "Vector: X =  [1. 2. 3.]\n",
      "||X||_inf =  3.0\n",
      "p =  1  ||X||_p =  6.0  Error relativo =  1.0\n",
      "p =  2  ||X||_p =  3.741657386773941  Error relativo =  0.24721912892464695\n",
      "p =  3  ||X||_p =  3.3019272488946267  Error relativo =  0.10064241629820891\n",
      "p =  4  ||X||_p =  3.1463462836457885  Error relativo =  0.04878209454859617\n",
      "p =  5  ||X||_p =  3.0773848853940624  Error relativo =  0.025794961798020804\n",
      "p =  6  ||X||_p =  3.0430102629193057  Error relativo =  0.014336754306435218\n",
      "p =  7  ||X||_p =  3.0246626009458444  Error relativo =  0.008220866981948127\n",
      "p =  8  ||X||_p =  3.014443335890572  Error relativo =  0.0048144452968572615\n",
      "p =  9  ||X||_p =  3.0085886861624296  Error relativo =  0.0028628953874765273\n",
      "p =  10  ||X||_p =  3.0051673034450284  Error relativo =  0.00172243448167612\n",
      "p =  11  ||X||_p =  3.003138080795621  Error relativo =  0.0010460269318737225\n",
      "p =  12  ||X||_p =  3.0019205304905707  Error relativo =  0.0006401768301902422\n",
      "p =  13  ||X||_p =  3.0011830869383065  Error relativo =  0.0003943623127688293\n",
      "p =  14  ||X||_p =  3.0007329128267397  Error relativo =  0.00024430427557990225\n",
      "p =  15  ||X||_p =  3.0004562595337365  Error relativo =  0.00015208651124550462\n",
      "p =  16  ||X||_p =  3.0002852581175166  Error relativo =  9.50860391721875e-05\n",
      "p =  17  ||X||_p =  3.0001790263250028  Error relativo =  5.9675441667591166e-05\n",
      "p =  18  ||X||_p =  3.000112737659368  Error relativo =  3.757921978930767e-05\n",
      "p =  19  ||X||_p =  3.000071210130062  Error relativo =  2.373671002064981e-05\n",
      "p =  20  ||X||_p =  3.000045102899552  Error relativo =  1.503429985068768e-05\n",
      "p =  21  ||X||_p =  3.000028638104433  Error relativo =  9.546034811069859e-06\n",
      "p =  22  ||X||_p =  3.0000182248211766  Error relativo =  6.074940392212606e-06\n",
      "p =  23  ||X||_p =  3.000011621869788  Error relativo =  3.873956595956685e-06\n",
      "p =  24  ||X||_p =  3.0000074251881017  Error relativo =  2.475062700568742e-06\n",
      "p =  25  ||X||_p =  3.0000047521651734  Error relativo =  1.5840550577905788e-06\n",
      "p =  26  ||X||_p =  3.000003046278921  Error relativo =  1.0154263070383251e-06\n",
      "p =  27  ||X||_p =  3.0000019556440853  Error relativo =  6.518813617795161e-07\n",
      "p =  28  ||X||_p =  3.000001257203306  Error relativo =  4.1906776863479916e-07\n",
      "p =  29  ||X||_p =  3.000000809235832  Error relativo =  2.697452773740376e-07\n",
      "p =  30  ||X||_p =  3.0000005215081913  Error relativo =  1.7383606376597527e-07\n",
      "p =  31  ||X||_p =  3.0000003364571795  Error relativo =  1.1215239315021108e-07\n",
      "p =  32  ||X||_p =  3.000000217295383  Error relativo =  7.243179434013314e-08\n",
      "p =  33  ||X||_p =  3.0000001404738352  Error relativo =  4.6824611743545574e-08\n",
      "p =  34  ||X||_p =  3.000000090894858  Error relativo =  3.0298285954207436e-08\n",
      "p =  35  ||X||_p =  3.0000000588652505  Error relativo =  1.9621750150614996e-08\n",
      "p =  36  ||X||_p =  3.0000000381534075  Error relativo =  1.2717802514809288e-08\n",
      "p =  37  ||X||_p =  3.000000024748158  Error relativo =  8.249386063141628e-09\n",
      "p =  38  ||X||_p =  3.000000016064594  Error relativo =  5.3548646998062095e-09\n",
      "p =  39  ||X||_p =  3.000000010435121  Error relativo =  3.4783737371905468e-09\n",
      "p =  40  ||X||_p =  3.000000006782829  Error relativo =  2.26094298838575e-09\n",
      "p =  41  ||X||_p =  3.0000000044115964  Error relativo =  1.4705321405017457e-09\n",
      "p =  42  ||X||_p =  3.0000000028710385  Error relativo =  9.570128393458315e-10\n",
      "p =  43  ||X||_p =  3.000000001869514  Error relativo =  6.231712923465693e-10\n",
      "p =  44  ||X||_p =  3.0000000012180164  Error relativo =  4.060054514809508e-10\n",
      "p =  45  ||X||_p =  3.0000000007939662  Error relativo =  2.6465540869935467e-10\n",
      "p =  46  ||X||_p =  3.0000000005178036  Error relativo =  1.726011925976915e-10\n",
      "p =  47  ||X||_p =  3.0000000003378577  Error relativo =  1.1261924726113648e-10\n",
      "p =  48  ||X||_p =  3.0000000002205462  Error relativo =  7.351541597699907e-11\n",
      "Convergencia numérica alcanzada.\n"
     ]
    }
   ],
   "source": [
    "# Ejercicio 3.\n",
    "print(\"Ejercicio 3.\")\n",
    "x = array([1e0, 2e0, 3e0])\n",
    "conv_norma_vec(x)"
   ]
  },
  {
   "cell_type": "code",
   "execution_count": 19,
   "id": "411fbea3",
   "metadata": {},
   "outputs": [
    {
     "name": "stdout",
     "output_type": "stream",
     "text": [
      "Ejercicio 3.\n",
      "Vector: X =  [1.e+10 2.e+10 3.e+10]\n",
      "||X||_inf =  30000000000.0\n",
      "p =  1  ||X||_p =  60000000000.0  Error relativo =  1.0\n",
      "p =  2  ||X||_p =  37416573867.73941  Error relativo =  0.247219128924647\n",
      "p =  3  ||X||_p =  33019272488.946266  Error relativo =  0.10064241629820887\n",
      "p =  4  ||X||_p =  31463462836.457886  Error relativo =  0.048782094548596194\n",
      "p =  5  ||X||_p =  30773848853.940628  Error relativo =  0.025794961798020936\n",
      "p =  6  ||X||_p =  30430102629.193058  Error relativo =  0.014336754306435268\n",
      "p =  7  ||X||_p =  30246626009.458443  Error relativo =  0.008220866981948089\n",
      "p =  8  ||X||_p =  30144433358.905716  Error relativo =  0.004814445296857198\n",
      "p =  9  ||X||_p =  30085886861.624294  Error relativo =  0.002862895387476476\n",
      "p =  10  ||X||_p =  30051673034.450287  Error relativo =  0.0017224344816762288\n",
      "p =  11  ||X||_p =  30031380807.95621  Error relativo =  0.001046026931873703\n",
      "p =  12  ||X||_p =  30019205304.90571  Error relativo =  0.0006401768301902771\n",
      "p =  13  ||X||_p =  30011830869.383068  Error relativo =  0.0003943623127689362\n",
      "p =  14  ||X||_p =  30007329128.2674  Error relativo =  0.0002443042755799611\n",
      "p =  15  ||X||_p =  30004562595.337364  Error relativo =  0.00015208651124547324\n",
      "p =  16  ||X||_p =  30002852581.175167  Error relativo =  9.508603917223612e-05\n",
      "p =  17  ||X||_p =  30001790263.250027  Error relativo =  5.967544166755676e-05\n",
      "p =  18  ||X||_p =  30001127376.593678  Error relativo =  3.757921978925069e-05\n",
      "p =  19  ||X||_p =  30000712101.30062  Error relativo =  2.3736710020701092e-05\n",
      "p =  20  ||X||_p =  30000451028.995518  Error relativo =  1.5034299850591024e-05\n",
      "p =  21  ||X||_p =  30000286381.04433  Error relativo =  9.546034811019898e-06\n",
      "p =  22  ||X||_p =  30000182248.21177  Error relativo =  6.0749403923034665e-06\n",
      "p =  23  ||X||_p =  30000116218.69788  Error relativo =  3.873956595993042e-06\n",
      "p =  24  ||X||_p =  30000074251.881016  Error relativo =  2.4750627005259194e-06\n",
      "p =  25  ||X||_p =  30000047521.651733  Error relativo =  1.5840550577799479e-06\n",
      "p =  26  ||X||_p =  30000030462.78921  Error relativo =  1.0154263070424398e-06\n",
      "p =  27  ||X||_p =  30000019556.440853  Error relativo =  6.518813617706298e-07\n",
      "p =  28  ||X||_p =  30000012572.033062  Error relativo =  4.190677687327067e-07\n",
      "p =  29  ||X||_p =  30000008092.358322  Error relativo =  2.6974527740478514e-07\n",
      "p =  30  ||X||_p =  30000005215.081913  Error relativo =  1.738360637664795e-07\n",
      "p =  31  ||X||_p =  30000003364.571793  Error relativo =  1.1215239308675131e-07\n",
      "p =  32  ||X||_p =  30000002172.95383  Error relativo =  7.243179435729981e-08\n",
      "p =  33  ||X||_p =  30000001404.738354  Error relativo =  4.682461179097493e-08\n",
      "p =  34  ||X||_p =  30000000908.948578  Error relativo =  3.029828592936198e-08\n",
      "p =  35  ||X||_p =  30000000588.652508  Error relativo =  1.9621750259399415e-08\n",
      "p =  36  ||X||_p =  30000000381.534077  Error relativo =  1.2717802556355794e-08\n",
      "p =  37  ||X||_p =  30000000247.481583  Error relativo =  8.249386088053385e-09\n",
      "p =  38  ||X||_p =  30000000160.645943  Error relativo =  5.354864756266276e-09\n",
      "p =  39  ||X||_p =  30000000104.351215  Error relativo =  3.4783738454182944e-09\n",
      "p =  40  ||X||_p =  30000000067.82829  Error relativo =  2.260942967732747e-09\n",
      "p =  41  ||X||_p =  30000000044.115963  Error relativo =  1.4705320994059244e-09\n",
      "p =  42  ||X||_p =  30000000028.71039  Error relativo =  9.57012939453125e-10\n",
      "p =  43  ||X||_p =  30000000018.695137  Error relativo =  6.231712341308594e-10\n",
      "p =  44  ||X||_p =  30000000012.180164  Error relativo =  4.0600547790527346e-10\n",
      "p =  45  ||X||_p =  30000000007.939663  Error relativo =  2.6465543111165367e-10\n",
      "p =  46  ||X||_p =  30000000005.17804  Error relativo =  1.72601318359375e-10\n",
      "p =  47  ||X||_p =  30000000003.37858  Error relativo =  1.1261927286783854e-10\n",
      "p =  48  ||X||_p =  30000000002.205463  Error relativo =  7.351544698079427e-11\n",
      "Convergencia numérica alcanzada.\n"
     ]
    }
   ],
   "source": [
    "# Ejercicio 3.\n",
    "print(\"Ejercicio 3.\")\n",
    "x = array([1e10, 2e10, 3e10])\n",
    "conv_norma_vec(x)"
   ]
  },
  {
   "cell_type": "code",
   "execution_count": 20,
   "id": "485d2025",
   "metadata": {},
   "outputs": [
    {
     "name": "stdout",
     "output_type": "stream",
     "text": [
      "Ejercicio 3.\n",
      "Vector: X =  [1.e-10 2.e-10 3.e-10]\n",
      "||X||_inf =  3e-10\n",
      "p =  1  ||X||_p =  6e-10  Error relativo =  1.0\n",
      "p =  2  ||X||_p =  3.741657386773942e-10  Error relativo =  0.24721912892464734\n",
      "p =  3  ||X||_p =  3.301927248894627e-10  Error relativo =  0.10064241629820894\n",
      "p =  4  ||X||_p =  3.1463462836457886e-10  Error relativo =  0.0487820945485962\n",
      "p =  5  ||X||_p =  3.0773848853940626e-10  Error relativo =  0.02579496179802086\n",
      "p =  6  ||X||_p =  3.043010262919306e-10  Error relativo =  0.014336754306435278\n",
      "p =  7  ||X||_p =  3.0246626009458446e-10  Error relativo =  0.00822086698194821\n",
      "p =  8  ||X||_p =  3.0144433358905717e-10  Error relativo =  0.004814445296857224\n",
      "p =  9  ||X||_p =  3.0085886861624297e-10  Error relativo =  0.00286289538747656\n",
      "p =  10  ||X||_p =  3.0051673034450286e-10  Error relativo =  0.0017224344816762147\n",
      "p =  11  ||X||_p =  3.003138080795621e-10  Error relativo =  0.0010460269318736887\n",
      "p =  12  ||X||_p =  3.0019205304905707e-10  Error relativo =  0.0006401768301902487\n",
      "p =  13  ||X||_p =  3.0011830869383064e-10  Error relativo =  0.00039436231276882016\n",
      "p =  14  ||X||_p =  3.00073291282674e-10  Error relativo =  0.0002443042755799368\n",
      "p =  15  ||X||_p =  3.0004562595337365e-10  Error relativo =  0.00015208651124549674\n",
      "p =  16  ||X||_p =  3.0002852581175167e-10  Error relativo =  9.508603917223947e-05\n",
      "p =  17  ||X||_p =  3.0001790263250025e-10  Error relativo =  5.9675441667502125e-05\n",
      "p =  18  ||X||_p =  3.0001127376593677e-10  Error relativo =  3.757921978922462e-05\n",
      "p =  19  ||X||_p =  3.000071210130062e-10  Error relativo =  2.3736710020648e-05\n",
      "p =  20  ||X||_p =  3.0000451028995517e-10  Error relativo =  1.5034299850556958e-05\n",
      "p =  21  ||X||_p =  3.0000286381044334e-10  Error relativo =  9.546034811138176e-06\n",
      "p =  22  ||X||_p =  3.000018224821177e-10  Error relativo =  6.074940392337531e-06\n",
      "p =  23  ||X||_p =  3.000011621869788e-10  Error relativo =  3.873956595955223e-06\n",
      "p =  24  ||X||_p =  3.000007425188102e-10  Error relativo =  2.4750627006313343e-06\n",
      "p =  25  ||X||_p =  3.000004752165173e-10  Error relativo =  1.5840550577113011e-06\n",
      "p =  26  ||X||_p =  3.000003046278921e-10  Error relativo =  1.0154263069738905e-06\n",
      "p =  27  ||X||_p =  3.0000019556440853e-10  Error relativo =  6.518813617816099e-07\n",
      "p =  28  ||X||_p =  3.0000012572033063e-10  Error relativo =  4.190677687691622e-07\n",
      "p =  29  ||X||_p =  3.0000008092358323e-10  Error relativo =  2.697452774471737e-07\n",
      "p =  30  ||X||_p =  3.000000521508191e-10  Error relativo =  1.7383606373824052e-07\n",
      "p =  31  ||X||_p =  3.0000003364571793e-10  Error relativo =  1.12152393099868e-07\n",
      "p =  32  ||X||_p =  3.000000217295383e-10  Error relativo =  7.243179426667643e-08\n",
      "p =  33  ||X||_p =  3.000000140473835e-10  Error relativo =  4.682461170477621e-08\n",
      "p =  34  ||X||_p =  3.0000000908948574e-10  Error relativo =  3.029828580522507e-08\n",
      "p =  35  ||X||_p =  3.0000000588652505e-10  Error relativo =  1.9621750178375972e-08\n",
      "p =  36  ||X||_p =  3.000000038153408e-10  Error relativo =  1.2717802656329294e-08\n",
      "p =  37  ||X||_p =  3.000000024748158e-10  Error relativo =  8.249386084344205e-09\n",
      "p =  38  ||X||_p =  3.0000000160645945e-10  Error relativo =  5.3548648477568365e-09\n",
      "p =  39  ||X||_p =  3.000000010435121e-10  Error relativo =  3.478373747260851e-09\n",
      "p =  40  ||X||_p =  3.000000006782829e-10  Error relativo =  2.260942935719553e-09\n",
      "p =  41  ||X||_p =  3.0000000044115967e-10  Error relativo =  1.4705322246874504e-09\n",
      "p =  42  ||X||_p =  3.000000002871039e-10  Error relativo =  9.570129858771137e-10\n",
      "p =  43  ||X||_p =  3.000000001869514e-10  Error relativo =  6.231713347861316e-10\n",
      "p =  44  ||X||_p =  3.000000001218016e-10  Error relativo =  4.0600540471799115e-10\n",
      "p =  45  ||X||_p =  3.000000000793966e-10  Error relativo =  2.646554030105755e-10\n",
      "p =  46  ||X||_p =  3.0000000005178037e-10  Error relativo =  1.7260122990825758e-10\n",
      "p =  47  ||X||_p =  3.000000000337858e-10  Error relativo =  1.1261926176474046e-10\n",
      "p =  48  ||X||_p =  3.000000000220546e-10  Error relativo =  7.351533228206177e-11\n",
      "Convergencia numérica alcanzada.\n"
     ]
    }
   ],
   "source": [
    "# Ejercicio 3.\n",
    "print(\"Ejercicio 3.\")\n",
    "x = array([1e-10, 2e-10, 3e-10])\n",
    "conv_norma_vec(x)"
   ]
  },
  {
   "cell_type": "markdown",
   "id": "3d10d262",
   "metadata": {},
   "source": [
    "<div align=\"left\"><span style=\"font-family: Arial; color:#000000; font-size: medium\">\n",
    "    <b>Comentario:</b> como puede observarse, cuando $k=10$ se produce una situación de <i>overflow</i>, mientras que cuando $k=-10$ se produce una situación de <i>underflow</i> (que puede considerarse aún peor al poder pasar desapercibida). Esta situación no mejora si cambiamos en nuestra función <span style=\"font-family: Courier\">conv_norma_vec()</span> el uso de la función propia <span style=\"font-family: Courier\">norma_vec()</span> por la función <span style=\"font-family: Courier\">norm()</span> de <span style=\"font-family: Courier\">Numpy</span> para calcular la norma de los vectores.\n",
    "    <br>\n",
    "    Realizar una mejora de nuestra función de cálculo de normas vectoriales que solvente esta anomalía.\n",
    "    </span></div>"
   ]
  },
  {
   "cell_type": "code",
   "execution_count": null,
   "id": "fd217ccf",
   "metadata": {},
   "outputs": [],
   "source": []
  },
  {
   "cell_type": "code",
   "execution_count": 21,
   "id": "ca866088",
   "metadata": {},
   "outputs": [
    {
     "name": "stdout",
     "output_type": "stream",
     "text": [
      "Ejercicio 3.\n",
      "Vector: X =  [0 0 0]\n",
      "||X||_inf =  0.0\n",
      "Norma del vector muy pequeña\n"
     ]
    },
    {
     "data": {
      "text/plain": [
       "0"
      ]
     },
     "execution_count": 21,
     "metadata": {},
     "output_type": "execute_result"
    }
   ],
   "source": [
    "# Ejercicio 3.\n",
    "print(\"Ejercicio 3.\")\n",
    "x = array([0, 0, 0])\n",
    "conv_norma_vec(x)"
   ]
  },
  {
   "cell_type": "markdown",
   "id": "1e6ceee8",
   "metadata": {},
   "source": [
    "<div align=\"left\"><span style=\"font-family: Arial; color:#000000; font-size: medium\">\n",
    "    <b>Comentario:</b> de nuevo hay que tener cuidado al trabajar con el número 0, o incluso con números <i>excesivamente pequeños</i>, cuando se divide por ellos, debido a los errores de cancelación.\n",
    "    <br>\n",
    "    Realizar una nueva mejora de nuestra función de cálculo de normas vectoriales y en nuestra función de convergencia de normas que solvente esta anomalía; en este sentido, cualquier número menor que $10^{-200}$ (por ejemplo) debería evitarse que se utilizara como denominador de un cociente.\n",
    "    </span></div>"
   ]
  },
  {
   "cell_type": "code",
   "execution_count": null,
   "id": "23cf20b5",
   "metadata": {},
   "outputs": [],
   "source": []
  },
  {
   "cell_type": "code",
   "execution_count": null,
   "id": "b9c5720d",
   "metadata": {},
   "outputs": [],
   "source": []
  },
  {
   "cell_type": "markdown",
   "id": "e51011dc",
   "metadata": {},
   "source": [
    "<div align=\"left\"><span style=\"font-family: Arial; color:#000000; font-size: medium\">\n",
    "    Trabajamos ahora con las <b>normas matriciales</b>. Recordamos que es posible definir una norma matricial en $\\mathcal{M}_n(\\mathbb{K})$ a partir de una norma vectorial en $\\mathbb{K}^n$ poniendo\n",
    "\\[\n",
    "\\|A\\| = \\max_{X\\in\\mathbb{K}^n-\\{0\\}} \\frac{\\|A\\,X\\|}{\\|X\\|} = \\max_{\\|X\\|=1} \\|A\\,X\\| = \\max_{\\|X\\|\\le1} \\|A\\,X\\|\\,;\n",
    "\\]\n",
    "    esta norma matricial recibe el nombre de <b>norma matricial subordinada a la norma vectorial</b> considerada, y en el caso de la normas vectoriales más habituales se tienen las caracterizaciones\n",
    "\\begin{eqnarray*}\n",
    "\\|A\\|_\\infty & = & \\max_{i=1,\\ldots,n} \\sum_{j=1}^n |a_{i,j}|\\,, \\\\\n",
    "\\|A\\|_1 & = & \\max_{j=1,\\ldots,n} \\sum_{i=1}^n |a_{i,j}|\\,, \\\\\n",
    "\\|A\\|_2 & = & \\sqrt{\\varrho(A^*\\,A)} = \\sqrt{\\varrho(A\\,A^*)}\\,;\n",
    "\\end{eqnarray*}\n",
    "    recordamos también que la norma matricial-2 recibe el nombre de <b>norma espectral</b>.\n",
    "    <br>\n",
    "    Por otro lado, la función\n",
    "\\[\n",
    "\\|\\cdot\\|_E \\colon \\mathcal{M}_n(\\mathbb{K}) \\to \\mathbb{R}^+ \\,/\\, A \\mapsto \\|A\\|_E = \\left( \\sum_{i=1}^n \\sum_{j=1}^n |a_{i,j}|^2 \\right)^{1/2}\n",
    "\\]\n",
    "define también una norma matricial, no subordinada, llamada <b>norma matricial euclídea, de Shur o de Frobenius</b>.\n",
    "    </span></div>"
   ]
  },
  {
   "cell_type": "markdown",
   "id": "cabfa574",
   "metadata": {},
   "source": [
    "<div align=\"left\"><span style=\"font-family: Arial; color:#000000; font-size: medium\">\n",
    "    Como ya sabemos, la biblioteca <span style=\"font-family: Courier\">Numpy</span> incluye la función <span style=\"font-family: Courier\">norm()</span> que permite también calcular normas matriciales; cuando el primer argumento de entrada de dicha función es una matriz (array de dos dimensiones), calcula la norma indicada por el segundo argumento de entrada; dicho segundo argumento puede ser (entre otros) <span style=\"font-family: Courier\">inf</span>, 1, 2 o <span style=\"font-family: Courier\">'fro'</span>.\n",
    "    </span></div>"
   ]
  },
  {
   "cell_type": "markdown",
   "id": "6a6ea836",
   "metadata": {},
   "source": [
    "<div align=\"left\"><span style=\"font-family: Arial; color:#000000; font-size: medium\">\n",
    "    <span style=\"color:#FF0000\"><b>Ejercicio 4.</b></span> Definir una función, de nombre <span style=\"font-family: Courier\">norma_mat()</span>, con dos argumentos de entrada: el primero una matriz cuadrada, y el segundo el índice $p$ de la norma matricial que se quiere calcular (este índice puede adoptar los valores <span style=\"font-family: Courier\">inf</span>, 1, 2 o <span style=\"font-family: Courier\">'fro'</span>); esta función debe devolver la norma matricial correspondiente.\n",
    "    </span></div>"
   ]
  },
  {
   "cell_type": "code",
   "execution_count": 22,
   "id": "b90127da",
   "metadata": {},
   "outputs": [],
   "source": [
    "def norma_mat(A, p):\n",
    "    m,n = shape(A)\n",
    "    if m !=n:\n",
    "        return \"Error norma_mat:matriz no cuadrada.\"\n",
    "    A = array(A, dtype = \"complex\")\n",
    "    \n",
    "    if p == inf:\n",
    "        return max(sum(abs(A), axis=1))\n",
    "        \n",
    "    elif p == 1:\n",
    "        return max(sum(abs(A), axis=0))\n",
    "        \n",
    "    elif p == 2:\n",
    "        return sqrt(max(abs(eig(conjugada(A)@A)[0])))\n",
    "    \n",
    "    elif p == 'fro':\n",
    "        return sqrt(sum(sum(abs(A)**2,axis = 1), axis = 0)) # sqrt(sum(abs(A)**2))\n",
    "        \n",
    "    else:\n",
    "        print(\"El parámetro p introducido no define una norma implementada en este método\")"
   ]
  },
  {
   "cell_type": "markdown",
   "id": "492cbd00",
   "metadata": {},
   "source": [
    "<div align=\"left\"><span style=\"font-family: Arial; color:#000000; font-size: medium\">\n",
    "    <span style=\"color:#FF0000\"><b>Ejercicio 5.</b></span> Comparar los resultados que se obtienen utilizando la función <span style=\"font-family: Courier\">norm()</span> y la función que se acaba de construir en el ejercicio anterior.\n",
    "    <br>\n",
    "    Utilizar las matrices $A = \\left( \\begin{array}{rr} 1 & 2 \\\\ 3 & 4 \\end{array} \\right)$ y $B = \\left( \\begin{array}{rrr} 1 & -2. & 3\\,10^0 \\\\ 4\\,i & 5 & -6. \\\\ 7\\,10^0 & 8\\,i & 9 \\end{array} \\right)$, y las normas matriciales consideradas.\n",
    "    </span></div>"
   ]
  },
  {
   "cell_type": "code",
   "execution_count": 3,
   "id": "048640dd",
   "metadata": {},
   "outputs": [
    {
     "name": "stdout",
     "output_type": "stream",
     "text": [
      "Ejercicio 5.\n",
      "A =  [[1 2]\n",
      " [3 4]]\n",
      "B =  [[ 1.+0.j -2.+0.j  3.+0.j]\n",
      " [-0.-4.j  5.+0.j -6.+0.j]\n",
      " [ 7.+0.j  0.+8.j  9.+0.j]]\n"
     ]
    }
   ],
   "source": [
    "# Ejercicio 5.\n",
    "print(\"Ejercicio 5.\")\n",
    "A = array([[1, 2], [3, 4]])\n",
    "B = array([[1, -2., 3e0], [-4j, 5, -6.], [7e0, 8j, 9]])\n",
    "print(\"A = \", A)\n",
    "print(\"B = \", B)"
   ]
  },
  {
   "cell_type": "code",
   "execution_count": 4,
   "id": "cf6c82f5",
   "metadata": {},
   "outputs": [
    {
     "name": "stdout",
     "output_type": "stream",
     "text": [
      "Norma inf (propio):  7.0 24.0\n",
      "Norma inf (Python):  7.0 24.0\n"
     ]
    }
   ],
   "source": [
    "print(\"Norma inf (propio): \", norma_mat(A, inf), norma_mat(B, inf))\n",
    "print(\"Norma inf (Python): \", norm(A, inf), norm(B, inf))"
   ]
  },
  {
   "cell_type": "code",
   "execution_count": 5,
   "id": "6c8e4e21",
   "metadata": {},
   "outputs": [
    {
     "name": "stdout",
     "output_type": "stream",
     "text": [
      "Norma 1 (propio):  6.0 18.0\n",
      "Norma 1 (Python):  6.0 18.0\n"
     ]
    }
   ],
   "source": [
    "print(\"Norma 1 (propio): \", norma_mat(A, 1), norma_mat(B, 1))\n",
    "print(\"Norma 1 (Python): \", norm(A, 1), norm(B, 1))"
   ]
  },
  {
   "cell_type": "code",
   "execution_count": 6,
   "id": "da435cbc",
   "metadata": {},
   "outputs": [
    {
     "name": "stdout",
     "output_type": "stream",
     "text": [
      "Norma 2 (propio):  5.464985704219043 15.786285706001545\n",
      "Norma 2 (Python):  5.464985704219043 15.786285706001532\n"
     ]
    }
   ],
   "source": [
    "print(\"Norma 2 (propio): \", norma_mat(A, 2), norma_mat(B, 2))\n",
    "print(\"Norma 2 (Python): \", norm(A, 2), norm(B, 2))"
   ]
  },
  {
   "cell_type": "code",
   "execution_count": 7,
   "id": "0c3ea157",
   "metadata": {},
   "outputs": [
    {
     "name": "stdout",
     "output_type": "stream",
     "text": [
      "Norma euclídea (propio):  5.477225575051661 16.881943016134134\n",
      "Norma euclídea (Python):  5.477225575051661 16.881943016134134\n"
     ]
    }
   ],
   "source": [
    "print(\"Norma euclídea (propio): \", norma_mat(A, 'fro'), norma_mat(B, 'fro'))\n",
    "print(\"Norma euclídea (Python): \", norm(A, 'fro'), norm(B, 'fro'))"
   ]
  },
  {
   "cell_type": "code",
   "execution_count": 8,
   "id": "bad0c8ab",
   "metadata": {},
   "outputs": [
    {
     "name": "stdout",
     "output_type": "stream",
     "text": [
      "El parámetro p introducido no define una norma implementada en este método\n",
      "El parámetro p introducido no define una norma implementada en este método\n",
      "Norma 3 (propio):  None None\n"
     ]
    },
    {
     "ename": "ValueError",
     "evalue": "Invalid norm order for matrices.",
     "output_type": "error",
     "traceback": [
      "\u001b[1;31m---------------------------------------------------------------------------\u001b[0m",
      "\u001b[1;31mValueError\u001b[0m                                Traceback (most recent call last)",
      "\u001b[1;32m~\\AppData\\Local\\Temp\\ipykernel_2700\\3652815336.py\u001b[0m in \u001b[0;36m<module>\u001b[1;34m\u001b[0m\n\u001b[0;32m      1\u001b[0m \u001b[0mprint\u001b[0m\u001b[1;33m(\u001b[0m\u001b[1;34m\"Norma 3 (propio): \"\u001b[0m\u001b[1;33m,\u001b[0m \u001b[0mnorma_mat\u001b[0m\u001b[1;33m(\u001b[0m\u001b[0mA\u001b[0m\u001b[1;33m,\u001b[0m \u001b[1;36m3\u001b[0m\u001b[1;33m)\u001b[0m\u001b[1;33m,\u001b[0m \u001b[0mnorma_mat\u001b[0m\u001b[1;33m(\u001b[0m\u001b[0mB\u001b[0m\u001b[1;33m,\u001b[0m \u001b[1;36m3\u001b[0m\u001b[1;33m)\u001b[0m\u001b[1;33m)\u001b[0m\u001b[1;33m\u001b[0m\u001b[1;33m\u001b[0m\u001b[0m\n\u001b[1;32m----> 2\u001b[1;33m \u001b[0mprint\u001b[0m\u001b[1;33m(\u001b[0m\u001b[1;34m\"Norma 3 (Python): \"\u001b[0m\u001b[1;33m,\u001b[0m \u001b[0mnorm\u001b[0m\u001b[1;33m(\u001b[0m\u001b[0mA\u001b[0m\u001b[1;33m,\u001b[0m \u001b[1;36m3\u001b[0m\u001b[1;33m)\u001b[0m\u001b[1;33m,\u001b[0m \u001b[0mnorm\u001b[0m\u001b[1;33m(\u001b[0m\u001b[0mB\u001b[0m\u001b[1;33m,\u001b[0m \u001b[1;36m3\u001b[0m\u001b[1;33m)\u001b[0m\u001b[1;33m)\u001b[0m\u001b[1;33m\u001b[0m\u001b[1;33m\u001b[0m\u001b[0m\n\u001b[0m",
      "\u001b[1;32m<__array_function__ internals>\u001b[0m in \u001b[0;36mnorm\u001b[1;34m(*args, **kwargs)\u001b[0m\n",
      "\u001b[1;32m~\\anaconda3\\lib\\site-packages\\numpy\\linalg\\linalg.py\u001b[0m in \u001b[0;36mnorm\u001b[1;34m(x, ord, axis, keepdims)\u001b[0m\n\u001b[0;32m   2601\u001b[0m             \u001b[0mret\u001b[0m \u001b[1;33m=\u001b[0m \u001b[0m_multi_svd_norm\u001b[0m\u001b[1;33m(\u001b[0m\u001b[0mx\u001b[0m\u001b[1;33m,\u001b[0m \u001b[0mrow_axis\u001b[0m\u001b[1;33m,\u001b[0m \u001b[0mcol_axis\u001b[0m\u001b[1;33m,\u001b[0m \u001b[0msum\u001b[0m\u001b[1;33m)\u001b[0m\u001b[1;33m\u001b[0m\u001b[1;33m\u001b[0m\u001b[0m\n\u001b[0;32m   2602\u001b[0m         \u001b[1;32melse\u001b[0m\u001b[1;33m:\u001b[0m\u001b[1;33m\u001b[0m\u001b[1;33m\u001b[0m\u001b[0m\n\u001b[1;32m-> 2603\u001b[1;33m             \u001b[1;32mraise\u001b[0m \u001b[0mValueError\u001b[0m\u001b[1;33m(\u001b[0m\u001b[1;34m\"Invalid norm order for matrices.\"\u001b[0m\u001b[1;33m)\u001b[0m\u001b[1;33m\u001b[0m\u001b[1;33m\u001b[0m\u001b[0m\n\u001b[0m\u001b[0;32m   2604\u001b[0m         \u001b[1;32mif\u001b[0m \u001b[0mkeepdims\u001b[0m\u001b[1;33m:\u001b[0m\u001b[1;33m\u001b[0m\u001b[1;33m\u001b[0m\u001b[0m\n\u001b[0;32m   2605\u001b[0m             \u001b[0mret_shape\u001b[0m \u001b[1;33m=\u001b[0m \u001b[0mlist\u001b[0m\u001b[1;33m(\u001b[0m\u001b[0mx\u001b[0m\u001b[1;33m.\u001b[0m\u001b[0mshape\u001b[0m\u001b[1;33m)\u001b[0m\u001b[1;33m\u001b[0m\u001b[1;33m\u001b[0m\u001b[0m\n",
      "\u001b[1;31mValueError\u001b[0m: Invalid norm order for matrices."
     ]
    }
   ],
   "source": [
    "print(\"Norma 3 (propio): \", norma_mat(A, 3), norma_mat(B, 3))\n",
    "print(\"Norma 3 (Python): \", norm(A, 3), norm(B, 3))"
   ]
  },
  {
   "cell_type": "code",
   "execution_count": null,
   "id": "6e2df608",
   "metadata": {},
   "outputs": [],
   "source": []
  },
  {
   "cell_type": "markdown",
   "id": "eae6290f",
   "metadata": {},
   "source": [
    "<div align=\"left\"><span style=\"font-family: Arial; color:#000000; font-size: medium\">\n",
    "    <span style=\"color:#FF0000\"><b>Importante.</b></span> No olvidar guardar en el fichero <span style=\"font-family: Courier\">algoritmos.py</span> las últimas versiones (convenientemente revisadas y depuradas) de las funciones que se han creado en esta práctica, de manera que estén disponibles para posteriores prácticas sin más que importar el mencionado fichero.\n",
    "    </span></div>"
   ]
  },
  {
   "cell_type": "code",
   "execution_count": null,
   "id": "3c10ff82",
   "metadata": {},
   "outputs": [],
   "source": []
  }
 ],
 "metadata": {
  "kernelspec": {
   "display_name": "Python 3 (ipykernel)",
   "language": "python",
   "name": "python3"
  },
  "language_info": {
   "codemirror_mode": {
    "name": "ipython",
    "version": 3
   },
   "file_extension": ".py",
   "mimetype": "text/x-python",
   "name": "python",
   "nbconvert_exporter": "python",
   "pygments_lexer": "ipython3",
   "version": "3.9.13"
  }
 },
 "nbformat": 4,
 "nbformat_minor": 5
}
