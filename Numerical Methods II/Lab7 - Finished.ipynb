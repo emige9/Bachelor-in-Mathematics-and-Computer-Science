{
 "cells": [
  {
   "cell_type": "markdown",
   "metadata": {},
   "source": [
    "<div align=\"center\"><span style=\"font-family: Arial; color:#0000FF\"><b>\n",
    "    <span style=\"font-size: x-large\">Métodos Numéricos II</span>\n",
    "    <br>\n",
    "    <span style=\"font-size: large\">Segundo de Grado en Matemáticas - Curso 2022/23</span>\n",
    "    <br>\n",
    "    <span style=\"font-size: medium\">Facultad de Ciencias de la Universidad de Málaga</span>\n",
    "    <br>\n",
    "    <span style=\"font-size: small\">Dpto. de Análisis Matemático, Estadística e Investigación Operativa, y Matemática Aplicada</span>\n",
    "    <br>\n",
    "    <span style=\"font-size: small\">Profs. Manuel J. Castro y Francisco J. Palma (Área Conocimiento de Matemática Aplicada)</span>\n",
    "    <br>\n",
    "    <span style=\"font-size: medium; color:#FF0000\">Práctica número 7</span>\n",
    "    </b></span></div>"
   ]
  },
  {
   "cell_type": "code",
   "execution_count": 3,
   "metadata": {},
   "outputs": [],
   "source": [
    "from algoritmos import *"
   ]
  },
  {
   "cell_type": "markdown",
   "metadata": {},
   "source": [
    "<div align=\"left\"><span style=\"font-family: Arial; color:#000000; font-size: medium\">\n",
    "    <span style=\"color:#FF0000\"><b>Ejercicio 1.</b></span> Dado el vector $X = \\left( \\begin{array}{c} 1 \\\\ 2 \\\\ 3 \\\\ 4 \\end{array} \\right) \\in \\mathbb{R}^4$, calcular la matriz de Householder $H(X) \\in \\mathcal{M}_4(\\mathbb{R})$.\n",
    "    </span></div>"
   ]
  },
  {
   "cell_type": "code",
   "execution_count": 18,
   "metadata": {},
   "outputs": [],
   "source": [
    "# Ejercicio 1.\n",
    "def householder(X):\n",
    "    n, m = shape(X)\n",
    "    if m != 1:\n",
    "        return False, \"Error, calcular matriz householder: necesitamos un vector\"\n",
    "    I = eye(n)\n",
    "    H_X = I - (2/(transpose(X)@X))*(X@transpose(X))\n",
    "    return True, H_X"
   ]
  },
  {
   "cell_type": "code",
   "execution_count": 20,
   "metadata": {},
   "outputs": [
    {
     "name": "stdout",
     "output_type": "stream",
     "text": [
      "Vector X =  [[1]\n",
      " [2]\n",
      " [3]\n",
      " [4]]\n",
      "Matriz Householder del vector: H(X) =  [[ 0.93333333 -0.13333333 -0.2        -0.26666667]\n",
      " [-0.13333333  0.73333333 -0.4        -0.53333333]\n",
      " [-0.2        -0.4         0.4        -0.8       ]\n",
      " [-0.26666667 -0.53333333 -0.8        -0.06666667]]\n"
     ]
    }
   ],
   "source": [
    "X = array([[1], [2], [3], [4]])\n",
    "print(\"Vector X = \", X)\n",
    "exito, H_X = householder(X)\n",
    "if exito: \n",
    "    print(\"Matriz Householder del vector: H(X) = \", H_X)\n",
    "else:\n",
    "    print(\"No se puede calcular la matriz Householder asociada\")"
   ]
  },
  {
   "cell_type": "code",
   "execution_count": null,
   "metadata": {},
   "outputs": [],
   "source": []
  },
  {
   "cell_type": "markdown",
   "metadata": {},
   "source": [
    "<div align=\"left\"><span style=\"font-family: Arial; color:#000000; font-size: medium\">\n",
    "    <span style=\"color:#FF0000\"><b>Ejercicio 2.</b></span> Dado el vector $X = \\left( \\begin{array}{c} 1 \\\\ 2 \\\\ 3 \\\\ 4 \\end{array} \\right) \\in \\mathbb{R}^4$, calcular las matrices de Householder $H(Z_i) \\in \\mathcal{M}_4(\\mathbb{R})$, $i=1,2$, tales que el vector $H(Z_i)\\,X$ tiene nulas todas sus componentes excepto, quizás, la primera.\n",
    "    </span></div>"
   ]
  },
  {
   "cell_type": "code",
   "execution_count": 28,
   "metadata": {},
   "outputs": [
    {
     "name": "stdout",
     "output_type": "stream",
     "text": [
      "Vector X =  [[1]\n",
      " [2]\n",
      " [3]\n",
      " [4]]\n",
      "Vector Z_1 =  [[6.47722558+0.j]\n",
      " [2.        +0.j]\n",
      " [3.        +0.j]\n",
      " [4.        +0.j]]\n",
      "Vector Z_2 =  [[-4.47722558+0.j]\n",
      " [ 2.        +0.j]\n",
      " [ 3.        +0.j]\n",
      " [ 4.        +0.j]]\n",
      "Primera matriz: H(Z_1) =  [[-0.18257419+0.j -0.36514837+0.j -0.54772256+0.j -0.73029674+0.j]\n",
      " [-0.36514837+0.j  0.88725161+0.j -0.16912258+0.j -0.22549678+0.j]\n",
      " [-0.54772256+0.j -0.16912258+0.j  0.74631613+0.j -0.33824516+0.j]\n",
      " [-0.73029674+0.j -0.22549678+0.j -0.33824516+0.j  0.54900645+0.j]]\n",
      "Vector modificado: H(Z_1)@X =  [[-5.47722558e+00+0.j]\n",
      " [ 1.11022302e-16+0.j]\n",
      " [ 2.22044605e-16+0.j]\n",
      " [ 4.44089210e-16+0.j]]\n",
      "Segunda matriz: H(Z_2) =  [[ 0.18257419+0.j  0.36514837+0.j  0.54772256+0.j  0.73029674+0.j]\n",
      " [ 0.36514837+0.j  0.83688632+0.j -0.24467052+0.j -0.32622736+0.j]\n",
      " [ 0.54772256+0.j -0.24467052+0.j  0.63299422+0.j -0.48934104+0.j]\n",
      " [ 0.73029674+0.j -0.32622736+0.j -0.48934104+0.j  0.34754528+0.j]]\n",
      "Vector modificado: H(Z_2)@X =  [[ 5.47722558e+00+0.j]\n",
      " [-1.66533454e-16+0.j]\n",
      " [-4.44089210e-16+0.j]\n",
      " [-3.33066907e-16+0.j]]\n"
     ]
    }
   ],
   "source": [
    "# Ejercicio 2.\n",
    "X = array([[1], [2], [3], [4]])\n",
    "E_1 = array([[1], [0], [0], [0]])\n",
    "print(\"Vector X = \", X)\n",
    "Z_1 = X + (norma_vec(X, 2)*exp((angle(X[1]))*1j))*E_1\n",
    "print(\"Vector Z_1 = \", Z_1)\n",
    "Z_2 = X - (norma_vec(X, 2)*exp((angle(X[1]))*1j))*E_1\n",
    "print(\"Vector Z_2 = \", Z_2)\n",
    "ex1, H_Z1 = householder(Z_1)\n",
    "ex2, H_Z2 = householder(Z_2)\n",
    "print(\"Primera matriz: H(Z_1) = \", H_Z1)\n",
    "print(\"Vector modificado: H(Z_1)@X = \", H_Z1@X)\n",
    "print(\"Segunda matriz: H(Z_2) = \", H_Z2)\n",
    "print(\"Vector modificado: H(Z_2)@X = \", H_Z2@X)"
   ]
  },
  {
   "cell_type": "code",
   "execution_count": null,
   "metadata": {},
   "outputs": [],
   "source": []
  },
  {
   "cell_type": "code",
   "execution_count": null,
   "metadata": {},
   "outputs": [],
   "source": []
  },
  {
   "cell_type": "markdown",
   "metadata": {},
   "source": [
    "<div align=\"left\"><span style=\"font-family: Arial; color:#000000; font-size: medium\">\n",
    "    <span style=\"color:#FF0000\"><b>Ejercicio 3.</b></span> Considera el sistema lineal $A\\,X=B$, así como el sistema perturbado $A\\,\\bar{X}=\\bar{B}$, donde\n",
    "\\[\n",
    "A = \\left( \\begin{array}{rrrr} 10 & 1 & 4 & 0 \\\\ 1 & 10 & 5 & -1 \\\\ 4 & 5 & 10 & 7 \\\\ 0 & -1 & 7 & 9 \\end{array} \\right)\\,, \\quad B = \\left( \\begin{array}{r} 15 \\\\ 15 \\\\ 26 \\\\ 15 \\end{array} \\right) \\quad \\mbox{y} \\quad \\bar{B} = \\left( \\begin{array}{r} 16 \\\\ 16 \\\\ 25 \\\\ 16 \\end{array} \\right)\\,.\n",
    "\\]\n",
    "    Calcular $X$ y $\\bar{X}$ (mediante el método de Gauss con estrategia de pívot parcial) y verificar la desigualdad\n",
    "\\[\n",
    "\\frac{\\|\\delta X\\|_2}{\\|X\\|_2} \\le \\rm{cond}_2(A)\\,\\frac{\\|\\delta B\\|_2}{\\|B\\|_2}\\,.\n",
    "\\]\n",
    "    </span></div>"
   ]
  },
  {
   "cell_type": "code",
   "execution_count": 36,
   "metadata": {},
   "outputs": [
    {
     "name": "stdout",
     "output_type": "stream",
     "text": [
      "Matriz: A =  [[10  1  4  0]\n",
      " [ 1 10  5 -1]\n",
      " [ 4  5 10  7]\n",
      " [ 0 -1  7  9]]\n",
      "Vector: B =  [[15]\n",
      " [15]\n",
      " [26]\n",
      " [15]]\n",
      "Vcetor del sistema perturbado: B(tilde) =  [[16]\n",
      " [16]\n",
      " [25]\n",
      " [16]]\n",
      "Vector X =  [[1.]\n",
      " [1.]\n",
      " [1.]\n",
      " [1.]]\n",
      "Vector X(tilde) =  [[  832.]\n",
      " [ 1324.]\n",
      " [-2407.]\n",
      " [ 2021.]]\n",
      "Análisis de errores:\n",
      "Norma de X: ||X||_2 =  1.9999999999994262\n",
      "Norma de deltaX: ||deltaX||_2 =  3509.9507119009654\n",
      "Norma de B: ||B||_2 =  36.75595189897821\n",
      "Norma de deltaB: ||deltaB||_2 =  2.0\n",
      "Error relativo solución: ||deltaX||_2 / ||X||_2 =  1754.975355950986\n",
      "Condicionamiento: cond_2(A) =  35792.397628802224\n",
      "Error relativo dato: ||deltaB||_2 / ||B||_2 =  0.05441295617909432\n",
      "Verificación del teorema:  True\n",
      "Primer miembro de la desigualdad:  1754.975355950986\n",
      "Segundo miembro de la desigualdad:  1947.5701637207349\n"
     ]
    }
   ],
   "source": [
    "# Ejercicio 3.\n",
    "A = array([[10, 1, 4, 0], [1, 10, 5, -1], [4, 5, 10, 7], [0, -1, 7, 9]])\n",
    "print(\"Matriz: A = \", A)\n",
    "B = array([[15], [15], [26], [15]])\n",
    "print(\"Vector: B = \", B)\n",
    "B_2 = array([[16], [16], [25], [16]])\n",
    "print(\"Vcetor del sistema perturbado: B(tilde) = \", B_2)\n",
    "\n",
    "ex1, X = gauss_pp(A, B)\n",
    "if ex1:\n",
    "    print(\"Vector X = \", X)\n",
    "ex2, X_2 = gauss_pp(A, B_2)\n",
    "if ex2:\n",
    "    print(\"Vector X(tilde) = \", X_2)\n",
    "a = norma_vec(X,2)\n",
    "b = norma_vec(X-X_2,2)\n",
    "c = norma_vec(B,2)\n",
    "d = norma_vec(B-B_2,2)\n",
    "e = b/a\n",
    "f = d/c\n",
    "ex3, invA = gauss_pp(A, eye(4)) \n",
    "n = norma_mat(A, 2)\n",
    "m = norma_mat(invA, 2)\n",
    "cond_2_A = n*m\n",
    "print(\"Análisis de errores:\")\n",
    "print(\"Norma de X: ||X||_2 = \", a)\n",
    "print(\"Norma de deltaX: ||deltaX||_2 = \", b)\n",
    "print(\"Norma de B: ||B||_2 = \", c)\n",
    "print(\"Norma de deltaB: ||deltaB||_2 = \", d)\n",
    "print(\"Error relativo solución: ||deltaX||_2 / ||X||_2 = \", e)\n",
    "print(\"Condicionamiento: cond_2(A) = \", cond_2_A)\n",
    "print(\"Error relativo dato: ||deltaB||_2 / ||B||_2 = \", f)\n",
    "print(\"Verificación del teorema: \", e <= cond_2_A*f)\n",
    "print(\"Primer miembro de la desigualdad: \", e)\n",
    "print(\"Segundo miembro de la desigualdad: \", cond_2_A*f)"
   ]
  },
  {
   "cell_type": "code",
   "execution_count": null,
   "metadata": {},
   "outputs": [],
   "source": []
  },
  {
   "cell_type": "code",
   "execution_count": null,
   "metadata": {},
   "outputs": [],
   "source": []
  },
  {
   "cell_type": "markdown",
   "metadata": {},
   "source": [
    "<div align=\"left\"><span style=\"font-family: Arial; color:#000000; font-size: medium\">\n",
    "    <span style=\"color:#FF0000\"><b>Ejercicio 4.</b></span> Calcular $\\rm{cond}_p(A_2)$, $p=1,2,\\infty$, donde $A_2$ es la matriz triangular superior resultante de aplicar el método de Gauss al sistema\n",
    "\\[\n",
    "\\left\\{ \\begin{array}{rcrcr} 10^{-4}\\,x_1 & + & x_2 & = & 1\\,, \\\\ x_1 & + & x_2 & = & 2\\,. \\end{array} \\right.\n",
    "\\]\n",
    "    Comparar los resultados cuando no se utiliza ninguna estrategia de pivot y cuando se utiliza una estrategia de pivot parcial.\n",
    "    <br>\n",
    "    Cambiar el elemento $(1,1)$ de la matriz de coeficientes por $10^{-16}$ y analizar el resultado.\n",
    "    </span></div>"
   ]
  },
  {
   "cell_type": "code",
   "execution_count": null,
   "metadata": {},
   "outputs": [],
   "source": [
    "def matrizgauss_pp(A, B):\n",
    "    m, n = shape(A)\n",
    "    p, q = shape(B)\n",
    "    if m != n or n != p or q < 1:\n",
    "        return False, \"Error gauss_pp: error en las dimensiones.\"\n",
    "    if A.dtype == complex or B.dtype == complex:\n",
    "        gaussA = array(A, dtype=complex)\n",
    "        gaussB = array(B, dtype=complex)\n",
    "    else:\n",
    "        gaussA = array(A, dtype=float)\n",
    "        gaussB = array(B, dtype=float)\n",
    "    for k in range(n-1):\n",
    "        pos = argmax(abs(gaussA[k:, k]))\n",
    "        ik = pos+k\n",
    "        if ik != k:\n",
    "            gaussA[[ik, k], :] = gaussA[[k, ik], :]\n",
    "            gaussB[[ik, k], :] = gaussB[[k, ik], :]\n",
    "        if abs(gaussA[k, k]) >= 1e-200:\n",
    "            for i in range(k+1, n):\n",
    "                gaussA[i, k] = gaussA[i, k]/gaussA[k, k]\n",
    "                gaussA[i, k+1:] -= gaussA[i, k]*gaussA[k, k+1:]\n",
    "                gaussB[i, :] -= gaussA[i, k]*gaussB[k, :]\n",
    "    exito, X = remonte(gaussA, gaussB)\n",
    "    return gaussA"
   ]
  },
  {
   "cell_type": "code",
   "execution_count": null,
   "metadata": {},
   "outputs": [],
   "source": [
    "def matrizgauss_1p(A, B):\n",
    "    m, n = shape(A)\n",
    "    p, q = shape(B)\n",
    "    if m != n or n != p or q < 1:\n",
    "        return False, \"Error gauss_pp: error en las dimensiones.\"\n",
    "    if A.dtype == complex or B.dtype == complex:\n",
    "        gaussA = array(A, dtype=complex)\n",
    "        gaussB = array(B, dtype=complex)\n",
    "    else:\n",
    "        gaussA = array(A, dtype=float)\n",
    "        gaussB = array(B, dtype=float)\n",
    "    for k in range(n-1):\n",
    "        ik=k;\n",
    "        while(abs(gaussA[ik, k]<10e-200)):\n",
    "              ik=ik+1\n",
    "        if ik != k:\n",
    "            gaussA[[ik, k], :] = gaussA[[k, ik], :]\n",
    "            gaussB[[ik, k], :] = gaussB[[k, ik], :]\n",
    "        if abs(gaussA[k, k]) >= 1e-200:\n",
    "            for i in range(k+1, n):\n",
    "                gaussA[i, k] = gaussA[i, k]/gaussA[k, k]\n",
    "                gaussA[i, k+1:] -= gaussA[i, k]*gaussA[k, k+1:]\n",
    "                gaussB[i, :] -= gaussA[i, k]*gaussB[k, :]\n",
    "    exito, X = remonte(gaussA, gaussB)\n",
    "    return gaussA"
   ]
  },
  {
   "cell_type": "code",
   "execution_count": 4,
   "metadata": {},
   "outputs": [
    {
     "name": "stdout",
     "output_type": "stream",
     "text": [
      "Matriz de coeficientes: A =  [[1.e-04 1.e+00]\n",
      " [1.e+00 1.e+00]]\n",
      "Vector dato: B =  [[1]\n",
      " [2]]\n",
      "Matriz: A_2 =  [[1.     1.    ]\n",
      " [0.     0.9999]]\n"
     ]
    }
   ],
   "source": [
    "# Ejercicio 4.\n",
    "A = array([[1e-4, 1], [1,1]])\n",
    "print(\"Matriz de coeficientes: A = \", A)\n",
    "B = array([[1], [2]])\n",
    "print(\"Vector dato: B = \", B)\n",
    "\n",
    "exito, X, A_2 = gauss_pp2(A, B)\n",
    "print(\"Matriz: A_2 = \", A_2)"
   ]
  },
  {
   "cell_type": "code",
   "execution_count": null,
   "metadata": {},
   "outputs": [],
   "source": [
    "A = array([[1e-4, 1], [1, 1]])\n",
    "B = array([[1], [2]])\n",
    "G = matrizgauss_pp(A, B)\n",
    "print(\"A_2 = \\n\", G)\n",
    "Gp = matrizgauss_1p(A, B)\n",
    "print(\"A_2p = \\n\", Gp)\n",
    "#cond_1\n",
    "print(\"cond(A_2)_1 = \", norma_mat(G, 1))\n",
    "print(\"Sin estrategia de pivotaje, cond(A_2)_1 = \", norma_mat(Gp, 1))\n",
    "#cond_2\n",
    "autovalores, paso = eig(G)\n",
    "autovaloresp, pasop = eig(Gp)\n",
    "M = max(abs(autovalores))\n",
    "m = min(abs(autovalores))\n",
    "Mp = max(abs(autovaloresp))\n",
    "mp = min(abs(autovaloresp))\n",
    "print(\"cond(A_2)_2 = \", M/m)\n",
    "print(\"Sin estrategia de pivotaje, cond(A_2)_2 = \", Mp/mp)\n",
    "#cond_inf\n",
    "print(\"cond(A_2)_inf = \", max(sum(abs(G), axis=1)))\n",
    "print(\"Sin estrategia de pivotaje, cond(A_2)_inf = \", max(sum(abs(Gp), axis=1)))"
   ]
  },
  {
   "cell_type": "code",
   "execution_count": null,
   "metadata": {},
   "outputs": [],
   "source": []
  },
  {
   "cell_type": "markdown",
   "metadata": {},
   "source": [
    "<div align=\"left\"><span style=\"font-family: Arial; color:#000000; font-size: medium\">\n",
    "    <span style=\"color:#FF0000\"><b>Ejercicio 5.</b></span> Analizar si la matriz\n",
    "\\[\n",
    "A = \\left( \\begin{array}{cccc} 1 & 2 & 1 & 1 \\\\ 2 & 3 & 4 & 3 \\\\ 1 & 4 & -4 & 0 \\\\ 1 & 3 & 0 & 0 \\end{array} \\right)\n",
    "\\]\n",
    "    es definida positiva.\n",
    "    </span></div>"
   ]
  },
  {
   "cell_type": "code",
   "execution_count": null,
   "metadata": {},
   "outputs": [],
   "source": [
    "# Ejercicio 5.\n",
    "..."
   ]
  },
  {
   "cell_type": "code",
   "execution_count": null,
   "metadata": {},
   "outputs": [],
   "source": []
  },
  {
   "cell_type": "code",
   "execution_count": null,
   "metadata": {},
   "outputs": [],
   "source": []
  }
 ],
 "metadata": {
  "kernelspec": {
   "display_name": "Python 3 (ipykernel)",
   "language": "python",
   "name": "python3"
  },
  "language_info": {
   "codemirror_mode": {
    "name": "ipython",
    "version": 3
   },
   "file_extension": ".py",
   "mimetype": "text/x-python",
   "name": "python",
   "nbconvert_exporter": "python",
   "pygments_lexer": "ipython3",
   "version": "3.9.13"
  }
 },
 "nbformat": 4,
 "nbformat_minor": 4
}
