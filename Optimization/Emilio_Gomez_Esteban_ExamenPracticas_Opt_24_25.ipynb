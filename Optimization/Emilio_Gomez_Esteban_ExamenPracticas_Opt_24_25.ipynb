{
  "nbformat": 4,
  "nbformat_minor": 0,
  "metadata": {
    "colab": {
      "provenance": []
    },
    "kernelspec": {
      "name": "python3",
      "display_name": "Python 3"
    },
    "language_info": {
      "name": "python"
    }
  },
  "cells": [
    {
      "cell_type": "markdown",
      "source": [
        "Considera el problema de la planificación semanal de la producción de una empresa de fabricación de automóviles. La empresa fabrica $M$ modelos de automóvil. La producción de estos modelos requiere la ejecución de $T$ tareas (por ejemplo, el ensamblaje de componentes mecánicos, pintura, perfilado, montaje de componentes eléctricas, etc.). La realización de estas tareas requiere personal cualificado, en un número de operarios que es diferente para cada modelo de automóvil. Sea $o_{mt},  m = 1, \\ldots, M; t = 1, \\ldots, T$, el número de operarios especializados en la tarea $t$ que se necesita para fabricar un automóvil modelo $m$ a la semana. Sabiendo que $\\overline{o}_{t}$, con $t = 1, \\ldots, T$ representa el número máximo de operarios cualificados para ejecutar la tarea $t$ de los que la empresa dispone en una semana laboral y que el beneficio que la empresa obtiene por la venta del modelo $m$ de automóvil es $b_m$, se pide:\n",
        "\n",
        "1.   Construye un modelo de programación entera en AMPL para maximizar el beneficio semanal que hace la empresa a partir de la fabricación de los diferentes modelos de automóviles (4 puntos).\n",
        "2.   Considera el caso particular en que la empresa fabrica tres modelos de automóviles ($M = 3$) cuyo montaje requiere de hasta cuatro tareas especializadas ($T = 4$). Los operarios disponibles para la ejecución de cada tarea, el número de ellos que requiere cada modelo de automóvil y los beneficios (en miles de €) que obtiene la empresa de la venta de cada modelo, son los especificados en la siguiente tabla.\n",
        "\n",
        "<center>\n",
        "\n",
        "|  Modelo    | Tarea 1   | Tarea 2  | Tarea 3 | Tarea 4 | Beneficio|\n",
        "| ------------  | --------     | ---      | ---    |  ---    |--- |\n",
        "| 1            | 1       | 1 | 1|  1 |  12\n",
        "| 2            | 2       | 2 | 1| 3  |  20\n",
        "| 3            | 1       | 2 | 3|  0  |  9\n",
        "| **#Operarios**   | 7   | 10      | 8   |  6    |\n",
        "\n",
        "</center>\n",
        "\n",
        "\n",
        "\n",
        "*   Resuelve este caso particular con un solver para programas lineales enteros (1 punto).\n",
        "*   Resuelve este caso particular mediante el *algoritmo de ramificación y acotación*, utilizando un solver adecuado para resolver los problemas lineales relajados que sean necesarios. Representa el árbol al que la aplicación del algoritmo ha dado lugar, especificando los tipos de podas que has realizado en cada caso hasta certificar la solución óptima del problema entero (5 puntos).\n",
        "   \n",
        "\n",
        "\n",
        "\n"
      ],
      "metadata": {
        "id": "houzJCFYRew5"
      }
    },
    {
      "cell_type": "code",
      "source": [
        "%pip install -q amplpy"
      ],
      "metadata": {
        "colab": {
          "base_uri": "https://localhost:8080/"
        },
        "id": "mufyCIaMXYJd",
        "outputId": "4d863b93-5eed-428c-ff3c-90c13c6d9b45"
      },
      "execution_count": 1,
      "outputs": [
        {
          "output_type": "stream",
          "name": "stdout",
          "text": [
            "\u001b[?25l   \u001b[90m━━━━━━━━━━━━━━━━━━━━━━━━━━━━━━━━━━━━━━━━\u001b[0m \u001b[32m0.0/5.6 MB\u001b[0m \u001b[31m?\u001b[0m eta \u001b[36m-:--:--\u001b[0m\r\u001b[2K   \u001b[91m━━━━━━━━━━━━━━━\u001b[0m\u001b[90m╺\u001b[0m\u001b[90m━━━━━━━━━━━━━━━━━━━━━━━━\u001b[0m \u001b[32m2.1/5.6 MB\u001b[0m \u001b[31m71.4 MB/s\u001b[0m eta \u001b[36m0:00:01\u001b[0m\r\u001b[2K   \u001b[91m━━━━━━━━━━━━━━━━━━━━━━━━━━━━━━━━━━━\u001b[0m\u001b[91m╸\u001b[0m\u001b[90m━━━━\u001b[0m \u001b[32m5.1/5.6 MB\u001b[0m \u001b[31m74.0 MB/s\u001b[0m eta \u001b[36m0:00:01\u001b[0m\r\u001b[2K   \u001b[91m━━━━━━━━━━━━━━━━━━━━━━━━━━━━━━━━━━━━━━━\u001b[0m\u001b[91m╸\u001b[0m \u001b[32m5.6/5.6 MB\u001b[0m \u001b[31m73.0 MB/s\u001b[0m eta \u001b[36m0:00:01\u001b[0m\r\u001b[2K   \u001b[90m━━━━━━━━━━━━━━━━━━━━━━━━━━━━━━━━━━━━━━━━\u001b[0m \u001b[32m5.6/5.6 MB\u001b[0m \u001b[31m49.3 MB/s\u001b[0m eta \u001b[36m0:00:00\u001b[0m\n",
            "\u001b[?25h"
          ]
        }
      ]
    },
    {
      "cell_type": "code",
      "source": [
        "# Integración en Google Colab\n",
        "from amplpy import AMPL, ampl_notebook"
      ],
      "metadata": {
        "id": "LDt9RaN7Xq6s"
      },
      "execution_count": 2,
      "outputs": []
    },
    {
      "cell_type": "code",
      "source": [
        "FabAutomoviles = ampl_notebook(\n",
        "    modules=[\"highs\", \"cplex\"],  # Solvers que queremos instalar\n",
        "    license_uuid=\"d1619e22-974c-4935-ad8a-2554d161c51d\",  # licencia que usaremos (os la he mandado por correo)\n",
        ")  # instanciamos el objeto \"AMPL\" con el que vamos a trabajar"
      ],
      "metadata": {
        "colab": {
          "base_uri": "https://localhost:8080/"
        },
        "id": "S-32sJupbdIu",
        "outputId": "9b60cac9-43c3-48a6-f938-95c53bcb5d80"
      },
      "execution_count": 82,
      "outputs": [
        {
          "output_type": "stream",
          "name": "stdout",
          "text": [
            "Licensed to Bundle #6787.7245 expiring 20250228: 302-Optimization; 408-Operations Research, Prof. Juan Miguel Morales Gonz?lez, University of Malaga.\n"
          ]
        }
      ]
    },
    {
      "cell_type": "markdown",
      "source": [
        "## Ejercicio 1"
      ],
      "metadata": {
        "id": "NhqqWITtbkiI"
      }
    },
    {
      "cell_type": "code",
      "source": [
        "FabAutomoviles.eval(r\"\"\"\n",
        "\n",
        "reset;\n",
        "set BENEFICIOS;\n",
        "set TAREAS;\n",
        "param beneficios {BENEFICIOS} >= 0;\n",
        "param n_max {TAREAS} >= 0;\n",
        "param cont {BENEFICIOS, TAREAS} >= 0;\n",
        "\n",
        "\n",
        "var x {BENEFICIOS} integer, >= 0;\n",
        "\n",
        "maximize beneficio_total:\n",
        "    sum{i in BENEFICIOS} beneficios[i]*x[i];\n",
        "s.t. cumplir_tareas {j in TAREAS}:\n",
        "    sum{i in BENEFICIOS} cont[i,j]*x[i] <= n_max[j];\n",
        "\n",
        "\"\"\")"
      ],
      "metadata": {
        "id": "cLjOLjGZZbme"
      },
      "execution_count": 83,
      "outputs": []
    },
    {
      "cell_type": "markdown",
      "source": [
        "## Ejercicio 2"
      ],
      "metadata": {
        "id": "T7GeOl5wbqwg"
      }
    },
    {
      "cell_type": "markdown",
      "source": [
        "### Apartado 1"
      ],
      "metadata": {
        "id": "_S6EL7fMbs54"
      }
    },
    {
      "cell_type": "code",
      "source": [
        "def preparar_datos_fabricacion():\n",
        "    import pandas as pd\n",
        "    import numpy as np\n",
        "\n",
        "    beneficios_df = pd.DataFrame(\n",
        "        [\n",
        "            (\"B1\", 12),\n",
        "            (\"B2\", 20),\n",
        "            (\"B3\", 9)\n",
        "        ],\n",
        "        columns=[\"BENEFICIOS\", \"beneficios\"],\n",
        "    ).set_index(\"BENEFICIOS\")\n",
        "\n",
        "\n",
        "    tareas_df = pd.DataFrame(\n",
        "        [\n",
        "            (\"T1\", 7),\n",
        "            (\"T2\", 10),\n",
        "            (\"T3\", 8),\n",
        "            (\"T4\", 6)\n",
        "        ],\n",
        "        columns=[\"TAREAS\", \"n_max\"],\n",
        "    ).set_index(\"TAREAS\")\n",
        "\n",
        "    cont_df = pd.DataFrame(\n",
        "        np.array(\n",
        "            [\n",
        "                [1, 1, 1, 1],\n",
        "                [2, 2, 1, 3],\n",
        "                [1, 2, 3, 0]\n",
        "            ]\n",
        "        ),\n",
        "        columns= tareas_df.index.to_list(),\n",
        "        index  = beneficios_df.index.to_list(),\n",
        "    )\n",
        "\n",
        "\n",
        "\n",
        "    return beneficios_df, tareas_df, cont_df"
      ],
      "metadata": {
        "id": "h9QTyxdebsIY"
      },
      "execution_count": 84,
      "outputs": []
    },
    {
      "cell_type": "code",
      "source": [
        "beneficios_df, tareas_df, cont_df = preparar_datos_fabricacion()\n",
        "\n",
        "FabAutomoviles.set_data(beneficios_df, \"BENEFICIOS\")\n",
        "FabAutomoviles.set_data(tareas_df, \"TAREAS\")\n",
        "FabAutomoviles.get_parameter(\"cont\").set_values(cont_df)\n"
      ],
      "metadata": {
        "id": "jNEQ_U_AdTjY"
      },
      "execution_count": 85,
      "outputs": []
    },
    {
      "cell_type": "code",
      "source": [
        "FabAutomoviles.solve(solver=\"cplex\") # Resolvemos con el solver \"cplex\"\n",
        "assert FabAutomoviles.solve_result == \"solved\"  # Comprobamos que el problema se ha resuelto correctamente"
      ],
      "metadata": {
        "colab": {
          "base_uri": "https://localhost:8080/"
        },
        "id": "Wups47apdgOK",
        "outputId": "901cddc8-4806-4953-b080-eb225c951220"
      },
      "execution_count": 86,
      "outputs": [
        {
          "output_type": "stream",
          "name": "stdout",
          "text": [
            "CPLEX 22.1.1: \b\b\b\b\b\b\b\b\b\b\b\b\b\bCPLEX 22.1.1: optimal solution; objective 72\n",
            "2 simplex iterations\n"
          ]
        }
      ]
    },
    {
      "cell_type": "code",
      "source": [
        "x = FabAutomoviles.get_variable(\"x\") # Aquí el valor de \"x\" es convertido a un data frame de AMPL.\n",
        "df_x = x.get_values().to_pandas() # Aquí el valor de \"x\" es convertido a un data frame de Pandas.\n",
        "beneficio_total = FabAutomoviles.get_objective(\"beneficio_total\").value()\n",
        "df_x = df_x.round(3)\n",
        "print(df_x)\n",
        "print(f\"Beneficio total: {beneficio_total:.3f}\")"
      ],
      "metadata": {
        "colab": {
          "base_uri": "https://localhost:8080/"
        },
        "id": "_UOp9aSseqQ7",
        "outputId": "a6f49ac9-9779-4e7d-99b7-a11be03de42e"
      },
      "execution_count": 87,
      "outputs": [
        {
          "output_type": "stream",
          "name": "stdout",
          "text": [
            "    x.val\n",
            "B1      6\n",
            "B2      0\n",
            "B3      0\n",
            "Beneficio total: 72.000\n"
          ]
        }
      ]
    },
    {
      "cell_type": "markdown",
      "source": [
        "### Apartado 2"
      ],
      "metadata": {
        "id": "7eG09LtdfEs2"
      }
    },
    {
      "cell_type": "code",
      "source": [
        "FabAutomovilesR = ampl_notebook(\n",
        "    modules=[\"highs\", \"cplex\"],  # Solvers que queremos instalar\n",
        "    license_uuid=\"d1619e22-974c-4935-ad8a-2554d161c51d\",  # licencia que usaremos (os la he mandado por correo)\n",
        ")  # instanciamos el objeto \"AMPL\" con el que vamos a trabajar"
      ],
      "metadata": {
        "colab": {
          "base_uri": "https://localhost:8080/"
        },
        "id": "FgIIBEr3fWH3",
        "outputId": "9951cdd2-149a-4d0e-d63f-9b9b14cc822f"
      },
      "execution_count": 25,
      "outputs": [
        {
          "output_type": "stream",
          "name": "stdout",
          "text": [
            "Licensed to Bundle #6787.7245 expiring 20250228: 302-Optimization; 408-Operations Research, Prof. Juan Miguel Morales Gonz?lez, University of Malaga.\n"
          ]
        }
      ]
    },
    {
      "cell_type": "code",
      "source": [
        "FabAutomovilesR.eval(r\"\"\"\n",
        "\n",
        "reset;\n",
        "set BENEFICIOS;\n",
        "set TAREAS;\n",
        "param beneficios {BENEFICIOS} >= 0;\n",
        "param n_max {TAREAS} >= 0;\n",
        "param cont {BENEFICIOS, TAREAS} >= 0;\n",
        "\n",
        "\n",
        "var x {BENEFICIOS} >= 0;\n",
        "\n",
        "maximize beneficio_total:\n",
        "    sum{i in BENEFICIOS} beneficios[i]*x[i];\n",
        "s.t. cumplir_tareas {j in TAREAS}:\n",
        "    sum{i in BENEFICIOS} cont[i,j]*x[i] <= n_max[j];\n",
        "\n",
        "\"\"\")"
      ],
      "metadata": {
        "id": "bD8YDhqefGjN"
      },
      "execution_count": 26,
      "outputs": []
    },
    {
      "cell_type": "code",
      "source": [
        "beneficios_df, tareas_df, cont_df = preparar_datos_fabricacion()\n",
        "\n",
        "FabAutomovilesR.set_data(beneficios_df, \"BENEFICIOS\")\n",
        "FabAutomovilesR.set_data(tareas_df, \"TAREAS\")\n",
        "FabAutomovilesR.get_parameter(\"cont\").set_values(cont_df)"
      ],
      "metadata": {
        "id": "haCv1wLXfNE_"
      },
      "execution_count": 27,
      "outputs": []
    },
    {
      "cell_type": "code",
      "source": [
        "FabAutomovilesR.solve(solver=\"cplex\") # Resolvemos con el solver \"cplex\"\n",
        "assert FabAutomovilesR.solve_result == \"solved\"  # Comprobamos que el problema se ha resuelto correctamente"
      ],
      "metadata": {
        "colab": {
          "base_uri": "https://localhost:8080/"
        },
        "id": "eujN2L8ZfSnf",
        "outputId": "740d630c-6ab8-48d0-fbdc-18d276191855"
      },
      "execution_count": 28,
      "outputs": [
        {
          "output_type": "stream",
          "name": "stdout",
          "text": [
            "CPLEX 22.1.1: \b\b\b\b\b\b\b\b\b\b\b\b\b\bCPLEX 22.1.1: optimal solution; objective 78\n",
            "3 simplex iterations\n"
          ]
        }
      ]
    },
    {
      "cell_type": "code",
      "source": [
        "x = FabAutomovilesR.get_variable(\"x\") # Aquí el valor de \"x\" es convertido a un data frame de AMPL.\n",
        "df_x = x.get_values().to_pandas() # Aquí el valor de \"x\" es convertido a un data frame de Pandas.\n",
        "beneficio_total = FabAutomovilesR.get_objective(\"beneficio_total\").value()\n",
        "df_x = df_x.round(3)\n",
        "print(df_x)\n",
        "print(f\"Beneficio total: {beneficio_total:.3f}\")"
      ],
      "metadata": {
        "colab": {
          "base_uri": "https://localhost:8080/"
        },
        "id": "HHC7YPjEfts6",
        "outputId": "f702100f-50f9-4268-9fd6-37520f784d8c"
      },
      "execution_count": 35,
      "outputs": [
        {
          "output_type": "stream",
          "name": "stdout",
          "text": [
            "    x.val\n",
            "B1  6.000\n",
            "B2  0.000\n",
            "B3  0.667\n",
            "Beneficio total: 78.000\n"
          ]
        }
      ]
    },
    {
      "cell_type": "markdown",
      "source": [
        "Solución del problema relajado. Acotamos superiormente el valor objetivo del problema entero por 78."
      ],
      "metadata": {
        "id": "Qs25jXiSkZ5l"
      }
    },
    {
      "cell_type": "code",
      "source": [
        "P1 = ampl_notebook(\n",
        "    modules=[\"highs\", \"cplex\"],  # Solvers que queremos instalar\n",
        "    license_uuid=\"d1619e22-974c-4935-ad8a-2554d161c51d\",  # licencia que usaremos (os la he mandado por correo)\n",
        ")  # instanciamos el objeto \"AMPL\" con el que vamos a trabajar"
      ],
      "metadata": {
        "colab": {
          "base_uri": "https://localhost:8080/"
        },
        "id": "f0d1IneLhJok",
        "outputId": "959d71e7-3adf-476f-bec0-0eb772efca3c"
      },
      "execution_count": 36,
      "outputs": [
        {
          "output_type": "stream",
          "name": "stdout",
          "text": [
            "Licensed to Bundle #6787.7245 expiring 20250228: 302-Optimization; 408-Operations Research, Prof. Juan Miguel Morales Gonz?lez, University of Malaga.\n"
          ]
        }
      ]
    },
    {
      "cell_type": "code",
      "source": [
        "P1.eval(r\"\"\"\n",
        "\n",
        "reset;\n",
        "set BENEFICIOS;\n",
        "set TAREAS;\n",
        "param beneficios {BENEFICIOS} >= 0;\n",
        "param n_max {TAREAS} >= 0;\n",
        "param cont {BENEFICIOS, TAREAS} >= 0;\n",
        "\n",
        "\n",
        "var x {BENEFICIOS} >= 0;\n",
        "\n",
        "maximize beneficio_total:\n",
        "    sum{i in BENEFICIOS} beneficios[i]*x[i];\n",
        "s.t. cumplir_tareas {j in TAREAS}:\n",
        "    sum{i in BENEFICIOS} cont[i,j]*x[i] <= n_max[j];\n",
        "    bounding: x[\"B3\"] <= 0;\n",
        "\n",
        "\"\"\")"
      ],
      "metadata": {
        "id": "cLTMAxgahN_d"
      },
      "execution_count": 37,
      "outputs": []
    },
    {
      "cell_type": "code",
      "source": [
        "beneficios_df, tareas_df, cont_df = preparar_datos_fabricacion()\n",
        "\n",
        "P1.set_data(beneficios_df, \"BENEFICIOS\")\n",
        "P1.set_data(tareas_df, \"TAREAS\")\n",
        "P1.get_parameter(\"cont\").set_values(cont_df)"
      ],
      "metadata": {
        "id": "lwos-RjihlOf"
      },
      "execution_count": 40,
      "outputs": []
    },
    {
      "cell_type": "code",
      "source": [
        "P1.solve(solver=\"cplex\") # Resolvemos con el solver \"cplex\""
      ],
      "metadata": {
        "colab": {
          "base_uri": "https://localhost:8080/"
        },
        "id": "TDlMdyz5hXuF",
        "outputId": "9224f065-bb0f-4065-d5b3-65d3c175290a"
      },
      "execution_count": 41,
      "outputs": [
        {
          "output_type": "stream",
          "name": "stdout",
          "text": [
            "CPLEX 22.1.1: \b\b\b\b\b\b\b\b\b\b\b\b\b\bCPLEX 22.1.1: optimal solution; objective 72\n",
            "1 simplex iterations\n"
          ]
        }
      ]
    },
    {
      "cell_type": "code",
      "source": [
        "x = P1.get_variable(\"x\") # Aquí el valor de \"x\" es convertido a un data frame de AMPL.\n",
        "df_x = x.get_values().to_pandas() # Aquí el valor de \"x\" es convertido a un data frame de Pandas.\n",
        "beneficio_total = P1.get_objective(\"beneficio_total\").value()\n",
        "df_x = df_x.round(3)\n",
        "print(df_x)\n",
        "print(f\"Beneficio total: {beneficio_total:.3f}\")"
      ],
      "metadata": {
        "colab": {
          "base_uri": "https://localhost:8080/"
        },
        "id": "CQ6MWAYthb4l",
        "outputId": "53432ddb-c347-4c75-81e7-d7e3d856e380"
      },
      "execution_count": 42,
      "outputs": [
        {
          "output_type": "stream",
          "name": "stdout",
          "text": [
            "    x.val\n",
            "B1      6\n",
            "B2      0\n",
            "B3      0\n",
            "Beneficio total: 72.000\n"
          ]
        }
      ]
    },
    {
      "cell_type": "markdown",
      "source": [
        "Podamos P1 por integridad, acotamos inferiormente el valor de la función objetivo del problema entero por 72."
      ],
      "metadata": {
        "id": "tYDHTsarkRqV"
      }
    },
    {
      "cell_type": "code",
      "source": [
        "P2 = ampl_notebook(\n",
        "    modules=[\"highs\", \"cplex\"],  # Solvers que queremos instalar\n",
        "    license_uuid=\"d1619e22-974c-4935-ad8a-2554d161c51d\",  # licencia que usaremos (os la he mandado por correo)\n",
        ")  # instanciamos el objeto \"AMPL\" con el que vamos a trabajar"
      ],
      "metadata": {
        "colab": {
          "base_uri": "https://localhost:8080/"
        },
        "id": "NZQBnAKphyHg",
        "outputId": "e6c24ac5-d4d8-46fe-cd1b-7a0c24f2f611"
      },
      "execution_count": 43,
      "outputs": [
        {
          "output_type": "stream",
          "name": "stdout",
          "text": [
            "Licensed to Bundle #6787.7245 expiring 20250228: 302-Optimization; 408-Operations Research, Prof. Juan Miguel Morales Gonz?lez, University of Malaga.\n"
          ]
        }
      ]
    },
    {
      "cell_type": "code",
      "source": [
        "P2.eval(r\"\"\"\n",
        "\n",
        "reset;\n",
        "set BENEFICIOS;\n",
        "set TAREAS;\n",
        "param beneficios {BENEFICIOS} >= 0;\n",
        "param n_max {TAREAS} >= 0;\n",
        "param cont {BENEFICIOS, TAREAS} >= 0;\n",
        "\n",
        "\n",
        "var x {BENEFICIOS} >= 0;\n",
        "\n",
        "maximize beneficio_total:\n",
        "    sum{i in BENEFICIOS} beneficios[i]*x[i];\n",
        "s.t. cumplir_tareas {j in TAREAS}:\n",
        "    sum{i in BENEFICIOS} cont[i,j]*x[i] <= n_max[j];\n",
        "    bounding: x[\"B3\"] >= 1;\n",
        "\n",
        "\"\"\")"
      ],
      "metadata": {
        "id": "1wU2IV1Zh0G4"
      },
      "execution_count": 44,
      "outputs": []
    },
    {
      "cell_type": "code",
      "source": [
        "beneficios_df, tareas_df, cont_df = preparar_datos_fabricacion()\n",
        "\n",
        "P2.set_data(beneficios_df, \"BENEFICIOS\")\n",
        "P2.set_data(tareas_df, \"TAREAS\")\n",
        "P2.get_parameter(\"cont\").set_values(cont_df)"
      ],
      "metadata": {
        "id": "uvv2BrFMh4hY"
      },
      "execution_count": 45,
      "outputs": []
    },
    {
      "cell_type": "code",
      "source": [
        "P2.solve(solver=\"cplex\") # Resolvemos con el solver \"cplex\""
      ],
      "metadata": {
        "colab": {
          "base_uri": "https://localhost:8080/"
        },
        "id": "lp4dQ5zYh7Kw",
        "outputId": "2628a1fe-bb14-4cda-edb2-c886fb0b2a70"
      },
      "execution_count": 46,
      "outputs": [
        {
          "output_type": "stream",
          "name": "stdout",
          "text": [
            "CPLEX 22.1.1: \b\b\b\b\b\b\b\b\b\b\b\b\b\bCPLEX 22.1.1: optimal solution; objective 73\n",
            "3 simplex iterations\n"
          ]
        }
      ]
    },
    {
      "cell_type": "code",
      "source": [
        "x = P2.get_variable(\"x\") # Aquí el valor de \"x\" es convertido a un data frame de AMPL.\n",
        "df_x = x.get_values().to_pandas() # Aquí el valor de \"x\" es convertido a un data frame de Pandas.\n",
        "beneficio_total = P2.get_objective(\"beneficio_total\").value()\n",
        "df_x = df_x.round(3)\n",
        "print(df_x)\n",
        "print(f\"Beneficio total: {beneficio_total:.3f}\")"
      ],
      "metadata": {
        "colab": {
          "base_uri": "https://localhost:8080/"
        },
        "id": "KtGWbqU_h-mK",
        "outputId": "0d748340-675f-44fd-d8c9-504760420612"
      },
      "execution_count": 47,
      "outputs": [
        {
          "output_type": "stream",
          "name": "stdout",
          "text": [
            "    x.val\n",
            "B1    4.5\n",
            "B2    0.5\n",
            "B3    1.0\n",
            "Beneficio total: 73.000\n"
          ]
        }
      ]
    },
    {
      "cell_type": "markdown",
      "source": [
        "Solución de P2. El valor de la función objetivo es 73, podemos ramificar."
      ],
      "metadata": {
        "id": "ZLBUEw1znDkx"
      }
    },
    {
      "cell_type": "code",
      "source": [
        "P3 = ampl_notebook(\n",
        "    modules=[\"highs\", \"cplex\"],  # Solvers que queremos instalar\n",
        "    license_uuid=\"d1619e22-974c-4935-ad8a-2554d161c51d\",  # licencia que usaremos (os la he mandado por correo)\n",
        ")  # instanciamos el objeto \"AMPL\" con el que vamos a trabajar"
      ],
      "metadata": {
        "colab": {
          "base_uri": "https://localhost:8080/"
        },
        "id": "7JdZJjNfibc8",
        "outputId": "88cdc9f0-db89-48a7-ea16-22c77fd05d3e"
      },
      "execution_count": 60,
      "outputs": [
        {
          "output_type": "stream",
          "name": "stdout",
          "text": [
            "Licensed to Bundle #6787.7245 expiring 20250228: 302-Optimization; 408-Operations Research, Prof. Juan Miguel Morales Gonz?lez, University of Malaga.\n"
          ]
        }
      ]
    },
    {
      "cell_type": "code",
      "source": [
        "P3.eval(r\"\"\"\n",
        "\n",
        "reset;\n",
        "set BENEFICIOS;\n",
        "set TAREAS;\n",
        "param beneficios {BENEFICIOS} >= 0;\n",
        "param n_max {TAREAS} >= 0;\n",
        "param cont {BENEFICIOS, TAREAS} >= 0;\n",
        "\n",
        "\n",
        "var x {BENEFICIOS} >= 0;\n",
        "\n",
        "maximize beneficio_total:\n",
        "    sum{i in BENEFICIOS} beneficios[i]*x[i];\n",
        "s.t. cumplir_tareas {j in TAREAS}:\n",
        "    sum{i in BENEFICIOS} cont[i,j]*x[i] <= n_max[j];\n",
        "    bounding1: x[\"B3\"] >= 1;\n",
        "    bounding2: x[\"B1\"] <= 4;\n",
        "\n",
        "\"\"\")"
      ],
      "metadata": {
        "id": "S0OFb8n1idXr"
      },
      "execution_count": 62,
      "outputs": []
    },
    {
      "cell_type": "code",
      "source": [
        "beneficios_df, tareas_df, cont_df = preparar_datos_fabricacion()\n",
        "\n",
        "P3.set_data(beneficios_df, \"BENEFICIOS\")\n",
        "P3.set_data(tareas_df, \"TAREAS\")\n",
        "P3.get_parameter(\"cont\").set_values(cont_df)"
      ],
      "metadata": {
        "id": "C4fbu57ziivk"
      },
      "execution_count": 63,
      "outputs": []
    },
    {
      "cell_type": "code",
      "source": [
        "P3.solve(solver=\"cplex\") # Resolvemos con el solver \"cplex\""
      ],
      "metadata": {
        "colab": {
          "base_uri": "https://localhost:8080/"
        },
        "id": "dnUH03-Ail_L",
        "outputId": "3e75c5a9-b49c-4947-ebc1-6941b1b714c7"
      },
      "execution_count": 64,
      "outputs": [
        {
          "output_type": "stream",
          "name": "stdout",
          "text": [
            "CPLEX 22.1.1: \b\b\b\b\b\b\b\b\b\b\b\b\b\bCPLEX 22.1.1: optimal solution; objective 71.33333333\n",
            "3 simplex iterations\n"
          ]
        }
      ]
    },
    {
      "cell_type": "code",
      "source": [
        "x = P3.get_variable(\"x\") # Aquí el valor de \"x\" es convertido a un data frame de AMPL.\n",
        "df_x = x.get_values().to_pandas() # Aquí el valor de \"x\" es convertido a un data frame de Pandas.\n",
        "beneficio_total = P3.get_objective(\"beneficio_total\").value()\n",
        "df_x = df_x.round(3)\n",
        "print(df_x)\n",
        "print(f\"Beneficio total: {beneficio_total:.3f}\")"
      ],
      "metadata": {
        "colab": {
          "base_uri": "https://localhost:8080/"
        },
        "id": "7eoYitogit9M",
        "outputId": "7e7532f8-77da-41e4-9bbe-fc39aa73124b"
      },
      "execution_count": 65,
      "outputs": [
        {
          "output_type": "stream",
          "name": "stdout",
          "text": [
            "    x.val\n",
            "B1  4.000\n",
            "B2  0.667\n",
            "B3  1.111\n",
            "Beneficio total: 71.333\n"
          ]
        }
      ]
    },
    {
      "cell_type": "markdown",
      "source": [
        "Podamos P3 por acotación, ya que el valor de la función objetivo para este problema es menor que 72."
      ],
      "metadata": {
        "id": "h5keJrK8k6T_"
      }
    },
    {
      "cell_type": "code",
      "source": [
        "P4 = ampl_notebook(\n",
        "    modules=[\"highs\", \"cplex\"],  # Solvers que queremos instalar\n",
        "    license_uuid=\"d1619e22-974c-4935-ad8a-2554d161c51d\",  # licencia que usaremos (os la he mandado por correo)\n",
        ")  # instanciamos el objeto \"AMPL\" con el que vamos a trabajar"
      ],
      "metadata": {
        "colab": {
          "base_uri": "https://localhost:8080/"
        },
        "id": "Q2a-ebXnjDZ2",
        "outputId": "27b41bcb-b8ce-4c17-91d3-9c104e0a1c78"
      },
      "execution_count": 69,
      "outputs": [
        {
          "output_type": "stream",
          "name": "stdout",
          "text": [
            "Licensed to Bundle #6787.7245 expiring 20250228: 302-Optimization; 408-Operations Research, Prof. Juan Miguel Morales Gonz?lez, University of Malaga.\n"
          ]
        }
      ]
    },
    {
      "cell_type": "code",
      "source": [
        "P4.eval(r\"\"\"\n",
        "\n",
        "reset;\n",
        "set BENEFICIOS;\n",
        "set TAREAS;\n",
        "param beneficios {BENEFICIOS} >= 0;\n",
        "param n_max {TAREAS} >= 0;\n",
        "param cont {BENEFICIOS, TAREAS} >= 0;\n",
        "\n",
        "\n",
        "var x {BENEFICIOS} >= 0;\n",
        "\n",
        "maximize beneficio_total:\n",
        "    sum{i in BENEFICIOS} beneficios[i]*x[i];\n",
        "s.t. cumplir_tareas {j in TAREAS}:\n",
        "    sum{i in BENEFICIOS} cont[i,j]*x[i] <= n_max[j];\n",
        "    bounding1: x[\"B3\"] >= 1;\n",
        "    bounding2: x[\"B1\"] >= 5;\n",
        "\n",
        "\"\"\")"
      ],
      "metadata": {
        "id": "6-dtgxr9jFRO"
      },
      "execution_count": 70,
      "outputs": []
    },
    {
      "cell_type": "code",
      "source": [
        "beneficios_df, tareas_df, cont_df = preparar_datos_fabricacion()\n",
        "\n",
        "P4.set_data(beneficios_df, \"BENEFICIOS\")\n",
        "P4.set_data(tareas_df, \"TAREAS\")\n",
        "P4.get_parameter(\"cont\").set_values(cont_df)"
      ],
      "metadata": {
        "id": "1V1TotPbjKQP"
      },
      "execution_count": 71,
      "outputs": []
    },
    {
      "cell_type": "code",
      "source": [
        "P4.solve(solver=\"cplex\") # Resolvemos con el solver \"cplex\""
      ],
      "metadata": {
        "colab": {
          "base_uri": "https://localhost:8080/"
        },
        "id": "CR0BOJqijM8X",
        "outputId": "620be07a-b9ae-4783-e418-950da17dc6c4"
      },
      "execution_count": 72,
      "outputs": [
        {
          "output_type": "stream",
          "name": "stdout",
          "text": [
            "Solution determined by presolve;\n",
            "objective beneficio_total = 69.\n"
          ]
        }
      ]
    },
    {
      "cell_type": "code",
      "source": [
        "x = P4.get_variable(\"x\") # Aquí el valor de \"x\" es convertido a un data frame de AMPL.\n",
        "df_x = x.get_values().to_pandas() # Aquí el valor de \"x\" es convertido a un data frame de Pandas.\n",
        "beneficio_total = P4.get_objective(\"beneficio_total\").value()\n",
        "df_x = df_x.round(3)\n",
        "print(df_x)\n",
        "print(f\"Beneficio total: {beneficio_total:.3f}\")"
      ],
      "metadata": {
        "colab": {
          "base_uri": "https://localhost:8080/"
        },
        "id": "W4AIoZAajO-w",
        "outputId": "6496933c-b720-42ed-9a0d-6da8e28e6017"
      },
      "execution_count": 73,
      "outputs": [
        {
          "output_type": "stream",
          "name": "stdout",
          "text": [
            "    x.val\n",
            "B1      5\n",
            "B2      0\n",
            "B3      1\n",
            "Beneficio total: 69.000\n"
          ]
        }
      ]
    },
    {
      "cell_type": "markdown",
      "source": [
        "Podamos P4 por acotación, ya que el valor de la función objetivo para este problema es menor que 72."
      ],
      "metadata": {
        "id": "HCg6yXRHlE5h"
      }
    },
    {
      "cell_type": "markdown",
      "source": [
        "  La solución de nuestro problema entero viene dada por resolver el problema P1, obteniendo x = (6,0,0) con valor objetivo z = 72, justamente la solución proporcionada por el solver para el problema con las variables restringidas a ser números enteros."
      ],
      "metadata": {
        "id": "HdGUvgIjlU7j"
      }
    }
  ]
}