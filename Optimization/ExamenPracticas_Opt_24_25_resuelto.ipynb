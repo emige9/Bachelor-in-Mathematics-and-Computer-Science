{
  "nbformat": 4,
  "nbformat_minor": 0,
  "metadata": {
    "colab": {
      "provenance": []
    },
    "kernelspec": {
      "name": "python3",
      "display_name": "Python 3"
    },
    "language_info": {
      "name": "python"
    }
  },
  "cells": [
    {
      "cell_type": "markdown",
      "source": [
        "Considera el problema de la planificación semanal de la producción de una empresa de fabricación de automóviles. La empresa fabrica $M$ modelos de automóvil. La producción de estos modelos requiere la ejecución de $T$ tareas (por ejemplo, ensamblaje de componentes mecánicas, pintura, perfilado, montaje de componentes eléctricas, etc.). La realización de estas tareas requiere personal cualificado, en un número de operarios que es diferente para cada modelo de automóvil. Sea $o_{mt}, m = 1, \\ldots, M; t = 1, \\ldots, T$, el número de operarios especializados en la tarea $t$ que se necesita para fabricar un automóvil modelo $m$ a la semana. Sabiendo que $\\overline{o}_{t}$, con $m = 1, \\ldots, M$ y $t = 1, \\ldots, T$ representa el número máximo de operarios cualificados para ejecutar la tarea $t$ de los que la empresa dispone en una semana laboral y que el beneficio que la empresa obtiene por la venta del modelo $m$ de automóvil es $b_m$, se pide:\n",
        "\n",
        "1.   Construye un modelo de programación entera en AMPL para maximizar el beneficio semanal que hace la empresa a partir de la fabricación de los diferentes modelos de automóviles (4 puntos)."
      ],
      "metadata": {
        "id": "oCDA8ff5ceNi"
      }
    },
    {
      "cell_type": "code",
      "source": [
        "%pip install -q amplpy"
      ],
      "metadata": {
        "id": "UE9aUNWE0UA8"
      },
      "execution_count": null,
      "outputs": []
    },
    {
      "cell_type": "code",
      "source": [
        "# Integración en Google Colab\n",
        "from amplpy import AMPL, ampl_notebook\n",
        "\n",
        "Pe = ampl_notebook(\n",
        "    modules=[\"highs\", \"cplex\"],  # Solvers que queremos instalar\n",
        "    license_uuid=\"d1619e22-974c-4935-ad8a-2554d161c51d\",  # licencia que usaremos (os la he mandado por correo)\n",
        ")  # instanciamos el objeto \"AMPL\" con el que vamos a trabajar"
      ],
      "metadata": {
        "colab": {
          "base_uri": "https://localhost:8080/"
        },
        "id": "vdNWjzlf0X9r",
        "outputId": "97cf1532-ecb9-40f3-c737-8824f7f2badd"
      },
      "execution_count": null,
      "outputs": [
        {
          "output_type": "stream",
          "name": "stdout",
          "text": [
            "Licensed to Bundle #6787.7245 expiring 20250228: 302-Optimization; 408-Operations Research, Prof. Juan Miguel Morales Gonz?lez, University of Malaga.\n"
          ]
        }
      ]
    },
    {
      "cell_type": "code",
      "source": [
        "Pe.eval(r\"\"\"\n",
        "reset;\n",
        "# Parámetros\n",
        "param M >= 0;  # Número de modelos de automóviles\n",
        "param T >= 0;  # Número de tareas\n",
        "param o {1..M, 1..T} >= 0;  # Número de operarios necesarios para cada tarea\n",
        "param omax {1..T} >= 0;  # Número máximo de operarios disponibles para cada tarea\n",
        "param b {1..M};  # Beneficio por la venta de cada modelo de automóvil\n",
        "\n",
        "# Variables de decisión\n",
        "var x {1..M} >= 0, integer;  # Cantidad de unidades del modelo m a producir\n",
        "\n",
        "# Función objetivo (maximizar el beneficio)\n",
        "maximize Beneficio: sum {m in 1..M} b[m] * x[m];\n",
        "subject to Operarios_por_tarea {t in 1..T}:\n",
        "    sum {m in 1..M} o[m, t] * x[m] <= omax[t];\n",
        "\n",
        "\"\"\")\n"
      ],
      "metadata": {
        "id": "JhjvSMTqdmtJ"
      },
      "execution_count": null,
      "outputs": []
    },
    {
      "cell_type": "markdown",
      "source": [
        "Considera el caso particular en que la empresa fabrica tres modelos de automóviles ($M = 3$) cuyo montaje requiere de hasta cuatro tareas especializadas ($T = 4$). Los operarios disponibles para la ejecución de cada tarea, el número de ellos que requiere cada modelo de automóvil y los beneficios (en miles de €) que obtiene la empresa de la venta de cada modelo, son los especificados en las siguientes tablas.\n",
        "\n",
        "<center>\n",
        "\n",
        "|  Modelo    | Tarea 1   | Tarea 2  | Tarea 3 | Tarea 4 | Beneficio|\n",
        "| ------------  | --------     | ---      | ---    |  ---    |--- |\n",
        "| 1            | 1       | 1 | 1|  1 |  12\n",
        "| 2            | 2       | 2 | 1| 3  |  20\n",
        "| 3            | 1       | 2 | 3|  0  |  9\n",
        "| **#Operarios**   | 7   | 10      | 8   |  6    |\n",
        "\n",
        "</center>\n",
        "\n",
        "\n",
        "\n",
        "*   Resuelve este caso particular con un solver para programas lineales enteros (1 punto)."
      ],
      "metadata": {
        "id": "jCgdwGAVeosS"
      }
    },
    {
      "cell_type": "code",
      "source": [
        "# Introducimos el beneficio, el número de operarios para cada tarea que requiere\n",
        "# cada modelo de automóvil y el número máximo de operarios especializados en\n",
        "# la ejecución de cada tarea.\n",
        "\n",
        "import pandas as pd\n",
        "import numpy as np\n",
        "\n",
        "beneficio ={\n",
        "    1: 12,\n",
        "    2: 20,\n",
        "    3: 9,\n",
        "}\n",
        "\n",
        "max_operarios = {\n",
        "    1: 7,\n",
        "    2: 10,\n",
        "    3: 8,\n",
        "    4: 6,\n",
        "}\n",
        "\n",
        " # Creamos un data frame que contenga el número de operarios necesarios por\n",
        " # tarea y modelo\n",
        "\n",
        "Operarios_por_tarea_modelo = pd.DataFrame(\n",
        "        np.array(\n",
        "            [\n",
        "                [1, 1, 1, 1],\n",
        "                [2, 2, 1, 3],\n",
        "                [1, 2, 3, 0]\n",
        "            ]\n",
        "        ),\n",
        "        columns= list(max_operarios.keys()),\n",
        "        index  = list(beneficio.keys()),\n",
        "    )\n",
        "\n",
        "Pe.param[\"M\"] = len(beneficio)\n",
        "Pe.param[\"T\"] = len(max_operarios)\n",
        "Pe.param[\"b\"] = {m: b for m, b in beneficio.items()}\n",
        "Pe.param[\"omax\"] = {t: o for t, o in max_operarios.items()}\n",
        "Pe.get_parameter(\"o\").set_values(Operarios_por_tarea_modelo)\n",
        "\n"
      ],
      "metadata": {
        "id": "tC2_bTZXDAWI"
      },
      "execution_count": null,
      "outputs": []
    },
    {
      "cell_type": "code",
      "source": [
        "Pe.solve(solver=\"cplex\") # Resolvemos con el solver \"cplex\"\n"
      ],
      "metadata": {
        "colab": {
          "base_uri": "https://localhost:8080/"
        },
        "id": "yFh0Hk5Zh5SC",
        "outputId": "366d7b0a-b527-4d03-b794-b489a242c45e"
      },
      "execution_count": null,
      "outputs": [
        {
          "output_type": "stream",
          "name": "stdout",
          "text": [
            "CPLEX 22.1.1: \b\b\b\b\b\b\b\b\b\b\b\b\b\bCPLEX 22.1.1: optimal solution; objective 72\n",
            "2 simplex iterations\n"
          ]
        }
      ]
    },
    {
      "cell_type": "code",
      "source": [
        "x = Pe.get_variable(\"x\") # Producción de modelos de automóvil\n",
        "df_x = x.get_values().to_pandas()\n",
        "profit = Pe.get_objective(\"Beneficio\").value()\n",
        "print(df_x)\n",
        "print(f\"Beneficio: {profit}\")\n"
      ],
      "metadata": {
        "colab": {
          "base_uri": "https://localhost:8080/"
        },
        "id": "PNNhSF3iiAJr",
        "outputId": "b4a1ea6e-cc27-47b4-b7df-52762e248169"
      },
      "execution_count": null,
      "outputs": [
        {
          "output_type": "stream",
          "name": "stdout",
          "text": [
            "   x.val\n",
            "1      6\n",
            "2      0\n",
            "3      0\n",
            "Beneficio: 72.0\n"
          ]
        }
      ]
    },
    {
      "cell_type": "markdown",
      "source": [
        "Resuelve este caso particular mediante el *algoritmo de ramificación y acotación*, utilizando un solver adecuado para resolver los problemas lineales relajados que sean necesarios. Representa el árbol al que la aplicación del algoritmo ha dado lugar, especificando los tipos de podas que has realizado en cada caso hasta certificar la solución óptima del problema entero (5 puntos)."
      ],
      "metadata": {
        "id": "cAovt_jwig9A"
      }
    },
    {
      "cell_type": "markdown",
      "source": [
        "Problema relajado Pr:"
      ],
      "metadata": {
        "id": "7BAnEmnJijTd"
      }
    },
    {
      "cell_type": "code",
      "source": [
        "# Integración en Google Colab\n",
        "from amplpy import AMPL, ampl_notebook\n",
        "\n",
        "Pr = ampl_notebook(\n",
        "    modules=[\"highs\", \"cplex\"],  # Solvers que queremos instalar\n",
        "    license_uuid=\"d1619e22-974c-4935-ad8a-2554d161c51d\",  # licencia que usaremos (os la he mandado por correo)\n",
        ")  # instanciamos el objeto \"AMPL\" con el que vamos a trabajar"
      ],
      "metadata": {
        "colab": {
          "base_uri": "https://localhost:8080/"
        },
        "outputId": "89a89eba-f2dd-480d-db19-46b286b078e4",
        "id": "6kZ1VDR-isOx"
      },
      "execution_count": null,
      "outputs": [
        {
          "output_type": "stream",
          "name": "stdout",
          "text": [
            "Licensed to Bundle #6787.7245 expiring 20250228: 302-Optimization; 408-Operations Research, Prof. Juan Miguel Morales Gonz?lez, University of Malaga.\n"
          ]
        }
      ]
    },
    {
      "cell_type": "code",
      "source": [
        "Pr.eval(r\"\"\"\n",
        "reset;\n",
        "# Parámetros\n",
        "param M >= 0;  # Número de modelos de automóviles\n",
        "param T >= 0;  # Número de tareas\n",
        "param o {1..M, 1..T} >= 0;  # Número de operarios necesarios para cada tarea\n",
        "param omax {1..T} >= 0;  # Número máximo de operarios disponibles para cada tarea\n",
        "param b {1..M};  # Beneficio por la venta de cada modelo de automóvil\n",
        "\n",
        "# Variables de decisión\n",
        "var x {1..M} >= 0;  # Cantidad de unidades del modelo m a producir\n",
        "\n",
        "# Función objetivo (maximizar el beneficio)\n",
        "maximize Beneficio: sum {m in 1..M} b[m] * x[m];\n",
        "subject to Operarios_por_tarea {t in 1..T}:\n",
        "    sum {m in 1..M} o[m, t] * x[m] <= omax[t];\n",
        "\n",
        "\"\"\")\n"
      ],
      "metadata": {
        "id": "8w_q7OS0isOz"
      },
      "execution_count": null,
      "outputs": []
    },
    {
      "cell_type": "code",
      "source": [
        "Pr.param[\"M\"] = len(beneficio)\n",
        "Pr.param[\"T\"] = len(max_operarios)\n",
        "Pr.param[\"b\"] = {m: b for m, b in beneficio.items()}\n",
        "Pr.param[\"omax\"] = {t: o for t, o in max_operarios.items()}\n",
        "Pr.get_parameter(\"o\").set_values(Operarios_por_tarea_modelo)"
      ],
      "metadata": {
        "id": "UO57yA-Vi5bT"
      },
      "execution_count": null,
      "outputs": []
    },
    {
      "cell_type": "code",
      "source": [
        "Pr.solve(solver=\"cplex\") # Resolvemos con el solver \"cplex\"\n"
      ],
      "metadata": {
        "colab": {
          "base_uri": "https://localhost:8080/"
        },
        "outputId": "455639bc-f69e-4526-fdc2-a0d115c4c1cd",
        "id": "0toiuUhUjNoi"
      },
      "execution_count": null,
      "outputs": [
        {
          "output_type": "stream",
          "name": "stdout",
          "text": [
            "CPLEX 22.1.1: \b\b\b\b\b\b\b\b\b\b\b\b\b\bCPLEX 22.1.1: optimal solution; objective 78\n",
            "3 simplex iterations\n"
          ]
        }
      ]
    },
    {
      "cell_type": "code",
      "source": [
        "x = Pr.get_variable(\"x\") # Producción de modelos de automóvil\n",
        "df_x = x.get_values().to_pandas()\n",
        "profit = Pr.get_objective(\"Beneficio\").value()\n",
        "print(df_x)\n",
        "print(f\"Beneficio: {profit}\")\n"
      ],
      "metadata": {
        "colab": {
          "base_uri": "https://localhost:8080/"
        },
        "outputId": "27364b1d-37d2-4875-b25d-8725fbdf5644",
        "id": "RL--FO0zjNoj"
      },
      "execution_count": null,
      "outputs": [
        {
          "output_type": "stream",
          "name": "stdout",
          "text": [
            "      x.val\n",
            "1  6.000000\n",
            "2  0.000000\n",
            "3  0.666667\n",
            "Beneficio: 78.0\n"
          ]
        }
      ]
    },
    {
      "cell_type": "markdown",
      "source": [
        "Ramificamos $x_3$"
      ],
      "metadata": {
        "id": "vfLuSY2NjxxC"
      }
    },
    {
      "cell_type": "code",
      "source": [
        "# Integración en Google Colab\n",
        "from amplpy import AMPL, ampl_notebook\n",
        "\n",
        "P1 = ampl_notebook(\n",
        "    modules=[\"highs\", \"cplex\"],  # Solvers que queremos instalar\n",
        "    license_uuid=\"d1619e22-974c-4935-ad8a-2554d161c51d\",  # licencia que usaremos (os la he mandado por correo)\n",
        ")  # instanciamos el objeto \"AMPL\" con el que vamos a trabajar"
      ],
      "metadata": {
        "colab": {
          "base_uri": "https://localhost:8080/"
        },
        "outputId": "81f7b2ac-bd14-4bad-c7f4-1e832779e91f",
        "id": "qZ-yYKCqjxxC"
      },
      "execution_count": null,
      "outputs": [
        {
          "output_type": "stream",
          "name": "stdout",
          "text": [
            "Licensed to Bundle #6787.7245 expiring 20250228: 302-Optimization; 408-Operations Research, Prof. Juan Miguel Morales Gonz?lez, University of Malaga.\n"
          ]
        }
      ]
    },
    {
      "cell_type": "code",
      "source": [
        "P1.eval(r\"\"\"\n",
        "reset;\n",
        "# Parámetros\n",
        "param M >= 0;  # Número de modelos de automóviles\n",
        "param T >= 0;  # Número de tareas\n",
        "param o {1..M, 1..T} >= 0;  # Número de operarios necesarios para cada tarea\n",
        "param omax {1..T} >= 0;  # Número máximo de operarios disponibles para cada tarea\n",
        "param b {1..M};  # Beneficio por la venta de cada modelo de automóvil\n",
        "\n",
        "# Variables de decisión\n",
        "var x {1..M} >= 0;  # Cantidad de unidades del modelo m a producir\n",
        "\n",
        "# Función objetivo (maximizar el beneficio)\n",
        "maximize Beneficio: sum {m in 1..M} b[m] * x[m];\n",
        "subject to Operarios_por_tarea {t in 1..T}:\n",
        "    sum {m in 1..M} o[m, t] * x[m] <= omax[t];\n",
        "    bounding: x[3] <= 0;\n",
        "\n",
        "\"\"\")\n"
      ],
      "metadata": {
        "id": "Blgnqwa6jxxD"
      },
      "execution_count": null,
      "outputs": []
    },
    {
      "cell_type": "code",
      "source": [
        "P1.param[\"M\"] = len(beneficio)\n",
        "P1.param[\"T\"] = len(max_operarios)\n",
        "P1.param[\"b\"] = {m: b for m, b in beneficio.items()}\n",
        "P1.param[\"omax\"] = {t: o for t, o in max_operarios.items()}\n",
        "P1.get_parameter(\"o\").set_values(Operarios_por_tarea_modelo)"
      ],
      "metadata": {
        "id": "CP1TX5nyjxxD"
      },
      "execution_count": null,
      "outputs": []
    },
    {
      "cell_type": "code",
      "source": [
        "P1.solve(solver=\"cplex\") # Resolvemos con el solver \"cplex\"\n"
      ],
      "metadata": {
        "colab": {
          "base_uri": "https://localhost:8080/"
        },
        "outputId": "2e789763-d1e9-40d4-b150-c91932bacc76",
        "id": "f1dwHvZJjxxD"
      },
      "execution_count": null,
      "outputs": [
        {
          "output_type": "stream",
          "name": "stdout",
          "text": [
            "CPLEX 22.1.1: \b\b\b\b\b\b\b\b\b\b\b\b\b\bCPLEX 22.1.1: optimal solution; objective 72\n",
            "1 simplex iterations\n"
          ]
        }
      ]
    },
    {
      "cell_type": "code",
      "source": [
        "x = P1.get_variable(\"x\") # Producción de modelos de automóvil\n",
        "df_x = x.get_values().to_pandas()\n",
        "profit = P1.get_objective(\"Beneficio\").value()\n",
        "print(df_x)\n",
        "print(f\"Beneficio: {profit}\")\n"
      ],
      "metadata": {
        "colab": {
          "base_uri": "https://localhost:8080/"
        },
        "outputId": "d8319a65-6362-4a40-e697-30f80c8c27b9",
        "id": "wVhGbcxQjxxD"
      },
      "execution_count": null,
      "outputs": [
        {
          "output_type": "stream",
          "name": "stdout",
          "text": [
            "   x.val\n",
            "1      6\n",
            "2      0\n",
            "3      0\n",
            "Beneficio: 72.0\n"
          ]
        }
      ]
    },
    {
      "cell_type": "code",
      "source": [
        "# Integración en Google Colab\n",
        "from amplpy import AMPL, ampl_notebook\n",
        "\n",
        "P2 = ampl_notebook(\n",
        "    modules=[\"highs\", \"cplex\"],  # Solvers que queremos instalar\n",
        "    license_uuid=\"d1619e22-974c-4935-ad8a-2554d161c51d\",  # licencia que usaremos (os la he mandado por correo)\n",
        ")  # instanciamos el objeto \"AMPL\" con el que vamos a trabajar"
      ],
      "metadata": {
        "colab": {
          "base_uri": "https://localhost:8080/"
        },
        "outputId": "f5a7bf51-6e2c-4292-ceeb-412d4672aee2",
        "id": "RiWuEEGxkhYa"
      },
      "execution_count": null,
      "outputs": [
        {
          "output_type": "stream",
          "name": "stdout",
          "text": [
            "Licensed to Bundle #6787.7245 expiring 20250228: 302-Optimization; 408-Operations Research, Prof. Juan Miguel Morales Gonz?lez, University of Malaga.\n"
          ]
        }
      ]
    },
    {
      "cell_type": "code",
      "source": [
        "P2.eval(r\"\"\"\n",
        "reset;\n",
        "# Parámetros\n",
        "param M >= 0;  # Número de modelos de automóviles\n",
        "param T >= 0;  # Número de tareas\n",
        "param o {1..M, 1..T} >= 0;  # Número de operarios necesarios para cada tarea\n",
        "param omax {1..T} >= 0;  # Número máximo de operarios disponibles para cada tarea\n",
        "param b {1..M};  # Beneficio por la venta de cada modelo de automóvil\n",
        "\n",
        "# Variables de decisión\n",
        "var x {1..M} >= 0;  # Cantidad de unidades del modelo m a producir\n",
        "\n",
        "# Función objetivo (maximizar el beneficio)\n",
        "maximize Beneficio: sum {m in 1..M} b[m] * x[m];\n",
        "subject to Operarios_por_tarea {t in 1..T}:\n",
        "    sum {m in 1..M} o[m, t] * x[m] <= omax[t];\n",
        "    bounding: x[3] >= 1;\n",
        "\n",
        "\"\"\")\n"
      ],
      "metadata": {
        "id": "fQRmUFVhkhYb"
      },
      "execution_count": null,
      "outputs": []
    },
    {
      "cell_type": "code",
      "source": [
        "P2.param[\"M\"] = len(beneficio)\n",
        "P2.param[\"T\"] = len(max_operarios)\n",
        "P2.param[\"b\"] = {m: b for m, b in beneficio.items()}\n",
        "P2.param[\"omax\"] = {t: o for t, o in max_operarios.items()}\n",
        "P2.get_parameter(\"o\").set_values(Operarios_por_tarea_modelo)"
      ],
      "metadata": {
        "id": "G0n7EMkgkhYb"
      },
      "execution_count": null,
      "outputs": []
    },
    {
      "cell_type": "code",
      "source": [
        "P2.solve(solver=\"cplex\") # Resolvemos con el solver \"cplex\"\n"
      ],
      "metadata": {
        "colab": {
          "base_uri": "https://localhost:8080/"
        },
        "outputId": "56109131-bf24-4dec-df0a-013da7459728",
        "id": "8FQyE3yekhYb"
      },
      "execution_count": null,
      "outputs": [
        {
          "output_type": "stream",
          "name": "stdout",
          "text": [
            "CPLEX 22.1.1: \b\b\b\b\b\b\b\b\b\b\b\b\b\bCPLEX 22.1.1: optimal solution; objective 73\n",
            "3 simplex iterations\n"
          ]
        }
      ]
    },
    {
      "cell_type": "code",
      "source": [
        "x = P2.get_variable(\"x\") # Producción de modelos de automóvil\n",
        "df_x = x.get_values().to_pandas()\n",
        "profit = P2.get_objective(\"Beneficio\").value()\n",
        "print(df_x)\n",
        "print(f\"Beneficio: {profit}\")\n"
      ],
      "metadata": {
        "colab": {
          "base_uri": "https://localhost:8080/"
        },
        "outputId": "d43424cc-0229-494c-e6a4-aa498d6902c2",
        "id": "IIKJajLnkhYb"
      },
      "execution_count": null,
      "outputs": [
        {
          "output_type": "stream",
          "name": "stdout",
          "text": [
            "   x.val\n",
            "1    4.5\n",
            "2    0.5\n",
            "3    1.0\n",
            "Beneficio: 73.0\n"
          ]
        }
      ]
    },
    {
      "cell_type": "markdown",
      "source": [
        "A partir del problema $P_2$, ramificamos $x_2$"
      ],
      "metadata": {
        "id": "kljbgpzanleb"
      }
    },
    {
      "cell_type": "code",
      "source": [
        "# Integración en Google Colab\n",
        "from amplpy import AMPL, ampl_notebook\n",
        "\n",
        "P3 = ampl_notebook(\n",
        "    modules=[\"highs\", \"cplex\"],  # Solvers que queremos instalar\n",
        "    license_uuid=\"d1619e22-974c-4935-ad8a-2554d161c51d\",  # licencia que usaremos (os la he mandado por correo)\n",
        ")  # instanciamos el objeto \"AMPL\" con el que vamos a trabajar"
      ],
      "metadata": {
        "colab": {
          "base_uri": "https://localhost:8080/"
        },
        "outputId": "cdd48143-27ea-44e6-8488-2552680e85ef",
        "id": "hbn-UpSInlec"
      },
      "execution_count": null,
      "outputs": [
        {
          "output_type": "stream",
          "name": "stdout",
          "text": [
            "Licensed to Bundle #6787.7245 expiring 20250228: 302-Optimization; 408-Operations Research, Prof. Juan Miguel Morales Gonz?lez, University of Malaga.\n"
          ]
        }
      ]
    },
    {
      "cell_type": "code",
      "source": [
        "P3.eval(r\"\"\"\n",
        "reset;\n",
        "# Parámetros\n",
        "param M >= 0;  # Número de modelos de automóviles\n",
        "param T >= 0;  # Número de tareas\n",
        "param o {1..M, 1..T} >= 0;  # Número de operarios necesarios para cada tarea\n",
        "param omax {1..T} >= 0;  # Número máximo de operarios disponibles para cada tarea\n",
        "param b {1..M};  # Beneficio por la venta de cada modelo de automóvil\n",
        "\n",
        "# Variables de decisión\n",
        "var x {1..M} >= 0;  # Cantidad de unidades del modelo m a producir\n",
        "\n",
        "# Función objetivo (maximizar el beneficio)\n",
        "maximize Beneficio: sum {m in 1..M} b[m] * x[m];\n",
        "subject to Operarios_por_tarea {t in 1..T}:\n",
        "    sum {m in 1..M} o[m, t] * x[m] <= omax[t];\n",
        "    bounding1: x[3] >= 1;\n",
        "    bounding2: x[2] <= 0;\n",
        "\n",
        "\"\"\")\n"
      ],
      "metadata": {
        "id": "N8BrZBkonlec"
      },
      "execution_count": null,
      "outputs": []
    },
    {
      "cell_type": "code",
      "source": [
        "P3.param[\"M\"] = len(beneficio)\n",
        "P3.param[\"T\"] = len(max_operarios)\n",
        "P3.param[\"b\"] = {m: b for m, b in beneficio.items()}\n",
        "P3.param[\"omax\"] = {t: o for t, o in max_operarios.items()}\n",
        "P3.get_parameter(\"o\").set_values(Operarios_por_tarea_modelo)"
      ],
      "metadata": {
        "id": "ai0xuTEZnlec"
      },
      "execution_count": null,
      "outputs": []
    },
    {
      "cell_type": "code",
      "source": [
        "P3.solve(solver=\"cplex\") # Resolvemos con el solver \"cplex\"\n"
      ],
      "metadata": {
        "colab": {
          "base_uri": "https://localhost:8080/"
        },
        "outputId": "c8f19b4c-fcc1-43f6-d4ef-7539a0cba723",
        "id": "C1AaFB_Vnled"
      },
      "execution_count": null,
      "outputs": [
        {
          "output_type": "stream",
          "name": "stdout",
          "text": [
            "CPLEX 22.1.1: \b\b\b\b\b\b\b\b\b\b\b\b\b\bCPLEX 22.1.1: optimal solution; objective 69\n",
            "2 simplex iterations\n"
          ]
        }
      ]
    },
    {
      "cell_type": "code",
      "source": [
        "x = P3.get_variable(\"x\") # Producción de modelos de automóvil\n",
        "df_x = x.get_values().to_pandas()\n",
        "profit = P3.get_objective(\"Beneficio\").value()\n",
        "print(df_x)\n",
        "print(f\"Beneficio: {profit}\")\n"
      ],
      "metadata": {
        "colab": {
          "base_uri": "https://localhost:8080/"
        },
        "outputId": "8da98dab-ca72-48a7-fe07-8202eca75d5c",
        "id": "v7oKOda_nlee"
      },
      "execution_count": null,
      "outputs": [
        {
          "output_type": "stream",
          "name": "stdout",
          "text": [
            "   x.val\n",
            "1      5\n",
            "2      0\n",
            "3      1\n",
            "Beneficio: 69.0\n"
          ]
        }
      ]
    },
    {
      "cell_type": "code",
      "source": [
        "# Integración en Google Colab\n",
        "from amplpy import AMPL, ampl_notebook\n",
        "\n",
        "P4 = ampl_notebook(\n",
        "    modules=[\"highs\", \"cplex\"],  # Solvers que queremos instalar\n",
        "    license_uuid=\"d1619e22-974c-4935-ad8a-2554d161c51d\",  # licencia que usaremos (os la he mandado por correo)\n",
        ")  # instanciamos el objeto \"AMPL\" con el que vamos a trabajar"
      ],
      "metadata": {
        "colab": {
          "base_uri": "https://localhost:8080/"
        },
        "outputId": "9697d1ac-bf3f-4365-d188-c8563e38845f",
        "id": "TOC1T5j_pPTY"
      },
      "execution_count": null,
      "outputs": [
        {
          "output_type": "stream",
          "name": "stdout",
          "text": [
            "Licensed to Bundle #6787.7245 expiring 20250228: 302-Optimization; 408-Operations Research, Prof. Juan Miguel Morales Gonz?lez, University of Malaga.\n"
          ]
        }
      ]
    },
    {
      "cell_type": "code",
      "source": [
        "P4.eval(r\"\"\"\n",
        "reset;\n",
        "# Parámetros\n",
        "param M >= 0;  # Número de modelos de automóviles\n",
        "param T >= 0;  # Número de tareas\n",
        "param o {1..M, 1..T} >= 0;  # Número de operarios necesarios para cada tarea\n",
        "param omax {1..T} >= 0;  # Número máximo de operarios disponibles para cada tarea\n",
        "param b {1..M};  # Beneficio por la venta de cada modelo de automóvil\n",
        "\n",
        "# Variables de decisión\n",
        "var x {1..M} >= 0;  # Cantidad de unidades del modelo m a producir\n",
        "\n",
        "# Función objetivo (maximizar el beneficio)\n",
        "maximize Beneficio: sum {m in 1..M} b[m] * x[m];\n",
        "subject to Operarios_por_tarea {t in 1..T}:\n",
        "    sum {m in 1..M} o[m, t] * x[m] <= omax[t];\n",
        "    bounding1: x[3] >= 1;\n",
        "    bounding2: x[2] >= 1;\n",
        "\n",
        "\"\"\")\n"
      ],
      "metadata": {
        "id": "JgFFOJW5pPTY"
      },
      "execution_count": null,
      "outputs": []
    },
    {
      "cell_type": "code",
      "source": [
        "P4.param[\"M\"] = len(beneficio)\n",
        "P4.param[\"T\"] = len(max_operarios)\n",
        "P4.param[\"b\"] = {m: b for m, b in beneficio.items()}\n",
        "P4.param[\"omax\"] = {t: o for t, o in max_operarios.items()}\n",
        "P4.get_parameter(\"o\").set_values(Operarios_por_tarea_modelo)"
      ],
      "metadata": {
        "id": "Qd2i24iKpPTY"
      },
      "execution_count": null,
      "outputs": []
    },
    {
      "cell_type": "code",
      "source": [
        "P4.solve(solver=\"cplex\") # Resolvemos con el solver \"cplex\"\n"
      ],
      "metadata": {
        "colab": {
          "base_uri": "https://localhost:8080/"
        },
        "outputId": "c3436e32-5207-46e7-bb28-2d3a2a494b7e",
        "id": "HPUBb-cbpPTZ"
      },
      "execution_count": null,
      "outputs": [
        {
          "output_type": "stream",
          "name": "stdout",
          "text": [
            "CPLEX 22.1.1: \b\b\b\b\b\b\b\b\b\b\b\b\b\bCPLEX 22.1.1: optimal solution; objective 68\n",
            "3 simplex iterations\n"
          ]
        }
      ]
    },
    {
      "cell_type": "code",
      "source": [
        "x = P4.get_variable(\"x\") # Producción de modelos de automóvil\n",
        "df_x = x.get_values().to_pandas()\n",
        "profit = P4.get_objective(\"Beneficio\").value()\n",
        "print(df_x)\n",
        "print(f\"Beneficio: {profit}\")\n"
      ],
      "metadata": {
        "colab": {
          "base_uri": "https://localhost:8080/"
        },
        "outputId": "cc070461-16cd-452f-e636-95d9dabeac82",
        "id": "FcQE3Nc6pPTZ"
      },
      "execution_count": null,
      "outputs": [
        {
          "output_type": "stream",
          "name": "stdout",
          "text": [
            "      x.val\n",
            "1  3.000000\n",
            "2  1.000000\n",
            "3  1.333333\n",
            "Beneficio: 68.0\n"
          ]
        }
      ]
    },
    {
      "cell_type": "markdown",
      "source": [
        "El árbol queda agotado y la solución óptima es la proporcionada por P1."
      ],
      "metadata": {
        "id": "gIpsLCYosS3k"
      }
    },
    {
      "cell_type": "markdown",
      "source": [
        "Veamos qué pasa si, a partir de $P_2$, hubiéramos ramificado $x_1$ en lugar de $x_2$."
      ],
      "metadata": {
        "id": "9wN26_iNsfha"
      }
    },
    {
      "cell_type": "code",
      "source": [
        "P3.eval(r\"\"\"\n",
        "reset;\n",
        "# Parámetros\n",
        "param M >= 0;  # Número de modelos de automóviles\n",
        "param T >= 0;  # Número de tareas\n",
        "param o {1..M, 1..T} >= 0;  # Número de operarios necesarios para cada tarea\n",
        "param omax {1..T} >= 0;  # Número máximo de operarios disponibles para cada tarea\n",
        "param b {1..M};  # Beneficio por la venta de cada modelo de automóvil\n",
        "\n",
        "# Variables de decisión\n",
        "var x {1..M} >= 0;  # Cantidad de unidades del modelo m a producir\n",
        "\n",
        "# Función objetivo (maximizar el beneficio)\n",
        "maximize Beneficio: sum {m in 1..M} b[m] * x[m];\n",
        "subject to Operarios_por_tarea {t in 1..T}:\n",
        "    sum {m in 1..M} o[m, t] * x[m] <= omax[t];\n",
        "    bounding1: x[3] >= 1;\n",
        "    bounding2: x[1] <= 4;\n",
        "\n",
        "\"\"\")\n"
      ],
      "metadata": {
        "id": "Q98xYK-9syNh"
      },
      "execution_count": null,
      "outputs": []
    },
    {
      "cell_type": "code",
      "source": [
        "P3.param[\"M\"] = len(beneficio)\n",
        "P3.param[\"T\"] = len(max_operarios)\n",
        "P3.param[\"b\"] = {m: b for m, b in beneficio.items()}\n",
        "P3.param[\"omax\"] = {t: o for t, o in max_operarios.items()}\n",
        "P3.get_parameter(\"o\").set_values(Operarios_por_tarea_modelo)"
      ],
      "metadata": {
        "id": "T-SzneW0syNi"
      },
      "execution_count": null,
      "outputs": []
    },
    {
      "cell_type": "code",
      "source": [
        "P3.solve(solver=\"cplex\") # Resolvemos con el solver \"cplex\"\n"
      ],
      "metadata": {
        "colab": {
          "base_uri": "https://localhost:8080/"
        },
        "outputId": "18113b9e-7f60-419f-d984-226e9eee5e7f",
        "id": "yuBMbWc8syNj"
      },
      "execution_count": null,
      "outputs": [
        {
          "output_type": "stream",
          "name": "stdout",
          "text": [
            "CPLEX 22.1.1: \b\b\b\b\b\b\b\b\b\b\b\b\b\bCPLEX 22.1.1: optimal solution; objective 71.33333333\n",
            "3 simplex iterations\n"
          ]
        }
      ]
    },
    {
      "cell_type": "code",
      "source": [
        "x = P3.get_variable(\"x\") # Producción de modelos de automóvil\n",
        "df_x = x.get_values().to_pandas()\n",
        "profit = P3.get_objective(\"Beneficio\").value()\n",
        "print(df_x)\n",
        "print(f\"Beneficio: {profit}\")\n"
      ],
      "metadata": {
        "colab": {
          "base_uri": "https://localhost:8080/"
        },
        "outputId": "2f7946d0-0684-4d1f-b19e-d8e43c89b47c",
        "id": "odE7o_AWsyNj"
      },
      "execution_count": null,
      "outputs": [
        {
          "output_type": "stream",
          "name": "stdout",
          "text": [
            "      x.val\n",
            "1  4.000000\n",
            "2  0.666667\n",
            "3  1.111111\n",
            "Beneficio: 71.33333333333333\n"
          ]
        }
      ]
    },
    {
      "cell_type": "markdown",
      "source": [
        "Esta rama se poda por acotación."
      ],
      "metadata": {
        "id": "EktWc0aGtRkr"
      }
    },
    {
      "cell_type": "code",
      "source": [
        "P4.eval(r\"\"\"\n",
        "reset;\n",
        "# Parámetros\n",
        "param M >= 0;  # Número de modelos de automóviles\n",
        "param T >= 0;  # Número de tareas\n",
        "param o {1..M, 1..T} >= 0;  # Número de operarios necesarios para cada tarea\n",
        "param omax {1..T} >= 0;  # Número máximo de operarios disponibles para cada tarea\n",
        "param b {1..M};  # Beneficio por la venta de cada modelo de automóvil\n",
        "\n",
        "# Variables de decisión\n",
        "var x {1..M} >= 0;  # Cantidad de unidades del modelo m a producir\n",
        "\n",
        "# Función objetivo (maximizar el beneficio)\n",
        "maximize Beneficio: sum {m in 1..M} b[m] * x[m];\n",
        "subject to Operarios_por_tarea {t in 1..T}:\n",
        "    sum {m in 1..M} o[m, t] * x[m] <= omax[t];\n",
        "    bounding1: x[3] >= 1;\n",
        "    bounding2: x[1] >= 5;\n",
        "\n",
        "\"\"\")\n"
      ],
      "metadata": {
        "id": "9xXaVGCesyNk"
      },
      "execution_count": null,
      "outputs": []
    },
    {
      "cell_type": "code",
      "source": [
        "P4.param[\"M\"] = len(beneficio)\n",
        "P4.param[\"T\"] = len(max_operarios)\n",
        "P4.param[\"b\"] = {m: b for m, b in beneficio.items()}\n",
        "P4.param[\"omax\"] = {t: o for t, o in max_operarios.items()}\n",
        "P4.get_parameter(\"o\").set_values(Operarios_por_tarea_modelo)"
      ],
      "metadata": {
        "id": "eszuKfoWsyNk"
      },
      "execution_count": null,
      "outputs": []
    },
    {
      "cell_type": "code",
      "source": [
        "P4.solve(solver=\"cplex\") # Resolvemos con el solver \"cplex\"\n"
      ],
      "metadata": {
        "colab": {
          "base_uri": "https://localhost:8080/"
        },
        "outputId": "d9244f77-610b-4292-868e-7935f7e725e1",
        "id": "ttGxcJ-KsyNk"
      },
      "execution_count": null,
      "outputs": [
        {
          "output_type": "stream",
          "name": "stdout",
          "text": [
            "Solution determined by presolve;\n",
            "objective Beneficio = 69.\n"
          ]
        }
      ]
    },
    {
      "cell_type": "code",
      "source": [
        "x = P4.get_variable(\"x\") # Producción de modelos de automóvil\n",
        "df_x = x.get_values().to_pandas()\n",
        "profit = P4.get_objective(\"Beneficio\").value()\n",
        "print(df_x)\n",
        "print(f\"Beneficio: {profit}\")\n"
      ],
      "metadata": {
        "colab": {
          "base_uri": "https://localhost:8080/"
        },
        "outputId": "2c5e3cec-a6c7-4d2f-fd07-90c60d2f6bd9",
        "id": "W38k5hLTsyNl"
      },
      "execution_count": null,
      "outputs": [
        {
          "output_type": "stream",
          "name": "stdout",
          "text": [
            "   x.val\n",
            "1      5\n",
            "2      0\n",
            "3      1\n",
            "Beneficio: 69.0\n"
          ]
        }
      ]
    },
    {
      "cell_type": "markdown",
      "source": [
        "Esta rama se poda por acotación también y por tanto, llegamos de nuevo a la conclusión de que la solución del problema entero es la proporcionada por el problema $P_1$."
      ],
      "metadata": {
        "id": "wrg9AG10tpng"
      }
    }
  ]
}