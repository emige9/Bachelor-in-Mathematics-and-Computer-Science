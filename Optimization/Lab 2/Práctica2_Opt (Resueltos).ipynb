{
  "nbformat": 4,
  "nbformat_minor": 0,
  "metadata": {
    "colab": {
      "provenance": []
    },
    "kernelspec": {
      "name": "python3",
      "display_name": "Python 3"
    },
    "language_info": {
      "name": "python"
    }
  },
  "cells": [
    {
      "cell_type": "markdown",
      "source": [
        "# **Teoremas de Dualidad y Funciones Convexas Lineales por Tramos**"
      ],
      "metadata": {
        "id": "dQGyg_zuwaXG"
      }
    },
    {
      "cell_type": "code",
      "source": [
        "%pip install -q amplpy"
      ],
      "metadata": {
        "id": "UE9aUNWE0UA8"
      },
      "execution_count": 124,
      "outputs": []
    },
    {
      "cell_type": "code",
      "source": [
        "# Integración en Google Colab\n",
        "from amplpy import AMPL, ampl_notebook\n",
        "\n",
        "Primal = ampl_notebook(\n",
        "    modules=[\"highs\", \"cplex\"],  # Solvers que queremos instalar\n",
        "    license_uuid=\"d1619e22-974c-4935-ad8a-2554d161c51d\",  # licencia que usaremos (os la he mandado por correo)\n",
        ")  # instanciamos el objeto \"AMPL\" con el que vamos a trabajar"
      ],
      "metadata": {
        "colab": {
          "base_uri": "https://localhost:8080/"
        },
        "id": "vdNWjzlf0X9r",
        "outputId": "a68a0c4f-aa98-4589-9876-d1fa6d9294a2"
      },
      "execution_count": 125,
      "outputs": [
        {
          "output_type": "stream",
          "name": "stdout",
          "text": [
            "Licensed to Bundle #6787.7245 expiring 20250228: 302-Optimization; 408-Operations Research, Prof. Juan Miguel Morales Gonz?lez, University of Malaga.\n"
          ]
        }
      ]
    },
    {
      "cell_type": "markdown",
      "source": [
        "**Ejercicio 1.1:** Considera el problema de la dieta con el que hemos estado trabajando en la práctica anterior (en su variante más sencilla). Formula y resuelve su problema dual. *¿Qué situación práctica modela el problema dual? ¿Cómo lo interpretas?*"
      ],
      "metadata": {
        "id": "TJAp7S-b0ieR"
      }
    },
    {
      "cell_type": "code",
      "source": [
        "# Construimos el problema primal (que podemos coger de la práctica anterior):\n",
        "Primal.eval(r\"\"\"\n",
        "reset;                          # Para limpiar cualquier modelo previo\n",
        "set ALIM;                       # Conjunto de alimentos\n",
        "set NUTR;                       # Conjunto de nutrientes\n",
        "param n_min {NUTR} >= 0;        # Cantidad mínima de nutrientes en la dieta\n",
        "param coste {ALIM} >= 0;        # Coste de cada alimento (por cada 100 g)\n",
        "param cont {ALIM, NUTR} >= 0;   # Contenido de nutriente en cada alimento\n",
        "\n",
        "var x {ALIM} >= 0;              # Cantidad de cada alimento presente la dieta\n",
        "                                # (múltiplo de 100 g)\n",
        "\n",
        "minimize coste_total:\n",
        "    sum{a in ALIM} coste[a]*x[a];\n",
        "s.t. cant_minima {n in NUTR}:\n",
        "    sum{a in ALIM} cont[a,n]*x[a] >= n_min[n];\n",
        "\"\"\")"
      ],
      "metadata": {
        "id": "-5aGdLgM1HT5"
      },
      "execution_count": 126,
      "outputs": []
    },
    {
      "cell_type": "markdown",
      "source": [
        "Instanciamos un nuevo objeto en AMPL que contendrá el modelo dual."
      ],
      "metadata": {
        "id": "tQ2hXIhs1ljI"
      }
    },
    {
      "cell_type": "code",
      "source": [
        "Dual = ampl_notebook(\n",
        "    modules=[\"highs\", \"cplex\"],  # Solvers que queremos instalar\n",
        "    license_uuid=\"d1619e22-974c-4935-ad8a-2554d161c51d\",  # licencia que usaremos (os la he mandado por correo)\n",
        ")  # instanciamos el objeto \"AMPL\" con el que vamos a trabajar"
      ],
      "metadata": {
        "colab": {
          "base_uri": "https://localhost:8080/"
        },
        "id": "WZKDKXTx10Oj",
        "outputId": "e8fdf045-5256-4c7a-b55f-eab0711db214"
      },
      "execution_count": 127,
      "outputs": [
        {
          "output_type": "stream",
          "name": "stdout",
          "text": [
            "Licensed to Bundle #6787.7245 expiring 20250228: 302-Optimization; 408-Operations Research, Prof. Juan Miguel Morales Gonz?lez, University of Malaga.\n"
          ]
        }
      ]
    },
    {
      "cell_type": "markdown",
      "source": [
        "Y construimos el problema dual:"
      ],
      "metadata": {
        "id": "Od9g_A0S6mCy"
      }
    },
    {
      "cell_type": "code",
      "source": [
        "Dual.eval(r\"\"\"\n",
        "reset;                          # Para limpiar cualquier modelo previo\n",
        "set ALIM;                       # Conjunto de alimentos\n",
        "set NUTR;                       # Conjunto de nutrientes\n",
        "param n_min {NUTR} >= 0;        # Cantidad mínima de nutrientes en la dieta\n",
        "param coste {ALIM} >= 0;        # Coste de cada alimento (por cada 100 g)\n",
        "param cont {ALIM, NUTR} >= 0;   # Contenido de nutriente en cada alimento\n",
        "\n",
        "var y {NUTR} >= 0;              # Variable dual asociada a la restricción que\n",
        "                                # garantiza que se cumpla la cantidad mínima\n",
        "                                # de nutrientes en la dieta\n",
        "\n",
        "maximize beneficio_total:\n",
        "    sum{n in NUTR} n_min[n]*y[n];\n",
        "s.t. precio_max_nutrientes {a in ALIM}:\n",
        "    sum{n in NUTR} cont[a,n]*y[n] <= coste[a];\n",
        "\"\"\")"
      ],
      "metadata": {
        "id": "UrZy9O2H1_cs"
      },
      "execution_count": 128,
      "outputs": []
    },
    {
      "cell_type": "markdown",
      "source": [
        "Introducimos los datos necesarios para resolver tanto el problema primal como su dual."
      ],
      "metadata": {
        "id": "4ByQZB1H5ZTQ"
      }
    },
    {
      "cell_type": "code",
      "source": [
        "def preparar_datos():\n",
        "    import pandas as pd\n",
        "    import numpy as np\n",
        "\n",
        "    # Creamos un data frame que contenga el coste de los alimentos\n",
        "    alimentos_df = pd.DataFrame(\n",
        "        [\n",
        "            (\"MaizA\", 1),\n",
        "            (\"Avena\", 0.5),\n",
        "            (\"MaizB\", 2),\n",
        "            (\"Salvado\", 1.2),\n",
        "            (\"Linaza\", 3),\n",
        "        ],\n",
        "        columns=[\"ALIMENTO\", \"coste\"],\n",
        "    ).set_index(\"ALIMENTO\")\n",
        "\n",
        "    # Creamos un data frame para la cantidad mínima de nutrientes que se\n",
        "    # requiere en la dieta\n",
        "    nutr_df = pd.DataFrame(\n",
        "        [\n",
        "            (\"DN\", 74.2),\n",
        "            (\"DP\", 14.7),\n",
        "            (\"Ca\", 0.14),\n",
        "            (\"Ph\", 0.55),\n",
        "        ],\n",
        "        columns=[\"NUTR\", \"n_min\"],\n",
        "    ).set_index(\"NUTR\")\n",
        "\n",
        "    # Creamos un data frame para la cantidad de nutrientes que cada\n",
        "    # alimento contiene\n",
        "    cont_df = pd.DataFrame(\n",
        "        np.array(\n",
        "            [\n",
        "                [78.6, 70.1, 80.1, 67.2, 77.0],\n",
        "                [6.50, 9.40, 8.80, 13.7, 30.4],\n",
        "                [0.02, 0.09, 0.03, 0.14, 0.41],\n",
        "                [0.27, 0.34, 0.30, 1.29, 0.86],\n",
        "            ]\n",
        "        ),\n",
        "        columns= alimentos_df.index.to_list(),\n",
        "        index  = nutr_df.index.to_list(),\n",
        "    )\n",
        "    cont_df = cont_df.transpose() # OJO, que los ejes (índices) deben coincidir\n",
        "                                  # con los especificados en la definición del\n",
        "                                  # parámetro \"cont\" en el modelo, (ALIM, NUTR)\n",
        "    return alimentos_df, nutr_df, cont_df"
      ],
      "metadata": {
        "id": "hwQ8QzKE5fSj"
      },
      "execution_count": 129,
      "outputs": []
    },
    {
      "cell_type": "code",
      "source": [
        "# Cargamos los datos:\n",
        "\n",
        "# Load the data from pandas.DataFrame objects:\n",
        "alimentos_df, nutr_df, cont_df = preparar_datos()\n",
        "\n",
        "# 1. Enviamos los datos de \"alimentos_df\" a AMPL e inicializamos el conjunto de índices \"ALIM\"\n",
        "Primal.set_data(alimentos_df, \"ALIM\")\n",
        "Dual.set_data(alimentos_df, \"ALIM\")\n",
        "# 2. Enviamos los datos de \"nutr_df\" a AMPL e inicializamos el conjunto de índices \"NUTR\"\n",
        "Primal.set_data(nutr_df, \"NUTR\")\n",
        "Dual.set_data(nutr_df, \"NUTR\")\n",
        "# 3. Fijamos los valores del parámetro \"cont\" usando \"cont_df\"\n",
        "Primal.get_parameter(\"cont\").set_values(cont_df)\n",
        "Dual.get_parameter(\"cont\").set_values(cont_df)"
      ],
      "metadata": {
        "id": "4q9LxDP85wZ1"
      },
      "execution_count": 130,
      "outputs": []
    },
    {
      "cell_type": "markdown",
      "source": [
        "Resolvemos el problema primal:"
      ],
      "metadata": {
        "id": "XPZVsHBD6xxh"
      }
    },
    {
      "cell_type": "code",
      "source": [
        "Primal.solve(solver=\"cplex\") # Resolvemos con el solver \"cplex\"\n",
        "assert Primal.solve_result == \"solved\"  # Comprobamos que el problema se ha resuelto correctamente"
      ],
      "metadata": {
        "colab": {
          "base_uri": "https://localhost:8080/"
        },
        "id": "W6rwnN9Z67F1",
        "outputId": "50224451-c724-4d3a-94e5-ddc0609224fe"
      },
      "execution_count": 131,
      "outputs": [
        {
          "output_type": "stream",
          "name": "stdout",
          "text": [
            "CPLEX 22.1.1:  - Version identifier: 22.1.1.0 | 2022-11-28 | 9160aff4d\n",
            " - CPXPARAM_Simplex_Display                         0\n",
            " - CPXPARAM_MIP_Display                             0\n",
            " - CPXPARAM_Barrier_Display                         0\n",
            "\b\b\b\b\b\b\b\b\b\b\b\b\b\bCPLEX 22.1.1: optimal solution; objective 0.7927691484\n",
            "3 simplex iterations\n"
          ]
        }
      ]
    },
    {
      "cell_type": "code",
      "source": [
        "x = Primal.get_variable(\"x\") # Aquí el valor de \"x\" es convertido a un data frame de AMPL.\n",
        "df_x = x.get_values().to_pandas() # Aquí el valor de \"x\" es convertido a un data frame de Pandas.\n",
        "coste_total = Primal.get_objective(\"coste_total\").value()\n",
        "df_x = df_x.round(3)\n",
        "print(df_x)\n",
        "print(f\"Coste total: {coste_total:.3f}\")"
      ],
      "metadata": {
        "colab": {
          "base_uri": "https://localhost:8080/"
        },
        "id": "il5plwDY7SAd",
        "outputId": "2ff8cd30-0cd4-4980-c664-217e7442f21c"
      },
      "execution_count": 132,
      "outputs": [
        {
          "output_type": "stream",
          "name": "stdout",
          "text": [
            "         x.val\n",
            "Avena    1.530\n",
            "Linaza   0.000\n",
            "MaizA    0.000\n",
            "MaizB    0.000\n",
            "Salvado  0.023\n",
            "Coste total: 0.793\n"
          ]
        }
      ]
    },
    {
      "cell_type": "markdown",
      "source": [
        "Y resolvemos el problema dual:"
      ],
      "metadata": {
        "id": "qedzT8pN60E0"
      }
    },
    {
      "cell_type": "code",
      "source": [
        "Dual.solve(solver=\"cplex\") # Resolvemos con el solver \"cplex\"\n",
        "assert Dual.solve_result == \"solved\"  # Comprobamos que el problema se ha resuelto correctamente"
      ],
      "metadata": {
        "colab": {
          "base_uri": "https://localhost:8080/"
        },
        "id": "P1F9lgFe7CsP",
        "outputId": "a21a7e70-715f-4e87-c14e-932e93cb18c8"
      },
      "execution_count": 133,
      "outputs": [
        {
          "output_type": "stream",
          "name": "stdout",
          "text": [
            "CPLEX 22.1.1:  - Version identifier: 22.1.1.0 | 2022-11-28 | 9160aff4d\n",
            " - CPXPARAM_Simplex_Display                         0\n",
            " - CPXPARAM_MIP_Display                             0\n",
            " - CPXPARAM_Barrier_Display                         0\n",
            "\b\b\b\b\b\b\b\b\b\b\b\b\b\bCPLEX 22.1.1: optimal solution; objective 0.7927691484\n",
            "4 simplex iterations\n"
          ]
        }
      ]
    },
    {
      "cell_type": "code",
      "source": [
        "y = Dual.get_variable(\"y\") # Aquí el valor de \"y\" es convertido a un data frame de AMPL.\n",
        "df_y = y.get_values().to_pandas() # Aquí el valor de \"y es convertido a un data frame de Pandas.\n",
        "beneficio_total = Dual.get_objective(\"beneficio_total\").value()\n",
        "df_y = df_y.round(3)\n",
        "print(df_y)\n",
        "print(f\"Beneficio total: {beneficio_total:.3f}\")"
      ],
      "metadata": {
        "colab": {
          "base_uri": "https://localhost:8080/"
        },
        "id": "LUoXTm6f727L",
        "outputId": "a2855e55-1266-4e9f-ea90-92af9c7a1188"
      },
      "execution_count": 134,
      "outputs": [
        {
          "output_type": "stream",
          "name": "stdout",
          "text": [
            "    y.val\n",
            "Ca  0.000\n",
            "DN  0.000\n",
            "DP  0.032\n",
            "Ph  0.593\n",
            "Beneficio total: 0.793\n"
          ]
        }
      ]
    },
    {
      "cell_type": "markdown",
      "source": [
        "**Ejercicio 1.2**: Comprueba que los valores para las variables duales que has obtenido coinciden con las que puedes extraer directamente del \"solver\" utilizando amplpy."
      ],
      "metadata": {
        "id": "5kG0gGOH9HKl"
      }
    },
    {
      "cell_type": "code",
      "source": [
        "Primal.display(\"cant_minima.dual\")"
      ],
      "metadata": {
        "colab": {
          "base_uri": "https://localhost:8080/"
        },
        "id": "_6RwgkhPMJUY",
        "outputId": "9c2a404a-7151-43a5-cfd8-cea90e863aad"
      },
      "execution_count": 135,
      "outputs": [
        {
          "output_type": "stream",
          "name": "stdout",
          "text": [
            "cant_minima.dual [*] :=\n",
            "Ca  0\n",
            "DN  0\n",
            "DP  0.0317354\n",
            "Ph  0.593198\n",
            ";\n",
            "\n"
          ]
        }
      ]
    },
    {
      "cell_type": "code",
      "source": [
        "cant_minima_duales = Primal.get_constraint(\"cant_minima\").get_values(\"dual\").to_pandas()\n",
        "cant_minima_duales = cant_minima_duales.round(3)\n",
        "print(cant_minima_duales)\n",
        "\n",
        "\n",
        "\n",
        "\n",
        "\n"
      ],
      "metadata": {
        "colab": {
          "base_uri": "https://localhost:8080/"
        },
        "id": "e44I2Mxn-LAO",
        "outputId": "cb608442-fb74-449d-84f5-653a23667f94"
      },
      "execution_count": 136,
      "outputs": [
        {
          "output_type": "stream",
          "name": "stdout",
          "text": [
            "    cant_minima.dual\n",
            "Ca             0.000\n",
            "DN             0.000\n",
            "DP             0.032\n",
            "Ph             0.593\n"
          ]
        }
      ]
    },
    {
      "cell_type": "markdown",
      "source": [
        "**Ejercicio 1.3**: Utiliza el problema de la dieta y su problema dual para comprobar que se satisfacen los resultados de dualidad vistos en clase. En concreto:\n",
        "\n",
        "\n",
        "*   Determina diferentes pares de soluciones factibles para los problemas primal y dual y verifica que se tiene dualidad débil.\n",
        "*   Determina diferentes pares de soluciones óptimas para ambos problemas (modificando alguno de sus datos de entrada) y comprueba que se verifica *dualidad fuerte* y *holgura complementaria*.\n",
        "* Modifica los datos de entrada para hacer que alguno de los dos problemas sea ilimitado y comprueba que el otro resulta infactible en tal caso.\n",
        "\n",
        "\n"
      ],
      "metadata": {
        "id": "T3S4QcKzGRWH"
      }
    },
    {
      "cell_type": "markdown",
      "source": [
        "**Problema 2**: A continuación, vamos a modelar, de forma muy simplificada, el funcionamiento de un mercado eléctrico. Supón que este mercado lo componen $N_{G}$ productores de electricidad que han de satisfacer una demanda $D$. Para ello, cada productor o generador de electricidad incurre en un coste que viene dado por una *función convexa lineal por tramos*. Este tipo de función queda caracterizada por un número de tramos $N_{p_{i}}$ (que, en general, dependerá de cada productor $i = 1, \\ldots, N_{G}$) y sus correspondientes longitudes y pendientes $(l_{i,j}, m_{i,j}), \\forall i = 1, \\ldots, N_{G}, \\forall j = 1, \\ldots, N_{p_{i}}$ (puesto que cada tramo es lineal). Asumiremos, además, que la función convexa lineal por tramos que describe el coste de producción de cada generador pasa por el 0 (esto es, que el productor no incurre en coste alguno si no produce electricidad).\n",
        "\n",
        "1.   Formula un modelo de Programación Matemática para minimizar el coste total en el que incurre el mercado para satisfacer la demanda de electricidad $D$ (este modelo se conoce con el nombre de *modelo de cierre o liquidación de mercado*).\n"
      ],
      "metadata": {
        "id": "N2qpOxWcJX2g"
      }
    },
    {
      "cell_type": "markdown",
      "source": [
        "Instanciamos un nuevo objeto en AMPL que contendrá el modelo de liquidación del mercado."
      ],
      "metadata": {
        "id": "bfz6WqrXTTyl"
      }
    },
    {
      "cell_type": "code",
      "source": [
        "Mercado = ampl_notebook(\n",
        "    modules=[\"highs\", \"cplex\"],  # Solvers que queremos instalar\n",
        "    license_uuid=\"d1619e22-974c-4935-ad8a-2554d161c51d\",  # licencia que usaremos (os la he mandado por correo)\n",
        ")  # instanciamos el objeto \"AMPL\" con el que vamos a trabajar"
      ],
      "metadata": {
        "colab": {
          "base_uri": "https://localhost:8080/"
        },
        "id": "s-ONNDY_TbXm",
        "outputId": "888cb023-42cf-4f63-be9c-a4120763f58d"
      },
      "execution_count": 137,
      "outputs": [
        {
          "output_type": "stream",
          "name": "stdout",
          "text": [
            "Licensed to Bundle #6787.7245 expiring 20250228: 302-Optimization; 408-Operations Research, Prof. Juan Miguel Morales Gonz?lez, University of Malaga.\n"
          ]
        }
      ]
    },
    {
      "cell_type": "markdown",
      "source": [
        "Construimos el modelo."
      ],
      "metadata": {
        "id": "97y81k3LW5Wu"
      }
    },
    {
      "cell_type": "code",
      "source": [
        "Mercado.eval(r\"\"\"\n",
        "reset;                          # Para limpiar cualquier modelo previo\n",
        "set Prod;                       # Conjunto de productores\n",
        "set Tram;                       # Conjunto de tramos de las funciones de coste\n",
        "param D >= 0;                   # Demanda del mercado\n",
        "param lon {Prod, Tram} >= 0;    # Longitud de cada tramo\n",
        "param slope {Prod, Tram} >= 0;  # Pendiente de cada tramo\n",
        "\n",
        "var p {i in Prod, j in Tram} >= 0, <= lon[i,j];  # Potencia producida por cada\n",
        "                                                 # productor en cada tramo\n",
        "\n",
        "minimize coste_total:\n",
        "    sum{i in Prod, j in Tram} slope[i,j]*p[i,j];\n",
        "s.t. balance: sum{i in Prod, j in Tram} p[i,j] = D;\n",
        "\"\"\")"
      ],
      "metadata": {
        "id": "djKWard-TiQW"
      },
      "execution_count": 138,
      "outputs": []
    },
    {
      "cell_type": "markdown",
      "source": [
        "2.   Resuelve el modelo anterior para liquidar un mercado con demanda $D = 200$ y compuesto por tres productores cuyas funciones de coste vienen caracterizadas en la tabla siguiente en la forma $(l_{i,j}, m_{i,j})$, $\\forall i = 1, \\ldots, N_{G}$, $\\forall j = 1, \\ldots, N_{p_{i}}$.\n",
        "\n",
        "<center>\n",
        "\n",
        "|  Productor    | Tramo 1   | Tramo 2  | Tramo 3 |\n",
        "| ------------  | --------     | ---      | ---    |  \n",
        "| 1            | (50, 10)      | (20, 15) | (30, 45)|\n",
        "| 2            | (10, 5)       | (50, 26) | (60, 55)|   \n",
        "| 3            | (100, 25)     | (50, 27) | (50, 30)|   \n",
        "\n",
        "</center>"
      ],
      "metadata": {
        "id": "RI1QaoaFerpC"
      }
    },
    {
      "cell_type": "markdown",
      "source": [
        "Introducimos los datos necesarios para resolver el modelo de cierre de mercado."
      ],
      "metadata": {
        "id": "bYF58gIOZN42"
      }
    },
    {
      "cell_type": "code",
      "source": [
        "def preparar_datos_mercado():\n",
        "    import pandas as pd\n",
        "    import numpy as np\n",
        "\n",
        "    # Conjunto de tramos o piezas:\n",
        "    tramos = [\"T1\", \"T2\", \"T3\"]\n",
        "\n",
        "    # Conjunto de productores:\n",
        "    productores = [\"G1\", \"G2\", \"G3\"]\n",
        "\n",
        "    # Demanda del mercado:\n",
        "    demanda = 200\n",
        "\n",
        "    # Creamos un data frame que contenga la longitud de los tramos\n",
        "    lon_df = pd.DataFrame(\n",
        "        np.array(\n",
        "            [\n",
        "                [50, 20, 30],\n",
        "                [10, 50, 60],\n",
        "                [100, 50, 50],\n",
        "            ]\n",
        "        ),\n",
        "        columns= tramos,\n",
        "        index  = productores,\n",
        "    )\n",
        "\n",
        "    # Creamos un data frame que contenga las pendientes de los tramos\n",
        "    slope_df = pd.DataFrame(\n",
        "        np.array(\n",
        "            [\n",
        "                [10, 15, 45],\n",
        "                [5, 26, 55],\n",
        "                [25, 27, 30],\n",
        "            ]\n",
        "        ),\n",
        "        columns= tramos,\n",
        "        index  = productores,\n",
        "    )\n",
        "\n",
        "    return demanda, tramos, productores, lon_df, slope_df\n"
      ],
      "metadata": {
        "id": "tS6n_CcCXEy7"
      },
      "execution_count": 139,
      "outputs": []
    },
    {
      "cell_type": "code",
      "source": [
        "# Cargamos los datos:\n",
        "\n",
        "# Load the data from pandas.DataFrame objects:\n",
        "demanda, tramos, productores, lon_df, slope_df = preparar_datos_mercado()\n",
        "\n",
        "Mercado.set[\"Prod\"] = productores\n",
        "Mercado.set[\"Tram\"] = tramos\n",
        "Mercado.get_parameter(\"lon\").set_values(lon_df)\n",
        "Mercado.get_parameter(\"slope\").set_values(slope_df)\n",
        "Mercado.get_parameter(\"D\").set(demanda)\n"
      ],
      "metadata": {
        "id": "WhwYTgqIZjgK"
      },
      "execution_count": 140,
      "outputs": []
    },
    {
      "cell_type": "markdown",
      "source": [
        "Resolvemos:"
      ],
      "metadata": {
        "id": "4HP7gnEfcAF_"
      }
    },
    {
      "cell_type": "code",
      "source": [
        "Mercado.solve(solver=\"cplex\") # Resolvemos con el solver \"cplex\"\n",
        "assert Dual.solve_result == \"solved\"  # Comprobamos que el problema se ha resuelto correctamente"
      ],
      "metadata": {
        "colab": {
          "base_uri": "https://localhost:8080/"
        },
        "id": "Y3UMIEdbb8Wg",
        "outputId": "a577d74e-5dfe-411c-cbfc-043f8c42975a"
      },
      "execution_count": 141,
      "outputs": [
        {
          "output_type": "stream",
          "name": "stdout",
          "text": [
            "CPLEX 22.1.1:  - Version identifier: 22.1.1.0 | 2022-11-28 | 9160aff4d\n",
            " - CPXPARAM_Simplex_Display                         0\n",
            " - CPXPARAM_MIP_Display                             0\n",
            " - CPXPARAM_Barrier_Display                         0\n",
            "\b\b\b\b\b\b\b\b\b\b\b\b\b\bCPLEX 22.1.1: optimal solution; objective 3870\n",
            "0 simplex iterations\n"
          ]
        }
      ]
    },
    {
      "cell_type": "markdown",
      "source": [
        "\n",
        "3.   Calcula la variable dual asociada a la *ecuación de equilibrio (o de cierre de mercado)* para varios valores de la demanda eléctrica e interpreta su significado práctico.\n"
      ],
      "metadata": {
        "id": "vStFw0y9e0r1"
      }
    },
    {
      "cell_type": "code",
      "source": [
        "p = Mercado.get_variable(\"p\") # Producción por generador y tramo\n",
        "df_p = p.get_values().to_pandas()\n",
        "coste_total = Mercado.get_objective(\"coste_total\").value()\n",
        "precio = Mercado.get_constraint(\"balance\").dual()\n",
        "df_p = df_p.round(3)\n",
        "print(df_p)\n",
        "print(f\"Coste total: {coste_total:.3f}\")\n",
        "print(f\"Precio del mercado: {precio:.1f}\")\n",
        "\n",
        "# Resumimos lo que produce cada productor:\n",
        "df_Pg = df_p.groupby(level='index0').sum()\n",
        "print(df_Pg)"
      ],
      "metadata": {
        "colab": {
          "base_uri": "https://localhost:8080/"
        },
        "id": "VH32lOT4cH2I",
        "outputId": "d97d8d7a-e8c7-4fb3-adb6-8ae4127c57fe"
      },
      "execution_count": 142,
      "outputs": [
        {
          "output_type": "stream",
          "name": "stdout",
          "text": [
            "               p.val\n",
            "index0 index1       \n",
            "G1     T1         50\n",
            "       T2         20\n",
            "       T3          0\n",
            "G2     T1         10\n",
            "       T2         20\n",
            "       T3          0\n",
            "G3     T1        100\n",
            "       T2          0\n",
            "       T3          0\n",
            "Coste total: 3870.000\n",
            "Precio del mercado: 26.0\n",
            "        p.val\n",
            "index0       \n",
            "G1         70\n",
            "G2         30\n",
            "G3        100\n"
          ]
        }
      ]
    },
    {
      "cell_type": "markdown",
      "source": [
        "4.   Resuelve de nuevo el problema de cierre de mercado para las siguientes funciones de coste de producción:\n",
        "\n",
        "<center>\n",
        "\n",
        "|  Productor    | Tramo 1   | Tramo 2  | Tramo 3 |\n",
        "| ------------  | --------     | ---      | ---    |  \n",
        "| 1            | (50, 10)      | (20, 15) | (30, 45)|\n",
        "| 2            | (10, 5)       | (50, 26) | (60, 15)|   \n",
        "| 3            | (100, 25)     | (50, 5) | (50, 30)|   \n",
        "\n",
        "</center>\n",
        "\n",
        "Interpreta los resultados que has obtenido. ¿Notas algo raro en ellos? En caso afirmativo, ¿qué hay de raro y por qué?\n"
      ],
      "metadata": {
        "id": "QGq1FmxgfNhJ"
      }
    },
    {
      "cell_type": "code",
      "source": [
        "def preparar_datos_mercado2():\n",
        "    import pandas as pd\n",
        "    import numpy as np\n",
        "\n",
        "    # Conjunto de tramos o piezas:\n",
        "    tramos = [\"T1\", \"T2\", \"T3\"]\n",
        "\n",
        "    # Conjunto de productores:\n",
        "    productores = [\"G1\", \"G2\", \"G3\"]\n",
        "\n",
        "    # Demanda del mercado:\n",
        "    demanda = 200\n",
        "\n",
        "    # Creamos un data frame que contenga la longitud de los tramos\n",
        "    lon_df = pd.DataFrame(\n",
        "        np.array(\n",
        "            [\n",
        "                [50, 20, 30],\n",
        "                [10, 50, 60],\n",
        "                [100, 50, 50],\n",
        "            ]\n",
        "        ),\n",
        "        columns= tramos,\n",
        "        index  = productores,\n",
        "    )\n",
        "\n",
        "    # Creamos un data frame que contenga las pendientes de los tramos\n",
        "    slope_df = pd.DataFrame(\n",
        "        np.array(\n",
        "            [\n",
        "                [10, 15, 45],\n",
        "                [5, 26, 15],\n",
        "                [25, 5, 30],\n",
        "            ]\n",
        "        ),\n",
        "        columns= tramos,\n",
        "        index  = productores,\n",
        "    )\n",
        "\n",
        "    return demanda, tramos, productores, lon_df, slope_df"
      ],
      "metadata": {
        "id": "IIn9MXDYgGYB"
      },
      "execution_count": 143,
      "outputs": []
    },
    {
      "cell_type": "code",
      "source": [
        "# Cargamos los datos:\n",
        "\n",
        "# Load the data from pandas.DataFrame objects:\n",
        "demanda, tramos, productores, lon_df, slope_df = preparar_datos_mercado2()\n",
        "\n",
        "Mercado.set[\"Prod\"] = productores\n",
        "Mercado.set[\"Tram\"] = tramos\n",
        "Mercado.get_parameter(\"lon\").set_values(lon_df)\n",
        "Mercado.get_parameter(\"slope\").set_values(slope_df)\n",
        "Mercado.get_parameter(\"D\").set(demanda)"
      ],
      "metadata": {
        "id": "LuNP7lvCgTfZ"
      },
      "execution_count": 144,
      "outputs": []
    },
    {
      "cell_type": "code",
      "source": [
        "Mercado.solve(solver=\"cplex\") # Resolvemos con el solver \"cplex\"\n",
        "assert Dual.solve_result == \"solved\"  # Comprobamos que el problema se ha resuelto correctamente"
      ],
      "metadata": {
        "colab": {
          "base_uri": "https://localhost:8080/"
        },
        "id": "dSkfymT8gYqw",
        "outputId": "60560cf5-93a1-4133-a468-a1f3fc5341f2"
      },
      "execution_count": 145,
      "outputs": [
        {
          "output_type": "stream",
          "name": "stdout",
          "text": [
            "CPLEX 22.1.1:  - Version identifier: 22.1.1.0 | 2022-11-28 | 9160aff4d\n",
            " - CPXPARAM_Simplex_Display                         0\n",
            " - CPXPARAM_MIP_Display                             0\n",
            " - CPXPARAM_Barrier_Display                         0\n",
            "\b\b\b\b\b\b\b\b\b\b\b\b\b\bCPLEX 22.1.1: optimal solution; objective 2250\n",
            "3 simplex iterations\n"
          ]
        }
      ]
    },
    {
      "cell_type": "code",
      "source": [
        "p = Mercado.get_variable(\"p\") # Producción por generador y tramo\n",
        "df_p = p.get_values().to_pandas()\n",
        "coste_total = Mercado.get_objective(\"coste_total\").value()\n",
        "precio = Mercado.get_constraint(\"balance\").dual()\n",
        "df_p = df_p.round(3)\n",
        "print(df_p)\n",
        "print(f\"Coste total: {coste_total:.3f}\")\n",
        "print(f\"Precio del mercado: {precio:.1f}\")\n",
        "\n",
        "# Resumimos lo que produce cada productor:\n",
        "df_Pg = df_p.groupby(level='index0').sum()\n",
        "print(df_Pg)"
      ],
      "metadata": {
        "colab": {
          "base_uri": "https://localhost:8080/"
        },
        "id": "bv1xvLQogeGg",
        "outputId": "c456b1a1-6aea-4b37-e93c-f2f8c19dcc06"
      },
      "execution_count": 146,
      "outputs": [
        {
          "output_type": "stream",
          "name": "stdout",
          "text": [
            "               p.val\n",
            "index0 index1       \n",
            "G1     T1         50\n",
            "       T2         20\n",
            "       T3          0\n",
            "G2     T1         10\n",
            "       T2          0\n",
            "       T3         60\n",
            "G3     T1         10\n",
            "       T2         50\n",
            "       T3          0\n",
            "Coste total: 2250.000\n",
            "Precio del mercado: 25.0\n",
            "        p.val\n",
            "index0       \n",
            "G1         70\n",
            "G2         70\n",
            "G3         60\n"
          ]
        }
      ]
    }
  ]
}