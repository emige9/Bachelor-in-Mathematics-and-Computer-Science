{
  "nbformat": 4,
  "nbformat_minor": 0,
  "metadata": {
    "colab": {
      "provenance": []
    },
    "kernelspec": {
      "name": "python3",
      "display_name": "Python 3"
    },
    "language_info": {
      "name": "python"
    }
  },
  "cells": [
    {
      "cell_type": "markdown",
      "source": [
        "# **Teoremas de Dualidad y Funciones Convexas Lineales por Tramos**"
      ],
      "metadata": {
        "id": "dQGyg_zuwaXG"
      }
    },
    {
      "cell_type": "markdown",
      "source": [
        "**Ejercicio 1.1:** Considera el problema de la dieta con el que hemos estado trabajando en la práctica anterior (en su variante más sencilla). Formula y resuelve su problema dual. *¿Qué situación práctica modela el problema dual? ¿Cómo lo interpretas?*"
      ],
      "metadata": {
        "id": "TJAp7S-b0ieR"
      }
    },
    {
      "cell_type": "markdown",
      "source": [
        "**Ejercicio 1.2**: Comprueba que los valores para las variables duales que has obtenido coinciden con las que puedes extraer directamente del \"solver\" utilizando amplpy."
      ],
      "metadata": {
        "id": "5kG0gGOH9HKl"
      }
    },
    {
      "cell_type": "markdown",
      "source": [
        "**Ejercicio 1.3**: Utiliza el problema de la dieta y su problema dual para comprobar que se satisfacen los resultados de dualidad vistos en clase. En concreto:\n",
        "\n",
        "\n",
        "*   Determina diferentes pares de soluciones factibles para los problemas primal y dual y verifica que se tiene dualidad débil.\n",
        "*   Determina diferentes pares de soluciones óptimas para ambos problemas (modificando alguno de sus datos de entrada) y comprueba que se verifica *dualidad fuerte* y *holgura complementaria*.\n",
        "* Modifica los datos de entrada para hacer que alguno de los dos problemas sea ilimitado y comprueba que el otro resulta infactible en tal caso.\n",
        "\n",
        "\n"
      ],
      "metadata": {
        "id": "T3S4QcKzGRWH"
      }
    },
    {
      "cell_type": "markdown",
      "source": [
        "**Ejercicio 2**: A continuación, vamos a modelar, de forma muy simplificada, el funcionamiento de un mercado eléctrico. Supón que este mercado lo componen $N_{G}$ productores de electricidad que han de satisfacer una demanda $D$. Para ello, cada productor o generador de electricidad incurre en un coste que viene dado por una *función convexa lineal por tramos*. Este tipo de función queda caracterizada por un número de tramos $N_{p_{i}}$ (que, en general, dependerá de cada productor $i = 1, \\ldots, N_{G}$) y sus correspondientes longitudes y pendientes $(l_{i,j}, m_{i,j}), \\forall i = 1, \\ldots, N_{G}, \\forall j = 1, \\ldots, N_{p_{i}}$ (puesto que cada tramo es lineal). Asumiremos, además, que la función convexa lineal por tramos que describe el coste de producción de cada generador pasa por el 0 (esto es, que el productor no incurre en coste alguno si no produce electricidad).\n",
        "\n",
        "1.   Formula un modelo de Programación Matemática para minimizar el coste total en el que incurre el mercado para satisfacer la demanda de electricidad $D$ (este modelo se conoce con el nombre de *modelo de cierre o liquidación de mercado*).\n"
      ],
      "metadata": {
        "id": "N2qpOxWcJX2g"
      }
    },
    {
      "cell_type": "markdown",
      "source": [
        "2.   Resuelve el modelo anterior para liquidar un mercado con demanda $D = 200$ y compuesto por tres productores cuyas funciones de coste vienen caracterizadas en la tabla siguiente en la forma $(l_{i,j}, m_{i,j})$, $\\forall i = 1, \\ldots, N_{G}$, $\\forall j = 1, \\ldots, N_{p_{i}}$.\n",
        "\n",
        "<center>\n",
        "\n",
        "|  Productor    | Tramo 1   | Tramo 2  | Tramo 3 |\n",
        "| ------------  | --------     | ---      | ---    |  \n",
        "| 1            | (50, 10)      | (20, 15) | (30, 45)|\n",
        "| 2            | (10, 5)       | (50, 26) | (60, 55)|   \n",
        "| 3            | (100, 25)     | (50, 27) | (50, 30)|   \n",
        "\n",
        "</center>"
      ],
      "metadata": {
        "id": "RI1QaoaFerpC"
      }
    },
    {
      "cell_type": "markdown",
      "source": [
        "\n",
        "3.   Calcula la variable dual asociada a la *ecuación de equilibrio (o de cierre de mercado)* para varios valores de la demanda eléctrica e interpreta su significado práctico.\n"
      ],
      "metadata": {
        "id": "vStFw0y9e0r1"
      }
    },
    {
      "cell_type": "markdown",
      "source": [
        "4.   Resuelve de nuevo el problema de cierre de mercado para las siguientes funciones de coste de producción:\n",
        "\n",
        "<center>\n",
        "\n",
        "|  Productor    | Tramo 1   | Tramo 2  | Tramo 3 |\n",
        "| ------------  | --------     | ---      | ---    |  \n",
        "| 1            | (50, 10)      | (20, 15) | (30, 45)|\n",
        "| 2            | (10, 5)       | (50, 26) | (60, 15)|   \n",
        "| 3            | (100, 25)     | (50, 5) | (50, 30)|   \n",
        "\n",
        "</center>\n",
        "\n",
        "Interpreta los resultados que has obtenido. ¿Notas algo raro en ellos? En caso afirmativo, ¿qué hay de raro y por qué?\n"
      ],
      "metadata": {
        "id": "QGq1FmxgfNhJ"
      }
    }
  ]
}