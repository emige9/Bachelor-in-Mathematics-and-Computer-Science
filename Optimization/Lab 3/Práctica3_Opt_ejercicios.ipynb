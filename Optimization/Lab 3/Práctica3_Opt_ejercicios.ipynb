{
  "nbformat": 4,
  "nbformat_minor": 0,
  "metadata": {
    "colab": {
      "provenance": []
    },
    "kernelspec": {
      "name": "python3",
      "display_name": "Python 3"
    },
    "language_info": {
      "name": "python"
    }
  },
  "cells": [
    {
      "cell_type": "markdown",
      "source": [
        "# **Aplicaciones de la Teoría de Dualidad**"
      ],
      "metadata": {
        "id": "o4r3yQAtDYlb"
      }
    },
    {
      "cell_type": "markdown",
      "source": [
        "**Ejercicio 1 (Precio en un mercado marginalista):** Considera el problema de funcionamiento de un mercado eléctrico con el que hemos trabajado en la práctica anterior, donde los costes de producción de los $N_G$ productores que conforman el mercado vienen dados mediante funciones convexas lineales por tramos, en particular,\n",
        "\n",
        "<center>\n",
        "\n",
        "|  Productor    | Tramo 1   | Tramo 2  | Tramo 3 |\n",
        "| ------------  | --------     | ---      | ---    |  \n",
        "| 1            | (50, 10)      | (20, 15) | (30, 45)|\n",
        "| 2            | (10, 5)       | (50, 26) | (60, 55)|   \n",
        "| 3            | (100, 25)     | (50, 27) | (50, 30)|   \n",
        "\n",
        "</center>\n",
        "\n",
        "Recuerda que la tabla muestra los pares $(l_{i,j}, m_{i,j})$, $\\forall i = 1, \\ldots, N_{G}$, $\\forall j = 1, \\ldots, N_{p_{i}}$ que representan las longitudes y pendientes de los trozos lineales que determinan tales funciones de coste.\n",
        "\n",
        "1.   Calcula la variable dual asociada (llamémosle $\\lambda$) a la ecuación de equilibrio (o de cierre de mercado) para un valor de demanda $D = 200.$\n",
        "2.   Calcula el coste total de funcionamiento del mercado para $D=200$, $D=201$ y $D=199$.\n",
        "3. ¿Qué puedes decir acerca de cómo varía dicho coste? ¿Con qué está relacionada dicha variación?\n",
        "\n"
      ],
      "metadata": {
        "id": "Dme2T6LKDnjb"
      }
    },
    {
      "cell_type": "markdown",
      "source": [
        "**Ejercicio 2 (Teoría de juegos - Equilibrio de mercado):** Considera el problema que habría de resolver cada uno de los $N_G$ productores de electricidad que participan en el mercado para decidir la cantidad óptima de electricidad que deberían vender en dicho mercado si el precio de liquidación es $\\lambda$.\n",
        "\n",
        "\n",
        "1.   Formula dicho problema como un problema de Programación Matemática.\n",
        "2.   Resuelve el problema anterior utilizando *amplpy* para cada uno de los tres productores que constituyen el mercado.\n",
        "3. ¿Qué puedes decir acerca de las cantidades óptimas obtenidas?\n",
        "\n"
      ],
      "metadata": {
        "id": "nXfVAVjSQiJ-"
      }
    },
    {
      "cell_type": "markdown",
      "source": [
        "**Ejercicio 3 (Optimización Robusta):** Considera el problema de la dieta con el que trabajamos en la Práctica 1 (en su variante más sencilla). Supón que, por una concatenación de fallos técnicos, no se ha podido medir correctamente en el laboratorio la cantidad de fósforo que contiene cada uno de los tipos de alimentos disponibles para conformar la dieta. Por tanto, la tabla nutrientes-alimentos presenta \"missing data\" (o datos faltantes), tal y como sigue, donde \"NaN\" significa \"Not a Number\".\n",
        "\n",
        "<center>\n",
        "\n",
        "|  Nutriente    | Cantidad <br />  requerida   | Maíz A   | Avena  | Maíz B  | Salvado | Linaza|\n",
        "| ------------  | --------     | ---      | ---    | ---     | ----    | ---   |\n",
        "| DN            | 74.2         | 78.6     | 70.1   | 80.1    | 67.2    | 77.0  |\n",
        "| DP            | 14.7         | 6.50     | 9.40   | 8.80    | 13.7    | 30.4  |\n",
        "| Ca            | 0.14         | 0.02     | 0.09   | 0.03    | 0.14    | 0.41  |\n",
        "| Ph            | 0.55         | NaN     | NaN   | NaN    | NaN    | NaN  |\n",
        "\n",
        "</center>\n",
        "\n",
        "No obstante, un estudio estadístico efectuado sobre análisis de estos alimentos realizados en el pasado revela que:\n",
        "\n",
        "\n",
        "1.   La *suma* de una unidad de cada uno de los cinco alimentos disponibles contiene al menos dos unidades de fósforo.\n",
        "2.   El salvado siempre contiene más del doble de fósforo que la avena y el maíz B juntos.\n",
        "3.   La linaza siempre contiene más de 1.5 veces fósforo que el maíz A y el maíz B juntos.\n",
        "4.   Una unidad de maíz A más una unidad de linaza contienen al menos una unidad de fósforo.\n",
        "\n",
        "Se pide:\n",
        "\n",
        "\n",
        "1.   Formular un problema de Programación Matemática que permita determinar las cantidades de alimentos necesarias para *garantizar* los aportes mínimos de nutrientes exigidos en la dieta con el *menor coste* posible.\n",
        "2.   Resolver dicho problema con *amplpy* y discute la solución obtenida (en comparación con la obtenida en la Práctica 1).\n",
        "3. Calcular el (sobre)coste de la \"concatenación de fallos técnicos\", esto es, el (sobre)coste de la información incompleta.\n",
        "\n",
        "\n"
      ],
      "metadata": {
        "id": "3bbASANUb1of"
      }
    }
  ]
}