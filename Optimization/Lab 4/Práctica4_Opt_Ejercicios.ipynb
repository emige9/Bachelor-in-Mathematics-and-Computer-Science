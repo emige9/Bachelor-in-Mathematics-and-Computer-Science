{
  "nbformat": 4,
  "nbformat_minor": 0,
  "metadata": {
    "colab": {
      "provenance": []
    },
    "kernelspec": {
      "name": "python3",
      "display_name": "Python 3"
    },
    "language_info": {
      "name": "python"
    }
  },
  "cells": [
    {
      "cell_type": "markdown",
      "source": [
        "# **Programación Lineal Entera-Mixta (MILP)**"
      ],
      "metadata": {
        "id": "Cu8l6sfm5LWb"
      }
    },
    {
      "cell_type": "markdown",
      "source": [
        "**Ejercicio 1**: Considera el problema de operación de un mercado eléctrico con el que hemos venido trabajando en las prácticas anteriores. Recordemos que ste mercado está compuesto por $N_{G}$ productores de electricidad que han de satisfacer una demanda $D$; en nuestro caso particular, $N_{G} = 3$.\n",
        "\n",
        "En esta ocasión, sin embargo, vamos a suponer que, como realmente ocurre en la práctica, si bien el coste de producción de cada productor se puede aproximar mediante una *función lineal por tramos o a trozos*, esta **función no es convexa**. Vimos un ejemplo de este tipo de función en el último apartado de la Práctica 2, en concreto,\n",
        "\n",
        "<center>\n",
        "\n",
        "|  Productor    | Tramo 1   | Tramo 2  | Tramo 3 |\n",
        "| ------------  | --------     | ---      | ---    |  \n",
        "| 1            | (50, 10)      | (20, 15) | (30, 45)|\n",
        "| 2            | (10, 5)       | (50, 26) | (60, 15)|   \n",
        "| 3            | (100, 25)     | (50, 5) | (50, 30)|   \n",
        "\n",
        "</center>\n",
        "\n",
        "donde cada par $(l_{i,j}, m_{i,j})$ con $i, j = 1, \\ldots, 3$ en la tabla especifica la longitud o anchura del trozo lineal $l_{i,j}$ junto con su pendiente $m_{i,j}$.\n",
        "\n"
      ],
      "metadata": {
        "id": "Gasm1N5b55KR"
      }
    },
    {
      "cell_type": "markdown",
      "source": [
        "**Ejercicio 1.1**: Construye un modelo de programación matemática para liquidar este mercado, esto es, para decidir cuánto debe producir cada generador para una demanda $D = 200$. Recuerda que el modelado de las funciones de coste lineales por tramos **no convexas** debe ser tal que se asegure que cada tramo se rellena *de forma secuencial*."
      ],
      "metadata": {
        "id": "-5tbtfym_Q17"
      }
    },
    {
      "cell_type": "markdown",
      "source": [
        "**Ejercicio 1.2**: En la práctica, las funciones de coste de los productores suelen exhibir más rasgos \"no convexos\". Por ejemplo, es muy frecuente que estas funciones presenten lo que se conoce como \"zonas muertas o prohibidas\". Matemáticamente, una zona muerta no es más que la presencia de un \"hueco\" en el dominio de definición de la función de costes. Más concretamente, suele existir una producción mínima $\\underline{P}$ tal que el productor no puede producir en el intervalo abierto $(0, \\underline{P})$. Asimismo, producir a producción mínima suele acarrear un coste *fijo* $c$ que, para $P \\geq \\underline{P}$, se añade al coste *variable* lineal a trozos con el que hemos venido trabajando hasta ahora.\n",
        "\n",
        "Extiende el modelo MILP de funcionamiento de mercado para tener en cuenta que los tres productores exhiben una zona prohibida de producción $(0, \\underline{P}_{i})$, $i =1, 2, 3$, con un coste fijo a producción mínima $c_{i}$. Resuelve este modelo para los valores numéricos indicados en la siguiente tabla, y discute la solución (con respecto a la del caso anterior):\n",
        "\n",
        "<center>\n",
        "\n",
        "|  Productor    | $\\underline{P}_{i}$ | $c_i$  |\n",
        "| ------------  | --------     | ---      |   \n",
        "| 1            | 50            | 100       |\n",
        "| 2            | 50            | 500      |    \n",
        "| 3            | 0             | 0        |    \n",
        "\n",
        "</center>"
      ],
      "metadata": {
        "id": "U8rGmWzuUnt3"
      }
    },
    {
      "cell_type": "markdown",
      "source": [
        "**Ejercicio 2** (Problema de la mochila): Considera un armador que tiene un carguero con capacidad de hasta 1500 toneladas. El carguero transporta contenedores de diferentes pesos para una determinada ruta. En la ruta actual el carguero puede transportar algunos de los siguientes contenedores:\n",
        "\n",
        "<center>\n",
        "\n",
        "| Contenedor | c1  | c2  | c3  | c4  | c5  | c6  | c7  | c8  | c9  | c10 |\n",
        "|-------------|-----|-----|-----|-----|-----|-----|-----|-----|-----|-----|\n",
        "| **Peso**    | 100 | 155 | 50  | 112 | 70  | 80  | 60  | 118 | 110 | 55  |\n",
        "| **Valor**   | 50   | 65   | 30| 60   | 35   | 37 | 29   | 48   | 53   | 100   |\n",
        "| **Unidades**| 3   | 4   | 1   | 2   | 1   | 1   | 5   | 8   | 3   | 1   |\n",
        "\n",
        "</center>\n",
        "\n",
        "La última fila de la tabla indica el número existente de contenedores con un cargamento del valor y peso indicados.\n",
        "\n",
        "**Ejercicio 2.1**: Formula un modelo de Programación Matemática para determinar el envío (conjunto de contenedores) que maximiza el valor de la carga transportada por el carguero a fletar.\n",
        "\n",
        "**Ejercicio 2.2**: Resuelve el problema LP relajado y discute los inconvenientes que plantearía redondear la solución obtenida."
      ],
      "metadata": {
        "id": "aFMiB_B6ruRy"
      }
    },
    {
      "cell_type": "markdown",
      "source": [
        "**Ejercicio 3**: Considera una versión reducida del problema del carguero, en que solo se tienen disponibles los tres primeros contenedores que se indican en la tabla y la capacidad del carguero es de 400.\n",
        "\n",
        "Con la ayuda de un solver para resolver LPs, aplica ramificación y cota para obtener la solución óptima del problema a partir de su relajación lineal."
      ],
      "metadata": {
        "id": "uHv878CbbZ37"
      }
    }
  ]
}