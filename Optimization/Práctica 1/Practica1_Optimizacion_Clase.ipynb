{
  "nbformat": 4,
  "nbformat_minor": 0,
  "metadata": {
    "colab": {
      "provenance": []
    },
    "kernelspec": {
      "name": "python3",
      "display_name": "Python 3"
    },
    "language_info": {
      "name": "python"
    }
  },
  "cells": [
    {
      "cell_type": "markdown",
      "source": [
        "#Primeros pasos con AMPL en Python mediante la interfaz amplpy"
      ],
      "metadata": {
        "id": "joK4fwDns4p7"
      }
    },
    {
      "cell_type": "code",
      "execution_count": 3,
      "metadata": {
        "colab": {
          "base_uri": "https://localhost:8080/"
        },
        "id": "h5AokbZXswJ8",
        "outputId": "a9afe670-339c-4da1-cded-7b87b82e921f"
      },
      "outputs": [
        {
          "output_type": "stream",
          "name": "stdout",
          "text": [
            "\u001b[2K   \u001b[90m━━━━━━━━━━━━━━━━━━━━━━━━━━━━━━━━━━━━━━━━\u001b[0m \u001b[32m5.6/5.6 MB\u001b[0m \u001b[31m33.4 MB/s\u001b[0m eta \u001b[36m0:00:00\u001b[0m\n",
            "\u001b[?25h"
          ]
        }
      ],
      "source": [
        "%pip install -q amplpy"
      ]
    },
    {
      "cell_type": "code",
      "source": [
        "# Integracion en Google Colab\n",
        "from amplpy import AMPL, ampl_notebook\n",
        "\n",
        "ampl = ampl_notebook(\n",
        "    modules=[\"highs\", \"cplex\"],  # solvers que queremos instalar\n",
        "    license_uuid = \"d1619e22-974c-4935-ad8a-2554d161c51d\",   # licencia que usaremos\n",
        "    # instanciamos el objeto \"AMPL\" con el que vamos a trabajar\n",
        ")"
      ],
      "metadata": {
        "colab": {
          "base_uri": "https://localhost:8080/"
        },
        "id": "50Xr1lt5tPkl",
        "outputId": "3fbd3f1f-fe6e-4189-fa2d-293d9e896c6b"
      },
      "execution_count": 4,
      "outputs": [
        {
          "output_type": "stream",
          "name": "stdout",
          "text": [
            "Licensed to Bundle #6787.7245 expiring 20250228: 302-Optimization; 408-Operations Research, Prof. Juan Miguel Morales Gonz?lez, University of Malaga.\n"
          ]
        }
      ]
    },
    {
      "cell_type": "code",
      "source": [
        "ampl.eval(r\"\"\"\n",
        "reset;                    # para limpiar cualquier modelo previo\n",
        "var x_mA >= 0;\n",
        "var x_A >= 0;\n",
        "var x_mB >= 0;\n",
        "var x_S >= 0;\n",
        "var x_L >= 0;\n",
        "\n",
        "minimize coste_total:\n",
        "  x_mA + 0.5*x_A + 2*x_mB + 1.2*x_S + 3*x_L;\n",
        "s.t. cant_minima_DN:\n",
        "    78.6*x_mA + 70.1*x_A + 80.1*x_mB + 67.2*x_S + 77*x_L >= 74.2;\n",
        "     cant_minima_DP:\n",
        "    6.5*x_mA + 9.4*x_A + 8.8*x_mB + 13.7*x_S + 30.4*x_L >= 14.7;\n",
        "     cant_minima_Ca:\n",
        "    0.02*x_mA + 0.09*x_A + 0.03*x_mB + 0.14*x_S + 0.41*x_L >= 0.14;\n",
        "     cant_minima_Ph:\n",
        "    0.27*x_mA + 0.34*x_A + 0.3*x_mB + 1.29*x_S + 0.86*x_L >= 0.55;\n",
        "\"\"\")"
      ],
      "metadata": {
        "id": "zJNrGe8bxdNG"
      },
      "execution_count": 12,
      "outputs": []
    },
    {
      "cell_type": "code",
      "source": [
        "ampl.solve(solver=\"highs\") #Resolvemos con el solver \"highs\"\n",
        "assert ampl.solve_result == \"solved\" #Comprobamos que el problema se ha resuelto correctamente"
      ],
      "metadata": {
        "colab": {
          "base_uri": "https://localhost:8080/"
        },
        "id": "4t8nMFctzB5n",
        "outputId": "79d4f884-7b1b-433e-9272-779a9172ad15"
      },
      "execution_count": 13,
      "outputs": [
        {
          "output_type": "stream",
          "name": "stdout",
          "text": [
            "HiGHS 1.7.1: \b\b\b\b\b\b\b\b\b\b\b\b\bHiGHS 1.7.1: optimal solution; objective 0.7927691484\n",
            "3 simplex iterations\n",
            "0 barrier iterations\n"
          ]
        }
      ]
    },
    {
      "cell_type": "code",
      "source": [
        "x_mA = ampl.get_variable(\"x_mA\").value()\n",
        "x_A = ampl.get_variable(\"x_A\").value()\n",
        "x_mB = ampl.get_variable(\"x_mB\").value()\n",
        "x_S = ampl.get_variable(\"x_S\").value()\n",
        "x_L = ampl.get_variable(\"x_L\").value()\n",
        "\n",
        "print(f\"x_mA: {x_mA:.3f}\")\n",
        "print(f\"x_A: {x_A:.3f}\")\n",
        "print(f\"x_mB: {x_mB:.3f}\")\n",
        "print(f\"x_S: {x_S:.3f}\")\n",
        "print(f\"x_L: {x_L:.3f}\")\n",
        "\n",
        "coste_total = ampl.get_objective(\"coste_total\").value()\n",
        "print(f\"Coste total: {coste_total:.3f}\")"
      ],
      "metadata": {
        "colab": {
          "base_uri": "https://localhost:8080/"
        },
        "id": "KOR2i3RDzpj3",
        "outputId": "8f7b97ab-cbac-43d0-fada-832139824571"
      },
      "execution_count": 8,
      "outputs": [
        {
          "output_type": "stream",
          "name": "stdout",
          "text": [
            "x_mA: 0.000\n",
            "x_A: 1.530\n",
            "x_mB: 0.000\n",
            "x_S: 0.023\n",
            "x_L: 0.000\n",
            "Coste total: 0.793\n"
          ]
        }
      ]
    },
    {
      "cell_type": "code",
      "source": [
        "cant_minima_DN = ampl.get_constraint(\"cant_minima_DN\").body()\n",
        "print(f\"cant_minima_DN: {cant_minima_DN:.3f}\")"
      ],
      "metadata": {
        "colab": {
          "base_uri": "https://localhost:8080/"
        },
        "id": "IQ2vXp0Q0WLb",
        "outputId": "f6c66cab-55f5-44e2-9238-9c48062773ee"
      },
      "execution_count": 9,
      "outputs": [
        {
          "output_type": "stream",
          "name": "stdout",
          "text": [
            "cant_minima_DN: 108.819\n"
          ]
        }
      ]
    },
    {
      "cell_type": "code",
      "source": [
        "cant_minima_DN_dual = ampl.get_constraint(\"cant_minima_DN\").dual()\n",
        "print(f\"Variable dual de la restriccion cant_minima_DN: {cant_minima_DN_dual:.3f}\")"
      ],
      "metadata": {
        "colab": {
          "base_uri": "https://localhost:8080/"
        },
        "id": "C9hXLpIm0uZG",
        "outputId": "aaca9b90-9afd-4dce-af75-d23512ef70fe"
      },
      "execution_count": 10,
      "outputs": [
        {
          "output_type": "stream",
          "name": "stdout",
          "text": [
            "Variable dual de la restriccion cant_minima_DN: 0.000\n"
          ]
        }
      ]
    }
  ]
}