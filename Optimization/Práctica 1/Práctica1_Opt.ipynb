{
  "nbformat": 4,
  "nbformat_minor": 0,
  "metadata": {
    "colab": {
      "provenance": []
    },
    "kernelspec": {
      "name": "python3",
      "display_name": "Python 3"
    },
    "language_info": {
      "name": "python"
    }
  },
  "cells": [
    {
      "cell_type": "markdown",
      "source": [
        "# Primeros pasos con AMPL en Python mediante la interfaz *amplpy*"
      ],
      "metadata": {
        "id": "uE-wHXTep6Cz"
      }
    },
    {
      "cell_type": "markdown",
      "source": [
        "Podéis encontrar multitud de información sobre cómo trabajar con AMPL en el entorno de trabajo colaborativo Google colab en https://colab.ampl.com/."
      ],
      "metadata": {
        "id": "XSTB6WvUsQV5"
      }
    },
    {
      "cell_type": "markdown",
      "source": [
        "Instalamos en primer lugar la API *amplpy*:"
      ],
      "metadata": {
        "id": "DfavfzGKzxHa"
      }
    },
    {
      "cell_type": "code",
      "source": [
        "%pip install -q amplpy"
      ],
      "metadata": {
        "id": "3VjO7bXwrBjg",
        "colab": {
          "base_uri": "https://localhost:8080/"
        },
        "outputId": "3c1a0b6c-8f88-41ac-b77f-b9a04d62dec1"
      },
      "execution_count": 1,
      "outputs": [
        {
          "output_type": "stream",
          "name": "stdout",
          "text": [
            "\u001b[?25l   \u001b[90m━━━━━━━━━━━━━━━━━━━━━━━━━━━━━━━━━━━━━━━━\u001b[0m \u001b[32m0.0/5.6 MB\u001b[0m \u001b[31m?\u001b[0m eta \u001b[36m-:--:--\u001b[0m\r\u001b[2K   \u001b[91m━\u001b[0m\u001b[91m╸\u001b[0m\u001b[90m━━━━━━━━━━━━━━━━━━━━━━━━━━━━━━━━━━━━━━\u001b[0m \u001b[32m0.3/5.6 MB\u001b[0m \u001b[31m7.4 MB/s\u001b[0m eta \u001b[36m0:00:01\u001b[0m\r\u001b[2K   \u001b[91m━━━━━━━━━━━━━━━━\u001b[0m\u001b[91m╸\u001b[0m\u001b[90m━━━━━━━━━━━━━━━━━━━━━━━\u001b[0m \u001b[32m2.4/5.6 MB\u001b[0m \u001b[31m33.9 MB/s\u001b[0m eta \u001b[36m0:00:01\u001b[0m\r\u001b[2K   \u001b[91m━━━━━━━━━━━━━━━━━━━━━━━━━━━━━━━━━━━━━━━\u001b[0m\u001b[91m╸\u001b[0m \u001b[32m5.6/5.6 MB\u001b[0m \u001b[31m57.4 MB/s\u001b[0m eta \u001b[36m0:00:01\u001b[0m\r\u001b[2K   \u001b[90m━━━━━━━━━━━━━━━━━━━━━━━━━━━━━━━━━━━━━━━━\u001b[0m \u001b[32m5.6/5.6 MB\u001b[0m \u001b[31m41.9 MB/s\u001b[0m eta \u001b[36m0:00:00\u001b[0m\n",
            "\u001b[?25h"
          ]
        }
      ]
    },
    {
      "cell_type": "markdown",
      "source": [
        "Y ahora instanciamos un objeto \"AMPL\" y descargamos el \"solver\" necesario para resolver nuestro problema de optimización."
      ],
      "metadata": {
        "id": "9yq0zoTD2lPS"
      }
    },
    {
      "cell_type": "code",
      "source": [
        "# Integración en Google Colab\n",
        "from amplpy import AMPL, ampl_notebook\n",
        "\n",
        "ampl = ampl_notebook(\n",
        "    modules=[\"highs\", \"cplex\"],  # Solvers que queremos instalar\n",
        "    license_uuid=\"d1619e22-974c-4935-ad8a-2554d161c51d\",  # licencia que usaremos (os la he mandado por correo)\n",
        ")  # instanciamos el objeto \"AMPL\" con el que vamos a trabajar"
      ],
      "metadata": {
        "colab": {
          "base_uri": "https://localhost:8080/"
        },
        "id": "DxligW-u33uy",
        "outputId": "89a3be53-4f7b-4f67-bb05-ab6138d9fafb"
      },
      "execution_count": 2,
      "outputs": [
        {
          "output_type": "stream",
          "name": "stdout",
          "text": [
            "Licensed to Bundle #6787.7245 expiring 20250228: 302-Optimization; 408-Operations Research, Prof. Juan Miguel Morales Gonz?lez, University of Malaga.\n"
          ]
        }
      ]
    },
    {
      "cell_type": "markdown",
      "source": [
        "Ahora ya tenemos instalado todo lo necesario para resolver un problema de Programación Lineal como, por ejemplo, el **problema de la dieta** que vimos el primer día de clase."
      ],
      "metadata": {
        "id": "pCMONj3U6b_W"
      }
    },
    {
      "cell_type": "markdown",
      "source": [
        "# Problema de la dieta\n",
        "\n",
        "Como ya sabemos, el problema de la dieta consiste en determinar las cantidades de distintos nutrientes que deben ingerirse para asegurar ciertas condiciones de nutrición y minimizar el coste de compra de los nutrientes. Consideremos el caso que vimos en clase: Tenemos los cuatro tipos de nutrientes y los cinco alimentos que se presentan en la siguiente tabla, donde se recogen los contenidos nutritivos de cada alimento (por cada 100 gramos), junto con las cantidades mínimas requeridas para cada tipo de nutriente.\n",
        "\n",
        "|  Nutriente    | Cantidad <br />  requerida   | Maíz A   | Avena  | Maíz B  | Salvado | Linaza|\n",
        "| ------------  | --------     | ---      | ---    | ---     | ----    | ---   |\n",
        "| DN            | 74.2         | 78.6     | 70.1   | 80.1    | 67.2    | 77.0  |\n",
        "| DP            | 14.7         | 6.50     | 9.40   | 8.80    | 13.7    | 30.4  |\n",
        "| Ca            | 0.14         | 0.02     | 0.09   | 0.03    | 0.14    | 0.41  |\n",
        "| Ph            | 0.55         | 0.27     | 0.34   | 0.30    | 1.29    | 0.86  |\n",
        "\n",
        "El coste de cada alimento (por cada 100g) se indica en esta otra tabla, donde también les asignamos un acrónimo.\n",
        "\n",
        "\n",
        "|Acrónimo |    Alimento        | Coste € |\n",
        "|---------| -----------------  | ------- |\n",
        "|mA       |  Maíz A            | 1       |\n",
        "|A        |  Avena             | 0.5     |\n",
        "|mB       |  Maíz B            | 2       |\n",
        "|S        |  Salvado           | 1.2     |\n",
        "|L        |  Linaza            | 3       |\n"
      ],
      "metadata": {
        "id": "Yddtssrv6vfH"
      }
    },
    {
      "cell_type": "code",
      "source": [],
      "metadata": {
        "id": "aJfLO_vA92eV"
      },
      "execution_count": 2,
      "outputs": []
    },
    {
      "cell_type": "markdown",
      "source": [
        "Ahora, llamaremos $x_{mA}$, $x_{A}$, $x_{mB}$, $x_{S}$ y $x_{L}$ a las cantidades de maíz A, avena, maíz B, salvado y linaza que deben formar parte de la dieta, de forma que el coste total de dicha dieta vendrá dado por\n",
        "$$coste\\_total = x_{mA} + 0.5x_{A} + 2 x_{mB} + 1.2 x_{S} + 3 x_{L}$$\n",
        "\n",
        "Asimismo, para cumplir con la cantidad requerida de nutriente DN en la dieta, deberemos imponer en nuestro modelo la siguiente restricción:\n",
        "\n",
        "$$78.6x_{mA} + 70.1x_{A}+80.1x_{mB}+67.2x_{S} + 77x_{L} \\geq 74.2$$\n",
        "\n",
        "Las cantidades mínimas para los otros tres nutrientes darán lugar a restricciones análogas.\n",
        "\n",
        "Por supuesto, las cantidades de alimento que se incorporarán en la dieta habrán de ser no negativas, esto es:\n",
        "\n",
        "$$x_{mA}, x_{A}, x_{mB}, x_{S}, x_{L} \\geq 0$$\n",
        "\n",
        "Ya estamos listos para construir nuestro modelo y resolver el problema con la ayuda de AMPL.\n"
      ],
      "metadata": {
        "id": "YYXFIDzXDUm6"
      }
    },
    {
      "cell_type": "markdown",
      "source": [
        "### Construcción del modelo en el objeto \"ampl\":"
      ],
      "metadata": {
        "id": "p366Tjt-FbzB"
      }
    },
    {
      "cell_type": "code",
      "source": [
        "ampl.eval(r\"\"\"\n",
        "var x_mA >= 0;\n",
        "var x_A >= 0;\n",
        "var x_mB >= 0;\n",
        "var x_S >= 0;\n",
        "var x_L >= 0;\n",
        "\n",
        "minimize coste_total:\n",
        "    x_mA + 0.5*x_A + 2*x_mB + 1.2*x_S + 3*x_L;\n",
        "s.t. cant_minima_DN:\n",
        "    78.6*x_mA + 70.1*x_A + 80.1*x_mB + 67.2*x_S + 77*x_L >= 74.2;\n",
        "     cant_minima_DP:\n",
        "    6.50*x_mA + 9.40*x_A + 8.80*x_mB + 13.7*x_S + 30.4*x_L >= 14.7;\n",
        "     cant_minima_Ca:\n",
        "    0.02*x_mA + 0.09*x_A + 0.03*x_mB + 0.14*x_S + 0.41*x_L >= 0.14;\n",
        "     cant_minima_Ph:\n",
        "    0.27*x_mA + 0.34*x_A + 0.30*x_mB + 1.29*x_S + 0.86*x_L >= 0.55;\n",
        "    \"\"\")"
      ],
      "metadata": {
        "id": "k6MRqpaGFihC"
      },
      "execution_count": 3,
      "outputs": []
    },
    {
      "cell_type": "markdown",
      "source": [
        "### Resolución del modelo:"
      ],
      "metadata": {
        "id": "QbMSjCwvHzO-"
      }
    },
    {
      "cell_type": "code",
      "source": [
        "ampl.solve(solver=\"highs\") # Resolvemos con el solver \"highs\"\n",
        "assert ampl.solve_result == \"solved\"  # Comprobamos que el problema se ha resuelto correctamente"
      ],
      "metadata": {
        "id": "S5-B6YLKH9BE",
        "colab": {
          "base_uri": "https://localhost:8080/"
        },
        "outputId": "c0133e88-d9f9-4c0c-ca31-bc28a0fc9696"
      },
      "execution_count": 4,
      "outputs": [
        {
          "output_type": "stream",
          "name": "stdout",
          "text": [
            "HiGHS 1.7.1: \b\b\b\b\b\b\b\b\b\b\b\b\bHiGHS 1.7.1: optimal solution; objective 0.7927691484\n",
            "3 simplex iterations\n",
            "0 barrier iterations\n"
          ]
        }
      ]
    },
    {
      "cell_type": "markdown",
      "source": [
        "Extraemos del objeto \"ampl\" los valores óptimos de las variables de decisión y su coste:"
      ],
      "metadata": {
        "id": "9oDKAwmCIx6p"
      }
    },
    {
      "cell_type": "code",
      "source": [
        "x_mA = ampl.get_variable(\"x_mA\").value()\n",
        "x_A = ampl.get_variable(\"x_A\").value()\n",
        "x_mB = ampl.get_variable(\"x_mB\").value()\n",
        "x_S = ampl.get_variable(\"x_S\").value()\n",
        "x_L = ampl.get_variable(\"x_L\").value()\n",
        "\n",
        "print(f\"x_mA: {x_mA:.3f}\")\n",
        "print(f\"x_A: {x_A:.3f}\")\n",
        "print(f\"x_mB: {x_mB:.3f}\")\n",
        "print(f\"x_S: {x_S:.3f}\")\n",
        "print(f\"x_L: {x_L:.3f}\")\n",
        "\n",
        "# Ídem para el valor objetivo de la solución óptima:\n",
        "coste_total = ampl.get_objective(\"coste_total\").value()\n",
        "print(f\"Coste total: {coste_total:.3f}\")"
      ],
      "metadata": {
        "id": "jheAcf-cIjzV",
        "colab": {
          "base_uri": "https://localhost:8080/"
        },
        "outputId": "9c898475-2e66-460e-9839-8cf41e1edf7e"
      },
      "execution_count": 5,
      "outputs": [
        {
          "output_type": "stream",
          "name": "stdout",
          "text": [
            "x_mA: 0.000\n",
            "x_A: 1.530\n",
            "x_mB: 0.000\n",
            "x_S: 0.023\n",
            "x_L: 0.000\n",
            "Coste total: 0.793\n"
          ]
        }
      ]
    },
    {
      "cell_type": "markdown",
      "source": [
        "También podemos obtener el valor (del lado izquierdo) de una restricción evaluada en la solución óptima:"
      ],
      "metadata": {
        "id": "WczSfkh0EITA"
      }
    },
    {
      "cell_type": "code",
      "source": [
        "cant_minima_DN =ampl.get_constraint(\"cant_minima_DN\").body()\n",
        "print(f\"cant_minima_DN: {cant_minima_DN:.3f}\")"
      ],
      "metadata": {
        "id": "tyNqOBQsDVV6",
        "colab": {
          "base_uri": "https://localhost:8080/"
        },
        "outputId": "a0a5fd4e-2b10-4721-9f64-177157751deb"
      },
      "execution_count": 6,
      "outputs": [
        {
          "output_type": "stream",
          "name": "stdout",
          "text": [
            "cant_minima_DN: 108.819\n"
          ]
        }
      ]
    },
    {
      "cell_type": "markdown",
      "source": [
        "¡E incluso su variable dual (marginal, multiplicador de Lagrange o precio sombra)!"
      ],
      "metadata": {
        "id": "a2cZ_JNNEPDS"
      }
    },
    {
      "cell_type": "code",
      "source": [
        "cant_minima_DN_dual =ampl.get_constraint(\"cant_minima_DN\").dual()\n",
        "print(f\"Variable dual de la restricción cant_minima_DN: {cant_minima_DN_dual:.3f}\")"
      ],
      "metadata": {
        "id": "hs0zdwfwEXyx",
        "colab": {
          "base_uri": "https://localhost:8080/"
        },
        "outputId": "834a5048-ee8a-4936-9012-bb868e785102"
      },
      "execution_count": 7,
      "outputs": [
        {
          "output_type": "stream",
          "name": "stdout",
          "text": [
            "Variable dual de la restricción cant_minima_DN: 0.000\n"
          ]
        }
      ]
    },
    {
      "cell_type": "code",
      "source": [
        "ampl.solve(solver=\"cplex\", verbose = True, cplex_options = \"alg:method 0 pre:solve 0\") # Resolvemos con el solver \"cplex\"\n",
        "assert ampl.solve_result == \"solved\"  # Comprobamos que el problema se ha resuelto correctamente"
      ],
      "metadata": {
        "id": "XPzbi2B9LzwK",
        "colab": {
          "base_uri": "https://localhost:8080/"
        },
        "outputId": "b93661a2-1ab2-4d44-cc1f-20a0b0ddacdb"
      },
      "execution_count": 8,
      "outputs": [
        {
          "output_type": "stream",
          "name": "stdout",
          "text": [
            "CPLEX 22.1.1:   alg:method = 0\n",
            "  pre:solve = 0\n",
            " - Version identifier: 22.1.1.0 | 2022-11-28 | 9160aff4d\n",
            " - CPXPARAM_Simplex_Display                         0\n",
            " - CPXPARAM_Preprocessing_Presolve                  0\n",
            " - CPXPARAM_LPMethod                                1\n",
            " - CPXPARAM_MIP_Display                             0\n",
            " - CPXPARAM_Barrier_Display                         0\n",
            "CPLEX 22.1.1: optimal solution; objective 0.7927691484\n",
            "0 simplex iterations\n"
          ]
        }
      ]
    },
    {
      "cell_type": "code",
      "source": [
        "x_mA = ampl.get_variable(\"x_mA\").value()\n",
        "x_A = ampl.get_variable(\"x_A\").value()\n",
        "x_mB = ampl.get_variable(\"x_mB\").value()\n",
        "x_S = ampl.get_variable(\"x_S\").value()\n",
        "x_L = ampl.get_variable(\"x_L\").value()\n",
        "coste_total = ampl.get_objective(\"coste_total\").value()\n",
        "print(f\"x_mA: {x_mA:.3f}\")\n",
        "print(f\"x_A: {x_A:.3f}\")\n",
        "print(f\"x_mB: {x_mB:.3f}\")\n",
        "print(f\"x_S: {x_S:.3f}\")\n",
        "print(f\"x_L: {x_L:.3f}\")\n",
        "print(f\"Coste total: {coste_total:.3f}\")"
      ],
      "metadata": {
        "id": "XDgCkmL-L3qY",
        "colab": {
          "base_uri": "https://localhost:8080/"
        },
        "outputId": "95ca2a45-6335-4b60-81b9-b08da78f95e0"
      },
      "execution_count": 9,
      "outputs": [
        {
          "output_type": "stream",
          "name": "stdout",
          "text": [
            "x_mA: 0.000\n",
            "x_A: 1.530\n",
            "x_mB: 0.000\n",
            "x_S: 0.023\n",
            "x_L: 0.000\n",
            "Coste total: 0.793\n"
          ]
        }
      ]
    },
    {
      "cell_type": "markdown",
      "source": [
        "## Construcción de un modelo general\n"
      ],
      "metadata": {
        "id": "hHr4dx6GMraC"
      }
    },
    {
      "cell_type": "markdown",
      "source": [
        "Ahora vamos a usar las capacidades de AMPL para generalizar el modelo LP anterior para el caso en que tenemos un número $n_a$ de alimentos y un número $n_n$ de nutrientes. Para ello, utilizaremos conjuntos de índices, así como paramétros en que habremos de introducir los datos del problema."
      ],
      "metadata": {
        "id": "CfpXfpezM7rt"
      }
    },
    {
      "cell_type": "code",
      "source": [
        "ampl.eval(r\"\"\"\n",
        "reset;                          # Para limpiar cualquier modelo previo\n",
        "set ALIM;                       # Conjunto de alimentos\n",
        "set NUTR;                       # Conjunto de nutrientes\n",
        "param n_min {NUTR} >= 0;        # Cantidad mínima de nutrientes en la dieta\n",
        "param coste {ALIM} >= 0;        # Coste de cada alimento (por cada 100 g)\n",
        "param cont {ALIM, NUTR} >= 0;   # Contenido de nutriente en cada alimento\n",
        "\n",
        "var x {ALIM} >= 0;              # Cantidad de cada alimento presente la dieta\n",
        "                                # (múltiplo de 100 g)\n",
        "\n",
        "minimize coste_total:\n",
        "    sum{a in ALIM} coste[a]*x[a];\n",
        "s.t. cant_minima {n in NUTR}:\n",
        "    sum{a in ALIM} cont[a,n]*x[a] >= n_min[n];\n",
        "\"\"\")"
      ],
      "metadata": {
        "id": "b8QtPFKdOFOF"
      },
      "execution_count": 10,
      "outputs": []
    },
    {
      "cell_type": "markdown",
      "source": [
        "Pasamos a introducir los valores numéricos específicos que toman los parámetros del modelo para el ejemplo concreto que queremos resolver."
      ],
      "metadata": {
        "id": "FpoVmb2pS5Gy"
      }
    },
    {
      "cell_type": "code",
      "source": [
        "ampl.eval(r\"\"\"\n",
        "data;\n",
        "\n",
        "set ALIM := mA A mB S L;\n",
        "set NUTR := DN DP Ca Ph;\n",
        "\n",
        "param n_min := DN 74.2 DP 14.7 Ca 0.14 Ph 0.55;\n",
        "param coste :=\n",
        "    mA 1\n",
        "    A 0.5\n",
        "    mB 2\n",
        "    L 3\n",
        "    S 1.2\n",
        "    ;\n",
        "\n",
        "param cont (tr):\n",
        "        mA    A     mB    S     L :=\n",
        "  DN    78.6  70.1  80.1  67.2  77.0\n",
        "  DP    6.50  9.40  8.80  13.7  30.4\n",
        "  Ca    0.02  0.09  0.03  0.14  0.41\n",
        "  Ph    0.27  0.34  0.30  1.29  0.86\n",
        ";\n",
        "\n",
        "\"\"\")"
      ],
      "metadata": {
        "id": "84w7407OTKRg"
      },
      "execution_count": 11,
      "outputs": []
    },
    {
      "cell_type": "markdown",
      "source": [
        "Y pasamos a resolver el modelo."
      ],
      "metadata": {
        "id": "CvuU3Wlmkb5j"
      }
    },
    {
      "cell_type": "code",
      "source": [
        "ampl.solve(solver=\"cplex\") # Resolvemos con el solver \"cplex\"\n",
        "assert ampl.solve_result == \"solved\"  # Comprobamos que el problema se ha resuelto correctamente"
      ],
      "metadata": {
        "id": "bxL8bmJkV_V6",
        "colab": {
          "base_uri": "https://localhost:8080/"
        },
        "outputId": "aa11137a-dda7-4726-acea-900dc2a16b7a"
      },
      "execution_count": 12,
      "outputs": [
        {
          "output_type": "stream",
          "name": "stdout",
          "text": [
            "CPLEX 22.1.1:   alg:method = 0\n",
            "  pre:solve = 0\n",
            " - Version identifier: 22.1.1.0 | 2022-11-28 | 9160aff4d\n",
            " - CPXPARAM_Simplex_Display                         0\n",
            " - CPXPARAM_Preprocessing_Presolve                  0\n",
            " - CPXPARAM_LPMethod                                1\n",
            " - CPXPARAM_MIP_Display                             0\n",
            " - CPXPARAM_Barrier_Display                         0\n",
            "CPLEX 22.1.1: optimal solution; objective 0.7927691484\n",
            "4 simplex iterations\n"
          ]
        }
      ]
    },
    {
      "cell_type": "markdown",
      "source": [
        "Para extaer información sobre el problema resuelto, en concreto, los valores que adoptan las variables de decisión, hemos de tener en cuenta que dichas variables aparacen ahora en el modelo indexadas por el conjunto ALIM (es decir, la variable \"x\" no es un simple valor númerico real). Por ello, para extraer su valor recurrimos a su transformación a \"data frame\" por medio de *amplpy*."
      ],
      "metadata": {
        "id": "lfaVqZZFkkGp"
      }
    },
    {
      "cell_type": "code",
      "source": [
        "x = ampl.get_variable(\"x\") # Aquí el valor de \"x\" es convertido a un data frame de AMPL.\n",
        "df_x = x.get_values().to_pandas() # Aquí el valor de \"x\" es convertido a un data frame de Pandas.\n",
        "coste_total = ampl.get_objective(\"coste_total\").value()\n",
        "df_x = df_x.round(3)\n",
        "print(df_x)\n",
        "print(f\"Coste total: {coste_total:.3f}\")"
      ],
      "metadata": {
        "id": "hLzVPxfzYIKD",
        "colab": {
          "base_uri": "https://localhost:8080/"
        },
        "outputId": "ca6dd593-179d-4d1b-a773-ef09208cfe48"
      },
      "execution_count": 13,
      "outputs": [
        {
          "output_type": "stream",
          "name": "stdout",
          "text": [
            "    x.val\n",
            "A   1.530\n",
            "L   0.000\n",
            "S   0.023\n",
            "mA  0.000\n",
            "mB  0.000\n",
            "Coste total: 0.793\n"
          ]
        }
      ]
    },
    {
      "cell_type": "markdown",
      "source": [
        "La forma anterior en que hemos introducido los datos de entrada del problema de la dieta (esto es, los valores de los parámetros para la instancia específica de dicho problema que queremos resolver) corresponde al formato y sintásis que el entorno AMPL utiliza para tal propósito. Sin embargo, con la API *amplpy* podemos introducir los datos de entrada y asignar valores a parámetros utilizando listas y diccionarios de Python, así como data frames de Pandas. Veámoslo."
      ],
      "metadata": {
        "id": "t68yPCTeq_N6"
      }
    },
    {
      "cell_type": "code",
      "source": [
        "def preparar_datos():\n",
        "    import pandas as pd\n",
        "    import numpy as np\n",
        "\n",
        "    # Creamos un data frame que contenga el coste de los alimentos\n",
        "    alimentos_df = pd.DataFrame(\n",
        "        [\n",
        "            (\"MaizA\", 1),\n",
        "            (\"Avena\", 0.5),\n",
        "            (\"MaizB\", 2),\n",
        "            (\"Salvado\", 1.2),\n",
        "            (\"Linaza\", 3),\n",
        "        ],\n",
        "        columns=[\"ALIMENTO\", \"coste\"],\n",
        "    ).set_index(\"ALIMENTO\")\n",
        "\n",
        "    # Creamos un data frame para la cantidad mínima de nutrientes que se\n",
        "    # requiere en la dieta\n",
        "    nutr_df = pd.DataFrame(\n",
        "        [\n",
        "            (\"DN\", 74.2),\n",
        "            (\"DP\", 14.7),\n",
        "            (\"Ca\", 0.14),\n",
        "            (\"Ph\", 0.55),\n",
        "        ],\n",
        "        columns=[\"NUTR\", \"n_min\"],\n",
        "    ).set_index(\"NUTR\")\n",
        "\n",
        "    # Creamos un data frame para la cantidad de nutrientes que cada\n",
        "    # alimento contiene\n",
        "    cont_df = pd.DataFrame(\n",
        "        np.array(\n",
        "            [\n",
        "                [78.6, 70.1, 80.1, 67.2, 77.0],\n",
        "                [6.50, 9.40, 8.80, 13.7, 30.4],\n",
        "                [0.02, 0.09, 0.03, 0.14, 0.41],\n",
        "                [0.27, 0.34, 0.30, 1.29, 0.86],\n",
        "            ]\n",
        "        ),\n",
        "        columns= alimentos_df.index.to_list(),\n",
        "        index  = nutr_df.index.to_list(),\n",
        "    )\n",
        "    cont_df = cont_df.transpose() # OJO, que los ejes (índices) deben coincidir\n",
        "                                  # con los especificados en la definición del\n",
        "                                  # parámetro \"cont\" en el modelo, (ALIM, NUTR)\n",
        "    return alimentos_df, nutr_df, cont_df"
      ],
      "metadata": {
        "id": "5F6hgy51r2CO"
      },
      "execution_count": 14,
      "outputs": []
    },
    {
      "cell_type": "code",
      "source": [
        "# Volvemos a cargar el modelo para asegurar que borramos el contenido del obnjeto \"ampl\"\n",
        "\n",
        "ampl.eval(r\"\"\"\n",
        "reset;                          # Para limpiar cualquier modelo previo\n",
        "set ALIM;                       # Conjunto de alimentos\n",
        "set NUTR;                       # Conjunto de nutrientes\n",
        "param n_min {NUTR} >= 0;        # Cantidad mínima de nutrientes en la dieta\n",
        "param coste {ALIM} >= 0;        # Coste de cada alimento (por cada 100 g)\n",
        "param cont {ALIM, NUTR} >= 0;   # Contenido de nutriente en cada alimento\n",
        "\n",
        "var x {ALIM} >= 0;              # Cantidad de cada alimento presente en la dieta\n",
        "                                # (múltiplo de 100 g)\n",
        "\n",
        "minimize coste_total:\n",
        "    sum{a in ALIM} coste[a]*x[a];\n",
        "s.t. cant_minima {n in NUTR}:\n",
        "    sum{a in ALIM} cont[a,n]*x[a] >= n_min[n];\n",
        "\"\"\")"
      ],
      "metadata": {
        "id": "0uLdMtQFvzpf"
      },
      "execution_count": 15,
      "outputs": []
    },
    {
      "cell_type": "code",
      "source": [
        "# Cargamos los datos:\n",
        "\n",
        "# Load the data from pandas.DataFrame objects:\n",
        "alimentos_df, nutr_df, cont_df = preparar_datos()\n",
        "\n",
        "# 1. Enviamos los datos de \"alimentos_df\" a AMPL e inicializamos el conjunto de índices \"ALIM\"\n",
        "ampl.set_data(alimentos_df, \"ALIM\")\n",
        "# 2. Enviamos los datos de \"nutr_df\" a AMPL e inicializamos el conjunto de índices \"NUTR\"\n",
        "ampl.set_data(nutr_df, \"NUTR\")\n",
        "# 3. Fijamos los valores del parámetro \"cont\" usando \"cont_df\"\n",
        "ampl.get_parameter(\"cont\").set_values(cont_df)"
      ],
      "metadata": {
        "id": "qMNcQXyGwA1m"
      },
      "execution_count": 16,
      "outputs": []
    },
    {
      "cell_type": "code",
      "source": [
        "ampl.solve(solver=\"cplex\") # Resolvemos con el solver \"cplex\"\n",
        "assert ampl.solve_result == \"solved\"  # Comprobamos que el problema se ha resuelto correctamente"
      ],
      "metadata": {
        "id": "Y6U_2n-HyFoR",
        "colab": {
          "base_uri": "https://localhost:8080/"
        },
        "outputId": "e404b93c-85db-4593-e866-37565452a52e"
      },
      "execution_count": 17,
      "outputs": [
        {
          "output_type": "stream",
          "name": "stdout",
          "text": [
            "CPLEX 22.1.1:   alg:method = 0\n",
            "  pre:solve = 0\n",
            " - Version identifier: 22.1.1.0 | 2022-11-28 | 9160aff4d\n",
            " - CPXPARAM_Simplex_Display                         0\n",
            " - CPXPARAM_Preprocessing_Presolve                  0\n",
            " - CPXPARAM_LPMethod                                1\n",
            " - CPXPARAM_MIP_Display                             0\n",
            " - CPXPARAM_Barrier_Display                         0\n",
            "CPLEX 22.1.1: optimal solution; objective 0.7927691484\n",
            "4 simplex iterations\n"
          ]
        }
      ]
    },
    {
      "cell_type": "code",
      "source": [
        "x = ampl.get_variable(\"x\") # Aquí el valor de \"x\" es convertido a un data frame de AMPL.\n",
        "df_x = x.get_values().to_pandas() # Aquí el valor de \"x\" es convertido a un data frame de Pandas.\n",
        "coste_total = ampl.get_objective(\"coste_total\").value()\n",
        "df_x = df_x.round(3)\n",
        "print(df_x)\n",
        "print(f\"Coste total: {coste_total:.3f}\")"
      ],
      "metadata": {
        "id": "KOS87ZATAUzv",
        "colab": {
          "base_uri": "https://localhost:8080/"
        },
        "outputId": "d033d69f-2e25-4d35-f512-ca88c6c4ca26"
      },
      "execution_count": 18,
      "outputs": [
        {
          "output_type": "stream",
          "name": "stdout",
          "text": [
            "         x.val\n",
            "Avena    1.530\n",
            "Linaza   0.000\n",
            "MaizA    0.000\n",
            "MaizB    0.000\n",
            "Salvado  0.023\n",
            "Coste total: 0.793\n"
          ]
        }
      ]
    },
    {
      "cell_type": "markdown",
      "source": [
        "Y ahora utilizando listas y diccionarios:"
      ],
      "metadata": {
        "id": "cx-lkp_DC4xI"
      }
    },
    {
      "cell_type": "code",
      "source": [
        "# Volvemos a cargar el modelo para asegurar que borramos el contenido del obnjeto \"ampl\"\n",
        "\n",
        "ampl.eval(r\"\"\"\n",
        "reset;                          # Para limpiar cualquier modelo previo\n",
        "set ALIM;                       # Conjunto de alimentos\n",
        "set NUTR;                       # Conjunto de nutrientes\n",
        "param n_min {NUTR} >= 0;        # Cantidad mínima de nutrientes en la dieta\n",
        "param coste {ALIM} >= 0;        # Coste de cada alimento (por cada 100 g)\n",
        "param cont {ALIM, NUTR} >= 0;   # Contenido de nutriente en cada alimento\n",
        "\n",
        "var x {ALIM} >= 0;              # Cantidad de cada alimento presente en la dieta\n",
        "                                # (múltiplo de 100 g)\n",
        "\n",
        "minimize coste_total:\n",
        "    sum{a in ALIM} coste[a]*x[a];\n",
        "s.t. cant_minima {n in NUTR}:\n",
        "    sum{a in ALIM} cont[a,n]*x[a] >= n_min[n];\n",
        "\"\"\")"
      ],
      "metadata": {
        "id": "QLuUmPslC8rG"
      },
      "execution_count": 19,
      "outputs": []
    },
    {
      "cell_type": "code",
      "source": [
        "# Introducimos el coste de los alimentos como diccionario\n",
        "# alimentos[alim] = coste\n",
        "alimentos = {\n",
        "    \"maizA\": 1,\n",
        "    \"avena\": 0.5,\n",
        "    \"maizB\": 2,\n",
        "    \"salvado\": 1.2,\n",
        "    \"linaza\": 3,\n",
        "}\n",
        "# Introducimos la cantidad mínima requerida de nutriente como lista\n",
        "nutrientes = [\"DN\", \"DP\", \"Ca\", \"Ph\"]\n",
        "n_min =[74.2, 14.7, 0.14, 0.55]\n",
        "\n",
        "ampl.set[\"ALIM\"] = list(alimentos.keys())\n",
        "ampl.param[\"coste\"] = {alim: coste for alim, coste in alimentos.items()}\n",
        "ampl.set[\"NUTR\"] = nutrientes\n",
        "ampl.param[\"n_min\"] = {nutrientes[i]: j for i, j in enumerate(n_min)}\n",
        "\n",
        "# Introducimos el contenido nutritivo de cada alimento como una lista de listas\n",
        "contenido = [\n",
        "    [78.6, 70.1, 80.1, 67.2, 77.0],\n",
        "    [6.50, 9.40, 8.80, 13.7, 30.4],\n",
        "    [0.02, 0.09, 0.03, 0.14, 0.41],\n",
        "    [0.27, 0.34, 0.30, 1.29, 0.86],\n",
        "]\n",
        "ampl.param[\"cont\"] = {\n",
        "    (alimento, nutriente): contenido[i][j]\n",
        "    for i, nutriente in enumerate(nutrientes)\n",
        "    for j, alimento in enumerate(alimentos)\n",
        "}"
      ],
      "metadata": {
        "id": "tC2_bTZXDAWI"
      },
      "execution_count": 20,
      "outputs": []
    },
    {
      "cell_type": "code",
      "source": [
        "ampl.solve(solver=\"cplex\") # Resolvemos con el solver \"cplex\"\n",
        "assert ampl.solve_result == \"solved\"  # Comprobamos que el problema se ha resuelto correctamente"
      ],
      "metadata": {
        "id": "so0VwOfyNlIM",
        "colab": {
          "base_uri": "https://localhost:8080/"
        },
        "outputId": "8a5fed95-fc30-4c07-9109-dfd5b0e91fbe"
      },
      "execution_count": 21,
      "outputs": [
        {
          "output_type": "stream",
          "name": "stdout",
          "text": [
            "CPLEX 22.1.1:   alg:method = 0\n",
            "  pre:solve = 0\n",
            " - Version identifier: 22.1.1.0 | 2022-11-28 | 9160aff4d\n",
            " - CPXPARAM_Simplex_Display                         0\n",
            " - CPXPARAM_Preprocessing_Presolve                  0\n",
            " - CPXPARAM_LPMethod                                1\n",
            " - CPXPARAM_MIP_Display                             0\n",
            " - CPXPARAM_Barrier_Display                         0\n",
            "CPLEX 22.1.1: optimal solution; objective 0.7927691484\n",
            "4 simplex iterations\n"
          ]
        }
      ]
    },
    {
      "cell_type": "code",
      "source": [
        "x = ampl.get_variable(\"x\") # Aquí el valor de \"x\" es convertido a un data frame de AMPL.\n",
        "df_x = x.get_values().to_pandas() # Aquí el valor de \"x\" es convertido a un data frame de Pandas.\n",
        "coste_total = ampl.get_objective(\"coste_total\").value()\n",
        "df_x = df_x.round(3)\n",
        "print(df_x)\n",
        "print(f\"Coste total: {coste_total:.3f}\")"
      ],
      "metadata": {
        "id": "oC5j8rQTNvWN",
        "colab": {
          "base_uri": "https://localhost:8080/"
        },
        "outputId": "2160e1b4-4c86-48b8-e575-48b13c9804a6"
      },
      "execution_count": 22,
      "outputs": [
        {
          "output_type": "stream",
          "name": "stdout",
          "text": [
            "         x.val\n",
            "avena    1.530\n",
            "linaza   0.000\n",
            "maizA    0.000\n",
            "maizB    0.000\n",
            "salvado  0.023\n",
            "Coste total: 0.793\n"
          ]
        }
      ]
    },
    {
      "cell_type": "markdown",
      "source": [
        "**Ejercicio**: Extiende el modelo LP con el que hemos venido trabajando para resolver el problema de la dieta de forma tal que se considere una cantidad mínima y máxima de alimento que se puede usar para elaborar la dieta (a_min y a_max, respectivamente) así como una cantidad máxima de nutriente que puede estar presente en la misma (n_max). Resuelve entonces dicho modelo para los siguientes datos de entrada:\n",
        "\n",
        "|Acrónimo |    Alimento        | Coste € | Mínimo | Máximo|\n",
        "|---------| -----------------  | ------- |--------|-------|\n",
        "|mA       |  Maíz A            | 1       | 0.20   |  1.00 |\n",
        "|A        |  Avena             | 0.5     | 0.30   |  1.20 |\n",
        "|mB       |  Maíz B            | 2       | 0.10   |  2.00 |\n",
        "|S        |  Salvado           | 1.2     | 0.50   |  3.50 |\n",
        "|L        |  Linaza            | 3       | 0.00   |  0.75 |\n",
        "\n",
        "|  Nutriente    | Cantidad <br />  requerida | Cantidad <br /> máxima  | Maíz A   | Avena  | Maíz B  | Salvado | Linaza|\n",
        "| ------------  | --------     |-------   | ---      | ---    | ---     | ----    | ---   |\n",
        "| DN            | 74.2         |120.1     | 78.6     | 70.1   | 80.1    | 67.2    | 77.0  |\n",
        "| DP            | 14.7         |18.4     | 6.50     | 9.40   | 8.80    | 13.7    | 30.4  |\n",
        "| Ca            | 0.14         |0.95      | 0.02     | 0.09   | 0.03    | 0.14    | 0.41  |\n",
        "| Ph            | 0.55         |1.23      | 0.27     | 0.34   | 0.30    | 1.29    | 0.86  |"
      ],
      "metadata": {
        "id": "PEOPYqjMN-6U"
      }
    },
    {
      "cell_type": "code",
      "source": [
        "# Volvemos a cargar el modelo para asegurar que borramos el contenido del obnjeto \"ampl\"\n",
        "\n",
        "ampl.eval(r\"\"\"\n",
        "reset;                                      # Para limpiar cualquier modelo previo\n",
        "set ALIM;                                   # Conjunto de alimentos\n",
        "set NUTR;                                   # Conjunto de nutrientes\n",
        "param n_min {NUTR} >= 0;                    # Cantidad mínima de nutrientes en la dieta\n",
        "param n_max {n in NUTR} >= n_min[n];        # Cantidad máxima de nutrientes en la dieta\n",
        "param a_min {ALIM} >= 0;                    # Cantidad mínima de cada alimento en la dieta\n",
        "param a_max {a in ALIM} >= a_min[a];        # Cantidad máxima de cada alimento en la dieta\n",
        "param coste {ALIM} >= 0;                    # Coste de cada alimento (por cada 100 g)\n",
        "param cont {ALIM, NUTR} >= 0;               # Contenido de nutriente en cada alimento\n",
        "\n",
        "var x {a in ALIM} >= a_min[a], <= a_max[a]; # Cantidad de cada alimento presente en la dieta\n",
        "                                            # (múltiplo de 100 g)\n",
        "\n",
        "minimize coste_total:\n",
        "    sum{a in ALIM} coste[a]*x[a];\n",
        "s.t. cant_minima {n in NUTR}:\n",
        "   n_min[n]<= sum{a in ALIM} cont[a,n]*x[a] <= n_max[n];\n",
        "\"\"\")"
      ],
      "metadata": {
        "id": "uZCTb6wetKdH"
      },
      "execution_count": 23,
      "outputs": []
    },
    {
      "cell_type": "code",
      "source": [
        "def preparar_datos_ext():\n",
        "    import pandas as pd\n",
        "    import numpy as np\n",
        "\n",
        "    # Creamos un data frame que contenga el coste de los alimentos y sus cantidades mínima y máxima\n",
        "    alimentos_df = pd.DataFrame(\n",
        "        [\n",
        "            (\"MaizA\", 1, 0.2, 1),\n",
        "            (\"Avena\", 0.5, 0.3, 1.2),\n",
        "            (\"MaizB\", 2, 0.1, 2),\n",
        "            (\"Salvado\", 1.2, 0.5, 3.5),\n",
        "            (\"Linaza\", 3, 0, 0.75),\n",
        "        ],\n",
        "        columns=[\"ALIMENTO\", \"coste\", \"a_min\", \"a_max\"],\n",
        "    ).set_index(\"ALIMENTO\")\n",
        "\n",
        "    # Creamos un data frame para las cantidades mínima y máxima de nutrientes que se requiere en la dieta\n",
        "    nutr_df = pd.DataFrame(\n",
        "        [\n",
        "            (\"DN\", 74.2, 120.1),\n",
        "            (\"DP\", 14.7, 18.4),\n",
        "            (\"Ca\", 0.14, 0.95),\n",
        "            (\"Ph\", 0.55, 1.23),\n",
        "        ],\n",
        "        columns=[\"NUTR\", \"n_min\", \"n_max\"],\n",
        "    ).set_index(\"NUTR\")\n",
        "\n",
        "    # Creamos un data frame para la cantidad de nutrientes que cada\n",
        "    # alimento contiene\n",
        "    cont_df = pd.DataFrame(\n",
        "        np.array(\n",
        "            [\n",
        "                [78.6, 70.1, 80.1, 67.2, 77.0],\n",
        "                [6.50, 9.40, 8.80, 13.7, 30.4],\n",
        "                [0.02, 0.09, 0.03, 0.14, 0.41],\n",
        "                [0.27, 0.34, 0.30, 1.29, 0.86],\n",
        "            ]\n",
        "        ),\n",
        "        columns= alimentos_df.index.to_list(),\n",
        "        index  = nutr_df.index.to_list(),\n",
        "    )\n",
        "    cont_df = cont_df.transpose() # OJO, que los ejes (índices) deben coincidir\n",
        "                                  # con los especificados en la definición del\n",
        "                                  # parámetro \"cont\" en el modelo, (ALIM, NUTR)\n",
        "    return alimentos_df, nutr_df, cont_df"
      ],
      "metadata": {
        "id": "jBsvZnjAwYP5"
      },
      "execution_count": 24,
      "outputs": []
    },
    {
      "cell_type": "code",
      "source": [
        "# Cargamos los datos:\n",
        "\n",
        "# Load the data from pandas.DataFrame objects:\n",
        "alimentos_df, nutr_df, cont_df = preparar_datos_ext()\n",
        "\n",
        "# 1. Enviamos los datos de \"alimentos_df\" a AMPL e inicializamos el conjunto de índices \"ALIM\"\n",
        "ampl.set_data(alimentos_df, \"ALIM\")\n",
        "# 2. Enviamos los datos de \"nutr_df\" a AMPL e inicializamos el conjunto de índices \"NUTR\"\n",
        "ampl.set_data(nutr_df, \"NUTR\")\n",
        "# 3. Fijamos los valores del parámetro \"cont\" usando \"cont_df\"\n",
        "ampl.get_parameter(\"cont\").set_values(cont_df)"
      ],
      "metadata": {
        "id": "oJwhGNwcwltB"
      },
      "execution_count": 25,
      "outputs": []
    },
    {
      "cell_type": "code",
      "source": [
        "ampl.solve(solver=\"cplex\") # Resolvemos con el solver \"cplex\"\n",
        "print(ampl.solve_result)\n"
      ],
      "metadata": {
        "id": "mPe8AKWBysIn",
        "colab": {
          "base_uri": "https://localhost:8080/"
        },
        "outputId": "1e4f85c8-8dbf-49dc-c2a2-aaf69f2c23ff"
      },
      "execution_count": 26,
      "outputs": [
        {
          "output_type": "stream",
          "name": "stdout",
          "text": [
            "CPLEX 22.1.1:   alg:method = 0\n",
            "  pre:solve = 0\n",
            " - Version identifier: 22.1.1.0 | 2022-11-28 | 9160aff4d\n",
            " - CPXPARAM_Simplex_Display                         0\n",
            " - CPXPARAM_Preprocessing_Presolve                  0\n",
            " - CPXPARAM_LPMethod                                1\n",
            " - CPXPARAM_MIP_Display                             0\n",
            " - CPXPARAM_Barrier_Display                         0\n",
            "CPLEX 22.1.1: optimal solution; objective 1.35\n",
            "4 simplex iterations\n",
            "solved\n"
          ]
        }
      ]
    },
    {
      "cell_type": "code",
      "source": [
        "x = ampl.get_variable(\"x\") # Aquí el valor de \"x\" es convertido a un data frame de AMPL.\n",
        "df_x = df = x.get_values().to_pandas() # Aquí el valor de \"x\" es convertido a un data frame de Pandas.\n",
        "coste_total = ampl.get_objective(\"coste_total\").value()\n",
        "df_x = df_x.round(3)\n",
        "print(df_x)\n",
        "print(f\"Coste total: {coste_total:.3f}\")"
      ],
      "metadata": {
        "id": "9qDFOsyzyxB9",
        "colab": {
          "base_uri": "https://localhost:8080/"
        },
        "outputId": "8f075bbf-e352-423c-b8ea-805b3218b8ba"
      },
      "execution_count": 27,
      "outputs": [
        {
          "output_type": "stream",
          "name": "stdout",
          "text": [
            "         x.val\n",
            "Avena      0.7\n",
            "Linaza     0.0\n",
            "MaizA      0.2\n",
            "MaizB      0.1\n",
            "Salvado    0.5\n",
            "Coste total: 1.350\n"
          ]
        }
      ]
    },
    {
      "cell_type": "markdown",
      "source": [
        "**Ejercicio**: Modifica de la forma más sencilla que se te ocurra (por ejemplo, tratando de minimizar el mínimo número de cambios) el valor de los parámetros de la instancia del problema anterior para que el programa LP resultante se vuelva infactible, no acotado o tenga múltiples soluciones óptimas. En este último caso, proprociona al menos dos soluciones óptimas distintas."
      ],
      "metadata": {
        "id": "Yrgia1sQzPKo"
      }
    }
  ]
}