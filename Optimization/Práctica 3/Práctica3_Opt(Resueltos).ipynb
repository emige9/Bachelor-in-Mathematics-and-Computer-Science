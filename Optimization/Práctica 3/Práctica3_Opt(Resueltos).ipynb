{
  "nbformat": 4,
  "nbformat_minor": 0,
  "metadata": {
    "colab": {
      "provenance": []
    },
    "kernelspec": {
      "name": "python3",
      "display_name": "Python 3"
    },
    "language_info": {
      "name": "python"
    }
  },
  "cells": [
    {
      "cell_type": "markdown",
      "source": [
        "# **Aplicaciones de la Teoría de Dualidad**"
      ],
      "metadata": {
        "id": "o4r3yQAtDYlb"
      }
    },
    {
      "cell_type": "markdown",
      "source": [
        "**Ejercicio 1 (Precio en un mercado marginalista):** Considera el problema de funcionamiento de un mercado eléctrico con el que hemos trabajado en la práctica anterior, donde los costes de producción de los $N_G$ productores que conforman el mercado vienen dados mediante funciones convexas lineales por tramos, en particular,\n",
        "\n",
        "<center>\n",
        "\n",
        "|  Productor    | Tramo 1   | Tramo 2  | Tramo 3 |\n",
        "| ------------  | --------     | ---      | ---    |  \n",
        "| 1            | (50, 10)      | (20, 15) | (30, 45)|\n",
        "| 2            | (10, 5)       | (50, 26) | (60, 55)|   \n",
        "| 3            | (100, 25)     | (50, 27) | (50, 30)|   \n",
        "\n",
        "</center>\n",
        "\n",
        "Recuerda que la tabla muestra los pares $(l_{i,j}, m_{i,j})$, $\\forall i = 1, \\ldots, N_{G}$, $\\forall j = 1, \\ldots, N_{p_{i}}$ que representan las longitudes y pendientes de los trozos lineales que determinan tales funciones de coste.\n",
        "\n",
        "1.   Calcula la variable dual asociada (llamémosle $\\lambda$) a la ecuación de equilibrio (o de cierre de mercado) para un valor de demanda $D = 200.$\n",
        "\n",
        "\n"
      ],
      "metadata": {
        "id": "Dme2T6LKDnjb"
      }
    },
    {
      "cell_type": "code",
      "source": [
        "%pip install -q amplpy"
      ],
      "metadata": {
        "id": "XA6al2-XyVqk",
        "colab": {
          "base_uri": "https://localhost:8080/"
        },
        "outputId": "6055162d-e9f7-4f2f-a3b3-b472cc69e1a4"
      },
      "execution_count": 2,
      "outputs": [
        {
          "output_type": "stream",
          "name": "stdout",
          "text": [
            "\u001b[?25l   \u001b[90m━━━━━━━━━━━━━━━━━━━━━━━━━━━━━━━━━━━━━━━━\u001b[0m \u001b[32m0.0/5.6 MB\u001b[0m \u001b[31m?\u001b[0m eta \u001b[36m-:--:--\u001b[0m\r\u001b[2K   \u001b[91m━\u001b[0m\u001b[90m╺\u001b[0m\u001b[90m━━━━━━━━━━━━━━━━━━━━━━━━━━━━━━━━━━━━━━\u001b[0m \u001b[32m0.2/5.6 MB\u001b[0m \u001b[31m4.8 MB/s\u001b[0m eta \u001b[36m0:00:02\u001b[0m\r\u001b[2K   \u001b[91m━━━━━━━━\u001b[0m\u001b[90m╺\u001b[0m\u001b[90m━━━━━━━━━━━━━━━━━━━━━━━━━━━━━━━\u001b[0m \u001b[32m1.2/5.6 MB\u001b[0m \u001b[31m17.0 MB/s\u001b[0m eta \u001b[36m0:00:01\u001b[0m\r\u001b[2K   \u001b[91m━━━━━━━━━━━━━━━━━━━━━━━━━━━━━━━━\u001b[0m\u001b[91m╸\u001b[0m\u001b[90m━━━━━━━\u001b[0m \u001b[32m4.6/5.6 MB\u001b[0m \u001b[31m43.6 MB/s\u001b[0m eta \u001b[36m0:00:01\u001b[0m\r\u001b[2K   \u001b[91m━━━━━━━━━━━━━━━━━━━━━━━━━━━━━━━━━━━━━━━\u001b[0m\u001b[91m╸\u001b[0m \u001b[32m5.6/5.6 MB\u001b[0m \u001b[31m48.1 MB/s\u001b[0m eta \u001b[36m0:00:01\u001b[0m\r\u001b[2K   \u001b[90m━━━━━━━━━━━━━━━━━━━━━━━━━━━━━━━━━━━━━━━━\u001b[0m \u001b[32m5.6/5.6 MB\u001b[0m \u001b[31m33.2 MB/s\u001b[0m eta \u001b[36m0:00:00\u001b[0m\n",
            "\u001b[?25h"
          ]
        }
      ]
    },
    {
      "cell_type": "code",
      "source": [
        "# Integración en Google Colab\n",
        "from amplpy import AMPL, ampl_notebook\n",
        "\n",
        "Mercado = ampl_notebook(\n",
        "    modules=[\"highs\", \"cplex\"],  # Solvers que queremos instalar\n",
        "    license_uuid=\"d1619e22-974c-4935-ad8a-2554d161c51d\",  # licencia que usaremos (os la he mandado por correo)\n",
        ")  # instanciamos el objeto \"AMPL\" con el que vamos a trabajar"
      ],
      "metadata": {
        "colab": {
          "base_uri": "https://localhost:8080/"
        },
        "id": "nmLoX8yhx3QR",
        "outputId": "ee8e113c-34d1-4a69-abe9-1249fa1a09a1"
      },
      "execution_count": 3,
      "outputs": [
        {
          "output_type": "stream",
          "name": "stdout",
          "text": [
            "Licensed to Bundle #6787.7245 expiring 20250228: 302-Optimization; 408-Operations Research, Prof. Juan Miguel Morales Gonz?lez, University of Malaga.\n"
          ]
        }
      ]
    },
    {
      "cell_type": "markdown",
      "source": [
        "Construimos el modelo."
      ],
      "metadata": {
        "id": "97y81k3LW5Wu"
      }
    },
    {
      "cell_type": "code",
      "source": [
        "Mercado.eval(r\"\"\"\n",
        "reset;                          # Para limpiar cualquier modelo previo\n",
        "set Prod;                       # Conjunto de productores\n",
        "set Tram;                       # Conjunto de tramos de las funciones de coste\n",
        "param D >= 0;                   # Demanda del mercado\n",
        "param lon {Prod, Tram} >= 0;    # Longitud de cada tramo\n",
        "param slope {Prod, Tram} >= 0;  # Pendiente de cada tramo\n",
        "\n",
        "var p {i in Prod, j in Tram} >= 0, <= lon[i,j];  # Potencia producida por cada\n",
        "                                                 # productor en cada tramo\n",
        "\n",
        "minimize coste_total:\n",
        "    sum{i in Prod, j in Tram} slope[i,j]*p[i,j];\n",
        "s.t. balance: sum{i in Prod, j in Tram} p[i,j] = D;\n",
        "\"\"\")"
      ],
      "metadata": {
        "id": "djKWard-TiQW"
      },
      "execution_count": 4,
      "outputs": []
    },
    {
      "cell_type": "markdown",
      "source": [
        "Introducimos los datos necesarios para resolver el modelo de cierre de mercado."
      ],
      "metadata": {
        "id": "bYF58gIOZN42"
      }
    },
    {
      "cell_type": "code",
      "source": [
        "def preparar_datos_mercado():\n",
        "    import pandas as pd\n",
        "    import numpy as np\n",
        "\n",
        "    # Conjunto de tramos o piezas:\n",
        "    tramos = [\"T1\", \"T2\", \"T3\"]\n",
        "\n",
        "    # Conjunto de productores:\n",
        "    productores = [\"G1\", \"G2\", \"G3\"]\n",
        "\n",
        "    # Demanda del mercado:\n",
        "    demanda = 200\n",
        "\n",
        "    # Creamos un data frame que contenga la longitud de los tramos\n",
        "    lon_df = pd.DataFrame(\n",
        "        np.array(\n",
        "            [\n",
        "                [50, 20, 30],\n",
        "                [10, 50, 60],\n",
        "                [100, 50, 50],\n",
        "            ]\n",
        "        ),\n",
        "        columns= tramos,\n",
        "        index  = productores,\n",
        "    )\n",
        "\n",
        "    # Creamos un data frame que contenga las pendientes de los tramos\n",
        "    slope_df = pd.DataFrame(\n",
        "        np.array(\n",
        "            [\n",
        "                [10, 15, 45],\n",
        "                [5, 26, 55],\n",
        "                [25, 27, 30],\n",
        "            ]\n",
        "        ),\n",
        "        columns= tramos,\n",
        "        index  = productores,\n",
        "    )\n",
        "\n",
        "    return demanda, tramos, productores, lon_df, slope_df\n"
      ],
      "metadata": {
        "id": "tS6n_CcCXEy7"
      },
      "execution_count": 5,
      "outputs": []
    },
    {
      "cell_type": "code",
      "source": [
        "# Cargamos los datos:\n",
        "\n",
        "# Load the data from pandas.DataFrame objects:\n",
        "demanda, tramos, productores, lon_df, slope_df = preparar_datos_mercado()\n",
        "\n",
        "Mercado.set[\"Prod\"] = productores\n",
        "Mercado.set[\"Tram\"] = tramos\n",
        "Mercado.get_parameter(\"lon\").set_values(lon_df)\n",
        "Mercado.get_parameter(\"slope\").set_values(slope_df)\n",
        "Mercado.get_parameter(\"D\").set(demanda)\n"
      ],
      "metadata": {
        "id": "WhwYTgqIZjgK"
      },
      "execution_count": 6,
      "outputs": []
    },
    {
      "cell_type": "markdown",
      "source": [
        "Resolvemos:"
      ],
      "metadata": {
        "id": "4HP7gnEfcAF_"
      }
    },
    {
      "cell_type": "code",
      "source": [
        "Mercado.solve(solver=\"cplex\") # Resolvemos con el solver \"cplex\"\n",
        "assert Mercado.solve_result == \"solved\"  # Comprobamos que el problema se ha resuelto correctamente"
      ],
      "metadata": {
        "colab": {
          "base_uri": "https://localhost:8080/"
        },
        "id": "Y3UMIEdbb8Wg",
        "outputId": "becae822-4b06-441e-a5f5-ca6b526a2049"
      },
      "execution_count": 7,
      "outputs": [
        {
          "output_type": "stream",
          "name": "stdout",
          "text": [
            "CPLEX 22.1.1:  - Version identifier: 22.1.1.0 | 2022-11-28 | 9160aff4d\n",
            " - CPXPARAM_Simplex_Display                         0\n",
            " - CPXPARAM_MIP_Display                             0\n",
            " - CPXPARAM_Barrier_Display                         0\n",
            "\b\b\b\b\b\b\b\b\b\b\b\b\b\bCPLEX 22.1.1: optimal solution; objective 3870\n",
            "0 simplex iterations\n"
          ]
        }
      ]
    },
    {
      "cell_type": "code",
      "source": [
        "p = Mercado.get_variable(\"p\") # Producción por generador y tramo\n",
        "df_p = p.get_values().to_pandas()\n",
        "coste_total = Mercado.get_objective(\"coste_total\").value()\n",
        "lam = Mercado.get_constraint(\"balance\").dual()\n",
        "df_p = df_p.round(3)\n",
        "print(df_p)\n",
        "print(f\"Coste total: {coste_total:.3f}\")\n",
        "print(f\"Lambda: {lam:.1f}\")\n",
        "\n",
        "# Resumimos lo que produce cada productor:\n",
        "df_Pg = df_p.groupby(level='index0').sum()\n",
        "print(df_Pg)"
      ],
      "metadata": {
        "colab": {
          "base_uri": "https://localhost:8080/"
        },
        "id": "bv1xvLQogeGg",
        "outputId": "e4ba65fb-a9b6-451d-b9e2-b37d87704e91"
      },
      "execution_count": 8,
      "outputs": [
        {
          "output_type": "stream",
          "name": "stdout",
          "text": [
            "               p.val\n",
            "index0 index1       \n",
            "G1     T1         50\n",
            "       T2         20\n",
            "       T3          0\n",
            "G2     T1         10\n",
            "       T2         20\n",
            "       T3          0\n",
            "G3     T1        100\n",
            "       T2          0\n",
            "       T3          0\n",
            "Coste total: 3870.000\n",
            "Lambda: 26.0\n",
            "        p.val\n",
            "index0       \n",
            "G1         70\n",
            "G2         30\n",
            "G3        100\n"
          ]
        }
      ]
    },
    {
      "cell_type": "markdown",
      "source": [
        "Calcula el coste total de funcionamiento del mercado para $D=200$, $D=201$ y $D=199$."
      ],
      "metadata": {
        "id": "qUTUnF-E1c_q"
      }
    },
    {
      "cell_type": "code",
      "source": [
        "Tcost = {}\n",
        "for demanda in [200, 201, 199]:\n",
        "    Mercado.get_parameter(\"D\").set(demanda)\n",
        "    Mercado.solve(solver=\"cplex\")\n",
        "    Tcost[f\"{demanda}\"] = Mercado.get_objective(\"coste_total\").value()\n"
      ],
      "metadata": {
        "colab": {
          "base_uri": "https://localhost:8080/"
        },
        "id": "3z__trNL1eZq",
        "outputId": "77b3ca09-a3bd-45b9-9f6e-f9992423cc0c"
      },
      "execution_count": 9,
      "outputs": [
        {
          "output_type": "stream",
          "name": "stdout",
          "text": [
            "CPLEX 22.1.1:  - Version identifier: 22.1.1.0 | 2022-11-28 | 9160aff4d\n",
            " - CPXPARAM_Simplex_Display                         0\n",
            " - CPXPARAM_MIP_Display                             0\n",
            " - CPXPARAM_Barrier_Display                         0\n",
            "\b\b\b\b\b\b\b\b\b\b\b\b\b\bCPLEX 22.1.1: optimal solution; objective 3870\n",
            "0 simplex iterations\n",
            "CPLEX 22.1.1:  - Version identifier: 22.1.1.0 | 2022-11-28 | 9160aff4d\n",
            " - CPXPARAM_Simplex_Display                         0\n",
            " - CPXPARAM_MIP_Display                             0\n",
            " - CPXPARAM_Barrier_Display                         0\n",
            "\b\b\b\b\b\b\b\b\b\b\b\b\b\bCPLEX 22.1.1: optimal solution; objective 3896\n",
            "0 simplex iterations\n",
            "CPLEX 22.1.1:  - Version identifier: 22.1.1.0 | 2022-11-28 | 9160aff4d\n",
            " - CPXPARAM_Simplex_Display                         0\n",
            " - CPXPARAM_MIP_Display                             0\n",
            " - CPXPARAM_Barrier_Display                         0\n",
            "\b\b\b\b\b\b\b\b\b\b\b\b\b\bCPLEX 22.1.1: optimal solution; objective 3844\n",
            "0 simplex iterations\n"
          ]
        }
      ]
    },
    {
      "cell_type": "code",
      "source": [
        "print(Tcost)"
      ],
      "metadata": {
        "colab": {
          "base_uri": "https://localhost:8080/"
        },
        "id": "wjt656ix5zKq",
        "outputId": "256f7b7f-d8ad-4af5-b271-c645bab2d105"
      },
      "execution_count": 10,
      "outputs": [
        {
          "output_type": "stream",
          "name": "stdout",
          "text": [
            "{'200': 3870.0, '201': 3896.0, '199': 3844.0}\n"
          ]
        }
      ]
    },
    {
      "cell_type": "markdown",
      "source": [
        "¿Qué puedes decir acerca de cómo varía dicho coste? ¿Con qué está relacionada dicha variación?\n",
        "\n",
        "La variación en el coste total de producción es precisamente la variable dual $\\lambda$."
      ],
      "metadata": {
        "id": "3jTcX9B956f7"
      }
    },
    {
      "cell_type": "markdown",
      "source": [
        "**Ejercicio 2 (Teoría de juegos - Equilibrio de mercado):** Considera el problema que habría de resolver cada uno de los $N_G$ productores de electricidad que participan en el mercado para decidir la cantidad óptima de electricidad que deberían vender en dicho mercado si el precio de liquidación es $\\lambda$.\n",
        "\n",
        "\n",
        "1.   Formula dicho problema como un problema de Programación Matemática."
      ],
      "metadata": {
        "id": "9wLTBI9z6Sva"
      }
    },
    {
      "cell_type": "markdown",
      "source": [
        "Considera el producto $i$ con $i \\leq N_G$. Dicho productor (que consideramos *racional*) persigue maximizar su beneficio (esto es, los ingresos por la venta de electricidad menos los costes de producirla). Naturalmente, el productor no puede producir más allá de su capacidad. Consecuentemente, la toma de decisiones del productor $i$ se puede modelar mediante el siguiente LP:\n",
        "\n",
        "$$\n",
        "\\begin{array}{lll}\n",
        "    &\\max           & \\lambda \\, P_i - \\sum_{j=1}^{N_{p_{i}}} m_{ij}p_{ij}      &    \\\\\n",
        "    &\\textrm{s.t.}  & P_{i} =  \\sum_{j=1}^{N_{p_{i}}} p_{ij}   &    \\\\\n",
        "    &               & 0 \\leq p_{ij} \\geq l_{ij}, \\quad \\forall j = 1,\\ldots, N_{p_{i}} &    \n",
        "\\end{array}\n",
        "$$"
      ],
      "metadata": {
        "id": "ok9y236v6hc6"
      }
    },
    {
      "cell_type": "markdown",
      "source": [
        "2. Resuelve el problema anterior utilizando *amplpy* para cada uno de los tres productores que constituyen el mercado."
      ],
      "metadata": {
        "id": "0lgTdIQm9KCc"
      }
    },
    {
      "cell_type": "code",
      "source": [
        "Productor = ampl_notebook(\n",
        "    modules=[\"highs\", \"cplex\"],  # Solvers que queremos instalar\n",
        "    license_uuid=\"d1619e22-974c-4935-ad8a-2554d161c51d\",  # licencia que usaremos (os la he mandado por correo)\n",
        ")  # instanciamos el objeto \"AMPL\" con el que vamos a trabajar"
      ],
      "metadata": {
        "colab": {
          "base_uri": "https://localhost:8080/"
        },
        "id": "PVk0RrCR9R5q",
        "outputId": "428f544a-45df-479f-a6b4-6edf256b89c0"
      },
      "execution_count": 11,
      "outputs": [
        {
          "output_type": "stream",
          "name": "stdout",
          "text": [
            "Licensed to Bundle #6787.7245 expiring 20250228: 302-Optimization; 408-Operations Research, Prof. Juan Miguel Morales Gonz?lez, University of Malaga.\n"
          ]
        }
      ]
    },
    {
      "cell_type": "code",
      "source": [
        "Productor.eval(r\"\"\"\n",
        "reset;                          # Para limpiar cualquier modelo previo\n",
        "set Tram;                       # Conjunto de tramos de las funciones de coste\n",
        "param lambda;                   # Variable dual lambda\n",
        "param lon {Tram} >= 0;          # Longitud de cada tramo\n",
        "param slope {Tram};             # Pendiente de cada tramo\n",
        "\n",
        "var p {j in Tram} >= 0, <= lon[j];  # Potencia producida por cada\n",
        "                                    # productor en cada tramo\n",
        "\n",
        "var P >= 0;\n",
        "\n",
        "maximize beneficio: lambda * P - sum{j in Tram} slope[j]*p[j];\n",
        "s.t. prod_total: sum{j in Tram} p[j] = P;\n",
        "\"\"\")"
      ],
      "metadata": {
        "id": "eALQ1y-499Fz"
      },
      "execution_count": 12,
      "outputs": []
    },
    {
      "cell_type": "markdown",
      "source": [
        "Cargamos los datos para los parámetros de entrada del modelo (objeto de AMPL) \"Productor\". Nótese que estos parámetros de entrada son, en esencia, un subconjunto de los utilizados por el modelo \"Mercado\", en particular, aquellos que hacen referencia a un productor específico $i$, con $i \\leq N_{G}$.\n",
        "\n",
        "Por tanto, a continuación, resolveremos el modelo \"Productor\" para todo $i \\leq N_{G}$."
      ],
      "metadata": {
        "id": "y4smPw4Ct1eC"
      }
    },
    {
      "cell_type": "code",
      "source": [
        "import pandas as pd\n",
        "\n",
        "P = {} # En este diccionario almacenaremos la cantidad total producida por cada\n",
        "       # productor\n",
        "\n",
        "p = pd.DataFrame(columns = tramos) # En este dataframe alacenaremos lo que\n",
        "                                   # produce cada productor de cada uno de lo\n",
        "                                   # tramos de su función de costes convexa\n",
        "                                   # lineal a trozos\n",
        "\n",
        "for i in productores:\n",
        "  # Cargamos los datos referidos al productor i:\n",
        "  Productor.set[\"Tram\"] = tramos\n",
        "  Productor.get_parameter(\"lon\").set_values(lon_df.loc[i])\n",
        "  Productor.get_parameter(\"slope\").set_values(slope_df.loc[i])\n",
        "  Productor.get_parameter(\"lambda\").set(lam) # La variable dual asociada a la ecuación de equilibrio de \"Mercado\"\n",
        "\n",
        "  # Resolvemos el modelo \"Productor\" para el productor i:\n",
        "  Productor.solve(solver=\"highs\") # Resolvemos con el solver \"cplex\"\n",
        "  assert Productor.solve_result == \"solved\"  # Comprobamos que el problema se ha resuelto correctamente\n",
        "  P[f\"{i}\"] = Productor.get_variable(\"P\").value()\n",
        "  p.loc[f\"{i}\"] = Productor.get_variable(\"p\").get_values().to_pandas()[\"p.val\"]\n",
        "print(lam)\n",
        "print(P)\n",
        "print(p)"
      ],
      "metadata": {
        "colab": {
          "base_uri": "https://localhost:8080/"
        },
        "id": "BQzYzH1iut4y",
        "outputId": "3c1a0b40-4808-46fa-aaa7-4f69cde8cb95"
      },
      "execution_count": 13,
      "outputs": [
        {
          "output_type": "stream",
          "name": "stdout",
          "text": [
            "HiGHS 1.7.1: \b\b\b\b\b\b\b\b\b\b\b\b\bHiGHS 1.7.1: optimal solution; objective 1020\n",
            "0 simplex iterations\n",
            "0 barrier iterations\n",
            "HiGHS 1.7.1: \b\b\b\b\b\b\b\b\b\b\b\b\bHiGHS 1.7.1: optimal solution; objective 210\n",
            "0 simplex iterations\n",
            "0 barrier iterations\n",
            "HiGHS 1.7.1: \b\b\b\b\b\b\b\b\b\b\b\b\bHiGHS 1.7.1: optimal solution; objective 100\n",
            "0 simplex iterations\n",
            "0 barrier iterations\n",
            "26.0\n",
            "{'G1': 70.0, 'G2': 60.0, 'G3': 100.0}\n",
            "     T1  T2  T3\n",
            "G1   50  20   0\n",
            "G2   10  50   0\n",
            "G3  100   0   0\n"
          ]
        }
      ]
    },
    {
      "cell_type": "markdown",
      "source": [
        "*¿Qué puedes decir acerca de las cantidades óptimas obtenidas?*"
      ],
      "metadata": {
        "id": "UpsQM8tg_L-x"
      }
    },
    {
      "cell_type": "markdown",
      "source": [
        "Obsérvese que el problema LP que modela al productor G2 tiene múltiples soluciones óptimas. Veámoslo. Para ello, vamos a determinar, de entre todas las soluciones óptimas disponibles (todas ellas con valor objetivo de 210), aquella que hace el menor uso del tramo T2 de producción. De hecho, esta solución, junto con la obtenida en la celda anterior, conforman los puntos extremos del segmento de soluciones óptimas que posee el problema del productor G2."
      ],
      "metadata": {
        "id": "UazjXTtk4yC4"
      }
    },
    {
      "cell_type": "code",
      "source": [
        "Productor_G2 = ampl_notebook(\n",
        "    modules=[\"highs\", \"cplex\"],  # Solvers que queremos instalar\n",
        "    license_uuid=\"d1619e22-974c-4935-ad8a-2554d161c51d\",  # licencia que usaremos (os la he mandado por correo)\n",
        ")  # instanciamos el objeto \"AMPL\" con el que vamos a trabajar"
      ],
      "metadata": {
        "colab": {
          "base_uri": "https://localhost:8080/"
        },
        "outputId": "e02bd5b3-01a6-4492-e23f-18bb70a4289e",
        "id": "x_O-BwPY51-B"
      },
      "execution_count": 14,
      "outputs": [
        {
          "output_type": "stream",
          "name": "stdout",
          "text": [
            "Licensed to Bundle #6787.7245 expiring 20250228: 302-Optimization; 408-Operations Research, Prof. Juan Miguel Morales Gonz?lez, University of Malaga.\n"
          ]
        }
      ]
    },
    {
      "cell_type": "code",
      "source": [
        "Productor_G2.eval(r\"\"\"\n",
        "reset;                          # Para limpiar cualquier modelo previo\n",
        "set Tram;                       # Conjunto de tramos de las funciones de coste\n",
        "param lambda;                   # Variable dual lambda\n",
        "param beneficio_min;            # Beneficio mínimo que imponemos a la solución\n",
        "param lon {Tram} >= 0;          # Longitud de cada tramo\n",
        "param slope {Tram};             # Pendiente de cada tramo\n",
        "\n",
        "var p {j in Tram} >= 0, <= lon[j];  # Potencia producida por cada\n",
        "                                    # productor en cada tramo\n",
        "\n",
        "var P >= 0;\n",
        "\n",
        "minimize Produccion: P;          # Buscamos la SO que minimiza la producción\n",
        "                                 # del productor G2\n",
        "s.t.  b_min:  lambda * P - sum{j in Tram} slope[j]*p[j] >= beneficio_min; # Beneficio mínimo que imponemos a la solución\n",
        "      prod_total: sum{j in Tram} p[j] = P;\n",
        "\"\"\")"
      ],
      "metadata": {
        "id": "-e6IEUhS51-C"
      },
      "execution_count": 15,
      "outputs": []
    },
    {
      "cell_type": "code",
      "source": [
        "# Cargamos los datos referidos al productor G2:\n",
        "Productor_G2.set[\"Tram\"] = tramos\n",
        "Productor_G2.get_parameter(\"lon\").set_values(lon_df.loc[\"G2\"])\n",
        "Productor_G2.get_parameter(\"slope\").set_values(slope_df.loc[\"G2\"])\n",
        "Productor_G2.get_parameter(\"lambda\").set(lam) # La variable dual asociada a la ecuación de equilibrio de \"Mercado\"\n",
        "Productor_G2.get_parameter(\"beneficio_min\").set(210) # Imponemos el beneficio de 210 para garantizar optimalidad\n",
        "\n",
        "# Resolvemos el modelo \"Productor_G2\":\n",
        "Productor_G2.solve(solver=\"highs\") # Resolvemos con el solver \"highs\"\n",
        "assert Productor_G2.solve_result == \"solved\"  # Comprobamos que el problema se ha resuelto correctamente\n",
        "print(Productor_G2.get_variable(\"P\").value())\n",
        "print(Productor_G2.get_variable(\"p\").get_values().to_pandas()[\"p.val\"])\n"
      ],
      "metadata": {
        "colab": {
          "base_uri": "https://localhost:8080/"
        },
        "id": "X7MrVrrV8R-z",
        "outputId": "4b61cc7b-a0ce-4b75-a268-748af32fb3aa"
      },
      "execution_count": 16,
      "outputs": [
        {
          "output_type": "stream",
          "name": "stdout",
          "text": [
            "HiGHS 1.7.1: \b\b\b\b\b\b\b\b\b\b\b\b\bHiGHS 1.7.1: optimal solution; objective 10\n",
            "0 simplex iterations\n",
            "0 barrier iterations\n",
            "10.0\n",
            "T1    10\n",
            "T2     0\n",
            "T3     0\n",
            "Name: p.val, dtype: int64\n"
          ]
        }
      ]
    },
    {
      "cell_type": "markdown",
      "source": [
        "Por tanto, al productor G2 le es *indiferente* producir en el rango que va de 10 a 60, por lo que si el precio de liquidación del mercado se fija a 26 (variable dual de la ecuación de equilibrio de mercado), las soluciones óptimas de los tres productores coincidirán con la dictada por el mercado. Dicho de otro modo, la variable dual de la ecuación de balance del mercado constituye un precio de equilibrio para el cual los tres productores y el mercado (que tiene como misión satisfacer la demanda de 200) se sienten satisfechos (pues todos ellos satisfacen sus objetivos o intereses particulares)."
      ],
      "metadata": {
        "id": "FXRFG-cA-VBV"
      }
    },
    {
      "cell_type": "markdown",
      "source": [
        "**Ejercicio 3 (Optimización Robusta):** Considera el problema de la dieta con el que trabajamos en la Práctica 1 (en su variante más sencilla). Supón que, por una concatenación de fallos técnicos, no se ha podido medir correctamente en el laboratorio la cantidad de fósforo que contiene cada uno de los tipos de alimentos disponibles para conformar la dieta. Por tanto, la tabla nutrientes-alimentos presenta \"missing data\" (o datos faltantes), tal y como sigue, donde \"NaN\" significa \"Not a Number\".\n",
        "\n",
        "<center>\n",
        "\n",
        "|  Nutriente    | Cantidad <br />  requerida   | Maíz A   | Avena  | Maíz B  | Salvado | Linaza|\n",
        "| ------------  | --------     | ---      | ---    | ---     | ----    | ---   |\n",
        "| DN            | 74.2         | 78.6     | 70.1   | 80.1    | 67.2    | 77.0  |\n",
        "| DP            | 14.7         | 6.50     | 9.40   | 8.80    | 13.7    | 30.4  |\n",
        "| Ca            | 0.14         | 0.02     | 0.09   | 0.03    | 0.14    | 0.41  |\n",
        "| Ph            | 0.55         | NaN     | NaN   | NaN    | NaN    | NaN  |\n",
        "\n",
        "</center>\n",
        "\n",
        "No obstante, un estudio estadístico efectuado sobre análisis de estos alimentos realizados en el pasado revela que:\n",
        "\n",
        "\n",
        "1.   La *suma* de una unidad de cada uno de los cinco alimentos disponibles contiene al menos dos unidades de fósforo.\n",
        "2.   El salvado siempre contiene más del doble de fósforo que la avena y el maíz B juntos.\n",
        "3.   La linaza siempre contiene más de 1.5 veces fósforo que el maíz A y el maíz B juntos.\n",
        "4.   Una unidad de maíz A más una unidad de linaza contienen al menos una unidad de fósforo.\n",
        "\n",
        "Se pide:\n",
        "\n",
        "\n",
        "1.   Formular un problema de Programación Matemática que permita determinar las cantidades de alimentos necesarias para *garantizar* los aportes mínimos de nutrientes exigidos en la dieta con el *menor coste* posible.\n",
        "\n",
        "\n",
        "\n"
      ],
      "metadata": {
        "id": "3bbASANUb1of"
      }
    },
    {
      "cell_type": "markdown",
      "source": [
        "Llamemos $a_{4j}$ a la cantidad de fósforo que aporta el alimento $j \\in \\{mA, A, mB, S, L\\}$. Queremos que\n",
        "$$a_{4mA}x_{mA} + a_{4A}x_{A} + a_{4mB}x_{mB} +a_{4S}x_{S} + a_{4L}x_{L} \\geq 0.55$$\n",
        "\n",
        "teniendo en cuenta que\n",
        "\n",
        "$$\n",
        "\\begin{array}{rcl}\n",
        "    a_{4mA} + a_{4A} + a_{4mB} + a_{4L} + a_{4S} & \\geq      & 2   \\\\\n",
        "    a_{4S}  & \\geq   & 2(a_{4A} + a_{4mB})    \\\\\n",
        "    a_{4L}  & \\geq   & 1.5(a_{mA} + a_{4mB})    \\\\\n",
        "    a_{4mA} + a_{4L} & \\geq      & 1  \n",
        "\\end{array}\n",
        "$$\n",
        "\n",
        "El *peor caso* de aporte de fósforo que se puede dar con la combinación de alimentos se corresponde con el mínimo de\n",
        "\n",
        "$$ a_{4mA}x_{mA} + a_{4A}x_{A} + a_{4mB}x_{mB} +a_{4S}x_{S} + a_{4L}x_{L}$$\n",
        "\n",
        "Por tanto, lo que buscamos es que el siguiente problema LP en las variables $a_{4j}$, $j \\in \\{mA, A, mB, S, L\\}$\n",
        "\n",
        "$$\n",
        "\\begin{array}{rrcl}\n",
        "    \\min & a_{4mA}x_{mA} + a_{4A}x_{A} + a_{4mB}x_{mB} +a_{4S}x_{S} + a_{4L}x_{L}\\\\\n",
        "    {\\rm sujeto \\ a} & a_{4mA} + a_{4A} + a_{4mB} + a_{4S} + a_{4L} & \\geq      & 2   \\\\\n",
        "    &a_{4S} -2(a_{4A} + a_{4mB}) & \\geq   & 0    \\\\\n",
        "    &a_{4L}  - 1.5(a_{mA} + a_{4mB})& \\geq   & 0    \\\\\n",
        "    &a_{4mA} + a_{4L} & \\geq      & 1  \\\\\n",
        "    &a_{4mA}, a_{4A}, a_{4mB}, a_{4S}, a_{4L} & \\geq & 0\n",
        "\\end{array}\n",
        "$$\n",
        "sea $\\geq 0.55$.\n",
        "\n",
        "O mejore dicho, buscamos las cantidades $x_{mA}, x_{A}, x_{mB}, x_{S}, x_{L}$ de alimentos que hemos de aportar a la dieta para que dicho mínimo sea $\\geq 0.55$ a la vez que minimizamos el coste de la misma.\n",
        "\n",
        "Podemos calcular el dual del problema anterior, que tiene la siguiente pinta\n",
        "\n",
        "$$\n",
        "\\begin{array}{rrcl}\n",
        "    \\max & 2y_1 + y_4\\\\\n",
        "    {\\rm sujeto \\ a} & y_1-1.5y_3+y_4 & \\leq      & x_{mA}   \\\\\n",
        "    &y_1-2y_2 & \\leq   & x_{A}    \\\\\n",
        "    &y_1-2y_2-1.5y_3& \\leq   & x_{mB}    \\\\\n",
        "    &y_1+y_2 & \\leq      & x_{S}  \\\\\n",
        "    &y_1+y_3 + y_{4} & \\leq      & x_{L}  \\\\\n",
        "    &y_1, y_2, y_3, y_4 & \\geq & 0\n",
        "\\end{array}\n",
        "$$\n",
        "\n",
        "Sabemos por el Teorema de Dualidad Fuerte que si el primal tiene SO, también la tiene el dual y sus funciones objetivo coinciden. Además, es fácil ver que el dual tiene como solución factible $(y_1,y_2,y_3,y_4) = (0,0,0,0)$ porque las cantidades de alimentos han de ser no negativas. Por tanto, el primal no puede ser ilimitado. Consecuentemente, el primal debe ser infactible o tener SO, pero si el primal fuera infactible (y por el razonamiento anterior, el dual ilimitado), entonces la restricción sobre la cantidad mínima de fósforo carecería de sentido y se podría simplemente excluir de la formulación (porque no existirían valores posibles para sus coeficientes). Así pues, en cualquier caso, podemos reemplazar el problema primal por su dual en la nueva formulación del problema de la dieta con coeficientes $a_{4j}$ desconocidos.\n",
        "\n",
        "Por otra parte, si para cualquier solución factible del dual se tiene que $2y_1+y_4 \\geq 0.55$, entonces automáticamente esta misma restricción se verificará para su máximo. Por consiguiente, podemos eliminar dicho \"máximo\" de la restricción sobre la cantidad mínima de fósforo.\n",
        "\n",
        "Finalmente, el problema que hemos de resolver en este caso queda como sigue:\n",
        "\n",
        "$$\n",
        "\\begin{array}{rrcl}\n",
        "    \\min & x_{mA} + 0.5x_{A} + 2 x_{mB} + 1.2 x_{S} + 3 x_{L}&\\\\\n",
        "    {\\rm sujeto\\  a}& &\\\\\n",
        "    & 78.6x_{mA} + 70.1x_{A}+80.1x_{mB}+67.2x_{S} + 77x_{L} &\\geq& 74.2\\\\\n",
        "    & 6.50x_{mA} + 9.40x_{A}+8.80x_{mB}+13.7x_{S} + 30.4x_{L} &\\geq& 14.7\\\\\n",
        "    & 0.02x_{mA} + 0.09x_{A}+0.03x_{mB}+0.14x_{S} + 0.41x_{L} &\\geq& 0.14\\\\\n",
        "    & 2y_1 + y_4 & \\geq & 0.55\\\\\n",
        "    & y_1-1.5y_3+y_4 -x_{mA} & \\leq      & 0   \\\\\n",
        "    &y_1-2y_2  -x_{A}&\\leq   & 0    \\\\\n",
        "    &y_1-2y_2-1.5y_3 - x_{mB}& \\leq   & 0    \\\\\n",
        "    &y_1+y_2 - x_{S}& \\leq      &  0 \\\\\n",
        "    &y_1+y_3 + y_{4} - x_{L} & \\leq      & 0  \\\\\n",
        "    &x_{mA}, x_{A}, x_{mB}, x_{S}, x_{L}, y_1, y_2, y_3, y_4 & \\geq & 0\n",
        "\\end{array}\n",
        "$$"
      ],
      "metadata": {
        "id": "CyEjYICuAuN3"
      }
    },
    {
      "cell_type": "markdown",
      "source": [
        "2.   Resolver dicho problema con *amplpy* y discute la solución obtenida (en comparación con la obtenida en la Práctica 1).\n",
        "\n"
      ],
      "metadata": {
        "id": "zavRCFgS0PkB"
      }
    },
    {
      "cell_type": "code",
      "source": [
        "DietaR = ampl_notebook(\n",
        "    modules=[\"highs\", \"cplex\"],  # Solvers que queremos instalar\n",
        "    license_uuid=\"d1619e22-974c-4935-ad8a-2554d161c51d\",  # licencia que usaremos (os la he mandado por correo)\n",
        ")  # instanciamos el objeto \"AMPL\" con el que vamos a trabajar"
      ],
      "metadata": {
        "colab": {
          "base_uri": "https://localhost:8080/"
        },
        "outputId": "11bb7cbe-9f1b-477f-e4c9-c9898e4d2a2e",
        "id": "nTzwtAKC0cPx"
      },
      "execution_count": 19,
      "outputs": [
        {
          "output_type": "stream",
          "name": "stdout",
          "text": [
            "Licensed to Bundle #6787.7245 expiring 20250228: 302-Optimization; 408-Operations Research, Prof. Juan Miguel Morales Gonz?lez, University of Malaga.\n"
          ]
        }
      ]
    },
    {
      "cell_type": "code",
      "source": [
        "# Construimos el problema primal (que podemos coger de la práctica anterior):\n",
        "DietaR.eval(r\"\"\"\n",
        "reset;                          # Para limpiar cualquier modelo previo\n",
        "set ALIM;                       # Conjunto de alimentos\n",
        "set NUTR;                       # Conjunto de nutrientes\n",
        "set Dual_index;                 # Conjunto de índices para las variables duales\n",
        "param n_min {NUTR} >= 0;        # Cantidad mínima de nutrientes en la dieta\n",
        "param coste {ALIM} >= 0;        # Coste de cada alimento (por cada 100 g)\n",
        "param cont {ALIM, NUTR} >= 0;   # Contenido de nutriente en cada alimento\n",
        "param rest_dual {ALIM, Dual_index}; # Coeficientes de las restricciones del dual\n",
        "param b_dual {Dual_index};          # Coeficientes FO del dual\n",
        "\n",
        "var x {ALIM} >= 0;              # Cantidad de cada alimento presente la dieta\n",
        "                                # (múltiplo de 100 g)\n",
        "var y {Dual_index} >= 0;        # Variables duales\n",
        "\n",
        "minimize coste_total:\n",
        "    sum{a in ALIM} coste[a]*x[a];\n",
        "s.t. cant_minima {n in NUTR: n != 'Ph'}:\n",
        "    sum{a in ALIM} cont[a,n]*x[a] >= n_min[n];\n",
        "    rest_robusta: sum{i in Dual_index} b_dual[i]*y[i] >= n_min['Ph'];\n",
        "    dual_constraints {a in ALIM}:\n",
        "    sum{i in Dual_index} rest_dual[a,i]*y[i] - x[a] <= 0;\n",
        "\"\"\")"
      ],
      "metadata": {
        "id": "-5aGdLgM1HT5"
      },
      "execution_count": 21,
      "outputs": []
    },
    {
      "cell_type": "markdown",
      "source": [
        "Introducimos los datos necesarios para resolverel problema robusto \"DietaR\"."
      ],
      "metadata": {
        "id": "4ByQZB1H5ZTQ"
      }
    },
    {
      "cell_type": "code",
      "source": [
        "def preparar_datos():\n",
        "    import pandas as pd\n",
        "    import numpy as np\n",
        "\n",
        "    # Creamos un data frame que contenga el coste de los alimentos\n",
        "    alimentos_df = pd.DataFrame(\n",
        "        [\n",
        "            (\"MaizA\", 1),\n",
        "            (\"Avena\", 0.5),\n",
        "            (\"MaizB\", 2),\n",
        "            (\"Salvado\", 1.2),\n",
        "            (\"Linaza\", 3),\n",
        "        ],\n",
        "        columns=[\"ALIMENTO\", \"coste\"],\n",
        "    ).set_index(\"ALIMENTO\")\n",
        "\n",
        "    # Creamos un data frame para la cantidad mínima de nutrientes que se\n",
        "    # requiere en la dieta\n",
        "    nutr_df = pd.DataFrame(\n",
        "        [\n",
        "            (\"DN\", 74.2),\n",
        "            (\"DP\", 14.7),\n",
        "            (\"Ca\", 0.14),\n",
        "            (\"Ph\", 0.55),\n",
        "        ],\n",
        "        columns=[\"NUTR\", \"n_min\"],\n",
        "    ).set_index(\"NUTR\")\n",
        "\n",
        "    # Creamos un data frame para la cantidad de nutrientes que cada\n",
        "    # alimento contiene\n",
        "    cont_df = pd.DataFrame(\n",
        "        np.array(\n",
        "            [\n",
        "                [78.6, 70.1, 80.1, 67.2, 77.0],\n",
        "                [6.50, 9.40, 8.80, 13.7, 30.4],\n",
        "                [0.02, 0.09, 0.03, 0.14, 0.41],\n",
        "                [0.27, 0.34, 0.30, 1.29, 0.86],\n",
        "            ]\n",
        "        ),\n",
        "        columns= alimentos_df.index.to_list(),\n",
        "        index  = nutr_df.index.to_list(),\n",
        "    )\n",
        "    cont_df = cont_df.transpose() # OJO, que los ejes (índices) deben coincidir\n",
        "                                  # con los especificados en la definición del\n",
        "                                  # parámetro \"cont\" en el modelo, (ALIM, NUTR)\n",
        "\n",
        "    # Creamos un data frame para los coeficientes de la FO del dual\n",
        "    b_dual_df = pd.DataFrame(\n",
        "        [\n",
        "            (1, 2),\n",
        "            (2, 0),\n",
        "            (3, 0),\n",
        "            (4, 1),\n",
        "        ],\n",
        "        columns=[\"Dual_index\", \"b_dual\"],\n",
        "    ).set_index(\"Dual_index\")\n",
        "\n",
        "    # Creamos un data frame para los coeficientes del problema dual\n",
        "    rest_dual_df = pd.DataFrame(\n",
        "        np.array(\n",
        "            [\n",
        "                [1, 0, -1.5, 1],\n",
        "                [1, -2, 0, 0],\n",
        "                [1, -2, -1.5, 0],\n",
        "                [1, 1, 0, 0],\n",
        "                [1, 0, 1, 1],\n",
        "            ]\n",
        "        ),\n",
        "        columns= b_dual_df.index.to_list(),\n",
        "        index  = alimentos_df.index.to_list(),\n",
        "    )\n",
        "    return alimentos_df, nutr_df, cont_df, b_dual_df, rest_dual_df"
      ],
      "metadata": {
        "id": "hwQ8QzKE5fSj"
      },
      "execution_count": 22,
      "outputs": []
    },
    {
      "cell_type": "code",
      "source": [
        "# Cargamos los datos:\n",
        "\n",
        "# Load the data from pandas.DataFrame objects:\n",
        "alimentos_df, nutr_df, cont_df, b_dual_df, rest_dual_df = preparar_datos()\n",
        "\n",
        "# 1. Enviamos los datos de \"alimentos_df\" a AMPL e inicializamos el conjunto de índices \"ALIM\"\n",
        "DietaR.set_data(alimentos_df, \"ALIM\")\n",
        "# 2. Enviamos los datos de \"nutr_df\" a AMPL e inicializamos el conjunto de índices \"NUTR\"\n",
        "DietaR.set_data(nutr_df, \"NUTR\")\n",
        "# 3. Fijamos los valores del parámetro \"cont\" usando \"cont_df\"\n",
        "DietaR.get_parameter(\"cont\").set_values(cont_df)\n",
        "# 4. Enviamos los datos de \"b_dual_df\" a AMPL e inicializamos el conjunto de índices \"Dual_index\"\n",
        "DietaR.set_data(b_dual_df, \"Dual_index\")\n",
        "# 5. Fijamos los valores del parámetro \"rest_dual\" usando \"rest_dual_df\"\n",
        "DietaR.get_parameter(\"rest_dual\").set_values(rest_dual_df)"
      ],
      "metadata": {
        "id": "4q9LxDP85wZ1"
      },
      "execution_count": 23,
      "outputs": []
    },
    {
      "cell_type": "markdown",
      "source": [
        "Finalmente resolvemos el problema de la dieta *robustificado*:"
      ],
      "metadata": {
        "id": "XPZVsHBD6xxh"
      }
    },
    {
      "cell_type": "code",
      "source": [
        "DietaR.solve(solver=\"cplex\") # Resolvemos con el solver \"cplex\"\n",
        "assert DietaR.solve_result == \"solved\"  # Comprobamos que el problema se ha resuelto correctamente"
      ],
      "metadata": {
        "colab": {
          "base_uri": "https://localhost:8080/"
        },
        "id": "W6rwnN9Z67F1",
        "outputId": "21e4a3d2-074d-4457-f677-44d6892e1a94"
      },
      "execution_count": 24,
      "outputs": [
        {
          "output_type": "stream",
          "name": "stdout",
          "text": [
            "CPLEX 22.1.1:  - Version identifier: 22.1.1.0 | 2022-11-28 | 9160aff4d\n",
            " - CPXPARAM_Simplex_Display                         0\n",
            " - CPXPARAM_MIP_Display                             0\n",
            " - CPXPARAM_Barrier_Display                         0\n",
            "\b\b\b\b\b\b\b\b\b\b\b\b\b\bCPLEX 22.1.1: optimal solution; objective 1.621319544\n",
            "8 simplex iterations\n"
          ]
        }
      ]
    },
    {
      "cell_type": "code",
      "source": [],
      "metadata": {
        "id": "Ef-PUZWd9K0F"
      },
      "execution_count": null,
      "outputs": []
    },
    {
      "cell_type": "code",
      "source": [
        "x = DietaR.get_variable(\"x\") # Aquí el valor de \"x\" es convertido a un data frame de AMPL.\n",
        "df_x = x.get_values().to_pandas() # Aquí el valor de \"x\" es convertido a un data frame de Pandas.\n",
        "y = DietaR.get_variable(\"y\")\n",
        "df_y = y.get_values().to_pandas()\n",
        "coste_total = DietaR.get_objective(\"coste_total\").value()\n",
        "df_x = df_x.round(3)\n",
        "df_y = df_y.round(3)\n",
        "print(df_x)\n",
        "print(df_y)\n",
        "print(f\"Coste total: {coste_total:.3f}\")"
      ],
      "metadata": {
        "colab": {
          "base_uri": "https://localhost:8080/"
        },
        "id": "il5plwDY7SAd",
        "outputId": "efadc341-c769-4c67-8b6c-7b2c78b3c660"
      },
      "execution_count": 26,
      "outputs": [
        {
          "output_type": "stream",
          "name": "stdout",
          "text": [
            "         x.val\n",
            "Avena    0.053\n",
            "Linaza   0.275\n",
            "MaizA    0.275\n",
            "MaizB    0.000\n",
            "Salvado  0.412\n",
            "   y.val\n",
            "1  0.275\n",
            "2  0.138\n",
            "3  0.000\n",
            "4  0.000\n",
            "Coste total: 1.621\n"
          ]
        }
      ]
    },
    {
      "cell_type": "markdown",
      "source": [
        "3. Calcular el (sobre)coste de la \"concatenación de fallos técnicos\", esto es, el (sobre)coste de la información incompleta."
      ],
      "metadata": {
        "id": "xevXNV5H9wmP"
      }
    },
    {
      "cell_type": "markdown",
      "source": [
        "El sobrecoste de la información incompleta vendrá dado como la diferencia entre el coste de la solución robusta (1.621) y el coste de la solución con información completa que calculamos en la Práctica 1, esto es, 0.793. Por tanto:\n",
        "\n",
        "${\\rm sobrecoste} = 1.621-0.793 = 0.828$\n",
        "\n",
        "Es decir, **el coste de la dieta ha crecido más del 104%** como consecuencia de los fallos técnicos en la determinación de la cantidad de fósforo presente en los diferentes alimentos disponibles."
      ],
      "metadata": {
        "id": "i5MxAYG39yAW"
      }
    }
  ]
}