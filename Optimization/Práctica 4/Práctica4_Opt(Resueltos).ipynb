{
  "nbformat": 4,
  "nbformat_minor": 0,
  "metadata": {
    "colab": {
      "provenance": []
    },
    "kernelspec": {
      "name": "python3",
      "display_name": "Python 3"
    },
    "language_info": {
      "name": "python"
    }
  },
  "cells": [
    {
      "cell_type": "markdown",
      "source": [
        "# **Programación Lineal Entera-Mixta (MILP)**"
      ],
      "metadata": {
        "id": "Cu8l6sfm5LWb"
      }
    },
    {
      "cell_type": "markdown",
      "source": [
        "**Ejercicio 1**: Considera el problema de operación de un mercado eléctrico con el que hemos venido trabajando en las prácticas anteriores. Recordemos que ste mercado está compuesto por $N_{G}$ productores de electricidad que han de satisfacer una demanda $D$; en nuestro caso particular, $N_{G} = 3$.\n",
        "\n",
        "En esta ocasión, sin embargo, vamos a suponer que, como realmente ocurre en la práctica, si bien el coste de producción de cada productor se puede aproximar mediante una *función lineal por tramos o a trozos*, esta **función no es convexa**. Vimos un ejemplo de este tipo de función en el último apartado de la Práctica 2, en concreto,\n",
        "\n",
        "<center>\n",
        "\n",
        "|  Productor    | Tramo 1   | Tramo 2  | Tramo 3 |\n",
        "| ------------  | --------     | ---      | ---    |  \n",
        "| 1            | (50, 10)      | (20, 15) | (30, 45)|\n",
        "| 2            | (10, 5)       | (50, 26) | (60, 15)|   \n",
        "| 3            | (100, 25)     | (50, 5) | (50, 30)|   \n",
        "\n",
        "</center>\n",
        "\n",
        "donde cada par $(l_{i,j}, m_{i,j})$ con $i, j = 1, \\ldots, 3$ en la tabla especifica la longitud o anchura del trozo lineal $l_{i,j}$ junto con su pendiente $m_{i,j}$.\n",
        "\n"
      ],
      "metadata": {
        "id": "Gasm1N5b55KR"
      }
    },
    {
      "cell_type": "markdown",
      "source": [
        "**Ejercicio 1.1**: Construye un modelo de programación matemática para liquidar este mercado, esto es, para decidir cuánto debe producir cada generador para una demanda $D = 200$. Recuerda que el modelado de las funciones de coste lineales por tramos **no convexas** debe ser tal que se asegure que cada tramo se rellena *de forma secuencial*."
      ],
      "metadata": {
        "id": "-5tbtfym_Q17"
      }
    },
    {
      "cell_type": "code",
      "source": [
        "%pip install -q amplpy"
      ],
      "metadata": {
        "id": "UE9aUNWE0UA8",
        "colab": {
          "base_uri": "https://localhost:8080/"
        },
        "outputId": "1f54e8c5-01db-4eb8-b9bd-12c8fb3a5e27"
      },
      "execution_count": 1,
      "outputs": [
        {
          "output_type": "stream",
          "name": "stdout",
          "text": [
            "\u001b[2K   \u001b[90m━━━━━━━━━━━━━━━━━━━━━━━━━━━━━━━━━━━━━━━━\u001b[0m \u001b[32m5.6/5.6 MB\u001b[0m \u001b[31m31.0 MB/s\u001b[0m eta \u001b[36m0:00:00\u001b[0m\n",
            "\u001b[?25h"
          ]
        }
      ]
    },
    {
      "cell_type": "code",
      "source": [
        "# Integración en Google Colab\n",
        "from amplpy import AMPL, ampl_notebook\n",
        "\n",
        "Mercado_MILP = ampl_notebook(\n",
        "    modules=[\"highs\", \"cplex\"],  # Solvers que queremos instalar\n",
        "    license_uuid=\"d1619e22-974c-4935-ad8a-2554d161c51d\",  # licencia que usaremos (os la he mandado por correo)\n",
        ")  # instanciamos el objeto \"AMPL\" con el que vamos a trabajar"
      ],
      "metadata": {
        "colab": {
          "base_uri": "https://localhost:8080/"
        },
        "id": "vdNWjzlf0X9r",
        "outputId": "85eca8c4-b995-4c7e-c7e9-d895ec377115"
      },
      "execution_count": 2,
      "outputs": [
        {
          "output_type": "stream",
          "name": "stdout",
          "text": [
            "Licensed to Bundle #6787.7245 expiring 20250228: 302-Optimization; 408-Operations Research, Prof. Juan Miguel Morales Gonz?lez, University of Malaga.\n"
          ]
        }
      ]
    },
    {
      "cell_type": "code",
      "source": [
        "Mercado_MILP.eval(r\"\"\"\n",
        "reset;                          # Para limpiar cualquier modelo previo\n",
        "set Prod;                       # Conjunto de productores\n",
        "set Tram ordered;               # Conjunto ordenado de tramos de las funciones de coste\n",
        "param D >= 0;                   # Demanda del mercado\n",
        "param lon {Prod, Tram} >= 0;    # Longitud de cada tramo\n",
        "param slope {Prod, Tram} >= 0;  # Pendiente de cada tramo\n",
        "\n",
        "var u {Prod, Tram} binary;      # Variables binarias para garantizar que los\n",
        "                                # tramos se rellenarán de forma secuencial\n",
        "var p {i in Prod, j in Tram} >= 0;  # Producción por generador\n",
        "\n",
        "\n",
        "minimize coste_total:\n",
        "    sum{i in Prod, j in Tram} slope[i,j]*p[i,j];\n",
        "s.t. balance: sum{i in Prod, j in Tram} p[i,j] = D;\n",
        "     limit_tramo_l{i in Prod, j in Tram: ord(j) > 1}: p[i,j-1] >= lon[i,j-1] * u[i,j];\n",
        "     limit_tramo_u{i in Prod, j in Tram}: p[i,j] <= lon[i,j] * u[i,j];\n",
        "     seq_fill{i in Prod, j in Tram: ord(j) > 1}: u[i,j] <= u[i,j-1];\n",
        "\"\"\")"
      ],
      "metadata": {
        "id": "djKWard-TiQW"
      },
      "execution_count": 3,
      "outputs": []
    },
    {
      "cell_type": "markdown",
      "source": [
        "Obsérvese en el código anterior que la restricción \"seq_fill\" (que garantiza el\n",
        "rellenado secuencial de los tramos de las funciones de coste) no se aplica al primer tramo (esto es, al tramo con ord(j) = 1). En caso contrario, el código produciría un error al intentar acceder a un índice \"j-1\" inexistente.\n",
        "\n",
        "Nótese también que hemos hecho explícito que \"Tram\" es un conjunto ordenado escribiendo \"set Tram ordered;\"."
      ],
      "metadata": {
        "id": "k99xB59VDkAj"
      }
    },
    {
      "cell_type": "code",
      "source": [
        "def preparar_datos_mercado():\n",
        "    import pandas as pd\n",
        "    import numpy as np\n",
        "\n",
        "    # Conjunto de tramos o piezas:\n",
        "    tramos = [1, 2, 3]  # Asignamos a los tramos números naturales para los que\n",
        "                        # AMPL preserva su orden y permite trabajar con \"ord()\"\n",
        "                        # y utilizar expresiones tipo \"j-1\".\n",
        "\n",
        "    # Conjunto de productores:\n",
        "    productores = [\"G1\", \"G2\", \"G3\"]\n",
        "\n",
        "    # Demanda del mercado:\n",
        "    demanda = 200\n",
        "\n",
        "    # Creamos un data frame que contenga la longitud de los tramos\n",
        "    lon_df = pd.DataFrame(\n",
        "        np.array(\n",
        "            [\n",
        "                [50, 20, 30],\n",
        "                [10, 50, 60],\n",
        "                [100, 50, 50],\n",
        "            ]\n",
        "        ),\n",
        "        columns= tramos,\n",
        "        index  = productores,\n",
        "    )\n",
        "\n",
        "    # Creamos un data frame que contenga las pendientes de los tramos\n",
        "    slope_df = pd.DataFrame(\n",
        "        np.array(\n",
        "            [\n",
        "                [10, 15, 45],\n",
        "                [5, 26, 15],\n",
        "                [25, 5, 30],\n",
        "            ]\n",
        "        ),\n",
        "        columns= tramos,\n",
        "        index  = productores,\n",
        "    )\n",
        "\n",
        "    return demanda, tramos, productores, lon_df, slope_df"
      ],
      "metadata": {
        "id": "IIn9MXDYgGYB"
      },
      "execution_count": 4,
      "outputs": []
    },
    {
      "cell_type": "code",
      "source": [
        "# Cargamos los datos:\n",
        "\n",
        "# Load the data from pandas.DataFrame objects:\n",
        "demanda, tramos, productores, lon_df, slope_df = preparar_datos_mercado()\n",
        "\n",
        "Mercado_MILP.set[\"Prod\"] = productores\n",
        "Mercado_MILP.set[\"Tram\"] = tramos\n",
        "Mercado_MILP.get_parameter(\"lon\").set_values(lon_df)\n",
        "Mercado_MILP.get_parameter(\"slope\").set_values(slope_df)\n",
        "Mercado_MILP.get_parameter(\"D\").set(demanda)"
      ],
      "metadata": {
        "id": "LuNP7lvCgTfZ"
      },
      "execution_count": 5,
      "outputs": []
    },
    {
      "cell_type": "code",
      "source": [
        "Mercado_MILP.solve(solver=\"cplex\") # Resolvemos con el solver \"cplex\"\n",
        "assert Mercado_MILP.solve_result == \"solved\"  # Comprobamos que el problema se ha resuelto correctamente"
      ],
      "metadata": {
        "colab": {
          "base_uri": "https://localhost:8080/"
        },
        "id": "dSkfymT8gYqw",
        "outputId": "4da2c803-bd57-4f75-a0b9-5ef2b48c8385"
      },
      "execution_count": 6,
      "outputs": [
        {
          "output_type": "stream",
          "name": "stdout",
          "text": [
            "CPLEX 22.1.1: \b\b\b\b\b\b\b\b\b\b\b\b\b\bCPLEX 22.1.1: optimal solution; objective 3200\n",
            "7 simplex iterations\n"
          ]
        }
      ]
    },
    {
      "cell_type": "code",
      "source": [
        "p = Mercado_MILP.get_variable(\"p\") # Producción por generador y tramo\n",
        "u = Mercado_MILP.get_variable(\"u\") # Variables binarias para garantizar el rellenado secuencial\n",
        "df_p = p.get_values().to_pandas()\n",
        "df_u = u.get_values().to_pandas()\n",
        "coste_total = Mercado_MILP.get_objective(\"coste_total\").value()\n",
        "precio = Mercado_MILP.get_constraint(\"balance\").dual()\n",
        "df_p = df_p.round(3)\n",
        "print(df_p)\n",
        "print(f\"Coste total: {coste_total:.3f}\")\n",
        "print(f\"Precio del mercado: {precio:.1f}\")\n",
        "\n",
        "print(df_u)\n",
        "\n",
        "# Resumimos lo que produce cada productor:\n",
        "df_Pg = df_p.groupby(level='index0').sum()\n",
        "print(df_Pg)"
      ],
      "metadata": {
        "colab": {
          "base_uri": "https://localhost:8080/"
        },
        "id": "bv1xvLQogeGg",
        "outputId": "43a5cd19-461f-4645-d377-739000463590"
      },
      "execution_count": 7,
      "outputs": [
        {
          "output_type": "stream",
          "name": "stdout",
          "text": [
            "               p.val\n",
            "index0 index1       \n",
            "G1     1          40\n",
            "       2           0\n",
            "       3           0\n",
            "G2     1          10\n",
            "       2           0\n",
            "       3           0\n",
            "G3     1         100\n",
            "       2          50\n",
            "       3           0\n",
            "Coste total: 3200.000\n",
            "Precio del mercado: 0.0\n",
            "               u.val\n",
            "index0 index1       \n",
            "G1     1           1\n",
            "       2           0\n",
            "       3           0\n",
            "G2     1           1\n",
            "       2           1\n",
            "       3           0\n",
            "G3     1           1\n",
            "       2           1\n",
            "       3           0\n",
            "        p.val\n",
            "index0       \n",
            "G1         40\n",
            "G2         10\n",
            "G3        150\n"
          ]
        }
      ]
    },
    {
      "cell_type": "markdown",
      "source": [
        "En un problema MILP, las variables duales carecen de sentido. De hecho, en el problema práctico que nos ocupa, es harto interesante plantearse la siguiente pregunta: **¿Se puede encontrar un precio de mercado que induzca a los tres productores (que tratan de maximizar su beneficio como agentes \"egoístas\" que son) a estar satisfechos con las cantidades óptimas de producción dictadas por el mercado?**"
      ],
      "metadata": {
        "id": "fa4AlF9GQvzf"
      }
    },
    {
      "cell_type": "markdown",
      "source": [
        "Por otra parte, en la práctica, las funciones de coste de los productores suelen exhibir más rasgos \"no convexos\". Por ejemplo, es muy frecuente que estas funciones presenten lo que se conoce como \"zonas muertas o prohibidas\". Matemáticamente, una zona muerta no es más que la presencia de un \"hueco\" en el dominio de definición de la función de costes. Más concretamente, suele existir una producción mínima $\\underline{P}$ tal que el productor no puede producir en el intervalo abierto $(0, \\underline{P})$. Asimismo, producir a producción mínima suele acarrear un coste *fijo* $c$ que, para $P \\geq \\underline{P}$, se añade al coste *variable* lineal a trozos con el que hemos venido trabajando hasta ahora."
      ],
      "metadata": {
        "id": "dgLBApp-Ru4y"
      }
    },
    {
      "cell_type": "markdown",
      "source": [
        "**Ejercicio 1.2**: Extiende el modelo MILP de funcionamiento de mercado para tener en cuenta que los tres productores exhiben una zona prohibida de producción $(0, \\underline{P}_{i})$, $i =1, 2, 3$, con un coste fijo a producción mínima $c_{i}$. Resuelve este modelo para los valores numéricos indicados en la siguiente tabla, y discute la solución (con respecto a la del caso anterior):\n",
        "\n",
        "<center>\n",
        "\n",
        "|  Productor    | $\\underline{P}_{i}$ | $c_i$  |\n",
        "| ------------  | --------     | ---      |   \n",
        "| 1            | 50            | 100       |\n",
        "| 2            | 50            | 500      |    \n",
        "| 3            | 0             | 0        |    \n",
        "\n",
        "</center>"
      ],
      "metadata": {
        "id": "U8rGmWzuUnt3"
      }
    },
    {
      "cell_type": "code",
      "source": [
        "# Integración en Google Colab\n",
        "from amplpy import AMPL, ampl_notebook\n",
        "\n",
        "Mercado_MILP2 = ampl_notebook(\n",
        "    modules=[\"highs\", \"cplex\"],  # Solvers que queremos instalar\n",
        "    license_uuid=\"d1619e22-974c-4935-ad8a-2554d161c51d\",  # licencia que usaremos (os la he mandado por correo)\n",
        ")  # instanciamos el objeto \"AMPL\" con el que vamos a trabajar"
      ],
      "metadata": {
        "colab": {
          "base_uri": "https://localhost:8080/"
        },
        "outputId": "fc635909-383d-43bf-a7ba-b06685368a95",
        "id": "uKiWltdxWfEj"
      },
      "execution_count": 8,
      "outputs": [
        {
          "output_type": "stream",
          "name": "stdout",
          "text": [
            "Licensed to Bundle #6787.7245 expiring 20250228: 302-Optimization; 408-Operations Research, Prof. Juan Miguel Morales Gonz?lez, University of Malaga.\n"
          ]
        }
      ]
    },
    {
      "cell_type": "code",
      "source": [
        "Mercado_MILP2.eval(r\"\"\"\n",
        "reset;                          # Para limpiar cualquier modelo previo\n",
        "set Prod;                       # Conjunto de productores\n",
        "set Tram ordered;               # Conjunto ordenado de tramos de las funciones de coste\n",
        "param D >= 0;                   # Demanda del mercado\n",
        "param lon {Prod, Tram} >= 0;    # Longitud de cada tramo\n",
        "param slope {Prod, Tram} >= 0;  # Pendiente de cada tramo\n",
        "param Pmin {Prod} >= 0;         # Producción mínima de cada productor\n",
        "param c {Prod} >= 0;            # Coste fijo a producción mínima\n",
        "\n",
        "var u {Prod, Tram} binary;      # Variables binarias para garantizar que los\n",
        "                                # tramos se rellenarán de forma secuencial\n",
        "var p {i in Prod, j in Tram} >= 0;  # Producción por generador\n",
        "var Pg {Prod} >= 0;             # Producción total por productor\n",
        "\n",
        "\n",
        "minimize coste_total:\n",
        "    sum{i in Prod} (u[i,1] * c[i]) + sum{i in Prod, j in Tram} (slope[i,j]*p[i,j]);\n",
        "s.t. balance: sum{i in Prod} (u[i,1] * Pmin[i]) + sum{i in Prod, j in Tram} p[i,j] = D;\n",
        "     limit_tramo_l{i in Prod, j in Tram: ord(j) > 1}: p[i,j-1] >= lon[i,j-1] * u[i,j];\n",
        "     limit_tramo_u{i in Prod, j in Tram}: p[i,j] <= lon[i,j] * u[i,j];\n",
        "     seq_fill{i in Prod, j in Tram: ord(j) > 1}: u[i,j] <= u[i,j-1];\n",
        "     prod_total{i in Prod}: Pg[i] = Pmin[i]*u[i,1] + sum{j in Tram} p[i,j];\n",
        "\"\"\")"
      ],
      "metadata": {
        "id": "XRfmdWhTWfEj"
      },
      "execution_count": 9,
      "outputs": []
    },
    {
      "cell_type": "code",
      "source": [
        "def preparar_datos_mercado2():\n",
        "    import pandas as pd\n",
        "    import numpy as np\n",
        "\n",
        "    # Conjunto de tramos o piezas:\n",
        "    tramos = [1, 2, 3]  # Asignamos a los tramos números naturales para los que\n",
        "                        # AMPL preserva su orden y permite trabajar con \"ord()\"\n",
        "                        # y utilizar expresiones tipo \"j-1\".\n",
        "\n",
        "    # Conjunto de productores:\n",
        "    productores = [\"G1\", \"G2\", \"G3\"]\n",
        "\n",
        "    # Demanda del mercado:\n",
        "    demanda = 200\n",
        "\n",
        "    # Creamos un data frame que contenga la longitud de los tramos\n",
        "    lon_df = pd.DataFrame(\n",
        "        np.array(\n",
        "            [\n",
        "                [50, 20, 30],\n",
        "                [10, 50, 60],\n",
        "                [100, 50, 50],\n",
        "            ]\n",
        "        ),\n",
        "        columns= tramos,\n",
        "        index  = productores,\n",
        "    )\n",
        "\n",
        "    # Creamos un data frame que contenga las pendientes de los tramos\n",
        "    slope_df = pd.DataFrame(\n",
        "        np.array(\n",
        "            [\n",
        "                [10, 15, 45],\n",
        "                [5, 26, 15],\n",
        "                [25, 5, 30],\n",
        "            ]\n",
        "        ),\n",
        "        columns= tramos,\n",
        "        index  = productores,\n",
        "    )\n",
        "\n",
        "    # Datos de potencia mínima:\n",
        "\n",
        "    Pmin =[50, 50, 0]\n",
        "\n",
        "    # Coste fijo:\n",
        "\n",
        "    c = [100, 500, 0]\n",
        "\n",
        "\n",
        "    return demanda, tramos, productores, lon_df, slope_df, Pmin, c"
      ],
      "metadata": {
        "id": "5AzAT7nNYW13"
      },
      "execution_count": 10,
      "outputs": []
    },
    {
      "cell_type": "code",
      "source": [
        "# Cargamos los datos:\n",
        "\n",
        "# Load the data from pandas.DataFrame objects:\n",
        "demanda, tramos, productores, lon_df, slope_df, Pmin, c = preparar_datos_mercado2()\n",
        "\n",
        "Mercado_MILP2.set[\"Prod\"] = productores\n",
        "Mercado_MILP2.set[\"Tram\"] = tramos\n",
        "Mercado_MILP2.get_parameter(\"lon\").set_values(lon_df)\n",
        "Mercado_MILP2.get_parameter(\"slope\").set_values(slope_df)\n",
        "Mercado_MILP2.get_parameter(\"D\").set(demanda)\n",
        "Mercado_MILP2.param[\"Pmin\"] = {productores[i]: j for i, j in enumerate(Pmin)}\n",
        "Mercado_MILP2.param[\"c\"] = {productores[i]: j for i, j in enumerate(c)}"
      ],
      "metadata": {
        "id": "3hezpbLmYW13"
      },
      "execution_count": 11,
      "outputs": []
    },
    {
      "cell_type": "code",
      "source": [
        "Mercado_MILP2.solve(solver=\"cplex\") # Resolvemos con el solver \"cplex\"\n",
        "assert Mercado_MILP2.solve_result == \"solved\"  # Comprobamos que el problema se ha resuelto correctamente"
      ],
      "metadata": {
        "colab": {
          "base_uri": "https://localhost:8080/"
        },
        "outputId": "1008dae8-a1d7-4781-8414-c61da0d99ce2",
        "id": "EjyZjnVddRSS"
      },
      "execution_count": 12,
      "outputs": [
        {
          "output_type": "stream",
          "name": "stdout",
          "text": [
            "CPLEX 22.1.1: \b\b\b\b\b\b\b\b\b\b\b\b\b\bCPLEX 22.1.1: optimal solution; objective 1950\n",
            "8 simplex iterations\n"
          ]
        }
      ]
    },
    {
      "cell_type": "code",
      "source": [
        "p = Mercado_MILP2.get_variable(\"p\") # Producción por generador y tramo\n",
        "u = Mercado_MILP2.get_variable(\"u\") # Variables binarias para garantizar el rellenado secuencial\n",
        "df_p = p.get_values().to_pandas()\n",
        "df_u = u.get_values().to_pandas()\n",
        "coste_total = Mercado_MILP2.get_objective(\"coste_total\").value()\n",
        "precio = Mercado_MILP2.get_constraint(\"balance\").dual()\n",
        "df_p = df_p.round(3)\n",
        "print(df_p)\n",
        "print(f\"Coste total: {coste_total:.3f}\")\n",
        "print(f\"Precio del mercado: {precio:.1f}\")\n",
        "\n",
        "print(df_u)\n",
        "\n",
        "# Resumimos lo que produce cada productor:\n",
        "Pg = Mercado_MILP2.get_variable(\"Pg\")\n",
        "df_Pg = Pg.get_values().to_pandas()\n",
        "print(df_Pg)\n",
        "\n"
      ],
      "metadata": {
        "colab": {
          "base_uri": "https://localhost:8080/"
        },
        "outputId": "e4c5e5be-6d6f-4adc-dacd-c0c30a770c55",
        "id": "SYywaTBbdRST"
      },
      "execution_count": 13,
      "outputs": [
        {
          "output_type": "stream",
          "name": "stdout",
          "text": [
            "               p.val\n",
            "index0 index1       \n",
            "G1     1          50\n",
            "       2          20\n",
            "       3           0\n",
            "G2     1          10\n",
            "       2           0\n",
            "       3           0\n",
            "G3     1          20\n",
            "       2           0\n",
            "       3           0\n",
            "Coste total: 1950.000\n",
            "Precio del mercado: 0.0\n",
            "               u.val\n",
            "index0 index1       \n",
            "G1     1           1\n",
            "       2           1\n",
            "       3           0\n",
            "G2     1           1\n",
            "       2           0\n",
            "       3           0\n",
            "G3     1           1\n",
            "       2           0\n",
            "       3           0\n",
            "    Pg.val\n",
            "G1     120\n",
            "G2      60\n",
            "G3      20\n"
          ]
        }
      ]
    },
    {
      "cell_type": "markdown",
      "source": [
        "**Ejercicio 2** (Problema de la mochila): Considera un armador que tiene un carguero con capacidad de hasta 1500 toneladas. El carguero transporta contenedores de diferentes pesos para una determinada ruta. En la ruta actual el carguero puede transportar algunos de los siguientes contenedores:\n",
        "\n",
        "<center>\n",
        "\n",
        "| Contenedor | c1  | c2  | c3  | c4  | c5  | c6  | c7  | c8  | c9  | c10 |\n",
        "|-------------|-----|-----|-----|-----|-----|-----|-----|-----|-----|-----|\n",
        "| **Peso**    | 100 | 155 | 50  | 112 | 70  | 80  | 60  | 118 | 110 | 55  |\n",
        "| **Valor**   | 50   | 65   | 30| 60   | 35   | 37 | 29   | 48   | 53   | 100   |\n",
        "| **Unidades**| 3   | 4   | 1   | 2   | 1   | 1   | 5   | 8   | 3   | 1   |\n",
        "\n",
        "</center>\n",
        "\n",
        "La última fila de la tabla indica el número existente de contenedores con un cargamento del valor y peso indicados.\n",
        "\n",
        "**Ejercicio 2.1**: Formula un modelo de Programación Matemática para determinar el envío (conjunto de contenedores) que maximiza el valor de la carga transportada por el carguero a fletar."
      ],
      "metadata": {
        "id": "aFMiB_B6ruRy"
      }
    },
    {
      "cell_type": "markdown",
      "source": [
        "$$\n",
        "\\begin{array}{rrcl}\n",
        "    \\min & \\sum_{c \\in C} v_c x_{c}&\\\\\n",
        "    {\\rm sujeto\\  a}&  \\sum_{c \\in C} p_c x_{c} & \\leq& \\overline{P}\\\\\n",
        "    & x_c  &\\leq& N_c, \\ \\forall c \\in C\\\\\n",
        "    &x_c& \\in & \\mathbb{Z}_{\\geq 0}, \\ \\forall c \\in C\n",
        "\\end{array}\n",
        "$$"
      ],
      "metadata": {
        "id": "9fonQd3KZu_j"
      }
    },
    {
      "cell_type": "code",
      "source": [
        "# Integración en Google Colab\n",
        "from amplpy import AMPL, ampl_notebook\n",
        "\n",
        "Carguero = ampl_notebook(\n",
        "    modules=[\"highs\", \"cplex\"],  # Solvers que queremos instalar\n",
        "    license_uuid=\"d1619e22-974c-4935-ad8a-2554d161c51d\",  # licencia que usaremos (os la he mandado por correo)\n",
        ")  # instanciamos el objeto \"AMPL\" con el que vamos a trabajar"
      ],
      "metadata": {
        "colab": {
          "base_uri": "https://localhost:8080/"
        },
        "outputId": "a30669fb-d55f-479e-cc5b-8a93d733e2e3",
        "id": "I_OKivZluqeS"
      },
      "execution_count": 14,
      "outputs": [
        {
          "output_type": "stream",
          "name": "stdout",
          "text": [
            "Licensed to Bundle #6787.7245 expiring 20250228: 302-Optimization; 408-Operations Research, Prof. Juan Miguel Morales Gonz?lez, University of Malaga.\n"
          ]
        }
      ]
    },
    {
      "cell_type": "code",
      "source": [
        "Carguero.eval(r\"\"\"\n",
        "reset;                          # Para limpiar cualquier modelo previo\n",
        "set cont;                       # Conjunto de contenedores\n",
        "param valor {cont} >= 0;        # Valor de la carga en cada contenedor\n",
        "param peso {cont} >= 0;         # Peso de la carga en cada contenedor\n",
        "param n {cont} >= 0;            # Número de cargamentos de valor y peso dados\n",
        "param cap >=0;                  # Capacidad del carguero\n",
        "\n",
        "var x {i in cont} integer <= n[i], >=0;  # Número de cargamentos de valor y peso\n",
        "                                         # dados a fletar en el carguero\n",
        "\n",
        "maximize valor_total:\n",
        "    sum{i in cont} valor[i]*x[i];\n",
        "s.t. capacidad:\n",
        "    sum{i in cont} peso[i]*x[i] <= cap;\n",
        "\"\"\")\n"
      ],
      "metadata": {
        "id": "ZTI1EiqxuqeS"
      },
      "execution_count": 15,
      "outputs": []
    },
    {
      "cell_type": "code",
      "source": [
        "# Introducimos el valor, el peso y el número de unidades de los contenedores\n",
        "# como diccionarios\n",
        "valor = {\n",
        "    \"c1\": 50,\n",
        "    \"c2\": 65,\n",
        "    \"c3\": 30,\n",
        "    \"c4\": 60,\n",
        "    \"c5\": 35,\n",
        "    \"c6\": 37,\n",
        "    \"c7\": 29,\n",
        "    \"c8\": 48,\n",
        "    \"c9\": 53,\n",
        "    \"c10\": 100,\n",
        "}\n",
        "\n",
        "peso = {\n",
        "    \"c1\": 100,\n",
        "    \"c2\": 155,\n",
        "    \"c3\": 50,\n",
        "    \"c4\": 112,\n",
        "    \"c5\": 70,\n",
        "    \"c6\": 80,\n",
        "    \"c7\": 60,\n",
        "    \"c8\": 118,\n",
        "    \"c9\": 110,\n",
        "    \"c10\": 55,\n",
        "}\n",
        "\n",
        "n = {\n",
        "    \"c1\": 3,\n",
        "    \"c2\": 4,\n",
        "    \"c3\": 1,\n",
        "    \"c4\": 2,\n",
        "    \"c5\": 1,\n",
        "    \"c6\": 1,\n",
        "    \"c7\": 5,\n",
        "    \"c8\": 8,\n",
        "    \"c9\": 3,\n",
        "    \"c10\": 1,\n",
        "}\n",
        "\n",
        "Carguero.set[\"cont\"] = list(valor.keys())\n",
        "Carguero.param[\"valor\"] = {c: v for c, v in valor.items()}\n",
        "Carguero.param[\"peso\"] = {c: p for c, p in peso.items()}\n",
        "Carguero.param[\"n\"] = {c: num for c, num in n.items()}\n",
        "Carguero.param[\"cap\"] = 1500\n"
      ],
      "metadata": {
        "id": "tC2_bTZXDAWI"
      },
      "execution_count": 16,
      "outputs": []
    },
    {
      "cell_type": "code",
      "source": [
        "Carguero.solve(solver=\"cplex\") # Resolvemos con el solver \"cplex\"\n",
        "assert Carguero.solve_result == \"solved\"  # Comprobamos que el problema se ha resuelto correctamente"
      ],
      "metadata": {
        "colab": {
          "base_uri": "https://localhost:8080/"
        },
        "id": "W6rwnN9Z67F1",
        "outputId": "79a7f063-3d22-4a0e-b265-10fb8da7d5da"
      },
      "execution_count": 17,
      "outputs": [
        {
          "output_type": "stream",
          "name": "stdout",
          "text": [
            "CPLEX 22.1.1: \b\b\b\b\b\b\b\b\b\b\b\b\b\bCPLEX 22.1.1: optimal solution; objective 806\n",
            "6 simplex iterations\n"
          ]
        }
      ]
    },
    {
      "cell_type": "code",
      "source": [
        "x = Carguero.get_variable(\"x\") # Número de cargueros de cada tipo\n",
        "df_x = x.get_values().to_pandas()\n",
        "print(df_x)\n",
        "valor_total = Carguero.get_objective(\"valor_total\").value()\n",
        "print(f\"Valor total: {valor_total:.3f}\")\n",
        "\n",
        "\n"
      ],
      "metadata": {
        "colab": {
          "base_uri": "https://localhost:8080/"
        },
        "id": "WTSCV1mk2NO_",
        "outputId": "84410097-a52b-4425-b3a8-d5fa41dd306a"
      },
      "execution_count": 18,
      "outputs": [
        {
          "output_type": "stream",
          "name": "stdout",
          "text": [
            "     x.val\n",
            "c1       3\n",
            "c10      1\n",
            "c2       1\n",
            "c3       1\n",
            "c4       2\n",
            "c5       0\n",
            "c6       1\n",
            "c7       5\n",
            "c8       0\n",
            "c9       3\n",
            "Valor total: 806.000\n"
          ]
        }
      ]
    },
    {
      "cell_type": "markdown",
      "source": [
        "**Ejercicio 2.2**: Resuelve el problema LP relajado y discute los inconvenientes que plantearía redondear la solución obtenida."
      ],
      "metadata": {
        "id": "lQ3n0j0C_3vj"
      }
    },
    {
      "cell_type": "code",
      "source": [
        "# Integración en Google Colab\n",
        "from amplpy import AMPL, ampl_notebook\n",
        "\n",
        "CargueroR = ampl_notebook(\n",
        "    modules=[\"highs\", \"cplex\"],  # Solvers que queremos instalar\n",
        "    license_uuid=\"d1619e22-974c-4935-ad8a-2554d161c51d\",  # licencia que usaremos (os la he mandado por correo)\n",
        ")  # instanciamos el objeto \"AMPL\" con el que vamos a trabajar"
      ],
      "metadata": {
        "colab": {
          "base_uri": "https://localhost:8080/"
        },
        "outputId": "aa5df787-0675-46a0-c3a5-f666c3a9c84d",
        "id": "McbZo4N7AECK"
      },
      "execution_count": 19,
      "outputs": [
        {
          "output_type": "stream",
          "name": "stdout",
          "text": [
            "Licensed to Bundle #6787.7245 expiring 20250228: 302-Optimization; 408-Operations Research, Prof. Juan Miguel Morales Gonz?lez, University of Malaga.\n"
          ]
        }
      ]
    },
    {
      "cell_type": "code",
      "source": [
        "CargueroR.eval(r\"\"\"\n",
        "reset;                          # Para limpiar cualquier modelo previo\n",
        "set cont;                       # Conjunto de contenedores\n",
        "param valor {cont} >= 0;        # Valor de la carga en cada contenedor\n",
        "param peso {cont} >= 0;         # Peso de la carga en cada contenedor\n",
        "param n {cont} >= 0;            # Número de cargamentos de valor y peso dados\n",
        "param cap >=0;                  # Capacidad del carguero\n",
        "\n",
        "var x {i in cont}  <= n[i], >=0;  # Número de cargamentos de valor y peso\n",
        "                                         # dados a fletar en el carguero\n",
        "\n",
        "maximize valor_total:\n",
        "    sum{i in cont} valor[i]*x[i];\n",
        "s.t. capacidad:\n",
        "    sum{i in cont} peso[i]*x[i] <= cap;\n",
        "\"\"\")\n"
      ],
      "metadata": {
        "id": "0l7DPzAxAECL"
      },
      "execution_count": 20,
      "outputs": []
    },
    {
      "cell_type": "code",
      "source": [
        "CargueroR.set[\"cont\"] = list(valor.keys())\n",
        "CargueroR.param[\"valor\"] = {c: v for c, v in valor.items()}\n",
        "CargueroR.param[\"peso\"] = {c: p for c, p in peso.items()}\n",
        "CargueroR.param[\"n\"] = {c: num for c, num in n.items()}\n",
        "CargueroR.param[\"cap\"] = 1500"
      ],
      "metadata": {
        "id": "iyXA_maHARHI"
      },
      "execution_count": 21,
      "outputs": []
    },
    {
      "cell_type": "code",
      "source": [
        "CargueroR.solve(solver=\"cplex\") # Resolvemos con el solver \"cplex\"\n",
        "assert CargueroR.solve_result == \"solved\"  # Comprobamos que el problema se ha resuelto correctamente"
      ],
      "metadata": {
        "colab": {
          "base_uri": "https://localhost:8080/"
        },
        "outputId": "3e0ed62c-2837-481d-e507-f0ca4cc79965",
        "id": "UQgrKjhBAXZC"
      },
      "execution_count": 22,
      "outputs": [
        {
          "output_type": "stream",
          "name": "stdout",
          "text": [
            "CPLEX 22.1.1: \b\b\b\b\b\b\b\b\b\b\b\b\b\bCPLEX 22.1.1: optimal solution; objective 814.1612903\n",
            "1 simplex iterations\n"
          ]
        }
      ]
    },
    {
      "cell_type": "code",
      "source": [
        "xR = CargueroR.get_variable(\"x\") # Número de cargueros de cada tipo\n",
        "df_xR = xR.get_values().to_pandas()\n",
        "print(df_xR)\n",
        "valor_total_R = CargueroR.get_objective(\"valor_total\").value()\n",
        "print(f\"Valor total: {valor_total_R:.3f}\")\n",
        "\n",
        "\n"
      ],
      "metadata": {
        "colab": {
          "base_uri": "https://localhost:8080/"
        },
        "outputId": "e7c38349-c761-4469-9f3e-6c61834a9eb9",
        "id": "hVgUPowCAXZD"
      },
      "execution_count": 23,
      "outputs": [
        {
          "output_type": "stream",
          "name": "stdout",
          "text": [
            "        x.val\n",
            "c1   3.000000\n",
            "c10  1.000000\n",
            "c2   0.587097\n",
            "c3   1.000000\n",
            "c4   2.000000\n",
            "c5   1.000000\n",
            "c6   1.000000\n",
            "c7   5.000000\n",
            "c8   0.000000\n",
            "c9   3.000000\n",
            "Valor total: 814.161\n"
          ]
        }
      ]
    },
    {
      "cell_type": "markdown",
      "source": [
        "**Ejercicio 3**: Considera una versión reducida del problema del carguero, en que solo se tienen disponibles los tres primeros contenedores que se indican en la tabla y la capacidad del carguero es de 400.\n",
        "\n",
        "Con la ayuda de un solver para resolver LPs, aplica ramificación y cota para obtener la solución óptima del problema a partir de su relajación lineal."
      ],
      "metadata": {
        "id": "uHv878CbbZ37"
      }
    },
    {
      "cell_type": "markdown",
      "source": [
        "Resolvemos la relajación lineal de la versión reducida del problema."
      ],
      "metadata": {
        "id": "sah6cERoms1M"
      }
    },
    {
      "cell_type": "code",
      "source": [
        "# Introducimos el valor, el peso y el número de unidades de los contenedores\n",
        "# como diccionarios\n",
        "valor = {\n",
        "    \"c1\": 50,\n",
        "    \"c2\": 65,\n",
        "    \"c3\": 30,\n",
        "}\n",
        "\n",
        "peso = {\n",
        "    \"c1\": 100,\n",
        "    \"c2\": 155,\n",
        "    \"c3\": 50,\n",
        "}\n",
        "\n",
        "n = {\n",
        "    \"c1\": 3,\n",
        "    \"c2\": 4,\n",
        "    \"c3\": 1,\n",
        "}"
      ],
      "metadata": {
        "id": "z7253DDZl4t8"
      },
      "execution_count": 69,
      "outputs": []
    },
    {
      "cell_type": "code",
      "source": [
        "CargueroR.set[\"cont\"] = list(valor.keys())\n",
        "CargueroR.param[\"valor\"] = {c: v for c, v in valor.items()}\n",
        "CargueroR.param[\"peso\"] = {c: p for c, p in peso.items()}\n",
        "CargueroR.param[\"n\"] = {c: num for c, num in n.items()}\n",
        "CargueroR.param[\"cap\"] = 400"
      ],
      "metadata": {
        "id": "H0-xrel4m0cL"
      },
      "execution_count": 71,
      "outputs": []
    },
    {
      "cell_type": "code",
      "source": [
        "CargueroR.solve(solver=\"cplex\") # Resolvemos con el solver \"cplex\"\n",
        "assert CargueroR.solve_result == \"solved\"  # Comprobamos que el problema se ha resuelto correctamente"
      ],
      "metadata": {
        "colab": {
          "base_uri": "https://localhost:8080/"
        },
        "outputId": "e2436f17-8c47-478e-a075-980c26d7dd99",
        "id": "-evAEHNfm0cM"
      },
      "execution_count": 72,
      "outputs": [
        {
          "output_type": "stream",
          "name": "stdout",
          "text": [
            "CPLEX 22.1.1: \b\b\b\b\b\b\b\b\b\b\b\b\b\bCPLEX 22.1.1: optimal solution; objective 200.9677419\n",
            "0 simplex iterations\n"
          ]
        }
      ]
    },
    {
      "cell_type": "code",
      "source": [
        "xR = CargueroR.get_variable(\"x\") # Número de cargueros de cada tipo\n",
        "df_xR = xR.get_values().to_pandas()\n",
        "print(df_xR)\n",
        "valor_total_R = CargueroR.get_objective(\"valor_total\").value()\n",
        "print(f\"Valor total: {valor_total_R:.3f}\")\n",
        "\n",
        "\n"
      ],
      "metadata": {
        "colab": {
          "base_uri": "https://localhost:8080/"
        },
        "outputId": "fefafa6d-e20c-4fea-bdf4-9c01f217b652",
        "id": "EuUWaklom0cM"
      },
      "execution_count": 73,
      "outputs": [
        {
          "output_type": "stream",
          "name": "stdout",
          "text": [
            "       x.val\n",
            "c1  3.000000\n",
            "c2  0.322581\n",
            "c3  1.000000\n",
            "Valor total: 200.968\n"
          ]
        }
      ]
    },
    {
      "cell_type": "markdown",
      "source": [
        "Ramificamos la variable $x_{c_2}$: Resolvemos **$P_1 \\ (x_{c_2} \\geq 1$)** y **$P_2 \\ (x_{c_2} \\leq 0$)**\n",
        "\n"
      ],
      "metadata": {
        "id": "X-HVXqEtb02j"
      }
    },
    {
      "cell_type": "code",
      "source": [
        "# Integración en Google Colab\n",
        "from amplpy import AMPL, ampl_notebook\n",
        "\n",
        "CargueroP1 = ampl_notebook(\n",
        "    modules=[\"highs\", \"cplex\"],  # Solvers que queremos instalar\n",
        "    license_uuid=\"d1619e22-974c-4935-ad8a-2554d161c51d\",  # licencia que usaremos (os la he mandado por correo)\n",
        ")  # instanciamos el objeto \"AMPL\" con el que vamos a trabajar"
      ],
      "metadata": {
        "colab": {
          "base_uri": "https://localhost:8080/"
        },
        "outputId": "ebcd9009-a51a-48ff-c2f4-46d4d6682acf",
        "id": "Qgcanv0Qcqbk"
      },
      "execution_count": 74,
      "outputs": [
        {
          "output_type": "stream",
          "name": "stdout",
          "text": [
            "Licensed to Bundle #6787.7245 expiring 20250228: 302-Optimization; 408-Operations Research, Prof. Juan Miguel Morales Gonz?lez, University of Malaga.\n"
          ]
        }
      ]
    },
    {
      "cell_type": "code",
      "source": [
        "CargueroP1.eval(r\"\"\"\n",
        "reset;                          # Para limpiar cualquier modelo previo\n",
        "set cont;                       # Conjunto de contenedores\n",
        "param valor {cont} >= 0;        # Valor de la carga en cada contenedor\n",
        "param peso {cont} >= 0;         # Peso de la carga en cada contenedor\n",
        "param n {cont} >= 0;            # Número de cargamentos de valor y peso dados\n",
        "param cap >=0;                  # Capacidad del carguero\n",
        "\n",
        "var x {i in cont}  <= n[i], >=0;  # Número de cargamentos de valor y peso\n",
        "                                         # dados a fletar en el carguero\n",
        "\n",
        "maximize valor_total:\n",
        "    sum{i in cont} valor[i]*x[i];\n",
        "s.t. capacidad:\n",
        "    sum{i in cont} peso[i]*x[i] <= cap;\n",
        "    bounding: x[\"c2\"] >= 1;\n",
        "\"\"\")\n"
      ],
      "metadata": {
        "id": "VovjMfajcqbk"
      },
      "execution_count": 75,
      "outputs": []
    },
    {
      "cell_type": "code",
      "source": [
        "CargueroP1.set[\"cont\"] = list(valor.keys())\n",
        "CargueroP1.param[\"valor\"] = {c: v for c, v in valor.items()}\n",
        "CargueroP1.param[\"peso\"] = {c: p for c, p in peso.items()}\n",
        "CargueroP1.param[\"n\"] = {c: num for c, num in n.items()}\n",
        "CargueroP1.param[\"cap\"] = 400"
      ],
      "metadata": {
        "id": "37Q8jYJScqbl"
      },
      "execution_count": 76,
      "outputs": []
    },
    {
      "cell_type": "code",
      "source": [
        "CargueroP1.solve(solver=\"cplex\") # Resolvemos con el solver \"cplex\"\n",
        "assert CargueroP1.solve_result == \"solved\"  # Comprobamos que el problema se ha resuelto correctamente"
      ],
      "metadata": {
        "colab": {
          "base_uri": "https://localhost:8080/"
        },
        "outputId": "b42d57ed-110e-40c6-ff04-f3ffd2aa5b4e",
        "id": "Sl571PN1cqbl"
      },
      "execution_count": 77,
      "outputs": [
        {
          "output_type": "stream",
          "name": "stdout",
          "text": [
            "CPLEX 22.1.1: \b\b\b\b\b\b\b\b\b\b\b\b\b\bCPLEX 22.1.1: optimal solution; objective 192.5\n",
            "0 simplex iterations\n"
          ]
        }
      ]
    },
    {
      "cell_type": "code",
      "source": [
        "xP1 = CargueroP1.get_variable(\"x\") # Número de cargueros de cada tipo\n",
        "df_xP1 = xP1.get_values().to_pandas()\n",
        "print(df_xP1)\n",
        "valor_total_P1 = CargueroP1.get_objective(\"valor_total\").value()\n",
        "print(f\"Valor total: {valor_total_P1:.3f}\")\n",
        "\n",
        "\n"
      ],
      "metadata": {
        "colab": {
          "base_uri": "https://localhost:8080/"
        },
        "outputId": "0a938964-252d-438e-f4a0-d0ac408fdfce",
        "id": "EiTE3r7rdZvd"
      },
      "execution_count": 78,
      "outputs": [
        {
          "output_type": "stream",
          "name": "stdout",
          "text": [
            "    x.val\n",
            "c1   1.95\n",
            "c2   1.00\n",
            "c3   1.00\n",
            "Valor total: 192.500\n"
          ]
        }
      ]
    },
    {
      "cell_type": "code",
      "source": [
        "# Integración en Google Colab\n",
        "from amplpy import AMPL, ampl_notebook\n",
        "\n",
        "CargueroP2 = ampl_notebook(\n",
        "    modules=[\"highs\", \"cplex\"],  # Solvers que queremos instalar\n",
        "    license_uuid=\"d1619e22-974c-4935-ad8a-2554d161c51d\",  # licencia que usaremos (os la he mandado por correo)\n",
        ")  # instanciamos el objeto \"AMPL\" con el que vamos a trabajar"
      ],
      "metadata": {
        "colab": {
          "base_uri": "https://localhost:8080/"
        },
        "outputId": "3b6e8733-af3c-43be-d1b1-262cffd38dd7",
        "id": "9G3QNYpCd-FH"
      },
      "execution_count": 79,
      "outputs": [
        {
          "output_type": "stream",
          "name": "stdout",
          "text": [
            "Licensed to Bundle #6787.7245 expiring 20250228: 302-Optimization; 408-Operations Research, Prof. Juan Miguel Morales Gonz?lez, University of Malaga.\n"
          ]
        }
      ]
    },
    {
      "cell_type": "code",
      "source": [
        "CargueroP2.eval(r\"\"\"\n",
        "reset;                          # Para limpiar cualquier modelo previo\n",
        "set cont;                       # Conjunto de contenedores\n",
        "param valor {cont} >= 0;        # Valor de la carga en cada contenedor\n",
        "param peso {cont} >= 0;         # Peso de la carga en cada contenedor\n",
        "param n {cont} >= 0;            # Número de cargamentos de valor y peso dados\n",
        "param cap >=0;                  # Capacidad del carguero\n",
        "\n",
        "var x {i in cont}  <= n[i], >=0;  # Número de cargamentos de valor y peso\n",
        "                                         # dados a fletar en el carguero\n",
        "\n",
        "maximize valor_total:\n",
        "    sum{i in cont} valor[i]*x[i];\n",
        "s.t. capacidad:\n",
        "    sum{i in cont} peso[i]*x[i] <= cap;\n",
        "    bounding: x[\"c2\"] <= 0;\n",
        "\"\"\")\n"
      ],
      "metadata": {
        "id": "i7mw0LHzd-FH"
      },
      "execution_count": 80,
      "outputs": []
    },
    {
      "cell_type": "code",
      "source": [
        "CargueroP2.set[\"cont\"] = list(valor.keys())\n",
        "CargueroP2.param[\"valor\"] = {c: v for c, v in valor.items()}\n",
        "CargueroP2.param[\"peso\"] = {c: p for c, p in peso.items()}\n",
        "CargueroP2.param[\"n\"] = {c: num for c, num in n.items()}\n",
        "CargueroP2.param[\"cap\"] = 400"
      ],
      "metadata": {
        "id": "NvKZTzT5d-FH"
      },
      "execution_count": 81,
      "outputs": []
    },
    {
      "cell_type": "code",
      "source": [
        "CargueroP2.solve(solver=\"cplex\") # Resolvemos con el solver \"cplex\"\n",
        "assert CargueroP2.solve_result == \"solved\"  # Comprobamos que el problema se ha resuelto correctamente"
      ],
      "metadata": {
        "colab": {
          "base_uri": "https://localhost:8080/"
        },
        "outputId": "d22afefd-fc35-4b0b-e568-69e4ae176ad3",
        "id": "xSqSz9tQd-FH"
      },
      "execution_count": 82,
      "outputs": [
        {
          "output_type": "stream",
          "name": "stdout",
          "text": [
            "CPLEX 22.1.1: \b\b\b\b\b\b\b\b\b\b\b\b\b\bCPLEX 22.1.1: optimal solution; objective 180\n",
            "0 simplex iterations\n"
          ]
        }
      ]
    },
    {
      "cell_type": "code",
      "source": [
        "xP2 = CargueroP2.get_variable(\"x\") # Número de cargueros de cada tipo\n",
        "df_xP2 = xP2.get_values().to_pandas()\n",
        "print(df_xP2)\n",
        "valor_total_P2 = CargueroP2.get_objective(\"valor_total\").value()\n",
        "print(f\"Valor total: {valor_total_P2:.3f}\")\n",
        "\n",
        "\n"
      ],
      "metadata": {
        "colab": {
          "base_uri": "https://localhost:8080/"
        },
        "outputId": "515ae465-f58c-4bc1-d1c7-f645611088a9",
        "id": "jejDWMRPd-FH"
      },
      "execution_count": 83,
      "outputs": [
        {
          "output_type": "stream",
          "name": "stdout",
          "text": [
            "    x.val\n",
            "c1      3\n",
            "c2      0\n",
            "c3      1\n",
            "Valor total: 180.000\n"
          ]
        }
      ]
    },
    {
      "cell_type": "markdown",
      "source": [
        "El nodo $P_2$ queda pues agotado y nos permite actualizar la cota inferior del valor objetivo óptimo del problema original a 180. Consecuentemente, podemos actualizar también la cota superior a 192 gracias a $P_1$."
      ],
      "metadata": {
        "id": "yFMkf3WHemkT"
      }
    },
    {
      "cell_type": "markdown",
      "source": [
        "Ramificamos $P_1$ y resolvemos **$P_3 \\ (x_{c_1} \\geq 2$)** y **$P_4 \\ (x_{c_1} \\leq 1$)**"
      ],
      "metadata": {
        "id": "IxeAwqPloRdE"
      }
    },
    {
      "cell_type": "code",
      "source": [
        "# Integración en Google Colab\n",
        "from amplpy import AMPL, ampl_notebook\n",
        "\n",
        "CargueroP3 = ampl_notebook(\n",
        "    modules=[\"highs\", \"cplex\"],  # Solvers que queremos instalar\n",
        "    license_uuid=\"d1619e22-974c-4935-ad8a-2554d161c51d\",  # licencia que usaremos (os la he mandado por correo)\n",
        ")  # instanciamos el objeto \"AMPL\" con el que vamos a trabajar"
      ],
      "metadata": {
        "colab": {
          "base_uri": "https://localhost:8080/"
        },
        "outputId": "a967c95e-4623-479b-815d-989ba05574b7",
        "id": "c6yM0XUSfdhF"
      },
      "execution_count": 84,
      "outputs": [
        {
          "output_type": "stream",
          "name": "stdout",
          "text": [
            "Licensed to Bundle #6787.7245 expiring 20250228: 302-Optimization; 408-Operations Research, Prof. Juan Miguel Morales Gonz?lez, University of Malaga.\n"
          ]
        }
      ]
    },
    {
      "cell_type": "code",
      "source": [
        "CargueroP3.eval(r\"\"\"\n",
        "reset;                          # Para limpiar cualquier modelo previo\n",
        "set cont;                       # Conjunto de contenedores\n",
        "param valor {cont} >= 0;        # Valor de la carga en cada contenedor\n",
        "param peso {cont} >= 0;         # Peso de la carga en cada contenedor\n",
        "param n {cont} >= 0;            # Número de cargamentos de valor y peso dados\n",
        "param cap >=0;                  # Capacidad del carguero\n",
        "\n",
        "var x {i in cont}  <= n[i], >=0;  # Número de cargamentos de valor y peso\n",
        "                                         # dados a fletar en el carguero\n",
        "\n",
        "maximize valor_total:\n",
        "    sum{i in cont} valor[i]*x[i];\n",
        "s.t. capacidad:\n",
        "    sum{i in cont} peso[i]*x[i] <= cap;\n",
        "    bounding1: x[\"c2\"] >= 1;\n",
        "    bounding2: x[\"c1\"] >= 2;\n",
        "\"\"\")\n"
      ],
      "metadata": {
        "id": "b1mfgN2LfdhG"
      },
      "execution_count": 85,
      "outputs": []
    },
    {
      "cell_type": "code",
      "source": [
        "CargueroP3.set[\"cont\"] = list(valor.keys())\n",
        "CargueroP3.param[\"valor\"] = {c: v for c, v in valor.items()}\n",
        "CargueroP3.param[\"peso\"] = {c: p for c, p in peso.items()}\n",
        "CargueroP3.param[\"n\"] = {c: num for c, num in n.items()}\n",
        "CargueroP3.param[\"cap\"] = 400"
      ],
      "metadata": {
        "id": "HYrp6EkqfdhG"
      },
      "execution_count": 86,
      "outputs": []
    },
    {
      "cell_type": "code",
      "source": [
        "CargueroP3.solve(solver=\"cplex\") # Resolvemos con el solver \"cplex\"\n",
        "assert CargueroP3.solve_result == \"solved\"  # Comprobamos que el problema se ha resuelto correctamente"
      ],
      "metadata": {
        "colab": {
          "base_uri": "https://localhost:8080/"
        },
        "outputId": "9ec14435-92c1-43da-e4e3-4cdbc29feada",
        "id": "z368hjuyfdhG"
      },
      "execution_count": 87,
      "outputs": [
        {
          "output_type": "stream",
          "name": "stdout",
          "text": [
            "CPLEX 22.1.1: \b\b\b\b\b\b\b\b\b\b\b\b\b\bCPLEX 22.1.1: optimal solution; objective 192\n",
            "0 simplex iterations\n"
          ]
        }
      ]
    },
    {
      "cell_type": "code",
      "source": [
        "xP3 = CargueroP3.get_variable(\"x\") # Número de cargueros de cada tipo\n",
        "df_xP3 = xP3.get_values().to_pandas()\n",
        "print(df_xP3)\n",
        "valor_total_P3 = CargueroP3.get_objective(\"valor_total\").value()\n",
        "print(f\"Valor total: {valor_total_P3:.3f}\")\n",
        "\n",
        "\n"
      ],
      "metadata": {
        "colab": {
          "base_uri": "https://localhost:8080/"
        },
        "outputId": "ebd6a77f-777e-4daf-f0a5-de80f9f6fb24",
        "id": "MbwPJXl3fdhG"
      },
      "execution_count": 88,
      "outputs": [
        {
          "output_type": "stream",
          "name": "stdout",
          "text": [
            "    x.val\n",
            "c1    2.0\n",
            "c2    1.0\n",
            "c3    0.9\n",
            "Valor total: 192.000\n"
          ]
        }
      ]
    },
    {
      "cell_type": "code",
      "source": [
        "# Integración en Google Colab\n",
        "from amplpy import AMPL, ampl_notebook\n",
        "\n",
        "CargueroP4 = ampl_notebook(\n",
        "    modules=[\"highs\", \"cplex\"],  # Solvers que queremos instalar\n",
        "    license_uuid=\"d1619e22-974c-4935-ad8a-2554d161c51d\",  # licencia que usaremos (os la he mandado por correo)\n",
        ")  # instanciamos el objeto \"AMPL\" con el que vamos a trabajar"
      ],
      "metadata": {
        "colab": {
          "base_uri": "https://localhost:8080/"
        },
        "outputId": "d4ed47a9-9a04-4599-b721-8314cd4c1462",
        "id": "P3vD0xh1gtAL"
      },
      "execution_count": 41,
      "outputs": [
        {
          "output_type": "stream",
          "name": "stdout",
          "text": [
            "Licensed to Bundle #6787.7245 expiring 20250228: 302-Optimization; 408-Operations Research, Prof. Juan Miguel Morales Gonz?lez, University of Malaga.\n"
          ]
        }
      ]
    },
    {
      "cell_type": "code",
      "source": [
        "CargueroP4.eval(r\"\"\"\n",
        "reset;                          # Para limpiar cualquier modelo previo\n",
        "set cont;                       # Conjunto de contenedores\n",
        "param valor {cont} >= 0;        # Valor de la carga en cada contenedor\n",
        "param peso {cont} >= 0;         # Peso de la carga en cada contenedor\n",
        "param n {cont} >= 0;            # Número de cargamentos de valor y peso dados\n",
        "param cap >=0;                  # Capacidad del carguero\n",
        "\n",
        "var x {i in cont}  <= n[i], >=0;  # Número de cargamentos de valor y peso\n",
        "                                         # dados a fletar en el carguero\n",
        "\n",
        "maximize valor_total:\n",
        "    sum{i in cont} valor[i]*x[i];\n",
        "s.t. capacidad:\n",
        "    sum{i in cont} peso[i]*x[i] <= cap;\n",
        "    bounding1: x[\"c2\"] >= 1;\n",
        "    bounding2: x[\"c1\"] <= 1;\n",
        "\"\"\")\n"
      ],
      "metadata": {
        "id": "37CtOsZ8gtAM"
      },
      "execution_count": 89,
      "outputs": []
    },
    {
      "cell_type": "code",
      "source": [
        "CargueroP4.set[\"cont\"] = list(valor.keys())\n",
        "CargueroP4.param[\"valor\"] = {c: v for c, v in valor.items()}\n",
        "CargueroP4.param[\"peso\"] = {c: p for c, p in peso.items()}\n",
        "CargueroP4.param[\"n\"] = {c: num for c, num in n.items()}\n",
        "CargueroP4.param[\"cap\"] = 400"
      ],
      "metadata": {
        "id": "BvShHJpigtAM"
      },
      "execution_count": 90,
      "outputs": []
    },
    {
      "cell_type": "code",
      "source": [
        "CargueroP4.solve(solver=\"cplex\") # Resolvemos con el solver \"cplex\"\n",
        "assert CargueroP4.solve_result == \"solved\"  # Comprobamos que el problema se ha resuelto correctamente"
      ],
      "metadata": {
        "colab": {
          "base_uri": "https://localhost:8080/"
        },
        "outputId": "c8c2c580-99b4-4430-9426-69efb5b244ed",
        "id": "gbcUktUigtAM"
      },
      "execution_count": 91,
      "outputs": [
        {
          "output_type": "stream",
          "name": "stdout",
          "text": [
            "CPLEX 22.1.1: \b\b\b\b\b\b\b\b\b\b\b\b\b\bCPLEX 22.1.1: optimal solution; objective 184.8387097\n",
            "0 simplex iterations\n"
          ]
        }
      ]
    },
    {
      "cell_type": "code",
      "source": [
        "xP4 = CargueroP4.get_variable(\"x\") # Número de cargueros de cada tipo\n",
        "df_xP4 = xP4.get_values().to_pandas()\n",
        "print(df_xP4)\n",
        "valor_total_P4 = CargueroP4.get_objective(\"valor_total\").value()\n",
        "print(f\"Valor total: {valor_total_P4:.3f}\")\n",
        "\n",
        "\n"
      ],
      "metadata": {
        "colab": {
          "base_uri": "https://localhost:8080/"
        },
        "outputId": "cd81d56b-d36f-4705-85c2-1933557e49bf",
        "id": "lqjMqJlqgtAM"
      },
      "execution_count": 92,
      "outputs": [
        {
          "output_type": "stream",
          "name": "stdout",
          "text": [
            "       x.val\n",
            "c1  1.000000\n",
            "c2  1.612903\n",
            "c3  1.000000\n",
            "Valor total: 184.839\n"
          ]
        }
      ]
    },
    {
      "cell_type": "markdown",
      "source": [
        "Ramificamos sobre $P_3$ y resolvemos **$P_5 \\ (x_{c_3} \\geq 1$)** y **$P_6 \\ (x_{c_3} \\leq 0$)**"
      ],
      "metadata": {
        "id": "gYkTpXjihfIb"
      }
    },
    {
      "cell_type": "code",
      "source": [
        "# Integración en Google Colab\n",
        "from amplpy import AMPL, ampl_notebook\n",
        "\n",
        "CargueroP5 = ampl_notebook(\n",
        "    modules=[\"highs\", \"cplex\"],  # Solvers que queremos instalar\n",
        "    license_uuid=\"d1619e22-974c-4935-ad8a-2554d161c51d\",  # licencia que usaremos (os la he mandado por correo)\n",
        ")  # instanciamos el objeto \"AMPL\" con el que vamos a trabajar"
      ],
      "metadata": {
        "colab": {
          "base_uri": "https://localhost:8080/"
        },
        "outputId": "e15914fc-3ef7-4418-9fd1-b974c72ef8c3",
        "id": "4MEwULMDiVFz"
      },
      "execution_count": 93,
      "outputs": [
        {
          "output_type": "stream",
          "name": "stdout",
          "text": [
            "Licensed to Bundle #6787.7245 expiring 20250228: 302-Optimization; 408-Operations Research, Prof. Juan Miguel Morales Gonz?lez, University of Malaga.\n"
          ]
        }
      ]
    },
    {
      "cell_type": "code",
      "source": [
        "CargueroP5.eval(r\"\"\"\n",
        "reset;                          # Para limpiar cualquier modelo previo\n",
        "set cont;                       # Conjunto de contenedores\n",
        "param valor {cont} >= 0;        # Valor de la carga en cada contenedor\n",
        "param peso {cont} >= 0;         # Peso de la carga en cada contenedor\n",
        "param n {cont} >= 0;            # Número de cargamentos de valor y peso dados\n",
        "param cap >=0;                  # Capacidad del carguero\n",
        "\n",
        "var x {i in cont}  <= n[i], >=0;  # Número de cargamentos de valor y peso\n",
        "                                         # dados a fletar en el carguero\n",
        "\n",
        "maximize valor_total:\n",
        "    sum{i in cont} valor[i]*x[i];\n",
        "s.t. capacidad:\n",
        "    sum{i in cont} peso[i]*x[i] <= cap;\n",
        "    bounding1: x[\"c2\"] >= 1;\n",
        "    bounding2: x[\"c1\"] >= 2;\n",
        "    bounding3: x[\"c3\"] >= 1;\n",
        "\n",
        "\"\"\")\n"
      ],
      "metadata": {
        "id": "tslgVmbLiVF0"
      },
      "execution_count": 95,
      "outputs": []
    },
    {
      "cell_type": "code",
      "source": [
        "CargueroP5.set[\"cont\"] = list(valor.keys())\n",
        "CargueroP5.param[\"valor\"] = {c: v for c, v in valor.items()}\n",
        "CargueroP5.param[\"peso\"] = {c: p for c, p in peso.items()}\n",
        "CargueroP5.param[\"n\"] = {c: num for c, num in n.items()}\n",
        "CargueroP5.param[\"cap\"] = 400"
      ],
      "metadata": {
        "id": "DiNUkJJeiVF0"
      },
      "execution_count": 96,
      "outputs": []
    },
    {
      "cell_type": "code",
      "source": [
        "CargueroP5.solve(solver=\"cplex\") # Resolvemos con el solver \"cplex\"\n"
      ],
      "metadata": {
        "colab": {
          "base_uri": "https://localhost:8080/"
        },
        "outputId": "01d9d7d6-be97-44bb-d44a-09813ed6ca2b",
        "id": "yg3c9X6xiVF0"
      },
      "execution_count": 98,
      "outputs": [
        {
          "output_type": "stream",
          "name": "stdout",
          "text": [
            "CPLEX 22.1.1: \b\b\b\b\b\b\b\b\b\b\b\b\b\bCPLEX 22.1.1: infeasible problem\n",
            "0 simplex iterations\n",
            "\n",
            "suffix dunbdd OUT;\n"
          ]
        }
      ]
    },
    {
      "cell_type": "markdown",
      "source": [
        "$P_5$ es infactible y esa vía queda agotada."
      ],
      "metadata": {
        "id": "mbmwWTg_qiFv"
      }
    },
    {
      "cell_type": "code",
      "source": [
        "# Integración en Google Colab\n",
        "from amplpy import AMPL, ampl_notebook\n",
        "\n",
        "CargueroP6 = ampl_notebook(\n",
        "    modules=[\"highs\", \"cplex\"],  # Solvers que queremos instalar\n",
        "    license_uuid=\"d1619e22-974c-4935-ad8a-2554d161c51d\",  # licencia que usaremos (os la he mandado por correo)\n",
        ")  # instanciamos el objeto \"AMPL\" con el que vamos a trabajar"
      ],
      "metadata": {
        "colab": {
          "base_uri": "https://localhost:8080/"
        },
        "outputId": "1fe38197-c08b-4741-eba5-0f13c9cff396",
        "id": "6OyJVR53jd7T"
      },
      "execution_count": 52,
      "outputs": [
        {
          "output_type": "stream",
          "name": "stdout",
          "text": [
            "Licensed to Bundle #6787.7245 expiring 20250228: 302-Optimization; 408-Operations Research, Prof. Juan Miguel Morales Gonz?lez, University of Malaga.\n"
          ]
        }
      ]
    },
    {
      "cell_type": "code",
      "source": [
        "CargueroP6.eval(r\"\"\"\n",
        "reset;                          # Para limpiar cualquier modelo previo\n",
        "set cont;                       # Conjunto de contenedores\n",
        "param valor {cont} >= 0;        # Valor de la carga en cada contenedor\n",
        "param peso {cont} >= 0;         # Peso de la carga en cada contenedor\n",
        "param n {cont} >= 0;            # Número de cargamentos de valor y peso dados\n",
        "param cap >=0;                  # Capacidad del carguero\n",
        "\n",
        "var x {i in cont}  <= n[i], >=0;  # Número de cargamentos de valor y peso\n",
        "                                         # dados a fletar en el carguero\n",
        "\n",
        "maximize valor_total:\n",
        "    sum{i in cont} valor[i]*x[i];\n",
        "s.t. capacidad:\n",
        "    sum{i in cont} peso[i]*x[i] <= cap;\n",
        "    bounding1: x[\"c2\"] >= 1;\n",
        "    bounding2: x[\"c1\"] >= 2;\n",
        "    bounding3: x[\"c3\"] <= 0;\n",
        "\"\"\")\n"
      ],
      "metadata": {
        "id": "FYESE0hbjd7T"
      },
      "execution_count": 99,
      "outputs": []
    },
    {
      "cell_type": "code",
      "source": [
        "CargueroP6.set[\"cont\"] = list(valor.keys())\n",
        "CargueroP6.param[\"valor\"] = {c: v for c, v in valor.items()}\n",
        "CargueroP6.param[\"peso\"] = {c: p for c, p in peso.items()}\n",
        "CargueroP6.param[\"n\"] = {c: num for c, num in n.items()}\n",
        "CargueroP6.param[\"cap\"] = 400"
      ],
      "metadata": {
        "id": "vHDLwy5kjd7T"
      },
      "execution_count": 100,
      "outputs": []
    },
    {
      "cell_type": "code",
      "source": [
        "CargueroP6.solve(solver=\"cplex\") # Resolvemos con el solver \"cplex\"\n",
        "assert CargueroP6.solve_result == \"solved\"  # Comprobamos que el problema se ha resuelto correctamente"
      ],
      "metadata": {
        "colab": {
          "base_uri": "https://localhost:8080/"
        },
        "outputId": "328ba260-2860-406e-fc19-4e509295bf88",
        "id": "zmg6FyE2jd7T"
      },
      "execution_count": 101,
      "outputs": [
        {
          "output_type": "stream",
          "name": "stdout",
          "text": [
            "CPLEX 22.1.1: \b\b\b\b\b\b\b\b\b\b\b\b\b\bCPLEX 22.1.1: optimal solution; objective 187.5\n",
            "0 simplex iterations\n"
          ]
        }
      ]
    },
    {
      "cell_type": "code",
      "source": [
        "xP6 = CargueroP6.get_variable(\"x\") # Número de cargueros de cada tipo\n",
        "df_xP6 = xP6.get_values().to_pandas()\n",
        "print(df_xP6)\n",
        "valor_total_P6 = CargueroP6.get_objective(\"valor_total\").value()\n",
        "print(f\"Valor total: {valor_total_P6:.3f}\")\n",
        "\n",
        "\n"
      ],
      "metadata": {
        "colab": {
          "base_uri": "https://localhost:8080/"
        },
        "outputId": "138660fb-632e-4751-e7cd-75f6286c0920",
        "id": "10y8kSMQjd7U"
      },
      "execution_count": 102,
      "outputs": [
        {
          "output_type": "stream",
          "name": "stdout",
          "text": [
            "    x.val\n",
            "c1   2.45\n",
            "c2   1.00\n",
            "c3   0.00\n",
            "Valor total: 187.500\n"
          ]
        }
      ]
    },
    {
      "cell_type": "markdown",
      "source": [
        "Actualizamos la cota superior a 187.5."
      ],
      "metadata": {
        "id": "E-JNVjE0q59b"
      }
    },
    {
      "cell_type": "markdown",
      "source": [
        "Ramificamos sobre $P_6$ y resolvemos **$P_7 \\ (x_{c_1} \\geq 3$)** y **$P_8 \\ (x_{c_1} \\leq 2$)**"
      ],
      "metadata": {
        "id": "PahV4wzBq_Ob"
      }
    },
    {
      "cell_type": "code",
      "source": [
        "# Integración en Google Colab\n",
        "from amplpy import AMPL, ampl_notebook\n",
        "\n",
        "CargueroP7 = ampl_notebook(\n",
        "    modules=[\"highs\", \"cplex\"],  # Solvers que queremos instalar\n",
        "    license_uuid=\"d1619e22-974c-4935-ad8a-2554d161c51d\",  # licencia que usaremos (os la he mandado por correo)\n",
        ")  # instanciamos el objeto \"AMPL\" con el que vamos a trabajar"
      ],
      "metadata": {
        "colab": {
          "base_uri": "https://localhost:8080/"
        },
        "outputId": "c7c17461-e82d-4e4b-fb30-3c2bfe5472cc",
        "id": "omC2IGfxrXT4"
      },
      "execution_count": 103,
      "outputs": [
        {
          "output_type": "stream",
          "name": "stdout",
          "text": [
            "Licensed to Bundle #6787.7245 expiring 20250228: 302-Optimization; 408-Operations Research, Prof. Juan Miguel Morales Gonz?lez, University of Malaga.\n"
          ]
        }
      ]
    },
    {
      "cell_type": "code",
      "source": [
        "CargueroP7.eval(r\"\"\"\n",
        "reset;                          # Para limpiar cualquier modelo previo\n",
        "set cont;                       # Conjunto de contenedores\n",
        "param valor {cont} >= 0;        # Valor de la carga en cada contenedor\n",
        "param peso {cont} >= 0;         # Peso de la carga en cada contenedor\n",
        "param n {cont} >= 0;            # Número de cargamentos de valor y peso dados\n",
        "param cap >=0;                  # Capacidad del carguero\n",
        "\n",
        "var x {i in cont}  <= n[i], >=0;  # Número de cargamentos de valor y peso\n",
        "                                         # dados a fletar en el carguero\n",
        "\n",
        "maximize valor_total:\n",
        "    sum{i in cont} valor[i]*x[i];\n",
        "s.t. capacidad:\n",
        "    sum{i in cont} peso[i]*x[i] <= cap;\n",
        "    bounding1: x[\"c2\"] >= 1;\n",
        "    bounding2: x[\"c1\"] >= 3;\n",
        "    bounding3: x[\"c3\"] <= 0;\n",
        "\"\"\")\n"
      ],
      "metadata": {
        "id": "L4EbarSHrXT6"
      },
      "execution_count": 104,
      "outputs": []
    },
    {
      "cell_type": "code",
      "source": [
        "CargueroP7.set[\"cont\"] = list(valor.keys())\n",
        "CargueroP7.param[\"valor\"] = {c: v for c, v in valor.items()}\n",
        "CargueroP7.param[\"peso\"] = {c: p for c, p in peso.items()}\n",
        "CargueroP7.param[\"n\"] = {c: num for c, num in n.items()}\n",
        "CargueroP7.param[\"cap\"] = 400"
      ],
      "metadata": {
        "id": "zN6LtdBkrXT7"
      },
      "execution_count": 105,
      "outputs": []
    },
    {
      "cell_type": "code",
      "source": [
        "CargueroP7.solve(solver=\"cplex\") # Resolvemos con el solver \"cplex\"\n"
      ],
      "metadata": {
        "colab": {
          "base_uri": "https://localhost:8080/"
        },
        "outputId": "0796b322-1f4e-4472-f5bb-db9c9c5bb3d8",
        "id": "fFiwsUWdrXT7"
      },
      "execution_count": 107,
      "outputs": [
        {
          "output_type": "stream",
          "name": "stdout",
          "text": [
            "CPLEX 22.1.1: \b\b\b\b\b\b\b\b\b\b\b\b\b\bCPLEX 22.1.1: infeasible problem\n",
            "0 simplex iterations\n",
            "\n",
            "suffix dunbdd OUT;\n"
          ]
        }
      ]
    },
    {
      "cell_type": "markdown",
      "source": [
        "$P_7$ es infactible y agota esta vía."
      ],
      "metadata": {
        "id": "2bAMg3ZFrrhL"
      }
    },
    {
      "cell_type": "code",
      "source": [
        "# Integración en Google Colab\n",
        "from amplpy import AMPL, ampl_notebook\n",
        "\n",
        "CargueroP8 = ampl_notebook(\n",
        "    modules=[\"highs\", \"cplex\"],  # Solvers que queremos instalar\n",
        "    license_uuid=\"d1619e22-974c-4935-ad8a-2554d161c51d\",  # licencia que usaremos (os la he mandado por correo)\n",
        ")  # instanciamos el objeto \"AMPL\" con el que vamos a trabajar"
      ],
      "metadata": {
        "colab": {
          "base_uri": "https://localhost:8080/"
        },
        "outputId": "8cdfc7d3-5987-415e-d949-f05e6fe4682f",
        "id": "EXqJoUSMr2B-"
      },
      "execution_count": 108,
      "outputs": [
        {
          "output_type": "stream",
          "name": "stdout",
          "text": [
            "Licensed to Bundle #6787.7245 expiring 20250228: 302-Optimization; 408-Operations Research, Prof. Juan Miguel Morales Gonz?lez, University of Malaga.\n"
          ]
        }
      ]
    },
    {
      "cell_type": "code",
      "source": [
        "CargueroP8.eval(r\"\"\"\n",
        "reset;                          # Para limpiar cualquier modelo previo\n",
        "set cont;                       # Conjunto de contenedores\n",
        "param valor {cont} >= 0;        # Valor de la carga en cada contenedor\n",
        "param peso {cont} >= 0;         # Peso de la carga en cada contenedor\n",
        "param n {cont} >= 0;            # Número de cargamentos de valor y peso dados\n",
        "param cap >=0;                  # Capacidad del carguero\n",
        "\n",
        "var x {i in cont}  <= n[i], >=0;  # Número de cargamentos de valor y peso\n",
        "                                         # dados a fletar en el carguero\n",
        "\n",
        "maximize valor_total:\n",
        "    sum{i in cont} valor[i]*x[i];\n",
        "s.t. capacidad:\n",
        "    sum{i in cont} peso[i]*x[i] <= cap;\n",
        "    bounding1: x[\"c2\"] >= 1;\n",
        "    bounding2: x[\"c1\"] <= 2;\n",
        "    bounding3: x[\"c3\"] <= 0;\n",
        "\"\"\")\n"
      ],
      "metadata": {
        "id": "mr7Y9G4_r2B_"
      },
      "execution_count": 109,
      "outputs": []
    },
    {
      "cell_type": "code",
      "source": [
        "CargueroP8.set[\"cont\"] = list(valor.keys())\n",
        "CargueroP8.param[\"valor\"] = {c: v for c, v in valor.items()}\n",
        "CargueroP8.param[\"peso\"] = {c: p for c, p in peso.items()}\n",
        "CargueroP8.param[\"n\"] = {c: num for c, num in n.items()}\n",
        "CargueroP8.param[\"cap\"] = 400"
      ],
      "metadata": {
        "id": "4QsfIi_Lr2B_"
      },
      "execution_count": 110,
      "outputs": []
    },
    {
      "cell_type": "code",
      "source": [
        "CargueroP8.solve(solver=\"cplex\") # Resolvemos con el solver \"cplex\"\n"
      ],
      "metadata": {
        "colab": {
          "base_uri": "https://localhost:8080/"
        },
        "outputId": "9a45523c-a93f-4d28-c8b2-a891de4be0ce",
        "id": "8gVJz3Cnr2B_"
      },
      "execution_count": 111,
      "outputs": [
        {
          "output_type": "stream",
          "name": "stdout",
          "text": [
            "CPLEX 22.1.1: \b\b\b\b\b\b\b\b\b\b\b\b\b\bCPLEX 22.1.1: optimal solution; objective 183.8709677\n",
            "0 simplex iterations\n"
          ]
        }
      ]
    },
    {
      "cell_type": "code",
      "source": [
        "xP8 = CargueroP8.get_variable(\"x\") # Número de cargueros de cada tipo\n",
        "df_xP8 = xP8.get_values().to_pandas()\n",
        "print(df_xP8)\n",
        "valor_total_P8 = CargueroP8.get_objective(\"valor_total\").value()\n",
        "print(f\"Valor total: {valor_total_P8:.3f}\")\n",
        "\n",
        "\n"
      ],
      "metadata": {
        "colab": {
          "base_uri": "https://localhost:8080/"
        },
        "outputId": "3549a306-7e36-4afd-ed23-c921e82746a9",
        "id": "A_lFRmuHsK2H"
      },
      "execution_count": 112,
      "outputs": [
        {
          "output_type": "stream",
          "name": "stdout",
          "text": [
            "       x.val\n",
            "c1  2.000000\n",
            "c2  1.290323\n",
            "c3  0.000000\n",
            "Valor total: 183.871\n"
          ]
        }
      ]
    },
    {
      "cell_type": "markdown",
      "source": [
        "Actualizamos la cota superior a 184 (procedente de $P_4$, que sigue abierto)."
      ],
      "metadata": {
        "id": "6HzQdODcsc6j"
      }
    },
    {
      "cell_type": "markdown",
      "source": [
        "Busqueda en profundidad: Ramificamos sobre $P_8$ y resolvemos **$P_9 \\ (x_{c_2} \\geq 2$)** y **$P_{10} \\ (x_{c_2} \\leq 1$)**"
      ],
      "metadata": {
        "id": "MFZFUpORsntL"
      }
    },
    {
      "cell_type": "code",
      "source": [
        "# Integración en Google Colab\n",
        "from amplpy import AMPL, ampl_notebook\n",
        "\n",
        "CargueroP9 = ampl_notebook(\n",
        "    modules=[\"highs\", \"cplex\"],  # Solvers que queremos instalar\n",
        "    license_uuid=\"d1619e22-974c-4935-ad8a-2554d161c51d\",  # licencia que usaremos (os la he mandado por correo)\n",
        ")  # instanciamos el objeto \"AMPL\" con el que vamos a trabajar"
      ],
      "metadata": {
        "colab": {
          "base_uri": "https://localhost:8080/"
        },
        "outputId": "78bbc660-e7a8-4fb8-d085-01cf197099ca",
        "id": "QVINpN4ltE6c"
      },
      "execution_count": 114,
      "outputs": [
        {
          "output_type": "stream",
          "name": "stdout",
          "text": [
            "Licensed to Bundle #6787.7245 expiring 20250228: 302-Optimization; 408-Operations Research, Prof. Juan Miguel Morales Gonz?lez, University of Malaga.\n"
          ]
        }
      ]
    },
    {
      "cell_type": "code",
      "source": [
        "CargueroP9.eval(r\"\"\"\n",
        "reset;                          # Para limpiar cualquier modelo previo\n",
        "set cont;                       # Conjunto de contenedores\n",
        "param valor {cont} >= 0;        # Valor de la carga en cada contenedor\n",
        "param peso {cont} >= 0;         # Peso de la carga en cada contenedor\n",
        "param n {cont} >= 0;            # Número de cargamentos de valor y peso dados\n",
        "param cap >=0;                  # Capacidad del carguero\n",
        "\n",
        "var x {i in cont}  <= n[i], >=0;  # Número de cargamentos de valor y peso\n",
        "                                         # dados a fletar en el carguero\n",
        "\n",
        "maximize valor_total:\n",
        "    sum{i in cont} valor[i]*x[i];\n",
        "s.t. capacidad:\n",
        "    sum{i in cont} peso[i]*x[i] <= cap;\n",
        "    bounding1: x[\"c2\"] >= 2;\n",
        "    bounding2: x[\"c1\"] <= 2;\n",
        "    bounding3: x[\"c3\"] <= 0;\n",
        "\"\"\")\n"
      ],
      "metadata": {
        "id": "vN_vhMtCtE6c"
      },
      "execution_count": 115,
      "outputs": []
    },
    {
      "cell_type": "code",
      "source": [
        "CargueroP9.set[\"cont\"] = list(valor.keys())\n",
        "CargueroP9.param[\"valor\"] = {c: v for c, v in valor.items()}\n",
        "CargueroP9.param[\"peso\"] = {c: p for c, p in peso.items()}\n",
        "CargueroP9.param[\"n\"] = {c: num for c, num in n.items()}\n",
        "CargueroP9.param[\"cap\"] = 400"
      ],
      "metadata": {
        "id": "50thP18-tE6c"
      },
      "execution_count": 116,
      "outputs": []
    },
    {
      "cell_type": "code",
      "source": [
        "CargueroP9.solve(solver=\"cplex\") # Resolvemos con el solver \"cplex\"\n"
      ],
      "metadata": {
        "colab": {
          "base_uri": "https://localhost:8080/"
        },
        "outputId": "2e84230f-f9d0-45ec-e89f-6f892123078a",
        "id": "hp8pHtaftE6c"
      },
      "execution_count": 117,
      "outputs": [
        {
          "output_type": "stream",
          "name": "stdout",
          "text": [
            "CPLEX 22.1.1: \b\b\b\b\b\b\b\b\b\b\b\b\b\bCPLEX 22.1.1: optimal solution; objective 175\n",
            "0 simplex iterations\n"
          ]
        }
      ]
    },
    {
      "cell_type": "code",
      "source": [
        "xP9 = CargueroP9.get_variable(\"x\") # Número de cargueros de cada tipo\n",
        "df_xP9 = xP9.get_values().to_pandas()\n",
        "print(df_xP9)\n",
        "valor_total_P9 = CargueroP9.get_objective(\"valor_total\").value()\n",
        "print(f\"Valor total: {valor_total_P9:.3f}\")\n",
        "\n",
        "\n"
      ],
      "metadata": {
        "colab": {
          "base_uri": "https://localhost:8080/"
        },
        "outputId": "26132a6f-03f5-4d90-8e24-76c1c5f5c8ba",
        "id": "hurMeBnTtE6c"
      },
      "execution_count": 118,
      "outputs": [
        {
          "output_type": "stream",
          "name": "stdout",
          "text": [
            "    x.val\n",
            "c1    0.9\n",
            "c2    2.0\n",
            "c3    0.0\n",
            "Valor total: 175.000\n"
          ]
        }
      ]
    },
    {
      "cell_type": "markdown",
      "source": [
        "Esta rama se poda pues la cota inferior actual del valor objetivo óptimo del problema original es 180 (correspondiente a la solución de $P_2$)."
      ],
      "metadata": {
        "id": "xla2oTHXt6na"
      }
    },
    {
      "cell_type": "code",
      "source": [
        "# Integración en Google Colab\n",
        "from amplpy import AMPL, ampl_notebook\n",
        "\n",
        "CargueroP10 = ampl_notebook(\n",
        "    modules=[\"highs\", \"cplex\"],  # Solvers que queremos instalar\n",
        "    license_uuid=\"d1619e22-974c-4935-ad8a-2554d161c51d\",  # licencia que usaremos (os la he mandado por correo)\n",
        ")  # instanciamos el objeto \"AMPL\" con el que vamos a trabajar"
      ],
      "metadata": {
        "colab": {
          "base_uri": "https://localhost:8080/"
        },
        "outputId": "a212f505-6932-481b-a549-efd1a5128c9f",
        "id": "4kt3Nv3RuSJO"
      },
      "execution_count": 119,
      "outputs": [
        {
          "output_type": "stream",
          "name": "stdout",
          "text": [
            "Licensed to Bundle #6787.7245 expiring 20250228: 302-Optimization; 408-Operations Research, Prof. Juan Miguel Morales Gonz?lez, University of Malaga.\n"
          ]
        }
      ]
    },
    {
      "cell_type": "code",
      "source": [
        "CargueroP10.eval(r\"\"\"\n",
        "reset;                          # Para limpiar cualquier modelo previo\n",
        "set cont;                       # Conjunto de contenedores\n",
        "param valor {cont} >= 0;        # Valor de la carga en cada contenedor\n",
        "param peso {cont} >= 0;         # Peso de la carga en cada contenedor\n",
        "param n {cont} >= 0;            # Número de cargamentos de valor y peso dados\n",
        "param cap >=0;                  # Capacidad del carguero\n",
        "\n",
        "var x {i in cont}  <= n[i], >=0;  # Número de cargamentos de valor y peso\n",
        "                                         # dados a fletar en el carguero\n",
        "\n",
        "maximize valor_total:\n",
        "    sum{i in cont} valor[i]*x[i];\n",
        "s.t. capacidad:\n",
        "    sum{i in cont} peso[i]*x[i] <= cap;\n",
        "    bounding1: x[\"c2\"] =  1;\n",
        "    bounding2: x[\"c1\"] <= 2;\n",
        "    bounding3: x[\"c3\"] <= 0;\n",
        "\"\"\")\n"
      ],
      "metadata": {
        "id": "1FADLbgfuSJP"
      },
      "execution_count": 120,
      "outputs": []
    },
    {
      "cell_type": "code",
      "source": [
        "CargueroP10.set[\"cont\"] = list(valor.keys())\n",
        "CargueroP10.param[\"valor\"] = {c: v for c, v in valor.items()}\n",
        "CargueroP10.param[\"peso\"] = {c: p for c, p in peso.items()}\n",
        "CargueroP10.param[\"n\"] = {c: num for c, num in n.items()}\n",
        "CargueroP10.param[\"cap\"] = 400"
      ],
      "metadata": {
        "id": "Yruwa8HmuSJP"
      },
      "execution_count": 121,
      "outputs": []
    },
    {
      "cell_type": "code",
      "source": [
        "CargueroP10.solve(solver=\"cplex\") # Resolvemos con el solver \"cplex\"\n"
      ],
      "metadata": {
        "colab": {
          "base_uri": "https://localhost:8080/"
        },
        "outputId": "e3741fb3-3a1c-4dbe-f10a-eb90c1717ac4",
        "id": "K1dniZ41uSJP"
      },
      "execution_count": 122,
      "outputs": [
        {
          "output_type": "stream",
          "name": "stdout",
          "text": [
            "CPLEX 22.1.1: \b\b\b\b\b\b\b\b\b\b\b\b\b\bCPLEX 22.1.1: optimal solution; objective 165\n",
            "0 simplex iterations\n"
          ]
        }
      ]
    },
    {
      "cell_type": "code",
      "source": [
        "xP10 = CargueroP10.get_variable(\"x\") # Número de cargueros de cada tipo\n",
        "df_xP10 = xP10.get_values().to_pandas()\n",
        "print(df_xP10)\n",
        "valor_total_P10 = CargueroP10.get_objective(\"valor_total\").value()\n",
        "print(f\"Valor total: {valor_total_P10:.3f}\")\n",
        "\n",
        "\n"
      ],
      "metadata": {
        "colab": {
          "base_uri": "https://localhost:8080/"
        },
        "outputId": "00b19b91-362c-46b3-f9af-e9351819d9a6",
        "id": "vx1N15cQuSJP"
      },
      "execution_count": 123,
      "outputs": [
        {
          "output_type": "stream",
          "name": "stdout",
          "text": [
            "    x.val\n",
            "c1      2\n",
            "c2      1\n",
            "c3      0\n",
            "Valor total: 165.000\n"
          ]
        }
      ]
    },
    {
      "cell_type": "markdown",
      "source": [
        "Esta rama termina en una solución entera factible con peor objetivo que la que ya teníamos de la resolución de $P_2$."
      ],
      "metadata": {
        "id": "F2jjKGs-vPoF"
      }
    },
    {
      "cell_type": "markdown",
      "source": [
        "Ramificamos sobre $P_4$ y resolvemos **$P_{11} \\ (x_{c_2} \\geq 2$)** y **$P_{12} \\ (x_{c_2} \\leq 1$)**"
      ],
      "metadata": {
        "id": "1bzrLBskv7TM"
      }
    },
    {
      "cell_type": "code",
      "source": [
        "# Integración en Google Colab\n",
        "from amplpy import AMPL, ampl_notebook\n",
        "\n",
        "CargueroP11 = ampl_notebook(\n",
        "    modules=[\"highs\", \"cplex\"],  # Solvers que queremos instalar\n",
        "    license_uuid=\"d1619e22-974c-4935-ad8a-2554d161c51d\",  # licencia que usaremos (os la he mandado por correo)\n",
        ")  # instanciamos el objeto \"AMPL\" con el que vamos a trabajar"
      ],
      "metadata": {
        "colab": {
          "base_uri": "https://localhost:8080/"
        },
        "outputId": "5c9be833-e943-4d9b-841c-38d01c7afab8",
        "id": "8hWnkTHYwG4z"
      },
      "execution_count": 124,
      "outputs": [
        {
          "output_type": "stream",
          "name": "stdout",
          "text": [
            "Licensed to Bundle #6787.7245 expiring 20250228: 302-Optimization; 408-Operations Research, Prof. Juan Miguel Morales Gonz?lez, University of Malaga.\n"
          ]
        }
      ]
    },
    {
      "cell_type": "code",
      "source": [
        "CargueroP11.eval(r\"\"\"\n",
        "reset;                          # Para limpiar cualquier modelo previo\n",
        "set cont;                       # Conjunto de contenedores\n",
        "param valor {cont} >= 0;        # Valor de la carga en cada contenedor\n",
        "param peso {cont} >= 0;         # Peso de la carga en cada contenedor\n",
        "param n {cont} >= 0;            # Número de cargamentos de valor y peso dados\n",
        "param cap >=0;                  # Capacidad del carguero\n",
        "\n",
        "var x {i in cont}  <= n[i], >=0;  # Número de cargamentos de valor y peso\n",
        "                                         # dados a fletar en el carguero\n",
        "\n",
        "maximize valor_total:\n",
        "    sum{i in cont} valor[i]*x[i];\n",
        "s.t. capacidad:\n",
        "    sum{i in cont} peso[i]*x[i] <= cap;\n",
        "    bounding1: x[\"c2\"] >= 2;\n",
        "    bounding2: x[\"c1\"] <= 1;\n",
        "\"\"\")\n"
      ],
      "metadata": {
        "id": "YAM9AqSpwG4z"
      },
      "execution_count": 125,
      "outputs": []
    },
    {
      "cell_type": "code",
      "source": [
        "CargueroP11.set[\"cont\"] = list(valor.keys())\n",
        "CargueroP11.param[\"valor\"] = {c: v for c, v in valor.items()}\n",
        "CargueroP11.param[\"peso\"] = {c: p for c, p in peso.items()}\n",
        "CargueroP11.param[\"n\"] = {c: num for c, num in n.items()}\n",
        "CargueroP11.param[\"cap\"] = 400"
      ],
      "metadata": {
        "id": "L5fetV_7wG40"
      },
      "execution_count": 126,
      "outputs": []
    },
    {
      "cell_type": "code",
      "source": [
        "CargueroP11.solve(solver=\"cplex\") # Resolvemos con el solver \"cplex\"\n",
        "assert CargueroP4.solve_result == \"solved\"  # Comprobamos que el problema se ha resuelto correctamente"
      ],
      "metadata": {
        "colab": {
          "base_uri": "https://localhost:8080/"
        },
        "outputId": "f40a16bf-d6f4-40ad-efb8-d749c684057c",
        "id": "wlQlOK9nwG40"
      },
      "execution_count": 127,
      "outputs": [
        {
          "output_type": "stream",
          "name": "stdout",
          "text": [
            "CPLEX 22.1.1: \b\b\b\b\b\b\b\b\b\b\b\b\b\bCPLEX 22.1.1: optimal solution; objective 180\n",
            "0 simplex iterations\n"
          ]
        }
      ]
    },
    {
      "cell_type": "code",
      "source": [
        "xP11 = CargueroP11.get_variable(\"x\") # Número de cargueros de cada tipo\n",
        "df_xP11 = xP11.get_values().to_pandas()\n",
        "print(df_xP11)\n",
        "valor_total_P11 = CargueroP11.get_objective(\"valor_total\").value()\n",
        "print(f\"Valor total: {valor_total_P11:.3f}\")\n",
        "\n",
        "\n"
      ],
      "metadata": {
        "colab": {
          "base_uri": "https://localhost:8080/"
        },
        "outputId": "7dce4c28-5572-4c65-b2e8-f1f3f0d95c12",
        "id": "9cEm9oN-wG40"
      },
      "execution_count": 128,
      "outputs": [
        {
          "output_type": "stream",
          "name": "stdout",
          "text": [
            "    x.val\n",
            "c1    0.4\n",
            "c2    2.0\n",
            "c3    1.0\n",
            "Valor total: 180.000\n"
          ]
        }
      ]
    },
    {
      "cell_type": "markdown",
      "source": [
        "Esta rama solo puede dar lugar a una solución entera con valor objetivo igual o peor a la que ya tenemos, así que la podamos (a no ser que queramos explorar la posibilidad de que existan múltiples soluciones, lo cual no haremos aquí)."
      ],
      "metadata": {
        "id": "-mTbdzzawvR7"
      }
    },
    {
      "cell_type": "code",
      "source": [
        "# Integración en Google Colab\n",
        "from amplpy import AMPL, ampl_notebook\n",
        "\n",
        "CargueroP12 = ampl_notebook(\n",
        "    modules=[\"highs\", \"cplex\"],  # Solvers que queremos instalar\n",
        "    license_uuid=\"d1619e22-974c-4935-ad8a-2554d161c51d\",  # licencia que usaremos (os la he mandado por correo)\n",
        ")  # instanciamos el objeto \"AMPL\" con el que vamos a trabajar"
      ],
      "metadata": {
        "colab": {
          "base_uri": "https://localhost:8080/"
        },
        "outputId": "da3fead6-6c30-498c-b678-a10986571ed5",
        "id": "WGRYj6-txZk7"
      },
      "execution_count": 129,
      "outputs": [
        {
          "output_type": "stream",
          "name": "stdout",
          "text": [
            "Licensed to Bundle #6787.7245 expiring 20250228: 302-Optimization; 408-Operations Research, Prof. Juan Miguel Morales Gonz?lez, University of Malaga.\n"
          ]
        }
      ]
    },
    {
      "cell_type": "code",
      "source": [
        "CargueroP12.eval(r\"\"\"\n",
        "reset;                          # Para limpiar cualquier modelo previo\n",
        "set cont;                       # Conjunto de contenedores\n",
        "param valor {cont} >= 0;        # Valor de la carga en cada contenedor\n",
        "param peso {cont} >= 0;         # Peso de la carga en cada contenedor\n",
        "param n {cont} >= 0;            # Número de cargamentos de valor y peso dados\n",
        "param cap >=0;                  # Capacidad del carguero\n",
        "\n",
        "var x {i in cont}  <= n[i], >=0;  # Número de cargamentos de valor y peso\n",
        "                                         # dados a fletar en el carguero\n",
        "\n",
        "maximize valor_total:\n",
        "    sum{i in cont} valor[i]*x[i];\n",
        "s.t. capacidad:\n",
        "    sum{i in cont} peso[i]*x[i] <= cap;\n",
        "    bounding1: x[\"c2\"] = 1;\n",
        "    bounding2: x[\"c1\"] <= 1;\n",
        "\"\"\")\n"
      ],
      "metadata": {
        "id": "0TVGDkZ9xZk7"
      },
      "execution_count": 130,
      "outputs": []
    },
    {
      "cell_type": "code",
      "source": [
        "CargueroP12.set[\"cont\"] = list(valor.keys())\n",
        "CargueroP12.param[\"valor\"] = {c: v for c, v in valor.items()}\n",
        "CargueroP12.param[\"peso\"] = {c: p for c, p in peso.items()}\n",
        "CargueroP12.param[\"n\"] = {c: num for c, num in n.items()}\n",
        "CargueroP12.param[\"cap\"] = 400"
      ],
      "metadata": {
        "id": "Xt-QKjHDxZk8"
      },
      "execution_count": 131,
      "outputs": []
    },
    {
      "cell_type": "code",
      "source": [
        "CargueroP12.solve(solver=\"cplex\") # Resolvemos con el solver \"cplex\"\n",
        "assert CargueroP4.solve_result == \"solved\"  # Comprobamos que el problema se ha resuelto correctamente"
      ],
      "metadata": {
        "colab": {
          "base_uri": "https://localhost:8080/"
        },
        "outputId": "6b17b917-8702-479f-c388-e42c0fe9c1dd",
        "id": "mc8x7nOdxZk8"
      },
      "execution_count": 132,
      "outputs": [
        {
          "output_type": "stream",
          "name": "stdout",
          "text": [
            "CPLEX 22.1.1: \b\b\b\b\b\b\b\b\b\b\b\b\b\bCPLEX 22.1.1: optimal solution; objective 145\n",
            "0 simplex iterations\n"
          ]
        }
      ]
    },
    {
      "cell_type": "code",
      "source": [
        "xP12 = CargueroP12.get_variable(\"x\") # Número de cargueros de cada tipo\n",
        "df_xP12 = xP12.get_values().to_pandas()\n",
        "print(df_xP12)\n",
        "valor_total_P12 = CargueroP12.get_objective(\"valor_total\").value()\n",
        "print(f\"Valor total: {valor_total_P12:.3f}\")\n",
        "\n",
        "\n"
      ],
      "metadata": {
        "colab": {
          "base_uri": "https://localhost:8080/"
        },
        "outputId": "fc0ba74c-700d-49b5-bc11-6a2533688b95",
        "id": "iltK8SsmxZk8"
      },
      "execution_count": 133,
      "outputs": [
        {
          "output_type": "stream",
          "name": "stdout",
          "text": [
            "    x.val\n",
            "c1      1\n",
            "c2      1\n",
            "c3      1\n",
            "Valor total: 145.000\n"
          ]
        }
      ]
    },
    {
      "cell_type": "markdown",
      "source": [
        "Obtenemos una solución entera factible con valor objetivo < 180. Ya no quedan pues ningún nodo abierto, por lo que la solución óptima de esta versión reducida del problema del carguero es la proporcionada por el problema $P_2$, esto es, $(3,0,1)$."
      ],
      "metadata": {
        "id": "xIJPRGQAx5oM"
      }
    },
    {
      "cell_type": "markdown",
      "source": [
        "Comprobamos que hemos obtenido la solución correcta resolviendo el problema entero original con un solver."
      ],
      "metadata": {
        "id": "Ah3Iod8clZms"
      }
    },
    {
      "cell_type": "code",
      "source": [
        "Carguero.set[\"cont\"] = list(valor.keys())\n",
        "Carguero.param[\"valor\"] = {c: v for c, v in valor.items()}\n",
        "Carguero.param[\"peso\"] = {c: p for c, p in peso.items()}\n",
        "Carguero.param[\"n\"] = {c: num for c, num in n.items()}\n",
        "Carguero.param[\"cap\"] = 400"
      ],
      "metadata": {
        "id": "gaURAt1PmVfr"
      },
      "execution_count": 60,
      "outputs": []
    },
    {
      "cell_type": "code",
      "source": [
        "Carguero.solve(solver=\"cplex\") # Resolvemos con el solver \"cplex\"\n",
        "assert Carguero.solve_result == \"solved\"  # Comprobamos que el problema se ha resuelto correctamente"
      ],
      "metadata": {
        "colab": {
          "base_uri": "https://localhost:8080/"
        },
        "outputId": "ec76bc55-d0d5-4e0d-ac1b-ea844c790b99",
        "id": "pPS_adEll4t8"
      },
      "execution_count": 61,
      "outputs": [
        {
          "output_type": "stream",
          "name": "stdout",
          "text": [
            "CPLEX 22.1.1: \b\b\b\b\b\b\b\b\b\b\b\b\b\bCPLEX 22.1.1: optimal solution; objective 180\n",
            "3 simplex iterations\n"
          ]
        }
      ]
    },
    {
      "cell_type": "code",
      "source": [
        "x = Carguero.get_variable(\"x\") # Número de cargueros de cada tipo\n",
        "df_x = x.get_values().to_pandas()\n",
        "print(df_x)\n",
        "valor_total = Carguero.get_objective(\"valor_total\").value()\n",
        "print(f\"Valor total: {valor_total:.3f}\")\n",
        "\n",
        "\n"
      ],
      "metadata": {
        "colab": {
          "base_uri": "https://localhost:8080/"
        },
        "outputId": "546159ae-aa4a-4efb-fa5c-fa95cfec6a0d",
        "id": "ESkbRvkyl4t9"
      },
      "execution_count": 62,
      "outputs": [
        {
          "output_type": "stream",
          "name": "stdout",
          "text": [
            "    x.val\n",
            "c1      3\n",
            "c2      0\n",
            "c3      1\n",
            "Valor total: 180.000\n"
          ]
        }
      ]
    }
  ]
}