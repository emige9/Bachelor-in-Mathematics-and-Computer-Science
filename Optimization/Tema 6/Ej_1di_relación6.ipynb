{
  "nbformat": 4,
  "nbformat_minor": 0,
  "metadata": {
    "colab": {
      "provenance": []
    },
    "kernelspec": {
      "name": "python3",
      "display_name": "Python 3"
    },
    "language_info": {
      "name": "python"
    }
  },
  "cells": [
    {
      "cell_type": "markdown",
      "source": [
        "## Ejercicio 1d.i de la Relación 6 de problemas (Optimización)"
      ],
      "metadata": {
        "id": "x-vN1ufMFL8K"
      }
    },
    {
      "cell_type": "code",
      "source": [
        "%pip install -q amplpy"
      ],
      "metadata": {
        "id": "UE9aUNWE0UA8",
        "colab": {
          "base_uri": "https://localhost:8080/"
        },
        "outputId": "48c09c6f-8bbc-404c-9930-7420834d4982"
      },
      "execution_count": null,
      "outputs": [
        {
          "output_type": "stream",
          "name": "stdout",
          "text": [
            "\u001b[?25l   \u001b[90m━━━━━━━━━━━━━━━━━━━━━━━━━━━━━━━━━━━━━━━━\u001b[0m \u001b[32m0.0/5.6 MB\u001b[0m \u001b[31m?\u001b[0m eta \u001b[36m-:--:--\u001b[0m\r\u001b[2K   \u001b[91m━\u001b[0m\u001b[90m╺\u001b[0m\u001b[90m━━━━━━━━━━━━━━━━━━━━━━━━━━━━━━━━━━━━━━\u001b[0m \u001b[32m0.2/5.6 MB\u001b[0m \u001b[31m4.7 MB/s\u001b[0m eta \u001b[36m0:00:02\u001b[0m\r\u001b[2K   \u001b[91m━━━━━━━━━\u001b[0m\u001b[91m╸\u001b[0m\u001b[90m━━━━━━━━━━━━━━━━━━━━━━━━━━━━━━\u001b[0m \u001b[32m1.4/5.6 MB\u001b[0m \u001b[31m19.3 MB/s\u001b[0m eta \u001b[36m0:00:01\u001b[0m\r\u001b[2K   \u001b[91m━━━━━━━━━━━━━━━━━━━━━━━━━━━━━━━━━━━━━━━\u001b[0m\u001b[91m╸\u001b[0m \u001b[32m5.6/5.6 MB\u001b[0m \u001b[31m56.8 MB/s\u001b[0m eta \u001b[36m0:00:01\u001b[0m\r\u001b[2K   \u001b[90m━━━━━━━━━━━━━━━━━━━━━━━━━━━━━━━━━━━━━━━━\u001b[0m \u001b[32m5.6/5.6 MB\u001b[0m \u001b[31m42.8 MB/s\u001b[0m eta \u001b[36m0:00:00\u001b[0m\n",
            "\u001b[?25h"
          ]
        }
      ]
    },
    {
      "cell_type": "code",
      "source": [
        "# Integración en Google Colab\n",
        "from amplpy import AMPL, ampl_notebook\n",
        "\n",
        "ampl = ampl_notebook(\n",
        "    modules=[\"highs\", \"cplex\"],  # Solvers que queremos instalar\n",
        "    license_uuid=\"d1619e22-974c-4935-ad8a-2554d161c51d\",  # licencia que usaremos (os la he mandado por correo)\n",
        ")  # instanciamos el objeto \"AMPL\" con el que vamos a trabajar"
      ],
      "metadata": {
        "colab": {
          "base_uri": "https://localhost:8080/"
        },
        "outputId": "4820b413-9f0a-471e-f191-f04c4ba12fba",
        "id": "McbZo4N7AECK"
      },
      "execution_count": null,
      "outputs": [
        {
          "output_type": "stream",
          "name": "stdout",
          "text": [
            "Licensed to Bundle #6787.7245 expiring 20250228: 302-Optimization; 408-Operations Research, Prof. Juan Miguel Morales Gonz?lez, University of Malaga.\n"
          ]
        }
      ]
    },
    {
      "cell_type": "code",
      "source": [
        "ampl.eval(r\"\"\"\n",
        "reset;                    # Para limpiar cualquier modelo previo\n",
        "var x1 integer, >=0;\n",
        "var x2 integer, >=0;\n",
        "\n",
        "maximize FO: 5*x1 +27*x2;\n",
        "s.t. r1: 2*x1+11*x2 <= 59;\n",
        "     r2: x1-x2 <= 7;\n",
        "\"\"\")\n"
      ],
      "metadata": {
        "id": "0l7DPzAxAECL"
      },
      "execution_count": null,
      "outputs": []
    },
    {
      "cell_type": "code",
      "source": [
        "ampl.solve(solver=\"cplex\") # Resolvemos con el solver \"cplex\"\n"
      ],
      "metadata": {
        "colab": {
          "base_uri": "https://localhost:8080/"
        },
        "id": "dSkfymT8gYqw",
        "outputId": "13c6ad61-df68-4fe6-8689-23fbc52dc00f"
      },
      "execution_count": null,
      "outputs": [
        {
          "output_type": "stream",
          "name": "stdout",
          "text": [
            "CPLEX 22.1.1: \b\b\b\b\b\b\b\b\b\b\b\b\b\bCPLEX 22.1.1: optimal solution; objective 145\n",
            "0 simplex iterations\n"
          ]
        }
      ]
    },
    {
      "cell_type": "code",
      "source": [
        "x1 = ampl.get_variable(\"x1\").value()\n",
        "x2 = ampl.get_variable(\"x2\").value()\n",
        "z = ampl.get_objective(\"FO\").value()\n",
        "print(x1)\n",
        "print(x2)\n",
        "print(z)\n"
      ],
      "metadata": {
        "colab": {
          "base_uri": "https://localhost:8080/"
        },
        "id": "bv1xvLQogeGg",
        "outputId": "d72d4aba-7bb1-4140-b8b7-cbf1f6567ce2"
      },
      "execution_count": null,
      "outputs": [
        {
          "output_type": "stream",
          "name": "stdout",
          "text": [
            "2.0\n",
            "5.0\n",
            "145.0\n"
          ]
        }
      ]
    },
    {
      "cell_type": "markdown",
      "source": [
        "# Problema relajado:"
      ],
      "metadata": {
        "id": "csvJjNqTHYIj"
      }
    },
    {
      "cell_type": "code",
      "source": [
        "Pr = ampl_notebook(\n",
        "    modules=[\"highs\", \"cplex\"],  # Solvers que queremos instalar\n",
        "    license_uuid=\"d1619e22-974c-4935-ad8a-2554d161c51d\",  # licencia que usaremos (os la he mandado por correo)\n",
        ")  # instanciamos el objeto \"AMPL\" con el que vamos a trabajar"
      ],
      "metadata": {
        "colab": {
          "base_uri": "https://localhost:8080/"
        },
        "outputId": "7001a1b5-6784-4eda-9d61-b767ccd4f196",
        "id": "GBoMjxs4Hm56"
      },
      "execution_count": null,
      "outputs": [
        {
          "output_type": "stream",
          "name": "stdout",
          "text": [
            "Licensed to Bundle #6787.7245 expiring 20250228: 302-Optimization; 408-Operations Research, Prof. Juan Miguel Morales Gonz?lez, University of Malaga.\n"
          ]
        }
      ]
    },
    {
      "cell_type": "code",
      "source": [
        "Pr.eval(r\"\"\"\n",
        "reset;                    # Para limpiar cualquier modelo previo\n",
        "var x1, >=0;\n",
        "var x2, >=0;\n",
        "\n",
        "maximize FO: 5*x1 +27*x2;\n",
        "s.t. r1: 2*x1+11*x2 <= 59;\n",
        "     r2: x1-x2 <= 7;\n",
        "\"\"\")\n"
      ],
      "metadata": {
        "id": "X9WsdTpuHdgr"
      },
      "execution_count": null,
      "outputs": []
    },
    {
      "cell_type": "code",
      "source": [
        "Pr.solve(solver=\"cplex\") # Resolvemos con el solver \"cplex\"\n"
      ],
      "metadata": {
        "colab": {
          "base_uri": "https://localhost:8080/"
        },
        "outputId": "32d634c9-d896-4be4-e4eb-cc9f11bbe481",
        "id": "kzWemEZ-Hs_j"
      },
      "execution_count": null,
      "outputs": [
        {
          "output_type": "stream",
          "name": "stdout",
          "text": [
            "CPLEX 22.1.1: \b\b\b\b\b\b\b\b\b\b\b\b\b\bCPLEX 22.1.1: optimal solution; objective 145.7692308\n",
            "0 simplex iterations\n"
          ]
        }
      ]
    },
    {
      "cell_type": "code",
      "source": [
        "x1 = Pr.get_variable(\"x1\").value()\n",
        "x2 = Pr.get_variable(\"x2\").value()\n",
        "z = Pr.get_objective(\"FO\").value()\n",
        "print(x1)\n",
        "print(x2)\n",
        "print(z)\n"
      ],
      "metadata": {
        "colab": {
          "base_uri": "https://localhost:8080/"
        },
        "outputId": "1d5bf41d-c66f-45cb-a7f2-70a75f4e5f87",
        "id": "8KkVhku6Hs_j"
      },
      "execution_count": null,
      "outputs": [
        {
          "output_type": "stream",
          "name": "stdout",
          "text": [
            "10.46153846153846\n",
            "3.461538461538462\n",
            "145.76923076923077\n"
          ]
        }
      ]
    },
    {
      "cell_type": "code",
      "source": [
        "P1 = ampl_notebook(\n",
        "    modules=[\"highs\", \"cplex\"],  # Solvers que queremos instalar\n",
        "    license_uuid=\"d1619e22-974c-4935-ad8a-2554d161c51d\",  # licencia que usaremos (os la he mandado por correo)\n",
        ")  # instanciamos el objeto \"AMPL\" con el que vamos a trabajar"
      ],
      "metadata": {
        "colab": {
          "base_uri": "https://localhost:8080/"
        },
        "outputId": "d29f34d0-4f2f-4a44-e607-dadecb714a49",
        "id": "v0r7q7soH-Oj"
      },
      "execution_count": null,
      "outputs": [
        {
          "output_type": "stream",
          "name": "stdout",
          "text": [
            "Licensed to Bundle #6787.7245 expiring 20250228: 302-Optimization; 408-Operations Research, Prof. Juan Miguel Morales Gonz?lez, University of Malaga.\n"
          ]
        }
      ]
    },
    {
      "cell_type": "code",
      "source": [
        "P1.eval(r\"\"\"\n",
        "reset;                    # Para limpiar cualquier modelo previo\n",
        "var x1, >=0;\n",
        "var x2, >=0;\n",
        "\n",
        "maximize FO: 5*x1 +27*x2;\n",
        "s.t. r1: 2*x1+11*x2 <= 59;\n",
        "     r2: x1-x2 <= 7;\n",
        "     r3: x1 <= 10;\n",
        "\"\"\")\n"
      ],
      "metadata": {
        "id": "n3CyG3jiH-Oj"
      },
      "execution_count": null,
      "outputs": []
    },
    {
      "cell_type": "code",
      "source": [
        "P1.solve(solver=\"cplex\") # Resolvemos con el solver \"cplex\"\n"
      ],
      "metadata": {
        "colab": {
          "base_uri": "https://localhost:8080/"
        },
        "outputId": "07d1a271-6651-4fad-d5d7-5e669ef15040",
        "id": "5LgELEkvH-Oj"
      },
      "execution_count": null,
      "outputs": [
        {
          "output_type": "stream",
          "name": "stdout",
          "text": [
            "CPLEX 22.1.1: \b\b\b\b\b\b\b\b\b\b\b\b\b\bCPLEX 22.1.1: optimal solution; objective 145.7272727\n",
            "0 simplex iterations\n"
          ]
        }
      ]
    },
    {
      "cell_type": "code",
      "source": [
        "x1 = P1.get_variable(\"x1\").value()\n",
        "x2 = P1.get_variable(\"x2\").value()\n",
        "z = P1.get_objective(\"FO\").value()\n",
        "print(x1)\n",
        "print(x2)\n",
        "print(z)\n"
      ],
      "metadata": {
        "colab": {
          "base_uri": "https://localhost:8080/"
        },
        "outputId": "324ed192-2feb-4b4d-a6d2-a68507c3946a",
        "id": "VU9jJnbuH-Oj"
      },
      "execution_count": null,
      "outputs": [
        {
          "output_type": "stream",
          "name": "stdout",
          "text": [
            "10.0\n",
            "3.545454545454545\n",
            "145.72727272727272\n"
          ]
        }
      ]
    },
    {
      "cell_type": "code",
      "source": [
        "P2 = ampl_notebook(\n",
        "    modules=[\"highs\", \"cplex\"],  # Solvers que queremos instalar\n",
        "    license_uuid=\"d1619e22-974c-4935-ad8a-2554d161c51d\",  # licencia que usaremos (os la he mandado por correo)\n",
        ")  # instanciamos el objeto \"AMPL\" con el que vamos a trabajar"
      ],
      "metadata": {
        "colab": {
          "base_uri": "https://localhost:8080/"
        },
        "outputId": "1901f940-d991-4ace-97a5-4b1f971a0eb9",
        "id": "6PHL9C44IRlD"
      },
      "execution_count": null,
      "outputs": [
        {
          "output_type": "stream",
          "name": "stdout",
          "text": [
            "Licensed to Bundle #6787.7245 expiring 20250228: 302-Optimization; 408-Operations Research, Prof. Juan Miguel Morales Gonz?lez, University of Malaga.\n"
          ]
        }
      ]
    },
    {
      "cell_type": "code",
      "source": [
        "P2.eval(r\"\"\"\n",
        "reset;                    # Para limpiar cualquier modelo previo\n",
        "var x1, >=0;\n",
        "var x2, >=0;\n",
        "\n",
        "maximize FO: 5*x1 +27*x2;\n",
        "s.t. r1: 2*x1+11*x2 <= 59;\n",
        "     r2: x1-x2 <= 7;\n",
        "     r3: x1 >= 11;\n",
        "\"\"\")\n"
      ],
      "metadata": {
        "id": "v0wiYApBIRlD"
      },
      "execution_count": null,
      "outputs": []
    },
    {
      "cell_type": "code",
      "source": [
        "P2.solve(solver=\"cplex\") # Resolvemos con el solver \"cplex\"\n"
      ],
      "metadata": {
        "colab": {
          "base_uri": "https://localhost:8080/"
        },
        "outputId": "901f8463-88bf-48ce-9f65-8bb4743f2aa2",
        "id": "2yhtNg7AIRlD"
      },
      "execution_count": null,
      "outputs": [
        {
          "output_type": "stream",
          "name": "stdout",
          "text": [
            "Warning:\n",
            "\tpresolve: constraint r1 cannot hold:\n",
            "\t\tbody <= 59 cannot be >= 66; difference = -7\n"
          ]
        }
      ]
    },
    {
      "cell_type": "code",
      "source": [
        "x1 = P2.get_variable(\"x1\").value()\n",
        "x2 = P2.get_variable(\"x2\").value()\n",
        "z = P2.get_objective(\"FO\").value()\n",
        "print(x1)\n",
        "print(x2)\n",
        "print(z)\n"
      ],
      "metadata": {
        "colab": {
          "base_uri": "https://localhost:8080/"
        },
        "outputId": "520e4962-6531-434f-e810-9ccc6ddc913d",
        "id": "6N-vw5o3IRlD"
      },
      "execution_count": null,
      "outputs": [
        {
          "output_type": "stream",
          "name": "stdout",
          "text": [
            "0.0\n",
            "0.0\n",
            "0.0\n"
          ]
        }
      ]
    },
    {
      "cell_type": "code",
      "source": [
        "P3 = ampl_notebook(\n",
        "    modules=[\"highs\", \"cplex\"],  # Solvers que queremos instalar\n",
        "    license_uuid=\"d1619e22-974c-4935-ad8a-2554d161c51d\",  # licencia que usaremos (os la he mandado por correo)\n",
        ")  # instanciamos el objeto \"AMPL\" con el que vamos a trabajar"
      ],
      "metadata": {
        "colab": {
          "base_uri": "https://localhost:8080/"
        },
        "outputId": "de607e04-6ea5-435a-af17-aff19da1a0a1",
        "id": "ytcg6PKfIsv0"
      },
      "execution_count": null,
      "outputs": [
        {
          "output_type": "stream",
          "name": "stdout",
          "text": [
            "Licensed to Bundle #6787.7245 expiring 20250228: 302-Optimization; 408-Operations Research, Prof. Juan Miguel Morales Gonz?lez, University of Malaga.\n"
          ]
        }
      ]
    },
    {
      "cell_type": "code",
      "source": [
        "P3.eval(r\"\"\"\n",
        "reset;                    # Para limpiar cualquier modelo previo\n",
        "var x1, >=0;\n",
        "var x2, >=0;\n",
        "\n",
        "maximize FO: 5*x1 +27*x2;\n",
        "s.t. r1: 2*x1+11*x2 <= 59;\n",
        "     r2: x1-x2 <= 7;\n",
        "     r3: x1 <= 10;\n",
        "     r4: x2 <= 3;\n",
        "\"\"\")\n"
      ],
      "metadata": {
        "id": "xiKrGAnnIsv0"
      },
      "execution_count": null,
      "outputs": []
    },
    {
      "cell_type": "code",
      "source": [
        "P3.solve(solver=\"cplex\") # Resolvemos con el solver \"cplex\"\n"
      ],
      "metadata": {
        "colab": {
          "base_uri": "https://localhost:8080/"
        },
        "outputId": "b72cfe19-0782-4265-a2aa-a4b2f01d438a",
        "id": "Ql4k36YvIsv0"
      },
      "execution_count": null,
      "outputs": [
        {
          "output_type": "stream",
          "name": "stdout",
          "text": [
            "CPLEX 22.1.1: \b\b\b\b\b\b\b\b\b\b\b\b\b\bCPLEX 22.1.1: optimal solution; objective 131\n",
            "0 simplex iterations\n"
          ]
        }
      ]
    },
    {
      "cell_type": "code",
      "source": [
        "x1 = P3.get_variable(\"x1\").value()\n",
        "x2 = P3.get_variable(\"x2\").value()\n",
        "z = P3.get_objective(\"FO\").value()\n",
        "print(x1)\n",
        "print(x2)\n",
        "print(z)\n"
      ],
      "metadata": {
        "colab": {
          "base_uri": "https://localhost:8080/"
        },
        "outputId": "abff99f0-72e8-4b2f-a14b-03c8b1bd64df",
        "id": "PpeQXcprIsv0"
      },
      "execution_count": null,
      "outputs": [
        {
          "output_type": "stream",
          "name": "stdout",
          "text": [
            "10.0\n",
            "3.0\n",
            "131.0\n"
          ]
        }
      ]
    },
    {
      "cell_type": "code",
      "source": [
        "P4 = ampl_notebook(\n",
        "    modules=[\"highs\", \"cplex\"],  # Solvers que queremos instalar\n",
        "    license_uuid=\"d1619e22-974c-4935-ad8a-2554d161c51d\",  # licencia que usaremos (os la he mandado por correo)\n",
        ")  # instanciamos el objeto \"AMPL\" con el que vamos a trabajar"
      ],
      "metadata": {
        "colab": {
          "base_uri": "https://localhost:8080/"
        },
        "outputId": "cd824731-062f-46d4-ba0f-633f4d7b2605",
        "id": "A8w8ZVZhI9fK"
      },
      "execution_count": null,
      "outputs": [
        {
          "output_type": "stream",
          "name": "stdout",
          "text": [
            "Licensed to Bundle #6787.7245 expiring 20250228: 302-Optimization; 408-Operations Research, Prof. Juan Miguel Morales Gonz?lez, University of Malaga.\n"
          ]
        }
      ]
    },
    {
      "cell_type": "code",
      "source": [
        "P4.eval(r\"\"\"\n",
        "reset;                    # Para limpiar cualquier modelo previo\n",
        "var x1, >=0;\n",
        "var x2, >=0;\n",
        "\n",
        "maximize FO: 5*x1 +27*x2;\n",
        "s.t. r1: 2*x1+11*x2 <= 59;\n",
        "     r2: x1-x2 <= 7;\n",
        "     r3: x1 <= 10;\n",
        "     r4: x2 >= 4;\n",
        "\"\"\")\n"
      ],
      "metadata": {
        "id": "FUhpsIBoI9fK"
      },
      "execution_count": null,
      "outputs": []
    },
    {
      "cell_type": "code",
      "source": [
        "P4.solve(solver=\"cplex\") # Resolvemos con el solver \"cplex\"\n"
      ],
      "metadata": {
        "colab": {
          "base_uri": "https://localhost:8080/"
        },
        "outputId": "915289d3-1762-4dd3-f20c-f26a6098e311",
        "id": "nFgh3XGLI9fK"
      },
      "execution_count": null,
      "outputs": [
        {
          "output_type": "stream",
          "name": "stdout",
          "text": [
            "CPLEX 22.1.1: \b\b\b\b\b\b\b\b\b\b\b\b\b\bCPLEX 22.1.1: optimal solution; objective 145.5\n",
            "0 simplex iterations\n"
          ]
        }
      ]
    },
    {
      "cell_type": "code",
      "source": [
        "x1 = P4.get_variable(\"x1\").value()\n",
        "x2 = P4.get_variable(\"x2\").value()\n",
        "z = P4.get_objective(\"FO\").value()\n",
        "print(x1)\n",
        "print(x2)\n",
        "print(z)\n"
      ],
      "metadata": {
        "colab": {
          "base_uri": "https://localhost:8080/"
        },
        "outputId": "e10d91ff-3680-4aef-ffaf-5b7ed5f68c70",
        "id": "K-grCZACI9fK"
      },
      "execution_count": null,
      "outputs": [
        {
          "output_type": "stream",
          "name": "stdout",
          "text": [
            "7.5\n",
            "4.0\n",
            "145.5\n"
          ]
        }
      ]
    },
    {
      "cell_type": "code",
      "source": [
        "P5 = ampl_notebook(\n",
        "    modules=[\"highs\", \"cplex\"],  # Solvers que queremos instalar\n",
        "    license_uuid=\"d1619e22-974c-4935-ad8a-2554d161c51d\",  # licencia que usaremos (os la he mandado por correo)\n",
        ")  # instanciamos el objeto \"AMPL\" con el que vamos a trabajar"
      ],
      "metadata": {
        "colab": {
          "base_uri": "https://localhost:8080/"
        },
        "outputId": "85e9ffd0-2e1e-4327-836e-cacecbb365ef",
        "id": "Hwibd4_IKqSa"
      },
      "execution_count": null,
      "outputs": [
        {
          "output_type": "stream",
          "name": "stdout",
          "text": [
            "Licensed to Bundle #6787.7245 expiring 20250228: 302-Optimization; 408-Operations Research, Prof. Juan Miguel Morales Gonz?lez, University of Malaga.\n"
          ]
        }
      ]
    },
    {
      "cell_type": "code",
      "source": [
        "P5.eval(r\"\"\"\n",
        "reset;                    # Para limpiar cualquier modelo previo\n",
        "var x1, >=0;\n",
        "var x2, >=0;\n",
        "\n",
        "maximize FO: 5*x1 +27*x2;\n",
        "s.t. r1: 2*x1+11*x2 <= 59;\n",
        "     r2: x1-x2 <= 7;\n",
        "     r3: x1 <= 7;\n",
        "     r4: x2 >= 4;\n",
        "\"\"\")\n"
      ],
      "metadata": {
        "id": "AriTw32MKqSa"
      },
      "execution_count": null,
      "outputs": []
    },
    {
      "cell_type": "code",
      "source": [
        "P5.solve(solver=\"cplex\") # Resolvemos con el solver \"cplex\"\n"
      ],
      "metadata": {
        "colab": {
          "base_uri": "https://localhost:8080/"
        },
        "outputId": "82fff4a0-9a2b-45d4-ed0b-01cf2a65857e",
        "id": "7hXqslHZKqSa"
      },
      "execution_count": null,
      "outputs": [
        {
          "output_type": "stream",
          "name": "stdout",
          "text": [
            "CPLEX 22.1.1: \b\b\b\b\b\b\b\b\b\b\b\b\b\bCPLEX 22.1.1: optimal solution; objective 145.4545455\n",
            "0 simplex iterations\n"
          ]
        }
      ]
    },
    {
      "cell_type": "code",
      "source": [
        "x1 = P5.get_variable(\"x1\").value()\n",
        "x2 = P5.get_variable(\"x2\").value()\n",
        "z = P5.get_objective(\"FO\").value()\n",
        "print(x1)\n",
        "print(x2)\n",
        "print(z)\n"
      ],
      "metadata": {
        "colab": {
          "base_uri": "https://localhost:8080/"
        },
        "outputId": "55df82bf-f888-4c80-c97b-faa27eef3ffa",
        "id": "JVcy_dq8KqSa"
      },
      "execution_count": null,
      "outputs": [
        {
          "output_type": "stream",
          "name": "stdout",
          "text": [
            "7.0\n",
            "4.090909090909091\n",
            "145.45454545454544\n"
          ]
        }
      ]
    },
    {
      "cell_type": "code",
      "source": [],
      "metadata": {
        "id": "EqEuq3PrLD5p"
      },
      "execution_count": null,
      "outputs": []
    },
    {
      "cell_type": "code",
      "source": [
        "P6 = ampl_notebook(\n",
        "    modules=[\"highs\", \"cplex\"],  # Solvers que queremos instalar\n",
        "    license_uuid=\"d1619e22-974c-4935-ad8a-2554d161c51d\",  # licencia que usaremos (os la he mandado por correo)\n",
        ")  # instanciamos el objeto \"AMPL\" con el que vamos a trabajar"
      ],
      "metadata": {
        "colab": {
          "base_uri": "https://localhost:8080/"
        },
        "outputId": "87c35295-c459-4f44-bca4-03716d4303df",
        "id": "UqvetS7ULENT"
      },
      "execution_count": null,
      "outputs": [
        {
          "output_type": "stream",
          "name": "stdout",
          "text": [
            "Licensed to Bundle #6787.7245 expiring 20250228: 302-Optimization; 408-Operations Research, Prof. Juan Miguel Morales Gonz?lez, University of Malaga.\n"
          ]
        }
      ]
    },
    {
      "cell_type": "code",
      "source": [
        "P6.eval(r\"\"\"\n",
        "reset;                    # Para limpiar cualquier modelo previo\n",
        "var x1, >=0;\n",
        "var x2, >=0;\n",
        "\n",
        "maximize FO: 5*x1 +27*x2;\n",
        "s.t. r1: 2*x1+11*x2 <= 59;\n",
        "     r2: x1-x2 <= 7;\n",
        "     r3: x1 <= 10;\n",
        "     r4: x2 >= 4;\n",
        "     r5: x1 >= 8;\n",
        "\"\"\")\n"
      ],
      "metadata": {
        "id": "usYNCB7xLENT"
      },
      "execution_count": null,
      "outputs": []
    },
    {
      "cell_type": "code",
      "source": [
        "P6.solve(solver=\"cplex\") # Resolvemos con el solver \"cplex\"\n"
      ],
      "metadata": {
        "colab": {
          "base_uri": "https://localhost:8080/"
        },
        "outputId": "ab552600-8d2e-449c-e352-eaa39cc887db",
        "id": "hB9cEdJGLENT"
      },
      "execution_count": null,
      "outputs": [
        {
          "output_type": "stream",
          "name": "stdout",
          "text": [
            "Warning:\n",
            "\tpresolve: constraint r1 cannot hold:\n",
            "\t\tbody <= 59 cannot be >= 60; difference = -1\n"
          ]
        }
      ]
    },
    {
      "cell_type": "code",
      "source": [
        "x1 = P6.get_variable(\"x1\").value()\n",
        "x2 = P6.get_variable(\"x2\").value()\n",
        "z = P6.get_objective(\"FO\").value()\n",
        "print(x1)\n",
        "print(x2)\n",
        "print(z)\n"
      ],
      "metadata": {
        "colab": {
          "base_uri": "https://localhost:8080/"
        },
        "outputId": "80e39601-6d7a-4e2f-eae0-1175fa85ad90",
        "id": "c5u_zHhDLENU"
      },
      "execution_count": null,
      "outputs": [
        {
          "output_type": "stream",
          "name": "stdout",
          "text": [
            "7.0\n",
            "4.090909090909091\n",
            "145.45454545454544\n"
          ]
        }
      ]
    },
    {
      "cell_type": "code",
      "source": [],
      "metadata": {
        "id": "-RQDTXWCLdax"
      },
      "execution_count": null,
      "outputs": []
    },
    {
      "cell_type": "code",
      "source": [
        "P7 = ampl_notebook(\n",
        "    modules=[\"highs\", \"cplex\"],  # Solvers que queremos instalar\n",
        "    license_uuid=\"d1619e22-974c-4935-ad8a-2554d161c51d\",  # licencia que usaremos (os la he mandado por correo)\n",
        ")  # instanciamos el objeto \"AMPL\" con el que vamos a trabajar"
      ],
      "metadata": {
        "colab": {
          "base_uri": "https://localhost:8080/"
        },
        "outputId": "6ade8116-3654-4604-f286-be228d1ab513",
        "id": "4DlzRUGbLdqJ"
      },
      "execution_count": null,
      "outputs": [
        {
          "output_type": "stream",
          "name": "stdout",
          "text": [
            "Licensed to Bundle #6787.7245 expiring 20250228: 302-Optimization; 408-Operations Research, Prof. Juan Miguel Morales Gonz?lez, University of Malaga.\n"
          ]
        }
      ]
    },
    {
      "cell_type": "code",
      "source": [
        "P7.eval(r\"\"\"\n",
        "reset;                    # Para limpiar cualquier modelo previo\n",
        "var x1, >=0;\n",
        "var x2, >=0;\n",
        "\n",
        "maximize FO: 5*x1 +27*x2;\n",
        "s.t. r1: 2*x1+11*x2 <= 59;\n",
        "     r2: x1-x2 <= 7;\n",
        "     r3: x1 <= 7;\n",
        "     r4: x2 >= 4;\n",
        "     r5: x2 <= 4;\n",
        "\"\"\")\n"
      ],
      "metadata": {
        "id": "aNjajjcHLdqJ"
      },
      "execution_count": null,
      "outputs": []
    },
    {
      "cell_type": "code",
      "source": [
        "P7.solve(solver=\"cplex\") # Resolvemos con el solver \"cplex\"\n"
      ],
      "metadata": {
        "colab": {
          "base_uri": "https://localhost:8080/"
        },
        "outputId": "98d33025-8fd9-4d20-9864-f82f4ee23dff",
        "id": "26ezpw_uLdqJ"
      },
      "execution_count": null,
      "outputs": [
        {
          "output_type": "stream",
          "name": "stdout",
          "text": [
            "CPLEX 22.1.1: \b\b\b\b\b\b\b\b\b\b\b\b\b\bCPLEX 22.1.1: optimal solution; objective 143\n",
            "0 simplex iterations\n"
          ]
        }
      ]
    },
    {
      "cell_type": "code",
      "source": [
        "x1 = P7.get_variable(\"x1\").value()\n",
        "x2 = P7.get_variable(\"x2\").value()\n",
        "z = P7.get_objective(\"FO\").value()\n",
        "print(x1)\n",
        "print(x2)\n",
        "print(z)\n"
      ],
      "metadata": {
        "colab": {
          "base_uri": "https://localhost:8080/"
        },
        "outputId": "4a4b1253-e115-4030-e2f7-566fae1bade1",
        "id": "PEwWwEF6LdqJ"
      },
      "execution_count": null,
      "outputs": [
        {
          "output_type": "stream",
          "name": "stdout",
          "text": [
            "7.0\n",
            "4.0\n",
            "143.0\n"
          ]
        }
      ]
    },
    {
      "cell_type": "code",
      "source": [],
      "metadata": {
        "id": "VSWkZBORLyPJ"
      },
      "execution_count": null,
      "outputs": []
    },
    {
      "cell_type": "code",
      "source": [
        "P8 = ampl_notebook(\n",
        "    modules=[\"highs\", \"cplex\"],  # Solvers que queremos instalar\n",
        "    license_uuid=\"d1619e22-974c-4935-ad8a-2554d161c51d\",  # licencia que usaremos (os la he mandado por correo)\n",
        ")  # instanciamos el objeto \"AMPL\" con el que vamos a trabajar"
      ],
      "metadata": {
        "colab": {
          "base_uri": "https://localhost:8080/"
        },
        "outputId": "ca306bb9-0741-445b-98c6-7467f95ce136",
        "id": "GWaa1ltiLyjL"
      },
      "execution_count": null,
      "outputs": [
        {
          "output_type": "stream",
          "name": "stdout",
          "text": [
            "Licensed to Bundle #6787.7245 expiring 20250228: 302-Optimization; 408-Operations Research, Prof. Juan Miguel Morales Gonz?lez, University of Malaga.\n"
          ]
        }
      ]
    },
    {
      "cell_type": "code",
      "source": [
        "P8.eval(r\"\"\"\n",
        "reset;                    # Para limpiar cualquier modelo previo\n",
        "var x1, >=0;\n",
        "var x2, >=0;\n",
        "\n",
        "maximize FO: 5*x1 +27*x2;\n",
        "s.t. r1: 2*x1+11*x2 <= 59;\n",
        "     r2: x1-x2 <= 7;\n",
        "     r3: x1 <= 7;\n",
        "     r4: x2 >= 4;\n",
        "     r5: x2 >= 5;\n",
        "\"\"\")\n"
      ],
      "metadata": {
        "id": "iiEnUlR3LyjL"
      },
      "execution_count": null,
      "outputs": []
    },
    {
      "cell_type": "code",
      "source": [
        "P8.solve(solver=\"cplex\") # Resolvemos con el solver \"cplex\"\n"
      ],
      "metadata": {
        "colab": {
          "base_uri": "https://localhost:8080/"
        },
        "outputId": "d2dce0e7-74a5-468f-a4e1-a3a76821a6d8",
        "id": "3SPiSsjlLyjL"
      },
      "execution_count": null,
      "outputs": [
        {
          "output_type": "stream",
          "name": "stdout",
          "text": [
            "CPLEX 22.1.1: \b\b\b\b\b\b\b\b\b\b\b\b\b\bCPLEX 22.1.1: optimal solution; objective 145\n",
            "0 simplex iterations\n"
          ]
        }
      ]
    },
    {
      "cell_type": "code",
      "source": [
        "x1 = P8.get_variable(\"x1\").value()\n",
        "x2 = P8.get_variable(\"x2\").value()\n",
        "z = P8.get_objective(\"FO\").value()\n",
        "print(x1)\n",
        "print(x2)\n",
        "print(z)\n"
      ],
      "metadata": {
        "colab": {
          "base_uri": "https://localhost:8080/"
        },
        "outputId": "78de92ee-fa34-429b-dcb0-f5bb2ce095fb",
        "id": "QnllWu_xLyjL"
      },
      "execution_count": null,
      "outputs": [
        {
          "output_type": "stream",
          "name": "stdout",
          "text": [
            "2.0\n",
            "5.0\n",
            "145.0\n"
          ]
        }
      ]
    }
  ]
}