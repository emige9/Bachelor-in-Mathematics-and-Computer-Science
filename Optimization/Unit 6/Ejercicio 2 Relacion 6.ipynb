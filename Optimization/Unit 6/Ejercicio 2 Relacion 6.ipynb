{
  "nbformat": 4,
  "nbformat_minor": 0,
  "metadata": {
    "colab": {
      "provenance": []
    },
    "kernelspec": {
      "name": "python3",
      "display_name": "Python 3"
    },
    "language_info": {
      "name": "python"
    }
  },
  "cells": [
    {
      "cell_type": "markdown",
      "source": [
        "\n",
        "\\begin{array}{crll}Max & -3x_1+7x_2+12x_3 && & \\\\\n",
        "s.a. &-3x_1+6x_2+8x_3 \\leq &12&  \\\\\n",
        " &6x_1+-3x_2+7x_3 \\leq &8& \\\\\n",
        "  &2x_1+3x_2+3x_3 \\leq &25& \\\\\n",
        " & x_1,x_3\\in &\\mathbb{Z}^+&\\\\\n",
        " & x_2\\geq &0\n",
        " \\end{array}"
      ],
      "metadata": {
        "id": "zizLdCllzjJq"
      }
    },
    {
      "cell_type": "code",
      "execution_count": 2,
      "metadata": {
        "id": "iAdM5SbOHzo8",
        "colab": {
          "base_uri": "https://localhost:8080/"
        },
        "outputId": "031df643-e6a1-4769-f663-afe2e8f58d31"
      },
      "outputs": [
        {
          "output_type": "stream",
          "name": "stdout",
          "text": [
            "\u001b[2K   \u001b[90m━━━━━━━━━━━━━━━━━━━━━━━━━━━━━━━━━━━━━━━━\u001b[0m \u001b[32m5.6/5.6 MB\u001b[0m \u001b[31m26.5 MB/s\u001b[0m eta \u001b[36m0:00:00\u001b[0m\n",
            "\u001b[?25h"
          ]
        }
      ],
      "source": [
        "%pip install -q amplpy"
      ]
    },
    {
      "cell_type": "code",
      "source": [
        "# Integración en Google Colab\n",
        "from amplpy import AMPL, ampl_notebook\n",
        "\n",
        "PR= ampl_notebook(\n",
        "    modules=[\"highs\", \"cplex\"],  # Solvers que queremos instalar\n",
        "    license_uuid=\"d1619e22-974c-4935-ad8a-2554d161c51d\",  # licencia que usaremos (os la he mandado por correo)\n",
        ")  # instanciamos el objeto \"AMPL\" con el que vamos a trabajar"
      ],
      "metadata": {
        "id": "oowwu6xkTUsy",
        "colab": {
          "base_uri": "https://localhost:8080/"
        },
        "outputId": "cadcfd94-fba3-4cf2-dd2b-f161ac168fa4"
      },
      "execution_count": 3,
      "outputs": [
        {
          "output_type": "stream",
          "name": "stdout",
          "text": [
            "Licensed to Bundle #6787.7245 expiring 20250228: 302-Optimization; 408-Operations Research, Prof. Juan Miguel Morales Gonz?lez, University of Malaga.\n"
          ]
        }
      ]
    },
    {
      "cell_type": "markdown",
      "source": [
        "**Modelado**"
      ],
      "metadata": {
        "id": "Xlt9WwOCTg-V"
      }
    },
    {
      "cell_type": "code",
      "source": [
        "# @title PR\n",
        "\n",
        "PR.eval(r\"\"\"\n",
        "reset;\n",
        "var x_1 >=0 ;\n",
        "var x_2 >=0 ;\n",
        "var x_3 >=0 ;\n",
        "\n",
        "\n",
        "maximize FO:-3*x_1+7*x_2+12*x_3;\n",
        "\n",
        "s.t. res1:\n",
        " (-3)*x_1+6*x_2+8*x_3 <=12;\n",
        "     res2:\n",
        "  6*x_1+(-3)*x_2+7*x_3<=8;\n",
        "     res3:\n",
        "  2*x_1+3*x_2+3*x_3<=25;\n",
        "\"\"\")\n",
        "PR.solve(solver=\"cplex\") # Resolvemos con el solver \"cplex\"\n",
        "\n",
        "print(\"\\n\") #Salto de linea\n",
        "\n",
        "import pandas as pd\n",
        "\n",
        "# Obtener los valores de las variables y del objetivo\n",
        "x1 = PR.get_variable(\"x_1\").value()\n",
        "x2 = PR.get_variable(\"x_2\").value()\n",
        "x3 = PR.get_variable(\"x_3\").value()\n",
        "z = PR.get_objective(\"FO\").value()\n",
        "\n",
        "# Crear un DataFrame con los resultados\n",
        "data = {\n",
        "    'Variable': ['x1', 'x2','x3', 'FO'],\n",
        "    'Valor': [x1, x2,x3, z]\n",
        "}\n",
        "\n",
        "df_resultados = pd.DataFrame(data)\n",
        "\n",
        "# Imprimir la tabla\n",
        "print(df_resultados)"
      ],
      "metadata": {
        "id": "pmV3EgcwTV8d",
        "colab": {
          "base_uri": "https://localhost:8080/"
        },
        "cellView": "form",
        "outputId": "3336acbd-5630-46ec-9f6b-58efd8439207"
      },
      "execution_count": 13,
      "outputs": [
        {
          "output_type": "stream",
          "name": "stdout",
          "text": [
            "CPLEX 22.1.1: \b\b\b\b\b\b\b\b\b\b\b\b\b\bCPLEX 22.1.1: optimal solution; objective 17.39393939\n",
            "3 simplex iterations\n",
            "\n",
            "\n",
            "  Variable      Valor\n",
            "0       x1   0.000000\n",
            "1       x2   0.303030\n",
            "2       x3   1.272727\n",
            "3       FO  17.393939\n"
          ]
        }
      ]
    },
    {
      "cell_type": "code",
      "source": [
        "!pip install networkx"
      ],
      "metadata": {
        "id": "FBXinkIb_ATz"
      },
      "execution_count": null,
      "outputs": []
    },
    {
      "cell_type": "code",
      "source": [
        "# @title Grafo\n",
        "import matplotlib.pyplot as plt\n",
        "import networkx as nx\n",
        "\n",
        "# Crear el gráfico dirigido\n",
        "G = nx.DiGraph()\n",
        "\n",
        "# Añadir nodos con datos (Nombre del problema, solución, Valor objetivo) y nivel (subset)\n",
        "G.add_node(1, label='PR\\nSolución: (0,0.30,1.27)\\nFO  : 17.39', subset=0)\n",
        "G.add_node(2, label='P1\\nSolución:Infactible \\nValor:\\n P.Infactibilidad ', subset=1)\n",
        "G.add_node(3, label='P2\\nSolución: (0.666,1,1)\\nFO: 17', subset=1)\n",
        "G.add_node(6, label='p3\\nSolución: (1,1.348,0.86\\nFO: 16.803030', subset=2)\n",
        "G.add_node(7, label='P4\\nSolución: (0,0.666,1)\\nFO: 16.666667\\n P.Integridad', subset=2)\n",
        "G.add_node(8, label='P5\\nSolución: (3.11, 3.55,0.\\nValor: 15.555556 \\n P.Acotación', subset=3)\n",
        "G.add_node(9, label='P6\\nSolución:Infactible \\nValor:\\n P.Infactibilidad ', subset=3)\n",
        "\n",
        "# Añadir aristas (conexiones entre los nodos)\n",
        "G.add_edges_from([(1, 2), (1, 3), (3, 6), (3, 7),(6,8),(6,9)])\n",
        "\n",
        "# Crear la disposición de los nodos\n",
        "pos = nx.multipartite_layout(G, subset_key='subset')\n",
        "\n",
        "# Dibujar el gráfico\n",
        "plt.figure(figsize=(10, 8))\n",
        "nx.draw(G, pos, with_labels=False, node_size=0, font_size=10, font_color=\"black\", font_weight=\"bold\", edge_color=\"grey\")\n",
        "\n",
        "# Añadir los nodos como rectángulos con etiquetas personalizadas\n",
        "ax = plt.gca()\n",
        "for node, (x, y) in pos.items():\n",
        "    label = G.nodes[node]['label']\n",
        "    plt.text(x, y, label, bbox=dict(facecolor='#d3d3d3', boxstyle='round,pad=0.3'), horizontalalignment='center', verticalalignment='center')\n",
        "\n",
        "# Mostrar el gráfico\n",
        "plt.title(\"Resolución del problema mediante ramificación y acotación.\")\n",
        "plt.show()\n",
        "\n"
      ],
      "metadata": {
        "colab": {
          "base_uri": "https://localhost:8080/",
          "height": 859
        },
        "cellView": "form",
        "id": "OasTE1e24ALQ",
        "outputId": "8c3c47cf-90a5-4b41-da92-52111722159e"
      },
      "execution_count": 38,
      "outputs": [
        {
          "output_type": "display_data",
          "data": {
            "text/plain": [
              "<Figure size 1000x800 with 1 Axes>"
            ],
            "image/png": "[encoded data removed]"
          },
          "metadata": {}
        }
      ]
    },
    {
      "cell_type": "code",
      "source": [
        "# @title P1\n",
        "# Integración en Google Colab\n",
        "from amplpy import AMPL, ampl_notebook\n",
        "\n",
        "P1= ampl_notebook(\n",
        "    modules=[\"highs\", \"cplex\"],  # Solvers que queremos instalar\n",
        "    license_uuid=\"d1619e22-974c-4935-ad8a-2554d161c51d\",  # licencia que usaremos (os la he mandado por correo)\n",
        ")  # instanciamos el objeto \"AMPL\" con el que vamos a trabajar\n",
        "P1.eval(r\"\"\"\n",
        "reset;\n",
        "var x_1 >=0 ;\n",
        "var x_2 >=0 ;\n",
        "var x_3 >=0 ;\n",
        "\n",
        "\n",
        "maximize FO:-3*x_1+7*x_2+12*x_3;\n",
        "\n",
        "s.t. res1:\n",
        " (-3)*x_1+6*x_2+8*x_3 <=12;\n",
        "     res2:\n",
        "  6*x_1+(-3)*x_2+7*x_3<=8;\n",
        "     res3:\n",
        "  2*x_1+3*x_2+3*x_3<=25;\n",
        "    nuevares1:\n",
        "    x_3>=2;\n",
        "\"\"\")\n",
        "P1.solve(solver=\"cplex\") # Resolvemos con el solver \"cplex\"\n",
        "\n",
        "print(\"\\n\") #Salto de linea\n",
        "\n",
        "import pandas as pd\n",
        "\n",
        "# Obtener los valores de las variables y del objetivo\n",
        "x1 = P1.get_variable(\"x_1\").value()\n",
        "x2 = P1.get_variable(\"x_2\").value()\n",
        "x3 = P1.get_variable(\"x_3\").value()\n",
        "z = P1.get_objective(\"FO\").value()\n",
        "\n",
        "# Crear un DataFrame con los resultados\n",
        "data = {\n",
        "    'Variable': ['x1', 'x2','x3', 'FO'],\n",
        "    'Valor': [x1, x2,x3, z]\n",
        "}\n",
        "\n",
        "df_resultados = pd.DataFrame(data)\n",
        "\n",
        "# Imprimir la tabla\n",
        "print(df_resultados)"
      ],
      "metadata": {
        "colab": {
          "base_uri": "https://localhost:8080/"
        },
        "cellView": "form",
        "id": "_xpvvckC2IFF",
        "outputId": "26b008e3-751c-494b-b9d8-2faecf354135"
      },
      "execution_count": 40,
      "outputs": [
        {
          "output_type": "stream",
          "name": "stdout",
          "text": [
            "Licensed to Bundle #6787.7245 expiring 20250228: 302-Optimization; 408-Operations Research, Prof. Juan Miguel Morales Gonz?lez, University of Malaga.\n",
            "Warning:\n",
            "\tpresolve: constraint res1 cannot hold:\n",
            "\t\tbody <= 12 cannot be >= 21.5; difference = -9.5\n",
            "\n",
            "\n",
            "  Variable  Valor\n",
            "0       x1    0.0\n",
            "1       x2    0.0\n",
            "2       x3    0.0\n",
            "3       FO    0.0\n"
          ]
        }
      ]
    },
    {
      "cell_type": "code",
      "source": [
        "# @title P2\n",
        "\n",
        "# Integración en Google Colab\n",
        "from amplpy import AMPL, ampl_notebook\n",
        "\n",
        "P2= ampl_notebook(\n",
        "    modules=[\"highs\", \"cplex\"],  # Solvers que queremos instalar\n",
        "    license_uuid=\"d1619e22-974c-4935-ad8a-2554d161c51d\",  # licencia que usaremos (os la he mandado por correo)\n",
        ")  # instanciamos el objeto \"AMPL\" con el que vamos a trabajar\n",
        "P2.eval(r\"\"\"\n",
        "reset;\n",
        "var x_1 >=0 ;\n",
        "var x_2 >=0 ;\n",
        "var x_3 >=0 ;\n",
        "\n",
        "\n",
        "maximize FO:-3*x_1+7*x_2+12*x_3;\n",
        "\n",
        "s.t. res1:\n",
        " (-3)*x_1+6*x_2+8*x_3 <=12;\n",
        "     res2:\n",
        "  6*x_1+(-3)*x_2+7*x_3<=8;\n",
        "     res3:\n",
        "  2*x_1+3*x_2+3*x_3<=25;\n",
        "    nuevares1:\n",
        "    x_3<=1;\n",
        "\"\"\")\n",
        "P2.solve(solver=\"cplex\") # Resolvemos con el solver \"cplex\"\n",
        "\n",
        "print(\"\\n\") #Salto de linea\n",
        "\n",
        "import pandas as pd\n",
        "\n",
        "# Obtener los valores de las variables y del objetivo\n",
        "x1 = P2.get_variable(\"x_1\").value()\n",
        "x2 = P2.get_variable(\"x_2\").value()\n",
        "x3 = P2.get_variable(\"x_3\").value()\n",
        "z = P2.get_objective(\"FO\").value()\n",
        "\n",
        "# Crear un DataFrame con los resultados\n",
        "data = {\n",
        "    'Variable': ['x1', 'x2','x3', 'FO'],\n",
        "    'Valor': [x1, x2,x3, z]\n",
        "}\n",
        "\n",
        "df_resultados = pd.DataFrame(data)\n",
        "\n",
        "# Imprimir la tabla\n",
        "print(df_resultados)"
      ],
      "metadata": {
        "colab": {
          "base_uri": "https://localhost:8080/"
        },
        "cellView": "form",
        "id": "IeZb2FY122X_",
        "outputId": "b231e142-6fa1-43e5-d561-82bcf1c843be"
      },
      "execution_count": 41,
      "outputs": [
        {
          "output_type": "stream",
          "name": "stdout",
          "text": [
            "Licensed to Bundle #6787.7245 expiring 20250228: 302-Optimization; 408-Operations Research, Prof. Juan Miguel Morales Gonz?lez, University of Malaga.\n",
            "CPLEX 22.1.1: \b\b\b\b\b\b\b\b\b\b\b\b\b\bCPLEX 22.1.1: optimal solution; objective 17\n",
            "0 simplex iterations\n",
            "\n",
            "\n",
            "  Variable      Valor\n",
            "0       x1   0.666667\n",
            "1       x2   1.000000\n",
            "2       x3   1.000000\n",
            "3       FO  17.000000\n"
          ]
        }
      ]
    },
    {
      "cell_type": "code",
      "source": [
        "# @title P3\n",
        "\n",
        "# Integración en Google Colab\n",
        "from amplpy import AMPL, ampl_notebook\n",
        "\n",
        "P3= ampl_notebook(\n",
        "    modules=[\"highs\", \"cplex\"],  # Solvers que queremos instalar\n",
        "    license_uuid=\"d1619e22-974c-4935-ad8a-2554d161c51d\",  # licencia que usaremos (os la he mandado por correo)\n",
        ")  # instanciamos el objeto \"AMPL\" con el que vamos a trabajar\n",
        "P3.eval(r\"\"\"\n",
        "reset;\n",
        "var x_1 >=0 ;\n",
        "var x_2 >=0 ;\n",
        "var x_3 >=0 ;\n",
        "\n",
        "\n",
        "maximize FO:-3*x_1+7*x_2+12*x_3;\n",
        "\n",
        "s.t. res1:\n",
        " (-3)*x_1+6*x_2+8*x_3 <=12;\n",
        "     res2:\n",
        "  6*x_1+(-3)*x_2+7*x_3<=8;\n",
        "     res3:\n",
        "  2*x_1+3*x_2+3*x_3<=25;\n",
        "    nuevares1:\n",
        "    x_3<=1;\n",
        "    nueravars:\n",
        "    x_1>=1;\n",
        "\"\"\")\n",
        "P3.solve(solver=\"cplex\") # Resolvemos con el solver \"cplex\"\n",
        "\n",
        "print(\"\\n\") #Salto de linea\n",
        "\n",
        "import pandas as pd\n",
        "\n",
        "# Obtener los valores de las variables y del objetivo\n",
        "x1 = P3.get_variable(\"x_1\").value()\n",
        "x2 = P3.get_variable(\"x_2\").value()\n",
        "x3 = P3.get_variable(\"x_3\").value()\n",
        "z = P3.get_objective(\"FO\").value()\n",
        "\n",
        "# Crear un DataFrame con los resultados\n",
        "data = {\n",
        "    'Variable': ['x1', 'x2','x3', 'FO'],\n",
        "    'Valor': [x1, x2,x3, z]\n",
        "}\n",
        "\n",
        "df_resultados = pd.DataFrame(data)\n",
        "\n",
        "# Imprimir la tabla\n",
        "print(df_resultados)"
      ],
      "metadata": {
        "colab": {
          "base_uri": "https://localhost:8080/"
        },
        "cellView": "form",
        "id": "aPnVhqdb3VRp",
        "outputId": "78594ccb-ce91-407f-82ea-072db198ba32"
      },
      "execution_count": 42,
      "outputs": [
        {
          "output_type": "stream",
          "name": "stdout",
          "text": [
            "Licensed to Bundle #6787.7245 expiring 20250228: 302-Optimization; 408-Operations Research, Prof. Juan Miguel Morales Gonz?lez, University of Malaga.\n",
            "CPLEX 22.1.1: \b\b\b\b\b\b\b\b\b\b\b\b\b\bCPLEX 22.1.1: optimal solution; objective 16.8030303\n",
            "0 simplex iterations\n",
            "\n",
            "\n",
            "  Variable      Valor\n",
            "0       x1   1.000000\n",
            "1       x2   1.348485\n",
            "2       x3   0.863636\n",
            "3       FO  16.803030\n"
          ]
        }
      ]
    },
    {
      "cell_type": "code",
      "source": [
        "# @title P4\n",
        "# Integración en Google Colab\n",
        "from amplpy import AMPL, ampl_notebook\n",
        "\n",
        "P4= ampl_notebook(\n",
        "    modules=[\"highs\", \"cplex\"],  # Solvers que queremos instalar\n",
        "    license_uuid=\"d1619e22-974c-4935-ad8a-2554d161c51d\",  # licencia que usaremos (os la he mandado por correo)\n",
        ")  # instanciamos el objeto \"AMPL\" con el que vamos a trabajar\n",
        "P4.eval(r\"\"\"\n",
        "reset;\n",
        "var x_1 >=0 ;\n",
        "var x_2 >=0 ;\n",
        "var x_3 >=0 ;\n",
        "\n",
        "\n",
        "maximize FO:-3*x_1+7*x_2+12*x_3;\n",
        "\n",
        "s.t. res1:\n",
        " (-3)*x_1+6*x_2+8*x_3 <=12;\n",
        "     res2:\n",
        "  6*x_1+(-3)*x_2+7*x_3<=8;\n",
        "     res3:\n",
        "  2*x_1+3*x_2+3*x_3<=25;\n",
        "    nuevares1:\n",
        "    x_3<=1;\n",
        "    nueravars:\n",
        "    x_1<=0;\n",
        "\"\"\")\n",
        "P4.solve(solver=\"cplex\") # Resolvemos con el solver \"cplex\"\n",
        "\n",
        "print(\"\\n\") #Salto de linea\n",
        "\n",
        "import pandas as pd\n",
        "\n",
        "# Obtener los valores de las variables y del objetivo\n",
        "x1 = P4.get_variable(\"x_1\").value()\n",
        "x2 = P4.get_variable(\"x_2\").value()\n",
        "x3 = P4.get_variable(\"x_3\").value()\n",
        "z = P4.get_objective(\"FO\").value()\n",
        "\n",
        "# Crear un DataFrame con los resultados\n",
        "data = {\n",
        "    'Variable': ['x1', 'x2','x3', 'FO'],\n",
        "    'Valor': [x1, x2,x3, z]\n",
        "}\n",
        "\n",
        "df_resultados = pd.DataFrame(data)\n",
        "\n",
        "# Imprimir la tabla\n",
        "print(df_resultados)"
      ],
      "metadata": {
        "colab": {
          "base_uri": "https://localhost:8080/"
        },
        "cellView": "form",
        "id": "NEfqe-Bz3m1E",
        "outputId": "c41d3f2f-ccc1-4ec6-e659-f0ee5419fef8"
      },
      "execution_count": 43,
      "outputs": [
        {
          "output_type": "stream",
          "name": "stdout",
          "text": [
            "Licensed to Bundle #6787.7245 expiring 20250228: 302-Optimization; 408-Operations Research, Prof. Juan Miguel Morales Gonz?lez, University of Malaga.\n",
            "CPLEX 22.1.1: \b\b\b\b\b\b\b\b\b\b\b\b\b\bCPLEX 22.1.1: optimal solution; objective 16.66666667\n",
            "0 simplex iterations\n",
            "\n",
            "\n",
            "  Variable      Valor\n",
            "0       x1   0.000000\n",
            "1       x2   0.666667\n",
            "2       x3   1.000000\n",
            "3       FO  16.666667\n"
          ]
        }
      ]
    },
    {
      "cell_type": "code",
      "source": [
        "# @title P5\n",
        "\n",
        "# Integración en Google Colab\n",
        "from amplpy import AMPL, ampl_notebook\n",
        "\n",
        "P5= ampl_notebook(\n",
        "    modules=[\"highs\", \"cplex\"],  # Solvers que queremos instalar\n",
        "    license_uuid=\"d1619e22-974c-4935-ad8a-2554d161c51d\",  # licencia que usaremos (os la he mandado por correo)\n",
        ")  # instanciamos el objeto \"AMPL\" con el que vamos a trabajar\n",
        "P5.eval(r\"\"\"\n",
        "reset;\n",
        "var x_1 >=0 ;\n",
        "var x_2 >=0 ;\n",
        "var x_3 >=0 ;\n",
        "\n",
        "\n",
        "maximize FO:-3*x_1+7*x_2+12*x_3;\n",
        "\n",
        "s.t. res1:\n",
        " (-3)*x_1+6*x_2+8*x_3 <=12;\n",
        "     res2:\n",
        "  6*x_1+(-3)*x_2+7*x_3<=8;\n",
        "     res3:\n",
        "  2*x_1+3*x_2+3*x_3<=25;\n",
        "    nuevares1:\n",
        "    x_3<=0;\n",
        "    nueravars:\n",
        "    x_1>=1;\n",
        "\"\"\")\n",
        "P5.solve(solver=\"cplex\") # Resolvemos con el solver \"cplex\"\n",
        "\n",
        "print(\"\\n\") #Salto de linea\n",
        "\n",
        "import pandas as pd\n",
        "\n",
        "# Obtener los valores de las variables y del objetivo\n",
        "x1 = P5.get_variable(\"x_1\").value()\n",
        "x2 = P5.get_variable(\"x_2\").value()\n",
        "x3 = P5.get_variable(\"x_3\").value()\n",
        "z = P5.get_objective(\"FO\").value()\n",
        "\n",
        "# Crear un DataFrame con los resultados\n",
        "data = {\n",
        "    'Variable': ['x1', 'x2','x3', 'FO'],\n",
        "    'Valor': [x1, x2,x3, z]\n",
        "}\n",
        "\n",
        "df_resultados = pd.DataFrame(data)\n",
        "\n",
        "# Imprimir la tabla\n",
        "print(df_resultados)"
      ],
      "metadata": {
        "colab": {
          "base_uri": "https://localhost:8080/"
        },
        "cellView": "form",
        "id": "L7oWyH8h89Le",
        "outputId": "ac3038d7-4152-4f35-cbf9-23b9cb1bda42"
      },
      "execution_count": 44,
      "outputs": [
        {
          "output_type": "stream",
          "name": "stdout",
          "text": [
            "Licensed to Bundle #6787.7245 expiring 20250228: 302-Optimization; 408-Operations Research, Prof. Juan Miguel Morales Gonz?lez, University of Malaga.\n",
            "CPLEX 22.1.1: \b\b\b\b\b\b\b\b\b\b\b\b\b\bCPLEX 22.1.1: optimal solution; objective 15.55555556\n",
            "0 simplex iterations\n",
            "\n",
            "\n",
            "  Variable      Valor\n",
            "0       x1   3.111111\n",
            "1       x2   3.555556\n",
            "2       x3   0.000000\n",
            "3       FO  15.555556\n"
          ]
        }
      ]
    },
    {
      "cell_type": "markdown",
      "source": [
        "**Tenemos que nuestra función objetivo quedó actodada entre lso valores 17.39 y 16.666 luego procedemos a realizar poda por acotación**"
      ],
      "metadata": {
        "id": "lTXkUbWQ_G2e"
      }
    },
    {
      "cell_type": "markdown",
      "source": [
        "Notese que ya antes vimos que si $x_3\\geq 1$ el problema es infactible, luego P6 será infactible."
      ],
      "metadata": {
        "id": "5vDopD5t9q81"
      }
    },
    {
      "cell_type": "code",
      "source": [
        "# @title P6\n",
        "\n",
        "# Integración en Google Colab\n",
        "from amplpy import AMPL, ampl_notebook\n",
        "\n",
        "P6= ampl_notebook(\n",
        "    modules=[\"highs\", \"cplex\"],  # Solvers que queremos instalar\n",
        "    license_uuid=\"d1619e22-974c-4935-ad8a-2554d161c51d\",  # licencia que usaremos (os la he mandado por correo)\n",
        ")  # instanciamos el objeto \"AMPL\" con el que vamos a trabajar\n",
        "P6.eval(r\"\"\"\n",
        "reset;\n",
        "var x_1 >=0 ;\n",
        "var x_2 >=0 ;\n",
        "var x_3 >=0 ;\n",
        "\n",
        "\n",
        "maximize FO:-3*x_1+7*x_2+12*x_3;\n",
        "\n",
        "s.t. res1:\n",
        " (-3)*x_1+6*x_2+8*x_3 <=12;\n",
        "     res2:\n",
        "  6*x_1+(-3)*x_2+7*x_3<=8;\n",
        "     res3:\n",
        "  2*x_1+3*x_2+3*x_3<=25;\n",
        "    nuevares1:\n",
        "    x_3>=1;\n",
        "    nueravars:\n",
        "    x_1>=1;\n",
        "\"\"\")\n",
        "P6.solve(solver=\"cplex\") # Resolvemos con el solver \"cplex\"\n",
        "\n",
        "print(\"\\n\") #Salto de linea\n",
        "\n",
        "import pandas as pd\n",
        "\n",
        "# Obtener los valores de las variables y del objetivo\n",
        "x1 = P6.get_variable(\"x_1\").value()\n",
        "x2 = P6.get_variable(\"x_2\").value()\n",
        "x3 = P6.get_variable(\"x_3\").value()\n",
        "z = P6.get_objective(\"FO\").value()\n",
        "\n",
        "# Crear un DataFrame con los resultados\n",
        "data = {\n",
        "    'Variable': ['x1', 'x2','x3', 'FO'],\n",
        "    'Valor': [x1, x2,x3, z]\n",
        "}\n",
        "\n",
        "df_resultados = pd.DataFrame(data)\n",
        "\n",
        "# Imprimir la tabla\n",
        "print(df_resultados)"
      ],
      "metadata": {
        "colab": {
          "base_uri": "https://localhost:8080/"
        },
        "cellView": "form",
        "id": "rAZGzLd89qs6",
        "outputId": "23799b82-4c04-4178-b280-b67bbadabffa"
      },
      "execution_count": 45,
      "outputs": [
        {
          "output_type": "stream",
          "name": "stdout",
          "text": [
            "Licensed to Bundle #6787.7245 expiring 20250228: 302-Optimization; 408-Operations Research, Prof. Juan Miguel Morales Gonz?lez, University of Malaga.\n",
            "Warning:\n",
            "\tpresolve: constraint res2 cannot hold:\n",
            "\t\tbody <= 8 cannot be >= 11.75; difference = -3.75\n",
            "\n",
            "\n",
            "  Variable  Valor\n",
            "0       x1    0.0\n",
            "1       x2    0.0\n",
            "2       x3    0.0\n",
            "3       FO    0.0\n"
          ]
        }
      ]
    }
  ]
}